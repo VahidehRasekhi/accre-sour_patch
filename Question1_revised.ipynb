{
 "cells": [
  {
   "cell_type": "code",
   "execution_count": 2,
   "id": "91a71702",
   "metadata": {},
   "outputs": [],
   "source": [
    "import pandas as pd\n",
    "import numpy as np\n",
    "import matplotlib.pyplot as plt\n",
    "from datetime import timedelta"
   ]
  },
  {
   "cell_type": "code",
   "execution_count": 3,
   "id": "faaf0215",
   "metadata": {},
   "outputs": [],
   "source": [
    "scheduler=pd.read_csv('./fullsample-corrected.csv')"
   ]
  },
  {
   "cell_type": "code",
   "execution_count": 4,
   "id": "4f605b0d",
   "metadata": {},
   "outputs": [],
   "source": [
    "scheduler=scheduler[(scheduler['BEGIN'] != 'Unknown') & (scheduler['END']!='Unknown')]"
   ]
  },
  {
   "cell_type": "markdown",
   "id": "f13e3908",
   "metadata": {},
   "source": [
    "## Convert to DateTime Format"
   ]
  },
  {
   "cell_type": "code",
   "execution_count": 5,
   "id": "4ac585e6",
   "metadata": {},
   "outputs": [],
   "source": [
    "scheduler['BEGIN']=pd.to_datetime(scheduler['BEGIN'], format='%Y-%m-%dT%H:%M:%S')"
   ]
  },
  {
   "cell_type": "code",
   "execution_count": 6,
   "id": "4fc0b67f",
   "metadata": {},
   "outputs": [],
   "source": [
    "scheduler['END']=pd.to_datetime(scheduler['END'], format='%Y-%m-%dT%H:%M:%S')"
   ]
  },
  {
   "cell_type": "code",
   "execution_count": null,
   "id": "6ae7f388",
   "metadata": {},
   "outputs": [],
   "source": [
    "scheduler.head()"
   ]
  },
  {
   "cell_type": "markdown",
   "id": "d7fe47b5",
   "metadata": {},
   "source": [
    "## Jobs Per Hour Completed"
   ]
  },
  {
   "cell_type": "code",
   "execution_count": null,
   "id": "e75d05f3",
   "metadata": {},
   "outputs": [],
   "source": [
    "#I get a memory error\n",
    "#completed_jobs.groupby(pd.Grouper(key='END', freq ='W'))['JOBID'].count()/168"
   ]
  },
  {
   "cell_type": "code",
   "execution_count": 7,
   "id": "8505348c",
   "metadata": {},
   "outputs": [],
   "source": [
    "scheduler['IN_ARRAY']=scheduler['JOBID'].str.contains('_')"
   ]
  },
  {
   "cell_type": "code",
   "execution_count": 8,
   "id": "af082734",
   "metadata": {},
   "outputs": [
    {
     "name": "stderr",
     "output_type": "stream",
     "text": [
      "C:\\Users\\U6033919\\Anaconda3\\lib\\site-packages\\pandas\\core\\strings\\accessor.py:101: UserWarning: This pattern has match groups. To actually get the groups, use str.extract.\n",
      "  return func(self, *args, **kwargs)\n"
     ]
    }
   ],
   "source": [
    "scheduler['ARRAY_ID']=scheduler['JOBID'].str.contains(r'(.+)_')"
   ]
  },
  {
   "cell_type": "code",
   "execution_count": 9,
   "id": "eaaa8dba",
   "metadata": {},
   "outputs": [],
   "source": [
    "completed_jobs=scheduler[(scheduler['STATE']=='COMPLETED')]"
   ]
  },
  {
   "cell_type": "code",
   "execution_count": 10,
   "id": "de98c673",
   "metadata": {},
   "outputs": [
    {
     "data": {
      "text/html": [
       "<div>\n",
       "<style scoped>\n",
       "    .dataframe tbody tr th:only-of-type {\n",
       "        vertical-align: middle;\n",
       "    }\n",
       "\n",
       "    .dataframe tbody tr th {\n",
       "        vertical-align: top;\n",
       "    }\n",
       "\n",
       "    .dataframe thead th {\n",
       "        text-align: right;\n",
       "    }\n",
       "</style>\n",
       "<table border=\"1\" class=\"dataframe\">\n",
       "  <thead>\n",
       "    <tr style=\"text-align: right;\">\n",
       "      <th></th>\n",
       "      <th>JOBID</th>\n",
       "      <th>STATE</th>\n",
       "      <th>BEGIN</th>\n",
       "      <th>END</th>\n",
       "      <th>REQMEM</th>\n",
       "      <th>USEDMEM</th>\n",
       "      <th>REQTIME</th>\n",
       "      <th>USEDTIME</th>\n",
       "      <th>NODES</th>\n",
       "      <th>CPUS</th>\n",
       "      <th>PARTITION</th>\n",
       "      <th>EXITCODE</th>\n",
       "      <th>IN_ARRAY</th>\n",
       "      <th>ARRAY_ID</th>\n",
       "    </tr>\n",
       "  </thead>\n",
       "  <tbody>\n",
       "    <tr>\n",
       "      <th>5</th>\n",
       "      <td>31364111_3</td>\n",
       "      <td>COMPLETED</td>\n",
       "      <td>2021-08-17 07:45:07</td>\n",
       "      <td>2021-09-06 16:17:34</td>\n",
       "      <td>16384Mn</td>\n",
       "      <td>9708.04M</td>\n",
       "      <td>24-09:00:00</td>\n",
       "      <td>20-08:32:27</td>\n",
       "      <td>1</td>\n",
       "      <td>1</td>\n",
       "      <td>production</td>\n",
       "      <td>0:0</td>\n",
       "      <td>True</td>\n",
       "      <td>True</td>\n",
       "    </tr>\n",
       "    <tr>\n",
       "      <th>6</th>\n",
       "      <td>31364111_4</td>\n",
       "      <td>COMPLETED</td>\n",
       "      <td>2021-08-17 07:45:07</td>\n",
       "      <td>2021-09-06 06:25:11</td>\n",
       "      <td>16384Mn</td>\n",
       "      <td>9785.61M</td>\n",
       "      <td>24-09:00:00</td>\n",
       "      <td>19-22:40:04</td>\n",
       "      <td>1</td>\n",
       "      <td>1</td>\n",
       "      <td>production</td>\n",
       "      <td>0:0</td>\n",
       "      <td>True</td>\n",
       "      <td>True</td>\n",
       "    </tr>\n",
       "    <tr>\n",
       "      <th>7</th>\n",
       "      <td>31364111_5</td>\n",
       "      <td>COMPLETED</td>\n",
       "      <td>2021-08-17 07:45:07</td>\n",
       "      <td>2021-09-06 10:05:33</td>\n",
       "      <td>16384Mn</td>\n",
       "      <td>9966.38M</td>\n",
       "      <td>24-09:00:00</td>\n",
       "      <td>20-02:20:26</td>\n",
       "      <td>1</td>\n",
       "      <td>1</td>\n",
       "      <td>production</td>\n",
       "      <td>0:0</td>\n",
       "      <td>True</td>\n",
       "      <td>True</td>\n",
       "    </tr>\n",
       "    <tr>\n",
       "      <th>8</th>\n",
       "      <td>31364111_6</td>\n",
       "      <td>COMPLETED</td>\n",
       "      <td>2021-08-17 07:45:07</td>\n",
       "      <td>2021-09-05 12:53:04</td>\n",
       "      <td>16384Mn</td>\n",
       "      <td>9684.02M</td>\n",
       "      <td>24-09:00:00</td>\n",
       "      <td>19-05:07:57</td>\n",
       "      <td>1</td>\n",
       "      <td>1</td>\n",
       "      <td>production</td>\n",
       "      <td>0:0</td>\n",
       "      <td>True</td>\n",
       "      <td>True</td>\n",
       "    </tr>\n",
       "    <tr>\n",
       "      <th>9</th>\n",
       "      <td>31364111_9</td>\n",
       "      <td>COMPLETED</td>\n",
       "      <td>2021-08-17 07:45:07</td>\n",
       "      <td>2021-09-06 09:10:13</td>\n",
       "      <td>16384Mn</td>\n",
       "      <td>9802.24M</td>\n",
       "      <td>24-09:00:00</td>\n",
       "      <td>20-01:25:06</td>\n",
       "      <td>1</td>\n",
       "      <td>1</td>\n",
       "      <td>production</td>\n",
       "      <td>0:0</td>\n",
       "      <td>True</td>\n",
       "      <td>True</td>\n",
       "    </tr>\n",
       "  </tbody>\n",
       "</table>\n",
       "</div>"
      ],
      "text/plain": [
       "        JOBID      STATE               BEGIN                 END   REQMEM  \\\n",
       "5  31364111_3  COMPLETED 2021-08-17 07:45:07 2021-09-06 16:17:34  16384Mn   \n",
       "6  31364111_4  COMPLETED 2021-08-17 07:45:07 2021-09-06 06:25:11  16384Mn   \n",
       "7  31364111_5  COMPLETED 2021-08-17 07:45:07 2021-09-06 10:05:33  16384Mn   \n",
       "8  31364111_6  COMPLETED 2021-08-17 07:45:07 2021-09-05 12:53:04  16384Mn   \n",
       "9  31364111_9  COMPLETED 2021-08-17 07:45:07 2021-09-06 09:10:13  16384Mn   \n",
       "\n",
       "    USEDMEM      REQTIME     USEDTIME  NODES  CPUS   PARTITION EXITCODE  \\\n",
       "5  9708.04M  24-09:00:00  20-08:32:27      1     1  production      0:0   \n",
       "6  9785.61M  24-09:00:00  19-22:40:04      1     1  production      0:0   \n",
       "7  9966.38M  24-09:00:00  20-02:20:26      1     1  production      0:0   \n",
       "8  9684.02M  24-09:00:00  19-05:07:57      1     1  production      0:0   \n",
       "9  9802.24M  24-09:00:00  20-01:25:06      1     1  production      0:0   \n",
       "\n",
       "   IN_ARRAY  ARRAY_ID  \n",
       "5      True      True  \n",
       "6      True      True  \n",
       "7      True      True  \n",
       "8      True      True  \n",
       "9      True      True  "
      ]
     },
     "execution_count": 10,
     "metadata": {},
     "output_type": "execute_result"
    }
   ],
   "source": [
    "completed_jobs.head()"
   ]
  },
  {
   "cell_type": "code",
   "execution_count": 13,
   "id": "68ee014e",
   "metadata": {},
   "outputs": [
    {
     "name": "stderr",
     "output_type": "stream",
     "text": [
      "<ipython-input-13-ca36dc4ec72f>:2: SettingWithCopyWarning: \n",
      "A value is trying to be set on a copy of a slice from a DataFrame.\n",
      "Try using .loc[row_indexer,col_indexer] = value instead\n",
      "\n",
      "See the caveats in the documentation: https://pandas.pydata.org/pandas-docs/stable/user_guide/indexing.html#returning-a-view-versus-a-copy\n",
      "  completed_jobs['ROLLING1H']=completed_jobs.sort_values('END',ascending=False).rolling('H', on='END')['JOBID'].count()\n"
     ]
    }
   ],
   "source": [
    "\n",
    "completed_jobs['ROLLING1H']=completed_jobs.sort_values('END',ascending=False).rolling('H', on='END')['JOBID'].count()"
   ]
  },
  {
   "cell_type": "code",
   "execution_count": 16,
   "id": "fc7d553a",
   "metadata": {},
   "outputs": [],
   "source": [
    "completed_jobs=completed_jobs.sort_values('END', ascending=False)"
   ]
  },
  {
   "cell_type": "code",
   "execution_count": 18,
   "id": "048e80c9",
   "metadata": {},
   "outputs": [],
   "source": [
    "#completed_jobs.groupby('IN_ARRAY')['JOBID']"
   ]
  },
  {
   "cell_type": "code",
   "execution_count": null,
   "id": "3ed67a77",
   "metadata": {},
   "outputs": [],
   "source": []
  }
 ],
 "metadata": {
  "kernelspec": {
   "display_name": "Python 3",
   "language": "python",
   "name": "python3"
  },
  "language_info": {
   "codemirror_mode": {
    "name": "ipython",
    "version": 3
   },
   "file_extension": ".py",
   "mimetype": "text/x-python",
   "name": "python",
   "nbconvert_exporter": "python",
   "pygments_lexer": "ipython3",
   "version": "3.8.8"
  }
 },
 "nbformat": 4,
 "nbformat_minor": 5
}
