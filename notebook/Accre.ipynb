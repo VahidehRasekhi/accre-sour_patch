{
 "cells": [
  {
   "cell_type": "markdown",
   "id": "a0219214",
   "metadata": {},
   "source": [
    "# The Advanced Computing Center for Research and Education\n",
    "The Advanced Computing Center for Research and Education (ACCRE) is a computer cluster serving the high-performance computing needs of research for Vanderbilt University. In this data question, you will be analyzing data on jobs run on ACCRE's hardware.\n",
    "\n",
    "When a job is submitted to ACCRE, it goes through the slurm scheduler, which tracks and manages compute and memory resources. It is hypothesized that the slurm scheduler is processing so many job completions so frequently that it sometimes becomes unresponsive to commands from users trying to schedule new jobs or check job status. This is a particularly bad problem for clients who use automated submission systems, such as members of the Open Science Grid. The goal of this project is to investigate and potentially confirm that hypothesis that lots of job completions in a short time period are causing the scheduler to be unresponsive, and determine the rough threshold at which it becomes an issue.\n",
    "\n",
    "You have been provided three datasets for this task:\n",
    "\n",
    "- fullsample.csv: This file contains output for jobs run through the slurm scheduler.\n",
    "- slurm_wrapper_ce5.log and slurm_wrapper_ce6.log: Logs of every slurm command that a pair of servers, ce5 and ce6, executed, how long it took, and if it succeeded. These servers connect ACCRE's local cluster to the Open Science Grid and submit jobs to slurm on behalf of the grid.\n",
    "\n",
    "To get started, answer the following questions using just the fullsample.csv jobs dataset:\n",
    "\n",
    "1. Calculate some descriptive statistics for how many jobs per hour are being completed. What does the completions per hour look like over the time span of the dataset? Are there weekly trends, and has it been increasing over the last year?\n",
    "\n",
    "\n",
    "2. Does the job state affect completions per hour? i.e. if I only look at jobs with exit code 0:0 in the \"COMPLETED\" state, is that a similar number of completions per hour as with all jobs, failed or cancelled? This will indicate if the load on the scheduler is by user design or is a result of users not sufficiently testing their jobs before submitting very large arrays. We also expect that most job completions will be in the \"production\" partition, but is this actually true?\n",
    "\n"
   ]
  },
  {
   "cell_type": "code",
   "execution_count": 144,
   "id": "3c764bf3",
   "metadata": {},
   "outputs": [],
   "source": [
    "import pandas as pd\n",
    "import numpy as np\n",
    "import matplotlib.pyplot as plt\n",
    "import matplotlib.ticker as ticker\n",
    "import seaborn as sns\n",
    "import statsmodels.api as sm\n",
    "import matplotlib.pyplot as plt\n",
    "from datetime import timedelta, datetime\n",
    "import calendar"
   ]
  },
  {
   "cell_type": "code",
   "execution_count": 2,
   "id": "b7ca98bc",
   "metadata": {},
   "outputs": [],
   "source": [
    "fs_df = pd.read_csv('../data/fullsample.csv')\n",
    "fs_df = fs_df[fs_df['END'] != 'Unknown'] # drop these 651 rows, all have EXITCODE 0:0\n",
    "\n",
    "#change the format of the date/time\n",
    "fs_df['BEGIN'] = pd.to_datetime(fs_df['BEGIN'], format='%Y-%m-%dT%H:%M:%S')\n",
    "fs_df['END'] = pd.to_datetime(fs_df['END'], format='%Y-%m-%dT%H:%M:%S')\n",
    "#fs_df.head(3)"
   ]
  },
  {
   "cell_type": "code",
   "execution_count": 4,
   "id": "00797abd",
   "metadata": {},
   "outputs": [],
   "source": [
    "#change the format of requested memory and chnage its type to int\n",
    "fs_df['REQMEM'] = fs_df['REQMEM'].str[0:-2].astype('int')\n",
    "\n",
    "#change the used momory \n",
    "fs_df['USEDMEM'] = fs_df['USEDMEM'].apply(lambda x: x[0:-1] if x[-1] == 'M' else '0', ).astype(float)\n",
    "#fs_df.head(3)"
   ]
  },
  {
   "cell_type": "code",
   "execution_count": 26,
   "id": "a6a7e16a",
   "metadata": {},
   "outputs": [
    {
     "data": {
      "text/html": [
       "<div>\n",
       "<style scoped>\n",
       "    .dataframe tbody tr th:only-of-type {\n",
       "        vertical-align: middle;\n",
       "    }\n",
       "\n",
       "    .dataframe tbody tr th {\n",
       "        vertical-align: top;\n",
       "    }\n",
       "\n",
       "    .dataframe thead th {\n",
       "        text-align: right;\n",
       "    }\n",
       "</style>\n",
       "<table border=\"1\" class=\"dataframe\">\n",
       "  <thead>\n",
       "    <tr style=\"text-align: right;\">\n",
       "      <th></th>\n",
       "      <th>JOBID</th>\n",
       "      <th>STATE</th>\n",
       "      <th>BEGIN</th>\n",
       "      <th>REQMEM</th>\n",
       "      <th>USEDMEM</th>\n",
       "      <th>REQTIME</th>\n",
       "      <th>USEDTIME</th>\n",
       "      <th>NODES</th>\n",
       "      <th>CPUS</th>\n",
       "      <th>PARTITION</th>\n",
       "      <th>EXITCODE</th>\n",
       "    </tr>\n",
       "    <tr>\n",
       "      <th>END</th>\n",
       "      <th></th>\n",
       "      <th></th>\n",
       "      <th></th>\n",
       "      <th></th>\n",
       "      <th></th>\n",
       "      <th></th>\n",
       "      <th></th>\n",
       "      <th></th>\n",
       "      <th></th>\n",
       "      <th></th>\n",
       "      <th></th>\n",
       "    </tr>\n",
       "  </thead>\n",
       "  <tbody>\n",
       "    <tr>\n",
       "      <th>2021-09-05 11:36:32</th>\n",
       "      <td>30853133</td>\n",
       "      <td>COMPLETED</td>\n",
       "      <td>2021-08-06 11:36:09</td>\n",
       "      <td>262144</td>\n",
       "      <td>20604.62</td>\n",
       "      <td>30-00:00:00</td>\n",
       "      <td>30-00:00:23</td>\n",
       "      <td>1</td>\n",
       "      <td>1</td>\n",
       "      <td>cgw-platypus</td>\n",
       "      <td>0:0</td>\n",
       "    </tr>\n",
       "    <tr>\n",
       "      <th>2021-09-05 19:04:53</th>\n",
       "      <td>30858137</td>\n",
       "      <td>COMPLETED</td>\n",
       "      <td>2021-08-06 19:04:39</td>\n",
       "      <td>204800</td>\n",
       "      <td>57553.77</td>\n",
       "      <td>30-00:00:00</td>\n",
       "      <td>30-00:00:14</td>\n",
       "      <td>1</td>\n",
       "      <td>32</td>\n",
       "      <td>cgw-tbi01</td>\n",
       "      <td>0:0</td>\n",
       "    </tr>\n",
       "    <tr>\n",
       "      <th>2021-09-07 20:52:55</th>\n",
       "      <td>30935078</td>\n",
       "      <td>COMPLETED</td>\n",
       "      <td>2021-08-09 16:52:51</td>\n",
       "      <td>65536</td>\n",
       "      <td>20577.96</td>\n",
       "      <td>29-04:00:00</td>\n",
       "      <td>29-04:00:04</td>\n",
       "      <td>1</td>\n",
       "      <td>8</td>\n",
       "      <td>cgw-platypus</td>\n",
       "      <td>0:0</td>\n",
       "    </tr>\n",
       "  </tbody>\n",
       "</table>\n",
       "</div>"
      ],
      "text/plain": [
       "                        JOBID      STATE               BEGIN  REQMEM  \\\n",
       "END                                                                    \n",
       "2021-09-05 11:36:32  30853133  COMPLETED 2021-08-06 11:36:09  262144   \n",
       "2021-09-05 19:04:53  30858137  COMPLETED 2021-08-06 19:04:39  204800   \n",
       "2021-09-07 20:52:55  30935078  COMPLETED 2021-08-09 16:52:51   65536   \n",
       "\n",
       "                      USEDMEM      REQTIME     USEDTIME  NODES  CPUS  \\\n",
       "END                                                                    \n",
       "2021-09-05 11:36:32  20604.62  30-00:00:00  30-00:00:23      1     1   \n",
       "2021-09-05 19:04:53  57553.77  30-00:00:00  30-00:00:14      1    32   \n",
       "2021-09-07 20:52:55  20577.96  29-04:00:00  29-04:00:04      1     8   \n",
       "\n",
       "                        PARTITION EXITCODE  \n",
       "END                                         \n",
       "2021-09-05 11:36:32  cgw-platypus      0:0  \n",
       "2021-09-05 19:04:53     cgw-tbi01      0:0  \n",
       "2021-09-07 20:52:55  cgw-platypus      0:0  "
      ]
     },
     "execution_count": 26,
     "metadata": {},
     "output_type": "execute_result"
    }
   ],
   "source": [
    "#setting the index to END\n",
    "end_time=fs_df.set_index('END')\n",
    "end_time.head(3)"
   ]
  },
  {
   "cell_type": "code",
   "execution_count": 27,
   "id": "a6aeb7ab",
   "metadata": {},
   "outputs": [
    {
     "data": {
      "text/html": [
       "<div>\n",
       "<style scoped>\n",
       "    .dataframe tbody tr th:only-of-type {\n",
       "        vertical-align: middle;\n",
       "    }\n",
       "\n",
       "    .dataframe tbody tr th {\n",
       "        vertical-align: top;\n",
       "    }\n",
       "\n",
       "    .dataframe thead th {\n",
       "        text-align: right;\n",
       "    }\n",
       "</style>\n",
       "<table border=\"1\" class=\"dataframe\">\n",
       "  <thead>\n",
       "    <tr style=\"text-align: right;\">\n",
       "      <th></th>\n",
       "      <th>JOBID</th>\n",
       "      <th>STATE</th>\n",
       "      <th>BEGIN</th>\n",
       "      <th>REQMEM</th>\n",
       "      <th>USEDMEM</th>\n",
       "      <th>REQTIME</th>\n",
       "      <th>USEDTIME</th>\n",
       "      <th>NODES</th>\n",
       "      <th>CPUS</th>\n",
       "      <th>PARTITION</th>\n",
       "      <th>EXITCODE</th>\n",
       "    </tr>\n",
       "    <tr>\n",
       "      <th>END</th>\n",
       "      <th></th>\n",
       "      <th></th>\n",
       "      <th></th>\n",
       "      <th></th>\n",
       "      <th></th>\n",
       "      <th></th>\n",
       "      <th></th>\n",
       "      <th></th>\n",
       "      <th></th>\n",
       "      <th></th>\n",
       "      <th></th>\n",
       "    </tr>\n",
       "  </thead>\n",
       "  <tbody>\n",
       "    <tr>\n",
       "      <th>2021-09-05 11:36:32</th>\n",
       "      <td>30853133</td>\n",
       "      <td>COMPLETED</td>\n",
       "      <td>2021-08-06 11:36:09</td>\n",
       "      <td>262144</td>\n",
       "      <td>20604.62</td>\n",
       "      <td>30-00:00:00</td>\n",
       "      <td>30-00:00:23</td>\n",
       "      <td>1</td>\n",
       "      <td>1</td>\n",
       "      <td>cgw-platypus</td>\n",
       "      <td>0:0</td>\n",
       "    </tr>\n",
       "    <tr>\n",
       "      <th>2021-09-05 19:04:53</th>\n",
       "      <td>30858137</td>\n",
       "      <td>COMPLETED</td>\n",
       "      <td>2021-08-06 19:04:39</td>\n",
       "      <td>204800</td>\n",
       "      <td>57553.77</td>\n",
       "      <td>30-00:00:00</td>\n",
       "      <td>30-00:00:14</td>\n",
       "      <td>1</td>\n",
       "      <td>32</td>\n",
       "      <td>cgw-tbi01</td>\n",
       "      <td>0:0</td>\n",
       "    </tr>\n",
       "    <tr>\n",
       "      <th>2021-09-07 20:52:55</th>\n",
       "      <td>30935078</td>\n",
       "      <td>COMPLETED</td>\n",
       "      <td>2021-08-09 16:52:51</td>\n",
       "      <td>65536</td>\n",
       "      <td>20577.96</td>\n",
       "      <td>29-04:00:00</td>\n",
       "      <td>29-04:00:04</td>\n",
       "      <td>1</td>\n",
       "      <td>8</td>\n",
       "      <td>cgw-platypus</td>\n",
       "      <td>0:0</td>\n",
       "    </tr>\n",
       "  </tbody>\n",
       "</table>\n",
       "</div>"
      ],
      "text/plain": [
       "                        JOBID      STATE               BEGIN  REQMEM  \\\n",
       "END                                                                    \n",
       "2021-09-05 11:36:32  30853133  COMPLETED 2021-08-06 11:36:09  262144   \n",
       "2021-09-05 19:04:53  30858137  COMPLETED 2021-08-06 19:04:39  204800   \n",
       "2021-09-07 20:52:55  30935078  COMPLETED 2021-08-09 16:52:51   65536   \n",
       "\n",
       "                      USEDMEM      REQTIME     USEDTIME  NODES  CPUS  \\\n",
       "END                                                                    \n",
       "2021-09-05 11:36:32  20604.62  30-00:00:00  30-00:00:23      1     1   \n",
       "2021-09-05 19:04:53  57553.77  30-00:00:00  30-00:00:14      1    32   \n",
       "2021-09-07 20:52:55  20577.96  29-04:00:00  29-04:00:04      1     8   \n",
       "\n",
       "                        PARTITION EXITCODE  \n",
       "END                                         \n",
       "2021-09-05 11:36:32  cgw-platypus      0:0  \n",
       "2021-09-05 19:04:53     cgw-tbi01      0:0  \n",
       "2021-09-07 20:52:55  cgw-platypus      0:0  "
      ]
     },
     "execution_count": 27,
     "metadata": {},
     "output_type": "execute_result"
    }
   ],
   "source": [
    "#subsetting the data to the completed ones \n",
    "completed=end_time.loc[end_time['STATE']=='COMPLETED']\n",
    "completed.head(3)"
   ]
  },
  {
   "cell_type": "code",
   "execution_count": 28,
   "id": "9c39e2db",
   "metadata": {},
   "outputs": [
    {
     "data": {
      "text/plain": [
       "END\n",
       "2020-10-01    33263\n",
       "2020-10-02    30356\n",
       "2020-10-03    15346\n",
       "2020-10-04    17532\n",
       "2020-10-05    24119\n",
       "              ...  \n",
       "2021-10-03     1561\n",
       "2021-10-04      614\n",
       "2021-10-05      727\n",
       "2021-10-06      265\n",
       "2021-10-07      320\n",
       "Freq: D, Name: JOBID, Length: 372, dtype: int64"
      ]
     },
     "execution_count": 28,
     "metadata": {},
     "output_type": "execute_result"
    }
   ],
   "source": [
    "#completed number of jobs in 24 hours \n",
    "completed['JOBID'].resample(pd.Timedelta('24 hours')).count()"
   ]
  },
  {
   "cell_type": "code",
   "execution_count": 29,
   "id": "db603d6d",
   "metadata": {},
   "outputs": [
    {
     "data": {
      "text/plain": [
       "END\n",
       "2020-10-01 00:00:00     421\n",
       "2020-10-01 01:00:00    1080\n",
       "2020-10-01 02:00:00    1137\n",
       "2020-10-01 03:00:00    1018\n",
       "2020-10-01 04:00:00    1244\n",
       "                       ... \n",
       "2021-10-07 16:00:00       8\n",
       "2021-10-07 17:00:00       8\n",
       "2021-10-07 18:00:00       8\n",
       "2021-10-07 19:00:00       8\n",
       "2021-10-07 20:00:00       6\n",
       "Freq: H, Name: JOBID, Length: 8925, dtype: int64"
      ]
     },
     "execution_count": 29,
     "metadata": {},
     "output_type": "execute_result"
    }
   ],
   "source": [
    "#completed number of jobs in 1 hour\n",
    "completed['JOBID'].resample(pd.Timedelta('1 hour')).count()"
   ]
  },
  {
   "cell_type": "code",
   "execution_count": 30,
   "id": "44c76ff4",
   "metadata": {
    "scrolled": true
   },
   "outputs": [
    {
     "data": {
      "text/html": [
       "<div>\n",
       "<style scoped>\n",
       "    .dataframe tbody tr th:only-of-type {\n",
       "        vertical-align: middle;\n",
       "    }\n",
       "\n",
       "    .dataframe tbody tr th {\n",
       "        vertical-align: top;\n",
       "    }\n",
       "\n",
       "    .dataframe thead th {\n",
       "        text-align: right;\n",
       "    }\n",
       "</style>\n",
       "<table border=\"1\" class=\"dataframe\">\n",
       "  <thead>\n",
       "    <tr style=\"text-align: right;\">\n",
       "      <th></th>\n",
       "      <th>JOBID</th>\n",
       "      <th>STATE</th>\n",
       "      <th>BEGIN</th>\n",
       "      <th>REQMEM</th>\n",
       "      <th>USEDMEM</th>\n",
       "      <th>REQTIME</th>\n",
       "      <th>USEDTIME</th>\n",
       "      <th>NODES</th>\n",
       "      <th>CPUS</th>\n",
       "      <th>PARTITION</th>\n",
       "      <th>EXITCODE</th>\n",
       "    </tr>\n",
       "    <tr>\n",
       "      <th>END</th>\n",
       "      <th></th>\n",
       "      <th></th>\n",
       "      <th></th>\n",
       "      <th></th>\n",
       "      <th></th>\n",
       "      <th></th>\n",
       "      <th></th>\n",
       "      <th></th>\n",
       "      <th></th>\n",
       "      <th></th>\n",
       "      <th></th>\n",
       "    </tr>\n",
       "  </thead>\n",
       "  <tbody>\n",
       "    <tr>\n",
       "      <th>2020-10-01 00:00:00</th>\n",
       "      <td>421</td>\n",
       "      <td>421</td>\n",
       "      <td>421</td>\n",
       "      <td>421</td>\n",
       "      <td>421</td>\n",
       "      <td>421</td>\n",
       "      <td>421</td>\n",
       "      <td>421</td>\n",
       "      <td>421</td>\n",
       "      <td>421</td>\n",
       "      <td>421</td>\n",
       "    </tr>\n",
       "    <tr>\n",
       "      <th>2020-10-01 01:00:00</th>\n",
       "      <td>1080</td>\n",
       "      <td>1080</td>\n",
       "      <td>1080</td>\n",
       "      <td>1080</td>\n",
       "      <td>1080</td>\n",
       "      <td>1080</td>\n",
       "      <td>1080</td>\n",
       "      <td>1080</td>\n",
       "      <td>1080</td>\n",
       "      <td>1080</td>\n",
       "      <td>1080</td>\n",
       "    </tr>\n",
       "    <tr>\n",
       "      <th>2020-10-01 02:00:00</th>\n",
       "      <td>1137</td>\n",
       "      <td>1137</td>\n",
       "      <td>1137</td>\n",
       "      <td>1137</td>\n",
       "      <td>1137</td>\n",
       "      <td>1137</td>\n",
       "      <td>1137</td>\n",
       "      <td>1137</td>\n",
       "      <td>1137</td>\n",
       "      <td>1137</td>\n",
       "      <td>1137</td>\n",
       "    </tr>\n",
       "  </tbody>\n",
       "</table>\n",
       "</div>"
      ],
      "text/plain": [
       "                     JOBID  STATE  BEGIN  REQMEM  USEDMEM  REQTIME  USEDTIME  \\\n",
       "END                                                                            \n",
       "2020-10-01 00:00:00    421    421    421     421      421      421       421   \n",
       "2020-10-01 01:00:00   1080   1080   1080    1080     1080     1080      1080   \n",
       "2020-10-01 02:00:00   1137   1137   1137    1137     1137     1137      1137   \n",
       "\n",
       "                     NODES  CPUS  PARTITION  EXITCODE  \n",
       "END                                                    \n",
       "2020-10-01 00:00:00    421   421        421       421  \n",
       "2020-10-01 01:00:00   1080  1080       1080      1080  \n",
       "2020-10-01 02:00:00   1137  1137       1137      1137  "
      ]
     },
     "execution_count": 30,
     "metadata": {},
     "output_type": "execute_result"
    }
   ],
   "source": [
    "completed_by_hour=completed.resample('H').count()\n",
    "completed_by_hour.head(3)"
   ]
  },
  {
   "cell_type": "code",
   "execution_count": 31,
   "id": "6198002d",
   "metadata": {},
   "outputs": [],
   "source": [
    "completed_jobs=completed_by_hour['JOBID']"
   ]
  },
  {
   "cell_type": "code",
   "execution_count": 32,
   "id": "7d3c42aa",
   "metadata": {},
   "outputs": [
    {
     "data": {
      "text/plain": [
       "END\n",
       "2020-10-01 00:00:00     421\n",
       "2020-10-01 01:00:00    1080\n",
       "2020-10-01 02:00:00    1137\n",
       "2020-10-01 03:00:00    1018\n",
       "2020-10-01 04:00:00    1244\n",
       "                       ... \n",
       "2021-10-07 16:00:00       8\n",
       "2021-10-07 17:00:00       8\n",
       "2021-10-07 18:00:00       8\n",
       "2021-10-07 19:00:00       8\n",
       "2021-10-07 20:00:00       6\n",
       "Freq: H, Name: JOBID, Length: 8925, dtype: int64"
      ]
     },
     "execution_count": 32,
     "metadata": {},
     "output_type": "execute_result"
    }
   ],
   "source": [
    "completed_jobs"
   ]
  },
  {
   "cell_type": "code",
   "execution_count": 37,
   "id": "8e09a2af",
   "metadata": {},
   "outputs": [
    {
     "data": {
      "text/plain": [
       "1:0    1\n",
       "Name: EXITCODE, dtype: int64"
      ]
     },
     "execution_count": 37,
     "metadata": {},
     "output_type": "execute_result"
    }
   ],
   "source": [
    "#1 job is canceled by user 9204 \n",
    "fs_df.loc[fs_df['STATE'] == 'CANCELLED by 9204', 'EXITCODE'].value_counts()"
   ]
  },
  {
   "cell_type": "code",
   "execution_count": 59,
   "id": "fd667d24",
   "metadata": {},
   "outputs": [
    {
     "data": {
      "text/plain": [
       "7375084"
      ]
     },
     "execution_count": 59,
     "metadata": {},
     "output_type": "execute_result"
    }
   ],
   "source": [
    "#counts of completed ones\n",
    "fs_df.loc[fs_df['STATE'] == 'COMPLETED'].value_counts()\n",
    "fs_df.loc[fs_df['STATE'] == 'COMPLETED'].value_counts().sum()"
   ]
  },
  {
   "cell_type": "code",
   "execution_count": 38,
   "id": "95c55cf8",
   "metadata": {
    "scrolled": true
   },
   "outputs": [
    {
     "data": {
      "text/plain": [
       "0:0    7375084\n",
       "Name: EXITCODE, dtype: int64"
      ]
     },
     "execution_count": 38,
     "metadata": {},
     "output_type": "execute_result"
    }
   ],
   "source": [
    "# counts of completed ones and their exit code (0:0)\n",
    "fs_df.loc[fs_df['STATE'] == 'COMPLETED', 'EXITCODE'].value_counts()"
   ]
  },
  {
   "cell_type": "code",
   "execution_count": 40,
   "id": "bd79fa13",
   "metadata": {},
   "outputs": [
    {
     "data": {
      "text/html": [
       "<div>\n",
       "<style scoped>\n",
       "    .dataframe tbody tr th:only-of-type {\n",
       "        vertical-align: middle;\n",
       "    }\n",
       "\n",
       "    .dataframe tbody tr th {\n",
       "        vertical-align: top;\n",
       "    }\n",
       "\n",
       "    .dataframe thead th {\n",
       "        text-align: right;\n",
       "    }\n",
       "</style>\n",
       "<table border=\"1\" class=\"dataframe\">\n",
       "  <thead>\n",
       "    <tr style=\"text-align: right;\">\n",
       "      <th></th>\n",
       "      <th>JOBID</th>\n",
       "      <th>STATE</th>\n",
       "      <th>BEGIN</th>\n",
       "      <th>END</th>\n",
       "      <th>REQMEM</th>\n",
       "      <th>USEDMEM</th>\n",
       "      <th>REQTIME</th>\n",
       "      <th>USEDTIME</th>\n",
       "      <th>NODES</th>\n",
       "      <th>CPUS</th>\n",
       "      <th>PARTITION</th>\n",
       "      <th>EXITCODE</th>\n",
       "    </tr>\n",
       "  </thead>\n",
       "  <tbody>\n",
       "    <tr>\n",
       "      <th>1</th>\n",
       "      <td>30853133</td>\n",
       "      <td>COMPLETED</td>\n",
       "      <td>2021-08-06 11:36:09</td>\n",
       "      <td>2021-09-05 11:36:32</td>\n",
       "      <td>262144</td>\n",
       "      <td>20604.62</td>\n",
       "      <td>30-00:00:00</td>\n",
       "      <td>30-00:00:23</td>\n",
       "      <td>1</td>\n",
       "      <td>1</td>\n",
       "      <td>cgw-platypus</td>\n",
       "      <td>0:0</td>\n",
       "    </tr>\n",
       "    <tr>\n",
       "      <th>2</th>\n",
       "      <td>30858137</td>\n",
       "      <td>COMPLETED</td>\n",
       "      <td>2021-08-06 19:04:39</td>\n",
       "      <td>2021-09-05 19:04:53</td>\n",
       "      <td>204800</td>\n",
       "      <td>57553.77</td>\n",
       "      <td>30-00:00:00</td>\n",
       "      <td>30-00:00:14</td>\n",
       "      <td>1</td>\n",
       "      <td>32</td>\n",
       "      <td>cgw-tbi01</td>\n",
       "      <td>0:0</td>\n",
       "    </tr>\n",
       "    <tr>\n",
       "      <th>3</th>\n",
       "      <td>30935078</td>\n",
       "      <td>COMPLETED</td>\n",
       "      <td>2021-08-09 16:52:51</td>\n",
       "      <td>2021-09-07 20:52:55</td>\n",
       "      <td>65536</td>\n",
       "      <td>20577.96</td>\n",
       "      <td>29-04:00:00</td>\n",
       "      <td>29-04:00:04</td>\n",
       "      <td>1</td>\n",
       "      <td>8</td>\n",
       "      <td>cgw-platypus</td>\n",
       "      <td>0:0</td>\n",
       "    </tr>\n",
       "  </tbody>\n",
       "</table>\n",
       "</div>"
      ],
      "text/plain": [
       "      JOBID      STATE               BEGIN                 END  REQMEM  \\\n",
       "1  30853133  COMPLETED 2021-08-06 11:36:09 2021-09-05 11:36:32  262144   \n",
       "2  30858137  COMPLETED 2021-08-06 19:04:39 2021-09-05 19:04:53  204800   \n",
       "3  30935078  COMPLETED 2021-08-09 16:52:51 2021-09-07 20:52:55   65536   \n",
       "\n",
       "    USEDMEM      REQTIME     USEDTIME  NODES  CPUS     PARTITION EXITCODE  \n",
       "1  20604.62  30-00:00:00  30-00:00:23      1     1  cgw-platypus      0:0  \n",
       "2  57553.77  30-00:00:00  30-00:00:14      1    32     cgw-tbi01      0:0  \n",
       "3  20577.96  29-04:00:00  29-04:00:04      1     8  cgw-platypus      0:0  "
      ]
     },
     "execution_count": 40,
     "metadata": {},
     "output_type": "execute_result"
    }
   ],
   "source": [
    "# filter down to only COMPLETED state\n",
    "fs_comp = fs_df[fs_df['STATE'] == 'COMPLETED']\n",
    "fs_comp.head(3)"
   ]
  },
  {
   "cell_type": "code",
   "execution_count": 43,
   "id": "1b8f56f2",
   "metadata": {},
   "outputs": [
    {
     "data": {
      "text/plain": [
       "END\n",
       "2020-10-01 00:10:15    1.0\n",
       "2020-10-01 00:12:58    2.0\n",
       "2020-10-01 00:13:31    3.0\n",
       "2020-10-01 00:17:23    4.0\n",
       "2020-10-01 00:17:53    5.0\n",
       "                      ... \n",
       "2021-10-07 20:11:21    9.0\n",
       "2021-10-07 20:17:24    9.0\n",
       "2021-10-07 20:26:01    8.0\n",
       "2021-10-07 20:32:45    9.0\n",
       "2021-10-07 20:41:11    9.0\n",
       "Name: JOBID, Length: 7375084, dtype: float64"
      ]
     },
     "execution_count": 43,
     "metadata": {},
     "output_type": "execute_result"
    }
   ],
   "source": [
    "#counts of completions per hour \n",
    "comp_per_hour = (fs_comp.set_index('END')\n",
    "                       .sort_values('END', ascending = True)\n",
    "                       .rolling('1h')\n",
    "                        ['JOBID']\n",
    "                        .count()\n",
    "                )\n",
    "comp_per_hour"
   ]
  },
  {
   "cell_type": "code",
   "execution_count": 45,
   "id": "ab72c5ac",
   "metadata": {},
   "outputs": [],
   "source": [
    "# define a function to calculate total hours of a timedelta\n",
    "def td_hours(timedelta):\n",
    "    hours = timedelta.days*24 + timedelta.seconds/3600\n",
    "    return hours"
   ]
  },
  {
   "cell_type": "code",
   "execution_count": 47,
   "id": "140ece38",
   "metadata": {},
   "outputs": [
    {
     "name": "stdout",
     "output_type": "stream",
     "text": [
      "826.4 completions per hour\n"
     ]
    }
   ],
   "source": [
    "# overall completions per hour \n",
    "completions = len(fs_comp)\n",
    "time_diff = (fs_df['END'].max() - fs_df['END'].min())\n",
    "jobs_per_hour = completions/td_hours(time_diff)\n",
    "print(round(jobs_per_hour, 1), 'completions per hour')\n"
   ]
  },
  {
   "cell_type": "code",
   "execution_count": 53,
   "id": "3ad2a2b7",
   "metadata": {},
   "outputs": [
    {
     "data": {
      "text/plain": [
       "END\n",
       "2020-10-04     574.386905\n",
       "2020-10-11    1221.565476\n",
       "2020-10-18     672.672619\n",
       "Freq: W-SUN, Name: JOBID, dtype: float64"
      ]
     },
     "execution_count": 53,
     "metadata": {},
     "output_type": "execute_result"
    }
   ],
   "source": [
    "#completions per hour per week\n",
    "comp_per_hour_by_week = (fs_comp.groupby(\n",
    "                                    pd.Grouper(key = 'END', freq = 'W')) # Group by week\n",
    "                                 ['JOBID'] # Counting job ids\n",
    "                                 .count()/168 # divide count by 168 hours in a week\n",
    "                        )\n",
    "comp_per_hour_by_week.head(3)"
   ]
  },
  {
   "cell_type": "code",
   "execution_count": 54,
   "id": "e6fd7dcd",
   "metadata": {},
   "outputs": [
    {
     "data": {
      "text/html": [
       "<div>\n",
       "<style scoped>\n",
       "    .dataframe tbody tr th:only-of-type {\n",
       "        vertical-align: middle;\n",
       "    }\n",
       "\n",
       "    .dataframe tbody tr th {\n",
       "        vertical-align: top;\n",
       "    }\n",
       "\n",
       "    .dataframe thead th {\n",
       "        text-align: right;\n",
       "    }\n",
       "</style>\n",
       "<table border=\"1\" class=\"dataframe\">\n",
       "  <thead>\n",
       "    <tr style=\"text-align: right;\">\n",
       "      <th></th>\n",
       "      <th>WEEK OF</th>\n",
       "      <th>COMPLETIONS PER HOUR</th>\n",
       "    </tr>\n",
       "  </thead>\n",
       "  <tbody>\n",
       "    <tr>\n",
       "      <th>0</th>\n",
       "      <td>2020-10-04</td>\n",
       "      <td>574.386905</td>\n",
       "    </tr>\n",
       "    <tr>\n",
       "      <th>1</th>\n",
       "      <td>2020-10-11</td>\n",
       "      <td>1221.565476</td>\n",
       "    </tr>\n",
       "    <tr>\n",
       "      <th>2</th>\n",
       "      <td>2020-10-18</td>\n",
       "      <td>672.672619</td>\n",
       "    </tr>\n",
       "  </tbody>\n",
       "</table>\n",
       "</div>"
      ],
      "text/plain": [
       "     WEEK OF  COMPLETIONS PER HOUR\n",
       "0 2020-10-04            574.386905\n",
       "1 2020-10-11           1221.565476\n",
       "2 2020-10-18            672.672619"
      ]
     },
     "execution_count": 54,
     "metadata": {},
     "output_type": "execute_result"
    }
   ],
   "source": [
    "# rename two columns\n",
    "comp_per_hour_by_week = (comp_per_hour_by_week.reset_index()\n",
    "                                              .rename(columns = {'END': 'WEEK OF', \n",
    "                                                                 'JOBID': 'COMPLETIONS PER HOUR'}\n",
    "                                                     )\n",
    "                        )\n",
    "comp_per_hour_by_week.head(3)"
   ]
  },
  {
   "cell_type": "code",
   "execution_count": 64,
   "id": "d7adec16",
   "metadata": {},
   "outputs": [
    {
     "data": {
      "image/png": "[encoded data removed]",
      "text/plain": [
       "<Figure size 1440x504 with 1 Axes>"
      ]
     },
     "metadata": {
      "needs_background": "light"
     },
     "output_type": "display_data"
    }
   ],
   "source": [
    "# Plot completions per hour by week, colored by month\n",
    "fig, ax = plt.subplots(figsize=(20,7))\n",
    "\n",
    "x_dates = comp_per_hour_by_week['WEEK OF'].dt.strftime('%Y-%m')\n",
    "\n",
    "sns.barplot(x = 'WEEK OF',\n",
    "            y = 'COMPLETIONS PER HOUR',\n",
    "            data = comp_per_hour_by_week,\n",
    "            ax = ax,\n",
    "            hue = x_dates,\n",
    "            dodge = False\n",
    "           )\n",
    "\n",
    "\n",
    "ax.set_xticklabels(labels=x_dates, rotation=45, ha='right')\n",
    "ax.get_legend().remove()\n",
    "ax.axhline(jobs_per_hour, color = 'purple')\n",
    "ax.set(xlabel = 'Job Completed Per Week',\n",
    "       ylabel = 'Jobs Completed Per Hour',\n",
    "       title = 'Higher Number of Jobs Completed Per Hour by Week in August and September')\n",
    "plt.show()"
   ]
  },
  {
   "cell_type": "code",
   "execution_count": 65,
   "id": "b03f851c",
   "metadata": {},
   "outputs": [
    {
     "data": {
      "image/png": "[encoded data removed]",
      "text/plain": [
       "<Figure size 1440x504 with 1 Axes>"
      ]
     },
     "metadata": {
      "needs_background": "light"
     },
     "output_type": "display_data"
    }
   ],
   "source": [
    "# Plot completions per hour by week along with trendline, which shows gradual increase over the year\n",
    "fig, ax = plt.subplots(figsize=(20,7))\n",
    "\n",
    "ax.xaxis.update_units(comp_per_hour_by_week['WEEK OF'])\n",
    "\n",
    "sns.regplot(x = ax.xaxis.convert_units(comp_per_hour_by_week['WEEK OF']),\n",
    "            y = 'COMPLETIONS PER HOUR',\n",
    "            data = comp_per_hour_by_week,\n",
    "            ax = ax,\n",
    "           )\n",
    "\n",
    "ax.set(xlabel = 'Jobs Completed Per Week',\n",
    "       ylabel = 'Jobs Completed Per Hour',\n",
    "       title = 'Jobs Completed Per Hour Has Increased Over the Past Year')\n",
    "plt.show()"
   ]
  },
  {
   "cell_type": "code",
   "execution_count": 68,
   "id": "880b5681",
   "metadata": {},
   "outputs": [
    {
     "name": "stdout",
     "output_type": "stream",
     "text": [
      "                  Generalized Linear Model Regression Results                   \n",
      "================================================================================\n",
      "Dep. Variable:     COMPLETIONS PER HOUR   No. Observations:                   54\n",
      "Model:                              GLM   Df Residuals:                       52\n",
      "Model Family:                  Gaussian   Df Model:                            1\n",
      "Link Function:                 identity   Scale:                      1.6475e+05\n",
      "Method:                            IRLS   Log-Likelihood:                -399.93\n",
      "Date:                  Thu, 28 Oct 2021   Deviance:                   8.5672e+06\n",
      "Time:                          14:22:14   Pearson chi2:                 8.57e+06\n",
      "No. Iterations:                       3                                         \n",
      "Covariance Type:              nonrobust                                         \n",
      "==============================================================================\n",
      "                 coef    std err          z      P>|z|      [0.025      0.975]\n",
      "------------------------------------------------------------------------------\n",
      "const      -8.481e+05   3.74e+05     -2.270      0.023   -1.58e+06   -1.16e+05\n",
      "WEEK OF        1.1505      0.506      2.272      0.023       0.158       2.143\n",
      "==============================================================================\n"
     ]
    }
   ],
   "source": [
    "#number of jobs are increasing, the model shows a slope of 1.15 jobs per hour per day\n",
    "gen_lin_reg_model = (sm.GLM(endog = comp_per_hour_by_week['COMPLETIONS PER HOUR'],\n",
    "                      exog = sm.add_constant(comp_per_hour_by_week['WEEK OF'].map(datetime.toordinal)),\n",
    "                      family = sm.families.Gaussian())\n",
    "               .fit())\n",
    "\n",
    "print(gen_lin_reg_model.summary())"
   ]
  },
  {
   "cell_type": "code",
   "execution_count": 79,
   "id": "d0a7136f",
   "metadata": {},
   "outputs": [
    {
     "data": {
      "text/plain": [
       "END\n",
       "2020-10-01    1385.958333\n",
       "2020-10-02    1264.833333\n",
       "2020-10-03     639.416667\n",
       "2020-10-04     730.500000\n",
       "2020-10-05    1004.958333\n",
       "                 ...     \n",
       "2021-10-03      65.041667\n",
       "2021-10-04      25.583333\n",
       "2021-10-05      30.291667\n",
       "2021-10-06      11.041667\n",
       "2021-10-07      13.333333\n",
       "Freq: D, Name: JOBID, Length: 372, dtype: float64"
      ]
     },
     "execution_count": 79,
     "metadata": {},
     "output_type": "execute_result"
    }
   ],
   "source": [
    "#job completions per hour per day \n",
    "comp_per_hour_by_day = (fs_comp.groupby(\n",
    "                                 pd.Grouper(key = 'END', freq = 'D')) # Group by day\n",
    "                                 ['JOBID'] # Counting job ids\n",
    "                                 .count()/24 # divide count by 24 hours in a day\n",
    "                        )\n",
    "comp_per_hour_by_day"
   ]
  },
  {
   "cell_type": "code",
   "execution_count": 71,
   "id": "1a7af366",
   "metadata": {},
   "outputs": [],
   "source": [
    "# display with renamed columns\n",
    "comp_per_hour_by_day = (comp_per_hour_by_day.reset_index()\n",
    "                                              .rename(columns = {'END': 'DAY', \n",
    "                                                                 'JOBID': 'COMPLETIONS PER HOUR'}\n",
    "                                                     )\n",
    "                        )"
   ]
  },
  {
   "cell_type": "code",
   "execution_count": 74,
   "id": "47ef6d23",
   "metadata": {},
   "outputs": [
    {
     "data": {
      "text/html": [
       "<div>\n",
       "<style scoped>\n",
       "    .dataframe tbody tr th:only-of-type {\n",
       "        vertical-align: middle;\n",
       "    }\n",
       "\n",
       "    .dataframe tbody tr th {\n",
       "        vertical-align: top;\n",
       "    }\n",
       "\n",
       "    .dataframe thead th {\n",
       "        text-align: right;\n",
       "    }\n",
       "</style>\n",
       "<table border=\"1\" class=\"dataframe\">\n",
       "  <thead>\n",
       "    <tr style=\"text-align: right;\">\n",
       "      <th></th>\n",
       "      <th>DAY</th>\n",
       "      <th>COMPLETIONS PER HOUR</th>\n",
       "      <th>WEEKDAY</th>\n",
       "      <th>WEEKDAY NUMBER</th>\n",
       "    </tr>\n",
       "  </thead>\n",
       "  <tbody>\n",
       "    <tr>\n",
       "      <th>0</th>\n",
       "      <td>2020-10-01</td>\n",
       "      <td>1385.958333</td>\n",
       "      <td>Thursday</td>\n",
       "      <td>4</td>\n",
       "    </tr>\n",
       "    <tr>\n",
       "      <th>1</th>\n",
       "      <td>2020-10-02</td>\n",
       "      <td>1264.833333</td>\n",
       "      <td>Friday</td>\n",
       "      <td>5</td>\n",
       "    </tr>\n",
       "    <tr>\n",
       "      <th>2</th>\n",
       "      <td>2020-10-03</td>\n",
       "      <td>639.416667</td>\n",
       "      <td>Saturday</td>\n",
       "      <td>6</td>\n",
       "    </tr>\n",
       "    <tr>\n",
       "      <th>3</th>\n",
       "      <td>2020-10-04</td>\n",
       "      <td>730.500000</td>\n",
       "      <td>Sunday</td>\n",
       "      <td>7</td>\n",
       "    </tr>\n",
       "    <tr>\n",
       "      <th>4</th>\n",
       "      <td>2020-10-05</td>\n",
       "      <td>1004.958333</td>\n",
       "      <td>Monday</td>\n",
       "      <td>1</td>\n",
       "    </tr>\n",
       "    <tr>\n",
       "      <th>...</th>\n",
       "      <td>...</td>\n",
       "      <td>...</td>\n",
       "      <td>...</td>\n",
       "      <td>...</td>\n",
       "    </tr>\n",
       "    <tr>\n",
       "      <th>367</th>\n",
       "      <td>2021-10-03</td>\n",
       "      <td>65.041667</td>\n",
       "      <td>Sunday</td>\n",
       "      <td>7</td>\n",
       "    </tr>\n",
       "    <tr>\n",
       "      <th>368</th>\n",
       "      <td>2021-10-04</td>\n",
       "      <td>25.583333</td>\n",
       "      <td>Monday</td>\n",
       "      <td>1</td>\n",
       "    </tr>\n",
       "    <tr>\n",
       "      <th>369</th>\n",
       "      <td>2021-10-05</td>\n",
       "      <td>30.291667</td>\n",
       "      <td>Tuesday</td>\n",
       "      <td>2</td>\n",
       "    </tr>\n",
       "    <tr>\n",
       "      <th>370</th>\n",
       "      <td>2021-10-06</td>\n",
       "      <td>11.041667</td>\n",
       "      <td>Wednesday</td>\n",
       "      <td>3</td>\n",
       "    </tr>\n",
       "    <tr>\n",
       "      <th>371</th>\n",
       "      <td>2021-10-07</td>\n",
       "      <td>13.333333</td>\n",
       "      <td>Thursday</td>\n",
       "      <td>4</td>\n",
       "    </tr>\n",
       "  </tbody>\n",
       "</table>\n",
       "<p>372 rows × 4 columns</p>\n",
       "</div>"
      ],
      "text/plain": [
       "           DAY  COMPLETIONS PER HOUR    WEEKDAY  WEEKDAY NUMBER\n",
       "0   2020-10-01           1385.958333   Thursday               4\n",
       "1   2020-10-02           1264.833333     Friday               5\n",
       "2   2020-10-03            639.416667   Saturday               6\n",
       "3   2020-10-04            730.500000     Sunday               7\n",
       "4   2020-10-05           1004.958333     Monday               1\n",
       "..         ...                   ...        ...             ...\n",
       "367 2021-10-03             65.041667     Sunday               7\n",
       "368 2021-10-04             25.583333     Monday               1\n",
       "369 2021-10-05             30.291667    Tuesday               2\n",
       "370 2021-10-06             11.041667  Wednesday               3\n",
       "371 2021-10-07             13.333333   Thursday               4\n",
       "\n",
       "[372 rows x 4 columns]"
      ]
     },
     "execution_count": 74,
     "metadata": {},
     "output_type": "execute_result"
    }
   ],
   "source": [
    "# Add weekday and weekday number to completions per hour by day\n",
    "comp_per_hour_by_day['WEEKDAY'] = comp_per_hour_by_day['DAY'].apply(lambda x: calendar.day_name[x.weekday()])\n",
    "comp_per_hour_by_day['WEEKDAY NUMBER'] = comp_per_hour_by_day['DAY'].apply(lambda x: x.weekday()+1)\n",
    "comp_per_hour_by_day"
   ]
  },
  {
   "cell_type": "code",
   "execution_count": 75,
   "id": "7b4df7aa",
   "metadata": {},
   "outputs": [
    {
     "data": {
      "text/html": [
       "<div>\n",
       "<style scoped>\n",
       "    .dataframe tbody tr th:only-of-type {\n",
       "        vertical-align: middle;\n",
       "    }\n",
       "\n",
       "    .dataframe tbody tr th {\n",
       "        vertical-align: top;\n",
       "    }\n",
       "\n",
       "    .dataframe thead th {\n",
       "        text-align: right;\n",
       "    }\n",
       "</style>\n",
       "<table border=\"1\" class=\"dataframe\">\n",
       "  <thead>\n",
       "    <tr style=\"text-align: right;\">\n",
       "      <th></th>\n",
       "      <th>WEEKDAY NUMBER</th>\n",
       "      <th>WEEKDAY</th>\n",
       "      <th>COMPLETIONS PER HOUR</th>\n",
       "    </tr>\n",
       "  </thead>\n",
       "  <tbody>\n",
       "    <tr>\n",
       "      <th>0</th>\n",
       "      <td>1</td>\n",
       "      <td>Monday</td>\n",
       "      <td>878.555031</td>\n",
       "    </tr>\n",
       "    <tr>\n",
       "      <th>1</th>\n",
       "      <td>2</td>\n",
       "      <td>Tuesday</td>\n",
       "      <td>1019.834906</td>\n",
       "    </tr>\n",
       "    <tr>\n",
       "      <th>2</th>\n",
       "      <td>3</td>\n",
       "      <td>Wednesday</td>\n",
       "      <td>926.651730</td>\n",
       "    </tr>\n",
       "    <tr>\n",
       "      <th>3</th>\n",
       "      <td>4</td>\n",
       "      <td>Thursday</td>\n",
       "      <td>795.691358</td>\n",
       "    </tr>\n",
       "    <tr>\n",
       "      <th>4</th>\n",
       "      <td>5</td>\n",
       "      <td>Friday</td>\n",
       "      <td>805.452044</td>\n",
       "    </tr>\n",
       "    <tr>\n",
       "      <th>5</th>\n",
       "      <td>6</td>\n",
       "      <td>Saturday</td>\n",
       "      <td>664.910377</td>\n",
       "    </tr>\n",
       "    <tr>\n",
       "      <th>6</th>\n",
       "      <td>7</td>\n",
       "      <td>Sunday</td>\n",
       "      <td>691.913522</td>\n",
       "    </tr>\n",
       "  </tbody>\n",
       "</table>\n",
       "</div>"
      ],
      "text/plain": [
       "   WEEKDAY NUMBER    WEEKDAY  COMPLETIONS PER HOUR\n",
       "0               1     Monday            878.555031\n",
       "1               2    Tuesday           1019.834906\n",
       "2               3  Wednesday            926.651730\n",
       "3               4   Thursday            795.691358\n",
       "4               5     Friday            805.452044\n",
       "5               6   Saturday            664.910377\n",
       "6               7     Sunday            691.913522"
      ]
     },
     "execution_count": 75,
     "metadata": {},
     "output_type": "execute_result"
    }
   ],
   "source": [
    "# Aggregate by weekday\n",
    "comp_per_hour_weekday = comp_per_hour_by_day.groupby(['WEEKDAY NUMBER', 'WEEKDAY'], as_index = False)['COMPLETIONS PER HOUR'].mean()\n",
    "comp_per_hour_weekday\n",
    "\n",
    "#highest number of completions during Monday_Wednesday"
   ]
  },
  {
   "cell_type": "code",
   "execution_count": 77,
   "id": "8f120ed0",
   "metadata": {
    "scrolled": true
   },
   "outputs": [
    {
     "data": {
      "image/png": "[encoded data removed]",
      "text/plain": [
       "<Figure size 1440x504 with 1 Axes>"
      ]
     },
     "metadata": {
      "needs_background": "light"
     },
     "output_type": "display_data"
    }
   ],
   "source": [
    "# Plot completions per hour by weekday\n",
    "fig, ax = plt.subplots(figsize=(20,7))\n",
    "\n",
    "sns.barplot(x = 'WEEKDAY',\n",
    "            y = 'COMPLETIONS PER HOUR',\n",
    "            data = comp_per_hour_weekday,\n",
    "            ax = ax,\n",
    "           )\n",
    "\n",
    "ax.axhline(jobs_per_hour, color = 'red')\n",
    "ax.set(xlabel = 'Jobs Completed Per Week',\n",
    "       ylabel = 'Jobs Completed Per Hour',\n",
    "       title = 'Jobs Completed Per Hour Per Day')\n",
    "plt.show()\n",
    "\n",
    "#Monday through Wednesday are the days that are above the average completions per hour per day"
   ]
  },
  {
   "cell_type": "code",
   "execution_count": 81,
   "id": "2f029f4d",
   "metadata": {},
   "outputs": [
    {
     "data": {
      "text/plain": [
       "<BarContainer object of 7 artists>"
      ]
     },
     "execution_count": 81,
     "metadata": {},
     "output_type": "execute_result"
    },
    {
     "data": {
      "image/png": "[encoded data removed]",
      "text/plain": [
       "<Figure size 432x288 with 1 Axes>"
      ]
     },
     "metadata": {
      "needs_background": "light"
     },
     "output_type": "display_data"
    }
   ],
   "source": [
    "jobs_weekday = [len(fs_df[fs_df['BEGIN'].dt.day == x]) for x in range(1,8)]\n",
    "ax.axhline(jobs_per_hour, color = 'red')\n",
    "plt.bar(['Mon', 'Tue', 'Wed', 'Thu', 'Fri', 'Sat', 'Sun'], jobs_weekday)\n"
   ]
  },
  {
   "cell_type": "code",
   "execution_count": 84,
   "id": "fa6f3d48",
   "metadata": {},
   "outputs": [
    {
     "data": {
      "image/png": "[encoded data removed]",
      "text/plain": [
       "<Figure size 1440x504 with 1 Axes>"
      ]
     },
     "metadata": {
      "needs_background": "light"
     },
     "output_type": "display_data"
    }
   ],
   "source": [
    "fig, ax = plt.subplots(figsize=(20,7))\n",
    "sns.barplot(x = 'WEEKDAY',\n",
    "            y = 'COMPLETIONS PER HOUR',\n",
    "            data = comp_per_hour_weekday,\n",
    "            ax = ax,\n",
    "           )\n",
    "ax.axhline(jobs_per_hour, color = 'red')\n",
    "plt.show()\n"
   ]
  },
  {
   "cell_type": "code",
   "execution_count": 103,
   "id": "2d48d5d7",
   "metadata": {},
   "outputs": [
    {
     "data": {
      "text/plain": [
       "EXITCODE\n",
       "0:0      7383829\n",
       "1:0         4958\n",
       "0:15        1887\n",
       "0:125       1739\n",
       "0:9         1361\n",
       "2:0          508\n",
       "0:7          389\n",
       "121:0         89\n",
       "127:0         88\n",
       "13:0          68\n",
       "24:0          67\n",
       "0:11          35\n",
       "38:0          32\n",
       "28:0          29\n",
       "6:0           27\n",
       "126:0         24\n",
       "0:6           18\n",
       "0:2           16\n",
       "29:0          12\n",
       "7:0           12\n",
       "16:0           9\n",
       "59:0           8\n",
       "9:0            4\n",
       "0:40           4\n",
       "125:0          3\n",
       "8:0            3\n",
       "0:105          2\n",
       "0:12           1\n",
       "67:0           1\n",
       "85:0           1\n",
       "0:98           1\n",
       "76:0           1\n",
       "103:0          1\n",
       "4:0            1\n",
       "116:0          1\n",
       "43:0           1\n",
       "3:0            1\n",
       "11:0           1\n",
       "30:0           1\n",
       "0:8            1\n",
       "dtype: int64"
      ]
     },
     "execution_count": 103,
     "metadata": {},
     "output_type": "execute_result"
    }
   ],
   "source": [
    "#counts of exitcodes\n",
    "fs_df.value_counts('EXITCODE')"
   ]
  },
  {
   "cell_type": "code",
   "execution_count": 92,
   "id": "ccef3f74",
   "metadata": {},
   "outputs": [
    {
     "data": {
      "text/plain": [
       "STATE\n",
       "COMPLETED              7375084\n",
       "CANCELLED                 9055\n",
       "FAILED                    3766\n",
       "CANCELLED by 9201         1776\n",
       "OUT_OF_MEMORY             1739\n",
       "                        ...   \n",
       "CANCELLED by 762866          1\n",
       "CANCELLED by 858449          1\n",
       "CANCELLED by 494371          1\n",
       "CANCELLED by 485036          1\n",
       "CANCELLED by 766637          1\n",
       "Length: 143, dtype: int64"
      ]
     },
     "execution_count": 92,
     "metadata": {},
     "output_type": "execute_result"
    }
   ],
   "source": [
    "#counts of state\n",
    "fs_df.value_counts('STATE')"
   ]
  },
  {
   "cell_type": "code",
   "execution_count": 118,
   "id": "8e60da80",
   "metadata": {},
   "outputs": [],
   "source": [
    "#gives us the specific exitcodes we want \n",
    "#fs_df[fs_df['EXITCODE'] == '0:125']\n",
    "#fs_df[fs_df['EXITCODE'] == '0:7']"
   ]
  },
  {
   "cell_type": "code",
   "execution_count": 174,
   "id": "eb7db2ed",
   "metadata": {},
   "outputs": [],
   "source": [
    "#gives us exitcodes and states\n",
    "#fs_df[fs_df['STATE'].str.match(r'CANCELLED')]\n",
    "#fs_df[fs_df['STATE'].str.match(r'CANCELLED')].value_counts('EXITCODE')\n",
    "#fs_df[fs_df['STATE'].str.match(r'FAILED')].value_counts('EXITCODE')\n",
    "fs_can = fs_df[fs_df['STATE'] == 'CANCELLED']\n",
    "fs_fail=fs_df[fs_df['STATE'] == 'FAILED']"
   ]
  },
  {
   "cell_type": "code",
   "execution_count": 173,
   "id": "b5a814b7",
   "metadata": {},
   "outputs": [],
   "source": [
    "#counts of cancelled jobs per hour \n",
    "can_per_hour = (fs_can.set_index('END')\n",
    "                       .sort_values('END', ascending = True)\n",
    "                       .rolling('1h')\n",
    "                        ['JOBID']\n",
    "                        .count()\n",
    "                )\n",
    "#can_per_hour"
   ]
  },
  {
   "cell_type": "code",
   "execution_count": 176,
   "id": "829b38b9",
   "metadata": {},
   "outputs": [
    {
     "data": {
      "text/plain": [
       "<AxesSubplot:xlabel='END'>"
      ]
     },
     "execution_count": 176,
     "metadata": {},
     "output_type": "execute_result"
    },
    {
     "data": {
      "image/png": "[encoded data removed]",
      "text/plain": [
       "<Figure size 432x288 with 1 Axes>"
      ]
     },
     "metadata": {
      "needs_background": "light"
     },
     "output_type": "display_data"
    }
   ],
   "source": [
    "can_per_hour.plot()"
   ]
  },
  {
   "cell_type": "code",
   "execution_count": 175,
   "id": "1c137ce7",
   "metadata": {},
   "outputs": [],
   "source": [
    "#counts of cancelled jobs per hour \n",
    "fail_per_hour = (fs_fail.set_index('END')\n",
    "                       .sort_values('END', ascending = True)\n",
    "                       .rolling('1h')\n",
    "                        ['JOBID']\n",
    "                        .count()\n",
    "                )\n",
    "#fail_per_hour"
   ]
  },
  {
   "cell_type": "code",
   "execution_count": 177,
   "id": "25453b97",
   "metadata": {},
   "outputs": [
    {
     "data": {
      "text/plain": [
       "<AxesSubplot:xlabel='END'>"
      ]
     },
     "execution_count": 177,
     "metadata": {},
     "output_type": "execute_result"
    },
    {
     "data": {
      "image/png": "[encoded data removed]",
      "text/plain": [
       "<Figure size 432x288 with 1 Axes>"
      ]
     },
     "metadata": {
      "needs_background": "light"
     },
     "output_type": "display_data"
    }
   ],
   "source": [
    "fail_per_hour.plot()"
   ]
  },
  {
   "cell_type": "code",
   "execution_count": null,
   "id": "8157d182",
   "metadata": {},
   "outputs": [],
   "source": []
  },
  {
   "cell_type": "code",
   "execution_count": 157,
   "id": "e0e2e5ca",
   "metadata": {},
   "outputs": [
    {
     "data": {
      "text/plain": [
       "1          COMPLETED\n",
       "2          COMPLETED\n",
       "3          COMPLETED\n",
       "4          COMPLETED\n",
       "5          COMPLETED\n",
       "             ...    \n",
       "7395880    COMPLETED\n",
       "7395881    COMPLETED\n",
       "7395882    COMPLETED\n",
       "7395883    COMPLETED\n",
       "7395884    COMPLETED\n",
       "Name: STATE, Length: 7395234, dtype: object"
      ]
     },
     "execution_count": 157,
     "metadata": {},
     "output_type": "execute_result"
    }
   ],
   "source": [
    "fs_df['STATE'] = fs_df['STATE'].replace({r'CANCELLED by (\\d*)', 'CANCELLED by USER'})\n",
    "fs_df['STATE']"
   ]
  },
  {
   "cell_type": "code",
   "execution_count": 158,
   "id": "0610b85b",
   "metadata": {},
   "outputs": [
    {
     "name": "stderr",
     "output_type": "stream",
     "text": [
      "<ipython-input-158-062ed03d77f6>:1: FutureWarning: Indexing with multiple keys (implicitly converted to a tuple of keys) will be deprecated, use a list instead.\n",
      "  fs_df.groupby('STATE')['PARTITION', 'EXITCODE'].count()\n"
     ]
    },
    {
     "data": {
      "text/html": [
       "<div>\n",
       "<style scoped>\n",
       "    .dataframe tbody tr th:only-of-type {\n",
       "        vertical-align: middle;\n",
       "    }\n",
       "\n",
       "    .dataframe tbody tr th {\n",
       "        vertical-align: top;\n",
       "    }\n",
       "\n",
       "    .dataframe thead th {\n",
       "        text-align: right;\n",
       "    }\n",
       "</style>\n",
       "<table border=\"1\" class=\"dataframe\">\n",
       "  <thead>\n",
       "    <tr style=\"text-align: right;\">\n",
       "      <th></th>\n",
       "      <th>PARTITION</th>\n",
       "      <th>EXITCODE</th>\n",
       "    </tr>\n",
       "    <tr>\n",
       "      <th>STATE</th>\n",
       "      <th></th>\n",
       "      <th></th>\n",
       "    </tr>\n",
       "  </thead>\n",
       "  <tbody>\n",
       "    <tr>\n",
       "      <th>CANCELLED</th>\n",
       "      <td>9055</td>\n",
       "      <td>9055</td>\n",
       "    </tr>\n",
       "    <tr>\n",
       "      <th>CANCELLED by 0</th>\n",
       "      <td>474</td>\n",
       "      <td>474</td>\n",
       "    </tr>\n",
       "    <tr>\n",
       "      <th>CANCELLED by 111694</th>\n",
       "      <td>1</td>\n",
       "      <td>1</td>\n",
       "    </tr>\n",
       "    <tr>\n",
       "      <th>CANCELLED by 160027</th>\n",
       "      <td>1</td>\n",
       "      <td>1</td>\n",
       "    </tr>\n",
       "    <tr>\n",
       "      <th>CANCELLED by 161909</th>\n",
       "      <td>4</td>\n",
       "      <td>4</td>\n",
       "    </tr>\n",
       "    <tr>\n",
       "      <th>...</th>\n",
       "      <td>...</td>\n",
       "      <td>...</td>\n",
       "    </tr>\n",
       "    <tr>\n",
       "      <th>CANCELLED by 9221</th>\n",
       "      <td>71</td>\n",
       "      <td>71</td>\n",
       "    </tr>\n",
       "    <tr>\n",
       "      <th>COMPLETED</th>\n",
       "      <td>7375084</td>\n",
       "      <td>7375084</td>\n",
       "    </tr>\n",
       "    <tr>\n",
       "      <th>FAILED</th>\n",
       "      <td>3766</td>\n",
       "      <td>3766</td>\n",
       "    </tr>\n",
       "    <tr>\n",
       "      <th>NODE_FAIL</th>\n",
       "      <td>2</td>\n",
       "      <td>2</td>\n",
       "    </tr>\n",
       "    <tr>\n",
       "      <th>OUT_OF_MEMORY</th>\n",
       "      <td>1739</td>\n",
       "      <td>1739</td>\n",
       "    </tr>\n",
       "  </tbody>\n",
       "</table>\n",
       "<p>143 rows × 2 columns</p>\n",
       "</div>"
      ],
      "text/plain": [
       "                     PARTITION  EXITCODE\n",
       "STATE                                   \n",
       "CANCELLED                 9055      9055\n",
       "CANCELLED by 0             474       474\n",
       "CANCELLED by 111694          1         1\n",
       "CANCELLED by 160027          1         1\n",
       "CANCELLED by 161909          4         4\n",
       "...                        ...       ...\n",
       "CANCELLED by 9221           71        71\n",
       "COMPLETED              7375084   7375084\n",
       "FAILED                    3766      3766\n",
       "NODE_FAIL                    2         2\n",
       "OUT_OF_MEMORY             1739      1739\n",
       "\n",
       "[143 rows x 2 columns]"
      ]
     },
     "execution_count": 158,
     "metadata": {},
     "output_type": "execute_result"
    }
   ],
   "source": [
    "fs_df.groupby('STATE')['PARTITION', 'EXITCODE'].count()"
   ]
  },
  {
   "cell_type": "code",
   "execution_count": 147,
   "id": "cf1db908",
   "metadata": {},
   "outputs": [
    {
     "name": "stderr",
     "output_type": "stream",
     "text": [
      "<ipython-input-147-603c000bb2cf>:1: FutureWarning: Indexing with multiple keys (implicitly converted to a tuple of keys) will be deprecated, use a list instead.\n",
      "  fs_df.groupby('PARTITION')['STATE', 'EXITCODE'].count()\n"
     ]
    },
    {
     "data": {
      "text/html": [
       "<div>\n",
       "<style scoped>\n",
       "    .dataframe tbody tr th:only-of-type {\n",
       "        vertical-align: middle;\n",
       "    }\n",
       "\n",
       "    .dataframe tbody tr th {\n",
       "        vertical-align: top;\n",
       "    }\n",
       "\n",
       "    .dataframe thead th {\n",
       "        text-align: right;\n",
       "    }\n",
       "</style>\n",
       "<table border=\"1\" class=\"dataframe\">\n",
       "  <thead>\n",
       "    <tr style=\"text-align: right;\">\n",
       "      <th></th>\n",
       "      <th>STATE</th>\n",
       "      <th>EXITCODE</th>\n",
       "    </tr>\n",
       "    <tr>\n",
       "      <th>PARTITION</th>\n",
       "      <th></th>\n",
       "      <th></th>\n",
       "    </tr>\n",
       "  </thead>\n",
       "  <tbody>\n",
       "    <tr>\n",
       "      <th>cgw-capra1</th>\n",
       "      <td>153</td>\n",
       "      <td>153</td>\n",
       "    </tr>\n",
       "    <tr>\n",
       "      <th>cgw-cqs1</th>\n",
       "      <td>28</td>\n",
       "      <td>28</td>\n",
       "    </tr>\n",
       "    <tr>\n",
       "      <th>cgw-dougherty1</th>\n",
       "      <td>125</td>\n",
       "      <td>125</td>\n",
       "    </tr>\n",
       "    <tr>\n",
       "      <th>cgw-dsi-gw</th>\n",
       "      <td>228</td>\n",
       "      <td>228</td>\n",
       "    </tr>\n",
       "    <tr>\n",
       "      <th>cgw-hanuman</th>\n",
       "      <td>21</td>\n",
       "      <td>21</td>\n",
       "    </tr>\n",
       "    <tr>\n",
       "      <th>cgw-horus</th>\n",
       "      <td>61</td>\n",
       "      <td>61</td>\n",
       "    </tr>\n",
       "    <tr>\n",
       "      <th>cgw-maizie</th>\n",
       "      <td>4308</td>\n",
       "      <td>4308</td>\n",
       "    </tr>\n",
       "    <tr>\n",
       "      <th>cgw-platypus</th>\n",
       "      <td>376</td>\n",
       "      <td>376</td>\n",
       "    </tr>\n",
       "    <tr>\n",
       "      <th>cgw-sideshowbob</th>\n",
       "      <td>14</td>\n",
       "      <td>14</td>\n",
       "    </tr>\n",
       "    <tr>\n",
       "      <th>cgw-tbi01</th>\n",
       "      <td>7</td>\n",
       "      <td>7</td>\n",
       "    </tr>\n",
       "    <tr>\n",
       "      <th>cgw-vm-qa-flatearth1</th>\n",
       "      <td>9</td>\n",
       "      <td>9</td>\n",
       "    </tr>\n",
       "    <tr>\n",
       "      <th>debug</th>\n",
       "      <td>1616</td>\n",
       "      <td>1616</td>\n",
       "    </tr>\n",
       "    <tr>\n",
       "      <th>maxwell</th>\n",
       "      <td>11278</td>\n",
       "      <td>11278</td>\n",
       "    </tr>\n",
       "    <tr>\n",
       "      <th>nogpfs</th>\n",
       "      <td>147044</td>\n",
       "      <td>147044</td>\n",
       "    </tr>\n",
       "    <tr>\n",
       "      <th>pascal</th>\n",
       "      <td>124451</td>\n",
       "      <td>124451</td>\n",
       "    </tr>\n",
       "    <tr>\n",
       "      <th>production</th>\n",
       "      <td>7019136</td>\n",
       "      <td>7019136</td>\n",
       "    </tr>\n",
       "    <tr>\n",
       "      <th>sam</th>\n",
       "      <td>64967</td>\n",
       "      <td>64967</td>\n",
       "    </tr>\n",
       "    <tr>\n",
       "      <th>turing</th>\n",
       "      <td>21412</td>\n",
       "      <td>21412</td>\n",
       "    </tr>\n",
       "  </tbody>\n",
       "</table>\n",
       "</div>"
      ],
      "text/plain": [
       "                        STATE  EXITCODE\n",
       "PARTITION                              \n",
       "cgw-capra1                153       153\n",
       "cgw-cqs1                   28        28\n",
       "cgw-dougherty1            125       125\n",
       "cgw-dsi-gw                228       228\n",
       "cgw-hanuman                21        21\n",
       "cgw-horus                  61        61\n",
       "cgw-maizie               4308      4308\n",
       "cgw-platypus              376       376\n",
       "cgw-sideshowbob            14        14\n",
       "cgw-tbi01                   7         7\n",
       "cgw-vm-qa-flatearth1        9         9\n",
       "debug                    1616      1616\n",
       "maxwell                 11278     11278\n",
       "nogpfs                 147044    147044\n",
       "pascal                 124451    124451\n",
       "production            7019136   7019136\n",
       "sam                     64967     64967\n",
       "turing                  21412     21412"
      ]
     },
     "execution_count": 147,
     "metadata": {},
     "output_type": "execute_result"
    }
   ],
   "source": [
    "fs_df.groupby('PARTITION')['STATE', 'EXITCODE'].count()"
   ]
  },
  {
   "cell_type": "code",
   "execution_count": null,
   "id": "4414bcfd",
   "metadata": {},
   "outputs": [],
   "source": []
  },
  {
   "cell_type": "code",
   "execution_count": null,
   "id": "0ccedce7",
   "metadata": {},
   "outputs": [],
   "source": []
  },
  {
   "cell_type": "code",
   "execution_count": null,
   "id": "89d37cab",
   "metadata": {},
   "outputs": [],
   "source": []
  },
  {
   "cell_type": "code",
   "execution_count": null,
   "id": "b46a6000",
   "metadata": {},
   "outputs": [],
   "source": []
  },
  {
   "cell_type": "code",
   "execution_count": null,
   "id": "90124014",
   "metadata": {},
   "outputs": [],
   "source": []
  },
  {
   "cell_type": "markdown",
   "id": "542bd8ba",
   "metadata": {},
   "source": [
    "Next, use the two log files to determine time intervals (hours) when the scheduler was unresponsive. Do this by looking for records that are the \"sbatch\" command from user 9204 that have return code 1 and an execution time of ~20 seconds (at least more than 15). These are commands where the scheduler timed out in responding.\n",
    "\n",
    "3. Calculate some descriptive statistics about how often the scheduler was unresponsive, how long these periods of time were, and create a time series plot of when the scheduler was having difficulties.\n",
    "\n",
    "\n",
    "4. Finally, combine the time series information from the two datasets together to see how well correlated heavy job-completion load is with the unresponsiveness, and to see if there is some threshold of job completions per hour that generally results in unresponsiveness."
   ]
  },
  {
   "cell_type": "code",
   "execution_count": 114,
   "id": "8ed89a18",
   "metadata": {},
   "outputs": [
    {
     "data": {
      "text/plain": [
       "[<matplotlib.lines.Line2D at 0x7fa7207949d0>]"
      ]
     },
     "execution_count": 114,
     "metadata": {},
     "output_type": "execute_result"
    },
    {
     "data": {
      "image/png": "[encoded data removed]",
      "text/plain": [
       "<Figure size 1080x720 with 1 Axes>"
      ]
     },
     "metadata": {
      "needs_background": "light"
     },
     "output_type": "display_data"
    }
   ],
   "source": [
    "begin_load_df = fs_df[fs_df['PARTITION'] == 'production'][['BEGIN']].rename(columns={'BEGIN':'TIME'})\n",
    "begin_load_df['process'] = 1\n",
    "end_load_df = fs_df[fs_df['PARTITION'] == 'production'][['END']].rename(columns={'END':'TIME'})\n",
    "end_load_df['process'] = -1\n",
    "load_df = begin_load_df.append(end_load_df)\n",
    "\n",
    "resample_interval = \"D\" #day\n",
    "fs_ts = pd.Series(list(load_df['process']), index=list(load_df['TIME']))\n",
    "fs_resample = fs_ts.resample(resample_interval).sum().to_frame().cumsum()\n",
    "\n",
    "plt.figure(figsize=(15, 10))\n",
    "fs_ts = pd.Series(list(load_df['process']), index=list(load_df['TIME']))\n",
    "plt.plot(fs_resample.index, fs_resample[0])"
   ]
  },
  {
   "cell_type": "code",
   "execution_count": 6,
   "id": "6529f244",
   "metadata": {},
   "outputs": [],
   "source": [
    "cs5_orig_df = pd.read_csv('../data/ce5_9024_sbatch.csv')\n",
    "cs6_orig_df = pd.read_csv('../data/ce6_9024_sbatch.csv')\n",
    "#cs5_orig_df.head(3)\n",
    "#cs6_orig_df.head(3)"
   ]
  },
  {
   "cell_type": "code",
   "execution_count": 9,
   "id": "7bceeff5",
   "metadata": {},
   "outputs": [],
   "source": [
    "#keeping only these columns \n",
    "cs5_orig_df = cs5_orig_df[['TIME', 'RETRY', 'EXETIME', 'RETURNCODE']]\n",
    "cs6_orig_df = cs6_orig_df[['TIME', 'RETRY', 'EXETIME', 'RETURNCODE']]\n",
    "\n",
    "#kepping only the digit in these columns and changing its type to int\n",
    "cs5_orig_df['RETRY'] = cs5_orig_df['RETRY'].str.extract(r'(\\d)').astype(int)\n",
    "cs6_orig_df['RETRY'] = cs6_orig_df['RETRY'].str.extract(r'(\\d)').astype(int)\n",
    "cs5_orig_df['RETURNCODE'] = cs5_orig_df['RETURNCODE'].str.extract(r'(\\d)').astype(int)\n",
    "cs6_orig_df['RETURNCODE'] = cs6_orig_df['RETURNCODE'].str.extract(r'(\\d)').astype(int)\n",
    "\n",
    "#chnaging the date format \n",
    "cs5_orig_df['TIME'] = pd.to_datetime(cs5_orig_df['TIME'], format='%Y-%m-%dT%H:%M:%S')\n",
    "cs6_orig_df['TIME'] = pd.to_datetime(cs6_orig_df['TIME'], format='%Y-%m-%dT%H:%M:%S')\n",
    "\n",
    "#cs5_orig_df.head(3)\n",
    "#cs6_orig_df.head(3)"
   ]
  },
  {
   "cell_type": "code",
   "execution_count": null,
   "id": "629342b0",
   "metadata": {},
   "outputs": [],
   "source": []
  },
  {
   "cell_type": "code",
   "execution_count": null,
   "id": "aceb6146",
   "metadata": {},
   "outputs": [],
   "source": []
  },
  {
   "cell_type": "code",
   "execution_count": null,
   "id": "e0517ca5",
   "metadata": {},
   "outputs": [],
   "source": []
  },
  {
   "cell_type": "code",
   "execution_count": null,
   "id": "d01fb242",
   "metadata": {},
   "outputs": [],
   "source": []
  },
  {
   "cell_type": "code",
   "execution_count": null,
   "id": "a15756f5",
   "metadata": {},
   "outputs": [],
   "source": []
  },
  {
   "cell_type": "code",
   "execution_count": 34,
   "id": "2005c3a1",
   "metadata": {},
   "outputs": [
    {
     "data": {
      "text/html": [
       "<div>\n",
       "<style scoped>\n",
       "    .dataframe tbody tr th:only-of-type {\n",
       "        vertical-align: middle;\n",
       "    }\n",
       "\n",
       "    .dataframe tbody tr th {\n",
       "        vertical-align: top;\n",
       "    }\n",
       "\n",
       "    .dataframe thead th {\n",
       "        text-align: right;\n",
       "    }\n",
       "</style>\n",
       "<table border=\"1\" class=\"dataframe\">\n",
       "  <thead>\n",
       "    <tr style=\"text-align: right;\">\n",
       "      <th></th>\n",
       "      <th>BEGIN</th>\n",
       "      <th>CPUS</th>\n",
       "      <th>EXITCODE</th>\n",
       "      <th>JOBID</th>\n",
       "      <th>NODES</th>\n",
       "      <th>PARTITION</th>\n",
       "      <th>REQMEM</th>\n",
       "      <th>REQTIME</th>\n",
       "      <th>STATE</th>\n",
       "      <th>USEDMEM</th>\n",
       "      <th>USEDTIME</th>\n",
       "    </tr>\n",
       "    <tr>\n",
       "      <th>PARTITION</th>\n",
       "      <th></th>\n",
       "      <th></th>\n",
       "      <th></th>\n",
       "      <th></th>\n",
       "      <th></th>\n",
       "      <th></th>\n",
       "      <th></th>\n",
       "      <th></th>\n",
       "      <th></th>\n",
       "      <th></th>\n",
       "      <th></th>\n",
       "    </tr>\n",
       "  </thead>\n",
       "  <tbody>\n",
       "    <tr>\n",
       "      <th>cgw-capra1</th>\n",
       "      <td>NaN</td>\n",
       "      <td>NaN</td>\n",
       "      <td>NaN</td>\n",
       "      <td>NaN</td>\n",
       "      <td>NaN</td>\n",
       "      <td>0.002047</td>\n",
       "      <td>NaN</td>\n",
       "      <td>NaN</td>\n",
       "      <td>NaN</td>\n",
       "      <td>NaN</td>\n",
       "      <td>NaN</td>\n",
       "    </tr>\n",
       "    <tr>\n",
       "      <th>cgw-cqs1</th>\n",
       "      <td>NaN</td>\n",
       "      <td>NaN</td>\n",
       "      <td>NaN</td>\n",
       "      <td>NaN</td>\n",
       "      <td>NaN</td>\n",
       "      <td>0.000353</td>\n",
       "      <td>NaN</td>\n",
       "      <td>NaN</td>\n",
       "      <td>NaN</td>\n",
       "      <td>NaN</td>\n",
       "      <td>NaN</td>\n",
       "    </tr>\n",
       "    <tr>\n",
       "      <th>cgw-dougherty1</th>\n",
       "      <td>NaN</td>\n",
       "      <td>NaN</td>\n",
       "      <td>NaN</td>\n",
       "      <td>NaN</td>\n",
       "      <td>NaN</td>\n",
       "      <td>0.001519</td>\n",
       "      <td>NaN</td>\n",
       "      <td>NaN</td>\n",
       "      <td>NaN</td>\n",
       "      <td>NaN</td>\n",
       "      <td>NaN</td>\n",
       "    </tr>\n",
       "    <tr>\n",
       "      <th>cgw-dsi-gw</th>\n",
       "      <td>NaN</td>\n",
       "      <td>NaN</td>\n",
       "      <td>NaN</td>\n",
       "      <td>NaN</td>\n",
       "      <td>NaN</td>\n",
       "      <td>0.003078</td>\n",
       "      <td>NaN</td>\n",
       "      <td>NaN</td>\n",
       "      <td>NaN</td>\n",
       "      <td>NaN</td>\n",
       "      <td>NaN</td>\n",
       "    </tr>\n",
       "    <tr>\n",
       "      <th>cgw-hanuman</th>\n",
       "      <td>NaN</td>\n",
       "      <td>NaN</td>\n",
       "      <td>NaN</td>\n",
       "      <td>NaN</td>\n",
       "      <td>NaN</td>\n",
       "      <td>0.000285</td>\n",
       "      <td>NaN</td>\n",
       "      <td>NaN</td>\n",
       "      <td>NaN</td>\n",
       "      <td>NaN</td>\n",
       "      <td>NaN</td>\n",
       "    </tr>\n",
       "    <tr>\n",
       "      <th>cgw-horus</th>\n",
       "      <td>NaN</td>\n",
       "      <td>NaN</td>\n",
       "      <td>NaN</td>\n",
       "      <td>NaN</td>\n",
       "      <td>NaN</td>\n",
       "      <td>0.000827</td>\n",
       "      <td>NaN</td>\n",
       "      <td>NaN</td>\n",
       "      <td>NaN</td>\n",
       "      <td>NaN</td>\n",
       "      <td>NaN</td>\n",
       "    </tr>\n",
       "    <tr>\n",
       "      <th>cgw-maizie</th>\n",
       "      <td>NaN</td>\n",
       "      <td>NaN</td>\n",
       "      <td>NaN</td>\n",
       "      <td>NaN</td>\n",
       "      <td>NaN</td>\n",
       "      <td>0.057830</td>\n",
       "      <td>NaN</td>\n",
       "      <td>NaN</td>\n",
       "      <td>NaN</td>\n",
       "      <td>NaN</td>\n",
       "      <td>NaN</td>\n",
       "    </tr>\n",
       "    <tr>\n",
       "      <th>cgw-platypus</th>\n",
       "      <td>NaN</td>\n",
       "      <td>NaN</td>\n",
       "      <td>NaN</td>\n",
       "      <td>NaN</td>\n",
       "      <td>NaN</td>\n",
       "      <td>0.005030</td>\n",
       "      <td>NaN</td>\n",
       "      <td>NaN</td>\n",
       "      <td>NaN</td>\n",
       "      <td>NaN</td>\n",
       "      <td>NaN</td>\n",
       "    </tr>\n",
       "    <tr>\n",
       "      <th>cgw-sideshowbob</th>\n",
       "      <td>NaN</td>\n",
       "      <td>NaN</td>\n",
       "      <td>NaN</td>\n",
       "      <td>NaN</td>\n",
       "      <td>NaN</td>\n",
       "      <td>0.000176</td>\n",
       "      <td>NaN</td>\n",
       "      <td>NaN</td>\n",
       "      <td>NaN</td>\n",
       "      <td>NaN</td>\n",
       "      <td>NaN</td>\n",
       "    </tr>\n",
       "    <tr>\n",
       "      <th>cgw-tbi01</th>\n",
       "      <td>NaN</td>\n",
       "      <td>NaN</td>\n",
       "      <td>NaN</td>\n",
       "      <td>NaN</td>\n",
       "      <td>NaN</td>\n",
       "      <td>0.000095</td>\n",
       "      <td>NaN</td>\n",
       "      <td>NaN</td>\n",
       "      <td>NaN</td>\n",
       "      <td>NaN</td>\n",
       "      <td>NaN</td>\n",
       "    </tr>\n",
       "    <tr>\n",
       "      <th>cgw-vm-qa-flatearth1</th>\n",
       "      <td>NaN</td>\n",
       "      <td>NaN</td>\n",
       "      <td>NaN</td>\n",
       "      <td>NaN</td>\n",
       "      <td>NaN</td>\n",
       "      <td>0.000122</td>\n",
       "      <td>NaN</td>\n",
       "      <td>NaN</td>\n",
       "      <td>NaN</td>\n",
       "      <td>NaN</td>\n",
       "      <td>NaN</td>\n",
       "    </tr>\n",
       "    <tr>\n",
       "      <th>debug</th>\n",
       "      <td>NaN</td>\n",
       "      <td>NaN</td>\n",
       "      <td>NaN</td>\n",
       "      <td>NaN</td>\n",
       "      <td>NaN</td>\n",
       "      <td>0.019444</td>\n",
       "      <td>NaN</td>\n",
       "      <td>NaN</td>\n",
       "      <td>NaN</td>\n",
       "      <td>NaN</td>\n",
       "      <td>NaN</td>\n",
       "    </tr>\n",
       "    <tr>\n",
       "      <th>maxwell</th>\n",
       "      <td>NaN</td>\n",
       "      <td>NaN</td>\n",
       "      <td>NaN</td>\n",
       "      <td>NaN</td>\n",
       "      <td>NaN</td>\n",
       "      <td>0.148880</td>\n",
       "      <td>NaN</td>\n",
       "      <td>NaN</td>\n",
       "      <td>NaN</td>\n",
       "      <td>NaN</td>\n",
       "      <td>NaN</td>\n",
       "    </tr>\n",
       "    <tr>\n",
       "      <th>nogpfs</th>\n",
       "      <td>NaN</td>\n",
       "      <td>NaN</td>\n",
       "      <td>NaN</td>\n",
       "      <td>NaN</td>\n",
       "      <td>NaN</td>\n",
       "      <td>1.988574</td>\n",
       "      <td>NaN</td>\n",
       "      <td>NaN</td>\n",
       "      <td>NaN</td>\n",
       "      <td>NaN</td>\n",
       "      <td>NaN</td>\n",
       "    </tr>\n",
       "    <tr>\n",
       "      <th>pascal</th>\n",
       "      <td>NaN</td>\n",
       "      <td>NaN</td>\n",
       "      <td>NaN</td>\n",
       "      <td>NaN</td>\n",
       "      <td>NaN</td>\n",
       "      <td>1.667276</td>\n",
       "      <td>NaN</td>\n",
       "      <td>NaN</td>\n",
       "      <td>NaN</td>\n",
       "      <td>NaN</td>\n",
       "      <td>NaN</td>\n",
       "    </tr>\n",
       "    <tr>\n",
       "      <th>production</th>\n",
       "      <td>NaN</td>\n",
       "      <td>NaN</td>\n",
       "      <td>NaN</td>\n",
       "      <td>NaN</td>\n",
       "      <td>NaN</td>\n",
       "      <td>94.943759</td>\n",
       "      <td>NaN</td>\n",
       "      <td>NaN</td>\n",
       "      <td>NaN</td>\n",
       "      <td>NaN</td>\n",
       "      <td>NaN</td>\n",
       "    </tr>\n",
       "    <tr>\n",
       "      <th>sam</th>\n",
       "      <td>NaN</td>\n",
       "      <td>NaN</td>\n",
       "      <td>NaN</td>\n",
       "      <td>NaN</td>\n",
       "      <td>NaN</td>\n",
       "      <td>0.880871</td>\n",
       "      <td>NaN</td>\n",
       "      <td>NaN</td>\n",
       "      <td>NaN</td>\n",
       "      <td>NaN</td>\n",
       "      <td>NaN</td>\n",
       "    </tr>\n",
       "    <tr>\n",
       "      <th>turing</th>\n",
       "      <td>NaN</td>\n",
       "      <td>NaN</td>\n",
       "      <td>NaN</td>\n",
       "      <td>NaN</td>\n",
       "      <td>NaN</td>\n",
       "      <td>0.279834</td>\n",
       "      <td>NaN</td>\n",
       "      <td>NaN</td>\n",
       "      <td>NaN</td>\n",
       "      <td>NaN</td>\n",
       "      <td>NaN</td>\n",
       "    </tr>\n",
       "  </tbody>\n",
       "</table>\n",
       "</div>"
      ],
      "text/plain": [
       "                      BEGIN  CPUS  EXITCODE  JOBID  NODES  PARTITION  REQMEM  \\\n",
       "PARTITION                                                                      \n",
       "cgw-capra1              NaN   NaN       NaN    NaN    NaN   0.002047     NaN   \n",
       "cgw-cqs1                NaN   NaN       NaN    NaN    NaN   0.000353     NaN   \n",
       "cgw-dougherty1          NaN   NaN       NaN    NaN    NaN   0.001519     NaN   \n",
       "cgw-dsi-gw              NaN   NaN       NaN    NaN    NaN   0.003078     NaN   \n",
       "cgw-hanuman             NaN   NaN       NaN    NaN    NaN   0.000285     NaN   \n",
       "cgw-horus               NaN   NaN       NaN    NaN    NaN   0.000827     NaN   \n",
       "cgw-maizie              NaN   NaN       NaN    NaN    NaN   0.057830     NaN   \n",
       "cgw-platypus            NaN   NaN       NaN    NaN    NaN   0.005030     NaN   \n",
       "cgw-sideshowbob         NaN   NaN       NaN    NaN    NaN   0.000176     NaN   \n",
       "cgw-tbi01               NaN   NaN       NaN    NaN    NaN   0.000095     NaN   \n",
       "cgw-vm-qa-flatearth1    NaN   NaN       NaN    NaN    NaN   0.000122     NaN   \n",
       "debug                   NaN   NaN       NaN    NaN    NaN   0.019444     NaN   \n",
       "maxwell                 NaN   NaN       NaN    NaN    NaN   0.148880     NaN   \n",
       "nogpfs                  NaN   NaN       NaN    NaN    NaN   1.988574     NaN   \n",
       "pascal                  NaN   NaN       NaN    NaN    NaN   1.667276     NaN   \n",
       "production              NaN   NaN       NaN    NaN    NaN  94.943759     NaN   \n",
       "sam                     NaN   NaN       NaN    NaN    NaN   0.880871     NaN   \n",
       "turing                  NaN   NaN       NaN    NaN    NaN   0.279834     NaN   \n",
       "\n",
       "                      REQTIME  STATE  USEDMEM  USEDTIME  \n",
       "PARTITION                                                \n",
       "cgw-capra1                NaN    NaN      NaN       NaN  \n",
       "cgw-cqs1                  NaN    NaN      NaN       NaN  \n",
       "cgw-dougherty1            NaN    NaN      NaN       NaN  \n",
       "cgw-dsi-gw                NaN    NaN      NaN       NaN  \n",
       "cgw-hanuman               NaN    NaN      NaN       NaN  \n",
       "cgw-horus                 NaN    NaN      NaN       NaN  \n",
       "cgw-maizie                NaN    NaN      NaN       NaN  \n",
       "cgw-platypus              NaN    NaN      NaN       NaN  \n",
       "cgw-sideshowbob           NaN    NaN      NaN       NaN  \n",
       "cgw-tbi01                 NaN    NaN      NaN       NaN  \n",
       "cgw-vm-qa-flatearth1      NaN    NaN      NaN       NaN  \n",
       "debug                     NaN    NaN      NaN       NaN  \n",
       "maxwell                   NaN    NaN      NaN       NaN  \n",
       "nogpfs                    NaN    NaN      NaN       NaN  \n",
       "pascal                    NaN    NaN      NaN       NaN  \n",
       "production                NaN    NaN      NaN       NaN  \n",
       "sam                       NaN    NaN      NaN       NaN  \n",
       "turing                    NaN    NaN      NaN       NaN  "
      ]
     },
     "execution_count": 34,
     "metadata": {},
     "output_type": "execute_result"
    }
   ],
   "source": [
    "#Completed Jobs by Partition\n",
    "((completed.groupby('PARTITION').agg({'PARTITION':'count'}))/completed.count())*100"
   ]
  },
  {
   "cell_type": "code",
   "execution_count": 35,
   "id": "20da4b37",
   "metadata": {},
   "outputs": [
    {
     "data": {
      "text/html": [
       "<div>\n",
       "<style scoped>\n",
       "    .dataframe tbody tr th:only-of-type {\n",
       "        vertical-align: middle;\n",
       "    }\n",
       "\n",
       "    .dataframe tbody tr th {\n",
       "        vertical-align: top;\n",
       "    }\n",
       "\n",
       "    .dataframe thead th {\n",
       "        text-align: right;\n",
       "    }\n",
       "</style>\n",
       "<table border=\"1\" class=\"dataframe\">\n",
       "  <thead>\n",
       "    <tr style=\"text-align: right;\">\n",
       "      <th></th>\n",
       "      <th>STATE</th>\n",
       "    </tr>\n",
       "    <tr>\n",
       "      <th>STATE</th>\n",
       "      <th></th>\n",
       "    </tr>\n",
       "  </thead>\n",
       "  <tbody>\n",
       "    <tr>\n",
       "      <th>CANCELLED</th>\n",
       "      <td>9055</td>\n",
       "    </tr>\n",
       "    <tr>\n",
       "      <th>CANCELLED by 0</th>\n",
       "      <td>474</td>\n",
       "    </tr>\n",
       "    <tr>\n",
       "      <th>CANCELLED by 111694</th>\n",
       "      <td>1</td>\n",
       "    </tr>\n",
       "    <tr>\n",
       "      <th>CANCELLED by 160027</th>\n",
       "      <td>1</td>\n",
       "    </tr>\n",
       "    <tr>\n",
       "      <th>CANCELLED by 161909</th>\n",
       "      <td>4</td>\n",
       "    </tr>\n",
       "    <tr>\n",
       "      <th>...</th>\n",
       "      <td>...</td>\n",
       "    </tr>\n",
       "    <tr>\n",
       "      <th>CANCELLED by 9221</th>\n",
       "      <td>71</td>\n",
       "    </tr>\n",
       "    <tr>\n",
       "      <th>COMPLETED</th>\n",
       "      <td>7375084</td>\n",
       "    </tr>\n",
       "    <tr>\n",
       "      <th>FAILED</th>\n",
       "      <td>3766</td>\n",
       "    </tr>\n",
       "    <tr>\n",
       "      <th>NODE_FAIL</th>\n",
       "      <td>2</td>\n",
       "    </tr>\n",
       "    <tr>\n",
       "      <th>OUT_OF_MEMORY</th>\n",
       "      <td>1739</td>\n",
       "    </tr>\n",
       "  </tbody>\n",
       "</table>\n",
       "<p>143 rows × 1 columns</p>\n",
       "</div>"
      ],
      "text/plain": [
       "                       STATE\n",
       "STATE                       \n",
       "CANCELLED               9055\n",
       "CANCELLED by 0           474\n",
       "CANCELLED by 111694        1\n",
       "CANCELLED by 160027        1\n",
       "CANCELLED by 161909        4\n",
       "...                      ...\n",
       "CANCELLED by 9221         71\n",
       "COMPLETED            7375084\n",
       "FAILED                  3766\n",
       "NODE_FAIL                  2\n",
       "OUT_OF_MEMORY           1739\n",
       "\n",
       "[143 rows x 1 columns]"
      ]
     },
     "execution_count": 35,
     "metadata": {},
     "output_type": "execute_result"
    }
   ],
   "source": [
    "fs_df.groupby('STATE').agg({'STATE':'count'})"
   ]
  }
 ],
 "metadata": {
  "kernelspec": {
   "display_name": "Python 3",
   "language": "python",
   "name": "python3"
  },
  "language_info": {
   "codemirror_mode": {
    "name": "ipython",
    "version": 3
   },
   "file_extension": ".py",
   "mimetype": "text/x-python",
   "name": "python",
   "nbconvert_exporter": "python",
   "pygments_lexer": "ipython3",
   "version": "3.8.8"
  }
 },
 "nbformat": 4,
 "nbformat_minor": 5
}
