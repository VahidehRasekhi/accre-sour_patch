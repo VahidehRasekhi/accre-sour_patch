{
 "cells": [
  {
   "cell_type": "markdown",
   "id": "a0219214",
   "metadata": {},
   "source": [
    "# The Advanced Computing Center for Research and Education\n",
    "The Advanced Computing Center for Research and Education (ACCRE) is a computer cluster serving the high-performance computing needs of research for Vanderbilt University. In this data question, you will be analyzing data on jobs run on ACCRE's hardware.\n",
    "\n",
    "When a job is submitted to ACCRE, it goes through the slurm scheduler, which tracks and manages compute and memory resources. It is hypothesized that the slurm scheduler is processing so many job completions so frequently that it sometimes becomes unresponsive to commands from users trying to schedule new jobs or check job status. This is a particularly bad problem for clients who use automated submission systems, such as members of the Open Science Grid. The goal of this project is to investigate and potentially confirm that hypothesis that lots of job completions in a short time period are causing the scheduler to be unresponsive, and determine the rough threshold at which it becomes an issue.\n",
    "\n",
    "You have been provided three datasets for this task:\n",
    "\n",
    "- fullsample.csv: This file contains output for jobs run through the slurm scheduler.\n",
    "- slurm_wrapper_ce5.log and slurm_wrapper_ce6.log: Logs of every slurm command that a pair of servers, ce5 and ce6, executed, how long it took, and if it succeeded. These servers connect ACCRE's local cluster to the Open Science Grid and submit jobs to slurm on behalf of the grid.\n",
    "\n",
    "To get started, answer the following questions using just the fullsample.csv jobs dataset:\n",
    "\n",
    "1. Calculate some descriptive statistics for how many jobs per hour are being completed. What does the completions per hour look like over the time span of the dataset? Are there weekly trends, and has it been increasing over the last year?\n",
    "\n",
    "\n",
    "2. Does the job state affect completions per hour? i.e. if I only look at jobs with exit code 0:0 in the \"COMPLETED\" state, is that a similar number of completions per hour as with all jobs, failed or cancelled? This will indicate if the load on the scheduler is by user design or is a result of users not sufficiently testing their jobs before submitting very large arrays. We also expect that most job completions will be in the \"production\" partition, but is this actually true?\n",
    "\n"
   ]
  },
  {
   "cell_type": "code",
   "execution_count": 1,
   "id": "3c764bf3",
   "metadata": {},
   "outputs": [],
   "source": [
    "import pandas as pd\n",
    "import numpy as np\n",
    "import matplotlib.pyplot as plt\n",
    "import matplotlib.ticker as ticker\n",
    "import seaborn as sns\n",
    "import statsmodels.api as sm\n",
    "import matplotlib.pyplot as plt\n",
    "from datetime import timedelta, datetime\n",
    "import calendar\n",
    "import re\n",
    "import math"
   ]
  },
  {
   "cell_type": "code",
   "execution_count": 2,
   "id": "b7ca98bc",
   "metadata": {},
   "outputs": [],
   "source": [
    "#readind data \n",
    "fs_df = pd.read_csv('../data/fullsample.csv')\n",
    "fs_df = fs_df[fs_df['END'] != 'Unknown'] # drop these 651 rows, all have EXITCODE 0:0\n",
    "\n",
    "#change the format of the date/time\n",
    "fs_df['BEGIN'] = pd.to_datetime(fs_df['BEGIN'], format='%Y-%m-%dT%H:%M:%S')\n",
    "fs_df['END'] = pd.to_datetime(fs_df['END'], format='%Y-%m-%dT%H:%M:%S')\n",
    "#fs_df.head(3)"
   ]
  },
  {
   "cell_type": "code",
   "execution_count": 3,
   "id": "00797abd",
   "metadata": {},
   "outputs": [],
   "source": [
    "#change the format of requested memory and chnage its type to int\n",
    "fs_df['REQMEM'] = fs_df['REQMEM'].str[0:-2].astype('int')\n",
    "\n",
    "#change the used momory \n",
    "fs_df['USEDMEM'] = fs_df['USEDMEM'].apply(lambda x: x[0:-1] if x[-1] == 'M' else '0', ).astype(float)\n",
    "#fs_df.head(3)"
   ]
  },
  {
   "cell_type": "code",
   "execution_count": 4,
   "id": "56861779",
   "metadata": {},
   "outputs": [
    {
     "name": "stdout",
     "output_type": "stream",
     "text": [
      "<class 'pandas.core.frame.DataFrame'>\n",
      "Int64Index: 7395234 entries, 1 to 7395884\n",
      "Data columns (total 12 columns):\n",
      " #   Column     Dtype         \n",
      "---  ------     -----         \n",
      " 0   JOBID      object        \n",
      " 1   STATE      object        \n",
      " 2   BEGIN      datetime64[ns]\n",
      " 3   END        datetime64[ns]\n",
      " 4   REQMEM     int64         \n",
      " 5   USEDMEM    float64       \n",
      " 6   REQTIME    object        \n",
      " 7   USEDTIME   object        \n",
      " 8   NODES      int64         \n",
      " 9   CPUS       int64         \n",
      " 10  PARTITION  object        \n",
      " 11  EXITCODE   object        \n",
      "dtypes: datetime64[ns](2), float64(1), int64(3), object(6)\n",
      "memory usage: 733.5+ MB\n"
     ]
    }
   ],
   "source": [
    "fs_df.info()"
   ]
  },
  {
   "cell_type": "code",
   "execution_count": 5,
   "id": "605612e8",
   "metadata": {},
   "outputs": [],
   "source": [
    "#read the data into a df\n",
    "fs_df.to_csv('../data/fs_df.csv', index= False)"
   ]
  },
  {
   "cell_type": "code",
   "execution_count": 6,
   "id": "a6a7e16a",
   "metadata": {},
   "outputs": [
    {
     "data": {
      "text/html": [
       "<div>\n",
       "<style scoped>\n",
       "    .dataframe tbody tr th:only-of-type {\n",
       "        vertical-align: middle;\n",
       "    }\n",
       "\n",
       "    .dataframe tbody tr th {\n",
       "        vertical-align: top;\n",
       "    }\n",
       "\n",
       "    .dataframe thead th {\n",
       "        text-align: right;\n",
       "    }\n",
       "</style>\n",
       "<table border=\"1\" class=\"dataframe\">\n",
       "  <thead>\n",
       "    <tr style=\"text-align: right;\">\n",
       "      <th></th>\n",
       "      <th>JOBID</th>\n",
       "      <th>STATE</th>\n",
       "      <th>BEGIN</th>\n",
       "      <th>REQMEM</th>\n",
       "      <th>USEDMEM</th>\n",
       "      <th>REQTIME</th>\n",
       "      <th>USEDTIME</th>\n",
       "      <th>NODES</th>\n",
       "      <th>CPUS</th>\n",
       "      <th>PARTITION</th>\n",
       "      <th>EXITCODE</th>\n",
       "    </tr>\n",
       "    <tr>\n",
       "      <th>END</th>\n",
       "      <th></th>\n",
       "      <th></th>\n",
       "      <th></th>\n",
       "      <th></th>\n",
       "      <th></th>\n",
       "      <th></th>\n",
       "      <th></th>\n",
       "      <th></th>\n",
       "      <th></th>\n",
       "      <th></th>\n",
       "      <th></th>\n",
       "    </tr>\n",
       "  </thead>\n",
       "  <tbody>\n",
       "    <tr>\n",
       "      <th>2021-09-05 11:36:32</th>\n",
       "      <td>30853133</td>\n",
       "      <td>COMPLETED</td>\n",
       "      <td>2021-08-06 11:36:09</td>\n",
       "      <td>262144</td>\n",
       "      <td>20604.62</td>\n",
       "      <td>30-00:00:00</td>\n",
       "      <td>30-00:00:23</td>\n",
       "      <td>1</td>\n",
       "      <td>1</td>\n",
       "      <td>cgw-platypus</td>\n",
       "      <td>0:0</td>\n",
       "    </tr>\n",
       "    <tr>\n",
       "      <th>2021-09-05 19:04:53</th>\n",
       "      <td>30858137</td>\n",
       "      <td>COMPLETED</td>\n",
       "      <td>2021-08-06 19:04:39</td>\n",
       "      <td>204800</td>\n",
       "      <td>57553.77</td>\n",
       "      <td>30-00:00:00</td>\n",
       "      <td>30-00:00:14</td>\n",
       "      <td>1</td>\n",
       "      <td>32</td>\n",
       "      <td>cgw-tbi01</td>\n",
       "      <td>0:0</td>\n",
       "    </tr>\n",
       "    <tr>\n",
       "      <th>2021-09-07 20:52:55</th>\n",
       "      <td>30935078</td>\n",
       "      <td>COMPLETED</td>\n",
       "      <td>2021-08-09 16:52:51</td>\n",
       "      <td>65536</td>\n",
       "      <td>20577.96</td>\n",
       "      <td>29-04:00:00</td>\n",
       "      <td>29-04:00:04</td>\n",
       "      <td>1</td>\n",
       "      <td>8</td>\n",
       "      <td>cgw-platypus</td>\n",
       "      <td>0:0</td>\n",
       "    </tr>\n",
       "  </tbody>\n",
       "</table>\n",
       "</div>"
      ],
      "text/plain": [
       "                        JOBID      STATE               BEGIN  REQMEM  \\\n",
       "END                                                                    \n",
       "2021-09-05 11:36:32  30853133  COMPLETED 2021-08-06 11:36:09  262144   \n",
       "2021-09-05 19:04:53  30858137  COMPLETED 2021-08-06 19:04:39  204800   \n",
       "2021-09-07 20:52:55  30935078  COMPLETED 2021-08-09 16:52:51   65536   \n",
       "\n",
       "                      USEDMEM      REQTIME     USEDTIME  NODES  CPUS  \\\n",
       "END                                                                    \n",
       "2021-09-05 11:36:32  20604.62  30-00:00:00  30-00:00:23      1     1   \n",
       "2021-09-05 19:04:53  57553.77  30-00:00:00  30-00:00:14      1    32   \n",
       "2021-09-07 20:52:55  20577.96  29-04:00:00  29-04:00:04      1     8   \n",
       "\n",
       "                        PARTITION EXITCODE  \n",
       "END                                         \n",
       "2021-09-05 11:36:32  cgw-platypus      0:0  \n",
       "2021-09-05 19:04:53     cgw-tbi01      0:0  \n",
       "2021-09-07 20:52:55  cgw-platypus      0:0  "
      ]
     },
     "execution_count": 6,
     "metadata": {},
     "output_type": "execute_result"
    }
   ],
   "source": [
    "#setting the index to END\n",
    "end_time=fs_df.set_index('END')\n",
    "end_time.head(3)"
   ]
  },
  {
   "cell_type": "code",
   "execution_count": 7,
   "id": "a6aeb7ab",
   "metadata": {},
   "outputs": [
    {
     "data": {
      "text/html": [
       "<div>\n",
       "<style scoped>\n",
       "    .dataframe tbody tr th:only-of-type {\n",
       "        vertical-align: middle;\n",
       "    }\n",
       "\n",
       "    .dataframe tbody tr th {\n",
       "        vertical-align: top;\n",
       "    }\n",
       "\n",
       "    .dataframe thead th {\n",
       "        text-align: right;\n",
       "    }\n",
       "</style>\n",
       "<table border=\"1\" class=\"dataframe\">\n",
       "  <thead>\n",
       "    <tr style=\"text-align: right;\">\n",
       "      <th></th>\n",
       "      <th>JOBID</th>\n",
       "      <th>STATE</th>\n",
       "      <th>BEGIN</th>\n",
       "      <th>REQMEM</th>\n",
       "      <th>USEDMEM</th>\n",
       "      <th>REQTIME</th>\n",
       "      <th>USEDTIME</th>\n",
       "      <th>NODES</th>\n",
       "      <th>CPUS</th>\n",
       "      <th>PARTITION</th>\n",
       "      <th>EXITCODE</th>\n",
       "    </tr>\n",
       "    <tr>\n",
       "      <th>END</th>\n",
       "      <th></th>\n",
       "      <th></th>\n",
       "      <th></th>\n",
       "      <th></th>\n",
       "      <th></th>\n",
       "      <th></th>\n",
       "      <th></th>\n",
       "      <th></th>\n",
       "      <th></th>\n",
       "      <th></th>\n",
       "      <th></th>\n",
       "    </tr>\n",
       "  </thead>\n",
       "  <tbody>\n",
       "    <tr>\n",
       "      <th>2021-09-05 11:36:32</th>\n",
       "      <td>30853133</td>\n",
       "      <td>COMPLETED</td>\n",
       "      <td>2021-08-06 11:36:09</td>\n",
       "      <td>262144</td>\n",
       "      <td>20604.62</td>\n",
       "      <td>30-00:00:00</td>\n",
       "      <td>30-00:00:23</td>\n",
       "      <td>1</td>\n",
       "      <td>1</td>\n",
       "      <td>cgw-platypus</td>\n",
       "      <td>0:0</td>\n",
       "    </tr>\n",
       "    <tr>\n",
       "      <th>2021-09-05 19:04:53</th>\n",
       "      <td>30858137</td>\n",
       "      <td>COMPLETED</td>\n",
       "      <td>2021-08-06 19:04:39</td>\n",
       "      <td>204800</td>\n",
       "      <td>57553.77</td>\n",
       "      <td>30-00:00:00</td>\n",
       "      <td>30-00:00:14</td>\n",
       "      <td>1</td>\n",
       "      <td>32</td>\n",
       "      <td>cgw-tbi01</td>\n",
       "      <td>0:0</td>\n",
       "    </tr>\n",
       "    <tr>\n",
       "      <th>2021-09-07 20:52:55</th>\n",
       "      <td>30935078</td>\n",
       "      <td>COMPLETED</td>\n",
       "      <td>2021-08-09 16:52:51</td>\n",
       "      <td>65536</td>\n",
       "      <td>20577.96</td>\n",
       "      <td>29-04:00:00</td>\n",
       "      <td>29-04:00:04</td>\n",
       "      <td>1</td>\n",
       "      <td>8</td>\n",
       "      <td>cgw-platypus</td>\n",
       "      <td>0:0</td>\n",
       "    </tr>\n",
       "  </tbody>\n",
       "</table>\n",
       "</div>"
      ],
      "text/plain": [
       "                        JOBID      STATE               BEGIN  REQMEM  \\\n",
       "END                                                                    \n",
       "2021-09-05 11:36:32  30853133  COMPLETED 2021-08-06 11:36:09  262144   \n",
       "2021-09-05 19:04:53  30858137  COMPLETED 2021-08-06 19:04:39  204800   \n",
       "2021-09-07 20:52:55  30935078  COMPLETED 2021-08-09 16:52:51   65536   \n",
       "\n",
       "                      USEDMEM      REQTIME     USEDTIME  NODES  CPUS  \\\n",
       "END                                                                    \n",
       "2021-09-05 11:36:32  20604.62  30-00:00:00  30-00:00:23      1     1   \n",
       "2021-09-05 19:04:53  57553.77  30-00:00:00  30-00:00:14      1    32   \n",
       "2021-09-07 20:52:55  20577.96  29-04:00:00  29-04:00:04      1     8   \n",
       "\n",
       "                        PARTITION EXITCODE  \n",
       "END                                         \n",
       "2021-09-05 11:36:32  cgw-platypus      0:0  \n",
       "2021-09-05 19:04:53     cgw-tbi01      0:0  \n",
       "2021-09-07 20:52:55  cgw-platypus      0:0  "
      ]
     },
     "execution_count": 7,
     "metadata": {},
     "output_type": "execute_result"
    }
   ],
   "source": [
    "#subsetting the data to the completed ones \n",
    "completed=end_time.loc[end_time['STATE']=='COMPLETED']\n",
    "completed.head(3)"
   ]
  },
  {
   "cell_type": "code",
   "execution_count": 8,
   "id": "9c39e2db",
   "metadata": {},
   "outputs": [
    {
     "data": {
      "text/plain": [
       "END\n",
       "2020-10-01    33263\n",
       "2020-10-02    30356\n",
       "2020-10-03    15346\n",
       "2020-10-04    17532\n",
       "2020-10-05    24119\n",
       "              ...  \n",
       "2021-10-03     1561\n",
       "2021-10-04      614\n",
       "2021-10-05      727\n",
       "2021-10-06      265\n",
       "2021-10-07      320\n",
       "Freq: D, Name: JOBID, Length: 372, dtype: int64"
      ]
     },
     "execution_count": 8,
     "metadata": {},
     "output_type": "execute_result"
    }
   ],
   "source": [
    "#completed number of jobs in 24 hours \n",
    "completed['JOBID'].resample(pd.Timedelta('24 hours')).count()"
   ]
  },
  {
   "cell_type": "code",
   "execution_count": 9,
   "id": "db603d6d",
   "metadata": {},
   "outputs": [
    {
     "data": {
      "text/plain": [
       "END\n",
       "2020-10-01 00:00:00     421\n",
       "2020-10-01 01:00:00    1080\n",
       "2020-10-01 02:00:00    1137\n",
       "2020-10-01 03:00:00    1018\n",
       "2020-10-01 04:00:00    1244\n",
       "                       ... \n",
       "2021-10-07 16:00:00       8\n",
       "2021-10-07 17:00:00       8\n",
       "2021-10-07 18:00:00       8\n",
       "2021-10-07 19:00:00       8\n",
       "2021-10-07 20:00:00       6\n",
       "Freq: H, Name: JOBID, Length: 8925, dtype: int64"
      ]
     },
     "execution_count": 9,
     "metadata": {},
     "output_type": "execute_result"
    }
   ],
   "source": [
    "#completed number of jobs in 1 hour\n",
    "completed['JOBID'].resample(pd.Timedelta('1 hour')).count()"
   ]
  },
  {
   "cell_type": "code",
   "execution_count": 10,
   "id": "44c76ff4",
   "metadata": {
    "scrolled": true
   },
   "outputs": [
    {
     "data": {
      "text/html": [
       "<div>\n",
       "<style scoped>\n",
       "    .dataframe tbody tr th:only-of-type {\n",
       "        vertical-align: middle;\n",
       "    }\n",
       "\n",
       "    .dataframe tbody tr th {\n",
       "        vertical-align: top;\n",
       "    }\n",
       "\n",
       "    .dataframe thead th {\n",
       "        text-align: right;\n",
       "    }\n",
       "</style>\n",
       "<table border=\"1\" class=\"dataframe\">\n",
       "  <thead>\n",
       "    <tr style=\"text-align: right;\">\n",
       "      <th></th>\n",
       "      <th>JOBID</th>\n",
       "      <th>STATE</th>\n",
       "      <th>BEGIN</th>\n",
       "      <th>REQMEM</th>\n",
       "      <th>USEDMEM</th>\n",
       "      <th>REQTIME</th>\n",
       "      <th>USEDTIME</th>\n",
       "      <th>NODES</th>\n",
       "      <th>CPUS</th>\n",
       "      <th>PARTITION</th>\n",
       "      <th>EXITCODE</th>\n",
       "    </tr>\n",
       "    <tr>\n",
       "      <th>END</th>\n",
       "      <th></th>\n",
       "      <th></th>\n",
       "      <th></th>\n",
       "      <th></th>\n",
       "      <th></th>\n",
       "      <th></th>\n",
       "      <th></th>\n",
       "      <th></th>\n",
       "      <th></th>\n",
       "      <th></th>\n",
       "      <th></th>\n",
       "    </tr>\n",
       "  </thead>\n",
       "  <tbody>\n",
       "    <tr>\n",
       "      <th>2020-10-01 00:00:00</th>\n",
       "      <td>421</td>\n",
       "      <td>421</td>\n",
       "      <td>421</td>\n",
       "      <td>421</td>\n",
       "      <td>421</td>\n",
       "      <td>421</td>\n",
       "      <td>421</td>\n",
       "      <td>421</td>\n",
       "      <td>421</td>\n",
       "      <td>421</td>\n",
       "      <td>421</td>\n",
       "    </tr>\n",
       "    <tr>\n",
       "      <th>2020-10-01 01:00:00</th>\n",
       "      <td>1080</td>\n",
       "      <td>1080</td>\n",
       "      <td>1080</td>\n",
       "      <td>1080</td>\n",
       "      <td>1080</td>\n",
       "      <td>1080</td>\n",
       "      <td>1080</td>\n",
       "      <td>1080</td>\n",
       "      <td>1080</td>\n",
       "      <td>1080</td>\n",
       "      <td>1080</td>\n",
       "    </tr>\n",
       "    <tr>\n",
       "      <th>2020-10-01 02:00:00</th>\n",
       "      <td>1137</td>\n",
       "      <td>1137</td>\n",
       "      <td>1137</td>\n",
       "      <td>1137</td>\n",
       "      <td>1137</td>\n",
       "      <td>1137</td>\n",
       "      <td>1137</td>\n",
       "      <td>1137</td>\n",
       "      <td>1137</td>\n",
       "      <td>1137</td>\n",
       "      <td>1137</td>\n",
       "    </tr>\n",
       "  </tbody>\n",
       "</table>\n",
       "</div>"
      ],
      "text/plain": [
       "                     JOBID  STATE  BEGIN  REQMEM  USEDMEM  REQTIME  USEDTIME  \\\n",
       "END                                                                            \n",
       "2020-10-01 00:00:00    421    421    421     421      421      421       421   \n",
       "2020-10-01 01:00:00   1080   1080   1080    1080     1080     1080      1080   \n",
       "2020-10-01 02:00:00   1137   1137   1137    1137     1137     1137      1137   \n",
       "\n",
       "                     NODES  CPUS  PARTITION  EXITCODE  \n",
       "END                                                    \n",
       "2020-10-01 00:00:00    421   421        421       421  \n",
       "2020-10-01 01:00:00   1080  1080       1080      1080  \n",
       "2020-10-01 02:00:00   1137  1137       1137      1137  "
      ]
     },
     "execution_count": 10,
     "metadata": {},
     "output_type": "execute_result"
    }
   ],
   "source": [
    "#count of jobs per hour \n",
    "completed_by_hour=completed.resample('H').count()\n",
    "completed_by_hour.head(3)"
   ]
  },
  {
   "cell_type": "code",
   "execution_count": 11,
   "id": "6198002d",
   "metadata": {},
   "outputs": [],
   "source": [
    "completed_jobs=completed_by_hour['JOBID']"
   ]
  },
  {
   "cell_type": "code",
   "execution_count": 12,
   "id": "7d3c42aa",
   "metadata": {},
   "outputs": [
    {
     "data": {
      "text/plain": [
       "END\n",
       "2020-10-01 00:00:00     421\n",
       "2020-10-01 01:00:00    1080\n",
       "2020-10-01 02:00:00    1137\n",
       "2020-10-01 03:00:00    1018\n",
       "2020-10-01 04:00:00    1244\n",
       "                       ... \n",
       "2021-10-07 16:00:00       8\n",
       "2021-10-07 17:00:00       8\n",
       "2021-10-07 18:00:00       8\n",
       "2021-10-07 19:00:00       8\n",
       "2021-10-07 20:00:00       6\n",
       "Freq: H, Name: JOBID, Length: 8925, dtype: int64"
      ]
     },
     "execution_count": 12,
     "metadata": {},
     "output_type": "execute_result"
    }
   ],
   "source": [
    "completed_jobs"
   ]
  },
  {
   "cell_type": "code",
   "execution_count": 13,
   "id": "8e09a2af",
   "metadata": {},
   "outputs": [
    {
     "data": {
      "text/plain": [
       "1:0    1\n",
       "Name: EXITCODE, dtype: int64"
      ]
     },
     "execution_count": 13,
     "metadata": {},
     "output_type": "execute_result"
    }
   ],
   "source": [
    "#1 job is canceled by user 9204 \n",
    "fs_df.loc[fs_df['STATE'] == 'CANCELLED by 9204', 'EXITCODE'].value_counts()"
   ]
  },
  {
   "cell_type": "code",
   "execution_count": 14,
   "id": "fd667d24",
   "metadata": {},
   "outputs": [
    {
     "data": {
      "text/plain": [
       "7375084"
      ]
     },
     "execution_count": 14,
     "metadata": {},
     "output_type": "execute_result"
    }
   ],
   "source": [
    "#counts of completed ones\n",
    "fs_df.loc[fs_df['STATE'] == 'COMPLETED'].value_counts()\n",
    "fs_df.loc[fs_df['STATE'] == 'COMPLETED'].value_counts().sum()"
   ]
  },
  {
   "cell_type": "code",
   "execution_count": 15,
   "id": "95c55cf8",
   "metadata": {
    "scrolled": true
   },
   "outputs": [
    {
     "data": {
      "text/plain": [
       "0:0    7375084\n",
       "Name: EXITCODE, dtype: int64"
      ]
     },
     "execution_count": 15,
     "metadata": {},
     "output_type": "execute_result"
    }
   ],
   "source": [
    "# counts of completed ones and their exit code (0:0)\n",
    "fs_df.loc[fs_df['STATE'] == 'COMPLETED', 'EXITCODE'].value_counts()"
   ]
  },
  {
   "cell_type": "code",
   "execution_count": 16,
   "id": "bd79fa13",
   "metadata": {},
   "outputs": [
    {
     "data": {
      "text/html": [
       "<div>\n",
       "<style scoped>\n",
       "    .dataframe tbody tr th:only-of-type {\n",
       "        vertical-align: middle;\n",
       "    }\n",
       "\n",
       "    .dataframe tbody tr th {\n",
       "        vertical-align: top;\n",
       "    }\n",
       "\n",
       "    .dataframe thead th {\n",
       "        text-align: right;\n",
       "    }\n",
       "</style>\n",
       "<table border=\"1\" class=\"dataframe\">\n",
       "  <thead>\n",
       "    <tr style=\"text-align: right;\">\n",
       "      <th></th>\n",
       "      <th>JOBID</th>\n",
       "      <th>STATE</th>\n",
       "      <th>BEGIN</th>\n",
       "      <th>END</th>\n",
       "      <th>REQMEM</th>\n",
       "      <th>USEDMEM</th>\n",
       "      <th>REQTIME</th>\n",
       "      <th>USEDTIME</th>\n",
       "      <th>NODES</th>\n",
       "      <th>CPUS</th>\n",
       "      <th>PARTITION</th>\n",
       "      <th>EXITCODE</th>\n",
       "    </tr>\n",
       "  </thead>\n",
       "  <tbody>\n",
       "    <tr>\n",
       "      <th>1</th>\n",
       "      <td>30853133</td>\n",
       "      <td>COMPLETED</td>\n",
       "      <td>2021-08-06 11:36:09</td>\n",
       "      <td>2021-09-05 11:36:32</td>\n",
       "      <td>262144</td>\n",
       "      <td>20604.62</td>\n",
       "      <td>30-00:00:00</td>\n",
       "      <td>30-00:00:23</td>\n",
       "      <td>1</td>\n",
       "      <td>1</td>\n",
       "      <td>cgw-platypus</td>\n",
       "      <td>0:0</td>\n",
       "    </tr>\n",
       "    <tr>\n",
       "      <th>2</th>\n",
       "      <td>30858137</td>\n",
       "      <td>COMPLETED</td>\n",
       "      <td>2021-08-06 19:04:39</td>\n",
       "      <td>2021-09-05 19:04:53</td>\n",
       "      <td>204800</td>\n",
       "      <td>57553.77</td>\n",
       "      <td>30-00:00:00</td>\n",
       "      <td>30-00:00:14</td>\n",
       "      <td>1</td>\n",
       "      <td>32</td>\n",
       "      <td>cgw-tbi01</td>\n",
       "      <td>0:0</td>\n",
       "    </tr>\n",
       "    <tr>\n",
       "      <th>3</th>\n",
       "      <td>30935078</td>\n",
       "      <td>COMPLETED</td>\n",
       "      <td>2021-08-09 16:52:51</td>\n",
       "      <td>2021-09-07 20:52:55</td>\n",
       "      <td>65536</td>\n",
       "      <td>20577.96</td>\n",
       "      <td>29-04:00:00</td>\n",
       "      <td>29-04:00:04</td>\n",
       "      <td>1</td>\n",
       "      <td>8</td>\n",
       "      <td>cgw-platypus</td>\n",
       "      <td>0:0</td>\n",
       "    </tr>\n",
       "  </tbody>\n",
       "</table>\n",
       "</div>"
      ],
      "text/plain": [
       "      JOBID      STATE               BEGIN                 END  REQMEM  \\\n",
       "1  30853133  COMPLETED 2021-08-06 11:36:09 2021-09-05 11:36:32  262144   \n",
       "2  30858137  COMPLETED 2021-08-06 19:04:39 2021-09-05 19:04:53  204800   \n",
       "3  30935078  COMPLETED 2021-08-09 16:52:51 2021-09-07 20:52:55   65536   \n",
       "\n",
       "    USEDMEM      REQTIME     USEDTIME  NODES  CPUS     PARTITION EXITCODE  \n",
       "1  20604.62  30-00:00:00  30-00:00:23      1     1  cgw-platypus      0:0  \n",
       "2  57553.77  30-00:00:00  30-00:00:14      1    32     cgw-tbi01      0:0  \n",
       "3  20577.96  29-04:00:00  29-04:00:04      1     8  cgw-platypus      0:0  "
      ]
     },
     "execution_count": 16,
     "metadata": {},
     "output_type": "execute_result"
    }
   ],
   "source": [
    "# filter down to only COMPLETED state\n",
    "fs_comp = fs_df[fs_df['STATE'] == 'COMPLETED']\n",
    "fs_comp.head(3)"
   ]
  },
  {
   "cell_type": "code",
   "execution_count": 18,
   "id": "1b8f56f2",
   "metadata": {},
   "outputs": [
    {
     "data": {
      "text/plain": [
       "END\n",
       "2020-10-01 00:10:15    1.0\n",
       "2020-10-01 00:12:58    2.0\n",
       "2020-10-01 00:13:31    3.0\n",
       "2020-10-01 00:17:23    4.0\n",
       "2020-10-01 00:17:53    5.0\n",
       "                      ... \n",
       "2021-10-07 20:11:21    9.0\n",
       "2021-10-07 20:17:24    9.0\n",
       "2021-10-07 20:26:01    8.0\n",
       "2021-10-07 20:32:45    9.0\n",
       "2021-10-07 20:41:11    9.0\n",
       "Name: JOBID, Length: 7375084, dtype: float64"
      ]
     },
     "execution_count": 18,
     "metadata": {},
     "output_type": "execute_result"
    }
   ],
   "source": [
    "#counts of completions per hour \n",
    "ended_per_hour = (fs_comp.set_index('END')\n",
    "                       .sort_values('END', ascending = True)\n",
    "                       .rolling('1h')\n",
    "                        ['JOBID']\n",
    "                        .count()\n",
    "                )\n",
    "ended_per_hour"
   ]
  },
  {
   "cell_type": "code",
   "execution_count": 19,
   "id": "ab72c5ac",
   "metadata": {},
   "outputs": [],
   "source": [
    "# define a function to calculate total hours of a timedelta\n",
    "def td_hours(timedelta):\n",
    "    hours = timedelta.days*24 + timedelta.seconds/3600\n",
    "    return hours"
   ]
  },
  {
   "cell_type": "code",
   "execution_count": 20,
   "id": "140ece38",
   "metadata": {},
   "outputs": [
    {
     "name": "stdout",
     "output_type": "stream",
     "text": [
      "826.4 completions per hour\n"
     ]
    }
   ],
   "source": [
    "# overall completions per hour \n",
    "completions = len(fs_comp)\n",
    "time_diff = (fs_df['END'].max() - fs_df['END'].min())\n",
    "jobs_per_hour = completions/td_hours(time_diff)\n",
    "print(round(jobs_per_hour, 1), 'completions per hour')\n"
   ]
  },
  {
   "cell_type": "code",
   "execution_count": 21,
   "id": "3ad2a2b7",
   "metadata": {},
   "outputs": [
    {
     "data": {
      "text/plain": [
       "END\n",
       "2020-10-04     574.386905\n",
       "2020-10-11    1221.565476\n",
       "2020-10-18     672.672619\n",
       "Freq: W-SUN, Name: JOBID, dtype: float64"
      ]
     },
     "execution_count": 21,
     "metadata": {},
     "output_type": "execute_result"
    }
   ],
   "source": [
    "ended_per_hour_by_week = (fs_comp.groupby(\n",
    "                                    pd.Grouper(key = 'END', freq = 'W')) # Group by week\n",
    "                                 ['JOBID'] # Counting job ids\n",
    "                                 .count()/168 # divide count by 168 hours in a week\n",
    "                        )\n",
    "ended_per_hour_by_week.head(3)"
   ]
  },
  {
   "cell_type": "code",
   "execution_count": 22,
   "id": "e6fd7dcd",
   "metadata": {},
   "outputs": [
    {
     "data": {
      "text/html": [
       "<div>\n",
       "<style scoped>\n",
       "    .dataframe tbody tr th:only-of-type {\n",
       "        vertical-align: middle;\n",
       "    }\n",
       "\n",
       "    .dataframe tbody tr th {\n",
       "        vertical-align: top;\n",
       "    }\n",
       "\n",
       "    .dataframe thead th {\n",
       "        text-align: right;\n",
       "    }\n",
       "</style>\n",
       "<table border=\"1\" class=\"dataframe\">\n",
       "  <thead>\n",
       "    <tr style=\"text-align: right;\">\n",
       "      <th></th>\n",
       "      <th>WEEK OF</th>\n",
       "      <th>COMPLETIONS PER HOUR</th>\n",
       "    </tr>\n",
       "  </thead>\n",
       "  <tbody>\n",
       "    <tr>\n",
       "      <th>0</th>\n",
       "      <td>2020-10-04</td>\n",
       "      <td>574.386905</td>\n",
       "    </tr>\n",
       "    <tr>\n",
       "      <th>1</th>\n",
       "      <td>2020-10-11</td>\n",
       "      <td>1221.565476</td>\n",
       "    </tr>\n",
       "    <tr>\n",
       "      <th>2</th>\n",
       "      <td>2020-10-18</td>\n",
       "      <td>672.672619</td>\n",
       "    </tr>\n",
       "  </tbody>\n",
       "</table>\n",
       "</div>"
      ],
      "text/plain": [
       "     WEEK OF  COMPLETIONS PER HOUR\n",
       "0 2020-10-04            574.386905\n",
       "1 2020-10-11           1221.565476\n",
       "2 2020-10-18            672.672619"
      ]
     },
     "execution_count": 22,
     "metadata": {},
     "output_type": "execute_result"
    }
   ],
   "source": [
    "# rename two columns\n",
    "ended_per_hour_by_week = (ended_per_hour_by_week.reset_index()\n",
    "                                              .rename(columns = {'END': 'WEEK OF', \n",
    "                                                                 'JOBID': 'COMPLETIONS PER HOUR'}\n",
    "                                                     )\n",
    "                        )\n",
    "ended_per_hour_by_week.head(3)"
   ]
  },
  {
   "cell_type": "code",
   "execution_count": 23,
   "id": "d7adec16",
   "metadata": {},
   "outputs": [
    {
     "data": {
      "image/png": "[encoded data removed]",
      "text/plain": [
       "<Figure size 1440x504 with 1 Axes>"
      ]
     },
     "metadata": {
      "needs_background": "light"
     },
     "output_type": "display_data"
    }
   ],
   "source": [
    "# Plot completions per hour by week\n",
    "fig, ax = plt.subplots(figsize=(20,7))\n",
    "\n",
    "x_dates = ended_per_hour_by_week['WEEK OF'].dt.strftime('%Y-%m')\n",
    "\n",
    "sns.barplot(x = 'WEEK OF',\n",
    "            y = 'COMPLETIONS PER HOUR',\n",
    "            data = ended_per_hour_by_week,\n",
    "            ax = ax,\n",
    "            hue = x_dates,\n",
    "            dodge = False\n",
    "           )\n",
    "\n",
    "\n",
    "ax.set_xticklabels(labels=x_dates, rotation=45, ha='right')\n",
    "ax.get_legend().remove()\n",
    "ax.axhline(jobs_per_hour, color = 'purple')\n",
    "ax.set(xlabel = 'Job Completed Per Week',\n",
    "       ylabel = 'Jobs Completed Per Hour',\n",
    "       title = 'Higher Number of Jobs Completed Per Hour by Week in August and September')\n",
    "plt.show()"
   ]
  },
  {
   "cell_type": "code",
   "execution_count": 25,
   "id": "b03f851c",
   "metadata": {},
   "outputs": [
    {
     "data": {
      "image/png": "[encoded data removed]",
      "text/plain": [
       "<Figure size 1440x504 with 1 Axes>"
      ]
     },
     "metadata": {
      "needs_background": "light"
     },
     "output_type": "display_data"
    }
   ],
   "source": [
    "# Plot completions per hour by week along with trendline, which shows gradual increase over the year\n",
    "fig, ax = plt.subplots(figsize=(20,7))\n",
    "\n",
    "ax.xaxis.update_units(ended_per_hour_by_week['WEEK OF'])\n",
    "\n",
    "sns.regplot(x = ax.xaxis.convert_units(ended_per_hour_by_week['WEEK OF']),\n",
    "            y = 'COMPLETIONS PER HOUR',\n",
    "            data = ended_per_hour_by_week,\n",
    "            ax = ax,\n",
    "           )\n",
    "\n",
    "ax.set(xlabel = 'Jobs Completed Per Week',\n",
    "       ylabel = 'Jobs Completed Per Hour',\n",
    "       title = 'Jobs Completed Per Hour Has Increased Over the Past Year')\n",
    "plt.show()"
   ]
  },
  {
   "cell_type": "code",
   "execution_count": 26,
   "id": "57f15c3c",
   "metadata": {},
   "outputs": [],
   "source": [
    "#jobs completed per hour per day\n",
    "ended_per_hour_by_day = (fs_df.groupby(\n",
    "                                    pd.Grouper(key = 'END', freq = 'D')) # Group by day\n",
    "                                    ['JOBID'] # Counting job ids\n",
    "                                    .count()/24 # divide count by 24 hours in a day\n",
    "                        )"
   ]
  },
  {
   "cell_type": "code",
   "execution_count": 27,
   "id": "ff0c63cb",
   "metadata": {},
   "outputs": [],
   "source": [
    "# display with renamed columns\n",
    "ended_per_hour_by_day = (ended_per_hour_by_day.reset_index()\n",
    "                                              .rename(columns = {'END': 'DAY', \n",
    "                                                                 'JOBID': 'ENDEDPERHOUR'}\n",
    "                                                     )\n",
    "                        )"
   ]
  },
  {
   "cell_type": "code",
   "execution_count": 28,
   "id": "c785bd45",
   "metadata": {},
   "outputs": [
    {
     "data": {
      "text/html": [
       "<div>\n",
       "<style scoped>\n",
       "    .dataframe tbody tr th:only-of-type {\n",
       "        vertical-align: middle;\n",
       "    }\n",
       "\n",
       "    .dataframe tbody tr th {\n",
       "        vertical-align: top;\n",
       "    }\n",
       "\n",
       "    .dataframe thead th {\n",
       "        text-align: right;\n",
       "    }\n",
       "</style>\n",
       "<table border=\"1\" class=\"dataframe\">\n",
       "  <thead>\n",
       "    <tr style=\"text-align: right;\">\n",
       "      <th></th>\n",
       "      <th>DAY</th>\n",
       "      <th>ENDEDPERHOUR</th>\n",
       "    </tr>\n",
       "  </thead>\n",
       "  <tbody>\n",
       "    <tr>\n",
       "      <th>0</th>\n",
       "      <td>2020-10-01</td>\n",
       "      <td>1386.708333</td>\n",
       "    </tr>\n",
       "    <tr>\n",
       "      <th>1</th>\n",
       "      <td>2020-10-02</td>\n",
       "      <td>1265.625000</td>\n",
       "    </tr>\n",
       "    <tr>\n",
       "      <th>2</th>\n",
       "      <td>2020-10-03</td>\n",
       "      <td>640.333333</td>\n",
       "    </tr>\n",
       "    <tr>\n",
       "      <th>3</th>\n",
       "      <td>2020-10-04</td>\n",
       "      <td>732.541667</td>\n",
       "    </tr>\n",
       "    <tr>\n",
       "      <th>4</th>\n",
       "      <td>2020-10-05</td>\n",
       "      <td>1006.916667</td>\n",
       "    </tr>\n",
       "    <tr>\n",
       "      <th>...</th>\n",
       "      <td>...</td>\n",
       "      <td>...</td>\n",
       "    </tr>\n",
       "    <tr>\n",
       "      <th>367</th>\n",
       "      <td>2021-10-03</td>\n",
       "      <td>81.416667</td>\n",
       "    </tr>\n",
       "    <tr>\n",
       "      <th>368</th>\n",
       "      <td>2021-10-04</td>\n",
       "      <td>25.750000</td>\n",
       "    </tr>\n",
       "    <tr>\n",
       "      <th>369</th>\n",
       "      <td>2021-10-05</td>\n",
       "      <td>30.375000</td>\n",
       "    </tr>\n",
       "    <tr>\n",
       "      <th>370</th>\n",
       "      <td>2021-10-06</td>\n",
       "      <td>11.708333</td>\n",
       "    </tr>\n",
       "    <tr>\n",
       "      <th>371</th>\n",
       "      <td>2021-10-07</td>\n",
       "      <td>13.791667</td>\n",
       "    </tr>\n",
       "  </tbody>\n",
       "</table>\n",
       "<p>372 rows × 2 columns</p>\n",
       "</div>"
      ],
      "text/plain": [
       "           DAY  ENDEDPERHOUR\n",
       "0   2020-10-01   1386.708333\n",
       "1   2020-10-02   1265.625000\n",
       "2   2020-10-03    640.333333\n",
       "3   2020-10-04    732.541667\n",
       "4   2020-10-05   1006.916667\n",
       "..         ...           ...\n",
       "367 2021-10-03     81.416667\n",
       "368 2021-10-04     25.750000\n",
       "369 2021-10-05     30.375000\n",
       "370 2021-10-06     11.708333\n",
       "371 2021-10-07     13.791667\n",
       "\n",
       "[372 rows x 2 columns]"
      ]
     },
     "execution_count": 28,
     "metadata": {},
     "output_type": "execute_result"
    }
   ],
   "source": [
    "ended_per_hour_by_day"
   ]
  },
  {
   "cell_type": "code",
   "execution_count": 29,
   "id": "47ef6d23",
   "metadata": {},
   "outputs": [
    {
     "data": {
      "text/html": [
       "<div>\n",
       "<style scoped>\n",
       "    .dataframe tbody tr th:only-of-type {\n",
       "        vertical-align: middle;\n",
       "    }\n",
       "\n",
       "    .dataframe tbody tr th {\n",
       "        vertical-align: top;\n",
       "    }\n",
       "\n",
       "    .dataframe thead th {\n",
       "        text-align: right;\n",
       "    }\n",
       "</style>\n",
       "<table border=\"1\" class=\"dataframe\">\n",
       "  <thead>\n",
       "    <tr style=\"text-align: right;\">\n",
       "      <th></th>\n",
       "      <th>DAY</th>\n",
       "      <th>ENDEDPERHOUR</th>\n",
       "      <th>WEEKDAY</th>\n",
       "      <th>WEEKDAY NUMBER</th>\n",
       "    </tr>\n",
       "  </thead>\n",
       "  <tbody>\n",
       "    <tr>\n",
       "      <th>0</th>\n",
       "      <td>2020-10-01</td>\n",
       "      <td>1386.708333</td>\n",
       "      <td>Thursday</td>\n",
       "      <td>4</td>\n",
       "    </tr>\n",
       "    <tr>\n",
       "      <th>1</th>\n",
       "      <td>2020-10-02</td>\n",
       "      <td>1265.625000</td>\n",
       "      <td>Friday</td>\n",
       "      <td>5</td>\n",
       "    </tr>\n",
       "    <tr>\n",
       "      <th>2</th>\n",
       "      <td>2020-10-03</td>\n",
       "      <td>640.333333</td>\n",
       "      <td>Saturday</td>\n",
       "      <td>6</td>\n",
       "    </tr>\n",
       "    <tr>\n",
       "      <th>3</th>\n",
       "      <td>2020-10-04</td>\n",
       "      <td>732.541667</td>\n",
       "      <td>Sunday</td>\n",
       "      <td>7</td>\n",
       "    </tr>\n",
       "    <tr>\n",
       "      <th>4</th>\n",
       "      <td>2020-10-05</td>\n",
       "      <td>1006.916667</td>\n",
       "      <td>Monday</td>\n",
       "      <td>1</td>\n",
       "    </tr>\n",
       "    <tr>\n",
       "      <th>...</th>\n",
       "      <td>...</td>\n",
       "      <td>...</td>\n",
       "      <td>...</td>\n",
       "      <td>...</td>\n",
       "    </tr>\n",
       "    <tr>\n",
       "      <th>367</th>\n",
       "      <td>2021-10-03</td>\n",
       "      <td>81.416667</td>\n",
       "      <td>Sunday</td>\n",
       "      <td>7</td>\n",
       "    </tr>\n",
       "    <tr>\n",
       "      <th>368</th>\n",
       "      <td>2021-10-04</td>\n",
       "      <td>25.750000</td>\n",
       "      <td>Monday</td>\n",
       "      <td>1</td>\n",
       "    </tr>\n",
       "    <tr>\n",
       "      <th>369</th>\n",
       "      <td>2021-10-05</td>\n",
       "      <td>30.375000</td>\n",
       "      <td>Tuesday</td>\n",
       "      <td>2</td>\n",
       "    </tr>\n",
       "    <tr>\n",
       "      <th>370</th>\n",
       "      <td>2021-10-06</td>\n",
       "      <td>11.708333</td>\n",
       "      <td>Wednesday</td>\n",
       "      <td>3</td>\n",
       "    </tr>\n",
       "    <tr>\n",
       "      <th>371</th>\n",
       "      <td>2021-10-07</td>\n",
       "      <td>13.791667</td>\n",
       "      <td>Thursday</td>\n",
       "      <td>4</td>\n",
       "    </tr>\n",
       "  </tbody>\n",
       "</table>\n",
       "<p>372 rows × 4 columns</p>\n",
       "</div>"
      ],
      "text/plain": [
       "           DAY  ENDEDPERHOUR    WEEKDAY  WEEKDAY NUMBER\n",
       "0   2020-10-01   1386.708333   Thursday               4\n",
       "1   2020-10-02   1265.625000     Friday               5\n",
       "2   2020-10-03    640.333333   Saturday               6\n",
       "3   2020-10-04    732.541667     Sunday               7\n",
       "4   2020-10-05   1006.916667     Monday               1\n",
       "..         ...           ...        ...             ...\n",
       "367 2021-10-03     81.416667     Sunday               7\n",
       "368 2021-10-04     25.750000     Monday               1\n",
       "369 2021-10-05     30.375000    Tuesday               2\n",
       "370 2021-10-06     11.708333  Wednesday               3\n",
       "371 2021-10-07     13.791667   Thursday               4\n",
       "\n",
       "[372 rows x 4 columns]"
      ]
     },
     "execution_count": 29,
     "metadata": {},
     "output_type": "execute_result"
    }
   ],
   "source": [
    "# Add weekday and weekday number to completions per hour by day\n",
    "ended_per_hour_by_day['WEEKDAY'] = ended_per_hour_by_day['DAY'].apply(lambda x: calendar.day_name[x.weekday()])\n",
    "ended_per_hour_by_day['WEEKDAY NUMBER'] = ended_per_hour_by_day['DAY'].apply(lambda x: x.weekday()+1)\n",
    "ended_per_hour_by_day"
   ]
  },
  {
   "cell_type": "code",
   "execution_count": 30,
   "id": "7b4df7aa",
   "metadata": {},
   "outputs": [
    {
     "data": {
      "text/html": [
       "<div>\n",
       "<style scoped>\n",
       "    .dataframe tbody tr th:only-of-type {\n",
       "        vertical-align: middle;\n",
       "    }\n",
       "\n",
       "    .dataframe tbody tr th {\n",
       "        vertical-align: top;\n",
       "    }\n",
       "\n",
       "    .dataframe thead th {\n",
       "        text-align: right;\n",
       "    }\n",
       "</style>\n",
       "<table border=\"1\" class=\"dataframe\">\n",
       "  <thead>\n",
       "    <tr style=\"text-align: right;\">\n",
       "      <th></th>\n",
       "      <th>WEEKDAY NUMBER</th>\n",
       "      <th>WEEKDAY</th>\n",
       "      <th>ENDEDPERHOUR</th>\n",
       "    </tr>\n",
       "  </thead>\n",
       "  <tbody>\n",
       "    <tr>\n",
       "      <th>0</th>\n",
       "      <td>1</td>\n",
       "      <td>Monday</td>\n",
       "      <td>881.209119</td>\n",
       "    </tr>\n",
       "    <tr>\n",
       "      <th>1</th>\n",
       "      <td>2</td>\n",
       "      <td>Tuesday</td>\n",
       "      <td>1022.036950</td>\n",
       "    </tr>\n",
       "    <tr>\n",
       "      <th>2</th>\n",
       "      <td>3</td>\n",
       "      <td>Wednesday</td>\n",
       "      <td>929.574686</td>\n",
       "    </tr>\n",
       "    <tr>\n",
       "      <th>3</th>\n",
       "      <td>4</td>\n",
       "      <td>Thursday</td>\n",
       "      <td>797.590278</td>\n",
       "    </tr>\n",
       "    <tr>\n",
       "      <th>4</th>\n",
       "      <td>5</td>\n",
       "      <td>Friday</td>\n",
       "      <td>807.621069</td>\n",
       "    </tr>\n",
       "    <tr>\n",
       "      <th>5</th>\n",
       "      <td>6</td>\n",
       "      <td>Saturday</td>\n",
       "      <td>666.738994</td>\n",
       "    </tr>\n",
       "    <tr>\n",
       "      <th>6</th>\n",
       "      <td>7</td>\n",
       "      <td>Sunday</td>\n",
       "      <td>694.043239</td>\n",
       "    </tr>\n",
       "  </tbody>\n",
       "</table>\n",
       "</div>"
      ],
      "text/plain": [
       "   WEEKDAY NUMBER    WEEKDAY  ENDEDPERHOUR\n",
       "0               1     Monday    881.209119\n",
       "1               2    Tuesday   1022.036950\n",
       "2               3  Wednesday    929.574686\n",
       "3               4   Thursday    797.590278\n",
       "4               5     Friday    807.621069\n",
       "5               6   Saturday    666.738994\n",
       "6               7     Sunday    694.043239"
      ]
     },
     "execution_count": 30,
     "metadata": {},
     "output_type": "execute_result"
    }
   ],
   "source": [
    "# Aggregate by weekday\n",
    "ended_per_hour_weekday = ended_per_hour_by_day.groupby(['WEEKDAY NUMBER', 'WEEKDAY'], as_index = False)['ENDEDPERHOUR'].mean()\n",
    "ended_per_hour_weekday\n",
    "\n",
    "#highest number of completions during Monday_Wednesday"
   ]
  },
  {
   "cell_type": "code",
   "execution_count": 31,
   "id": "8f120ed0",
   "metadata": {
    "scrolled": true
   },
   "outputs": [
    {
     "data": {
      "image/png": "[encoded data removed]",
      "text/plain": [
       "<Figure size 1440x504 with 1 Axes>"
      ]
     },
     "metadata": {
      "needs_background": "light"
     },
     "output_type": "display_data"
    }
   ],
   "source": [
    "# Plot completions per hour by weekday\n",
    "fig, ax = plt.subplots(figsize=(20,7))\n",
    "\n",
    "sns.barplot(x = 'WEEKDAY',\n",
    "            y = 'ENDEDPERHOUR',\n",
    "            data = ended_per_hour_weekday,\n",
    "            ax = ax,\n",
    "           )\n",
    "\n",
    "ax.axhline(jobs_per_hour, color = 'red')\n",
    "ax.set(xlabel = 'Jobs Completed Per Week',\n",
    "       ylabel = 'Jobs Completed Per Hour',\n",
    "       title = 'Jobs Completed Per Hour Per Day')\n",
    "plt.show()\n",
    "\n",
    "#Monday through Wednesday are the days that are above the average completions per hour per day"
   ]
  },
  {
   "cell_type": "code",
   "execution_count": 32,
   "id": "2f029f4d",
   "metadata": {},
   "outputs": [
    {
     "data": {
      "text/plain": [
       "<BarContainer object of 7 artists>"
      ]
     },
     "execution_count": 32,
     "metadata": {},
     "output_type": "execute_result"
    },
    {
     "data": {
      "image/png": "[encoded data removed]",
      "text/plain": [
       "<Figure size 432x288 with 1 Axes>"
      ]
     },
     "metadata": {
      "needs_background": "light"
     },
     "output_type": "display_data"
    }
   ],
   "source": [
    "#another graph showing number of jobs per day \n",
    "jobs_weekday = [len(fs_df[fs_df['BEGIN'].dt.day == x]) for x in range(1,8)]\n",
    "ax.axhline(jobs_per_hour, color = 'red')\n",
    "plt.bar(['Mon', 'Tue', 'Wed', 'Thu', 'Fri', 'Sat', 'Sun'], jobs_weekday)\n"
   ]
  },
  {
   "cell_type": "code",
   "execution_count": 33,
   "id": "fa6f3d48",
   "metadata": {},
   "outputs": [
    {
     "data": {
      "image/png": "[encoded data removed]",
      "text/plain": [
       "<Figure size 1440x504 with 1 Axes>"
      ]
     },
     "metadata": {
      "needs_background": "light"
     },
     "output_type": "display_data"
    }
   ],
   "source": [
    "fig, ax = plt.subplots(figsize=(20,7))\n",
    "sns.barplot(x = 'WEEKDAY',\n",
    "            y = 'ENDEDPERHOUR',\n",
    "            data = ended_per_hour_weekday,\n",
    "            ax = ax,\n",
    "           )\n",
    "ax.axhline(jobs_per_hour, color = 'red')\n",
    "plt.show()\n"
   ]
  },
  {
   "cell_type": "code",
   "execution_count": 34,
   "id": "b2e034ac",
   "metadata": {},
   "outputs": [
    {
     "data": {
      "text/plain": [
       "<BarContainer object of 24 artists>"
      ]
     },
     "execution_count": 34,
     "metadata": {},
     "output_type": "execute_result"
    },
    {
     "data": {
      "image/png": "[encoded data removed]",
      "text/plain": [
       "<Figure size 432x288 with 1 Axes>"
      ]
     },
     "metadata": {
      "needs_background": "light"
     },
     "output_type": "display_data"
    }
   ],
   "source": [
    "#plot jobs per hour per day\n",
    "jobs_hour = [len(fs_df[fs_df['BEGIN'].dt.hour == x]) for x in range(0,24)]\n",
    "hours = [x for x in range(1,25)]\n",
    "plt.bar(hours, jobs_hour)"
   ]
  },
  {
   "cell_type": "markdown",
   "id": "f50fad28",
   "metadata": {},
   "source": [
    "#### 2. Does the job state affect completions per hour? i.e. if I only look at jobs with exit code 0:0 in the \"COMPLETED\" state, is that a similar number of completions per hour as with all jobs, failed or cancelled? This will indicate if the load on the scheduler is by user design or is a result of users not sufficiently testing their jobs before submitting very large arrays. We also expect that most job completions will be in the \"production\" partition, but is this actually true?"
   ]
  },
  {
   "cell_type": "code",
   "execution_count": 35,
   "id": "2d48d5d7",
   "metadata": {},
   "outputs": [],
   "source": [
    "#counts of exitcodes\n",
    "#fs_df.value_counts('EXITCODE')\n",
    "\n",
    "#EXITCODE 0:0 = SUCCESS\n",
    "#EXITCODE 0:15, 0:9, 0:2 = CANCELLED\n",
    "#EXITCODE 1:0, 2.0= FAILED\n",
    "\n",
    "#counts of state\n",
    "#fs_df.value_counts('STATE')\n",
    "\n",
    "#gives us the specific exitcodes we want \n",
    "#fs_df[fs_df['EXITCODE'] == '0:125']\n",
    "#fs_df[fs_df['EXITCODE'] == '0:7']\n",
    "\n",
    "#more extra codes\n",
    "#fs_df[fs_df['STATE'].str.match(r'CANCELLED')]\n",
    "#fs_df[fs_df['STATE'].str.match(r'CANCELLED')].value_counts('EXITCODE')\n",
    "#fs_df[fs_df['STATE'].str.match(r'FAILED')].value_counts('EXITCODE')\n",
    "fs_can = fs_df[fs_df['STATE'] == 'CANCELLED']\n",
    "fs_fail=fs_df[fs_df['STATE'] == 'FAILED']"
   ]
  },
  {
   "cell_type": "code",
   "execution_count": 36,
   "id": "b5a814b7",
   "metadata": {},
   "outputs": [],
   "source": [
    "#counts of cancelled jobs per hour \n",
    "can_per_hour = (fs_can.set_index('END')\n",
    "                       .sort_values('END', ascending = True)\n",
    "                       .rolling('1h')\n",
    "                        ['JOBID']\n",
    "                        .count()\n",
    "                )\n",
    "#can_per_hour"
   ]
  },
  {
   "cell_type": "code",
   "execution_count": 37,
   "id": "829b38b9",
   "metadata": {},
   "outputs": [
    {
     "data": {
      "text/plain": [
       "<AxesSubplot:xlabel='END'>"
      ]
     },
     "execution_count": 37,
     "metadata": {},
     "output_type": "execute_result"
    },
    {
     "data": {
      "image/png": "[encoded data removed]",
      "text/plain": [
       "<Figure size 432x288 with 1 Axes>"
      ]
     },
     "metadata": {
      "needs_background": "light"
     },
     "output_type": "display_data"
    }
   ],
   "source": [
    "can_per_hour.plot()"
   ]
  },
  {
   "cell_type": "code",
   "execution_count": 38,
   "id": "1c137ce7",
   "metadata": {},
   "outputs": [],
   "source": [
    "#counts of failed jobs per hour \n",
    "fail_per_hour = (fs_fail.set_index('END')\n",
    "                       .sort_values('END', ascending = True)\n",
    "                      .rolling('1h')\n",
    "                        ['JOBID']\n",
    "                        .count()\n",
    "                )\n",
    "#fail_per_hour"
   ]
  },
  {
   "cell_type": "code",
   "execution_count": 39,
   "id": "25453b97",
   "metadata": {},
   "outputs": [
    {
     "data": {
      "text/plain": [
       "<AxesSubplot:xlabel='END'>"
      ]
     },
     "execution_count": 39,
     "metadata": {},
     "output_type": "execute_result"
    },
    {
     "data": {
      "image/png": "[encoded data removed]",
      "text/plain": [
       "<Figure size 432x288 with 1 Axes>"
      ]
     },
     "metadata": {
      "needs_background": "light"
     },
     "output_type": "display_data"
    }
   ],
   "source": [
    "fail_per_hour.plot()"
   ]
  },
  {
   "cell_type": "code",
   "execution_count": 40,
   "id": "d49dec2f",
   "metadata": {
    "scrolled": true
   },
   "outputs": [
    {
     "data": {
      "text/plain": [
       "COMPLETED            7375084\n",
       "CANCELLED               9055\n",
       "CANCELLED by USER       5588\n",
       "FAILED                  3766\n",
       "OUT_OF_MEMORY           1739\n",
       "NODE_FAIL                  2\n",
       "Name: STATE, dtype: int64"
      ]
     },
     "execution_count": 40,
     "metadata": {},
     "output_type": "execute_result"
    }
   ],
   "source": [
    "#cleaning up cancelled data and getting the count of different states  \n",
    "fs_df['STATE'] = fs_df['STATE'].str.replace(r'CANCELLED by \\d*', 'CANCELLED by USER', regex=True)\n",
    "fs_df['STATE'].value_counts()"
   ]
  },
  {
   "cell_type": "code",
   "execution_count": 41,
   "id": "2c04be30",
   "metadata": {},
   "outputs": [
    {
     "data": {
      "text/html": [
       "<div>\n",
       "<style scoped>\n",
       "    .dataframe tbody tr th:only-of-type {\n",
       "        vertical-align: middle;\n",
       "    }\n",
       "\n",
       "    .dataframe tbody tr th {\n",
       "        vertical-align: top;\n",
       "    }\n",
       "\n",
       "    .dataframe thead th {\n",
       "        text-align: right;\n",
       "    }\n",
       "</style>\n",
       "<table border=\"1\" class=\"dataframe\">\n",
       "  <thead>\n",
       "    <tr style=\"text-align: right;\">\n",
       "      <th></th>\n",
       "      <th>STATE</th>\n",
       "      <th>END</th>\n",
       "      <th>JOBID</th>\n",
       "    </tr>\n",
       "  </thead>\n",
       "  <tbody>\n",
       "    <tr>\n",
       "      <th>0</th>\n",
       "      <td>CANCELLED</td>\n",
       "      <td>2021-09-05 10:53:57</td>\n",
       "      <td>1.0</td>\n",
       "    </tr>\n",
       "    <tr>\n",
       "      <th>1</th>\n",
       "      <td>CANCELLED</td>\n",
       "      <td>2021-09-05 02:46:09</td>\n",
       "      <td>1.0</td>\n",
       "    </tr>\n",
       "    <tr>\n",
       "      <th>2</th>\n",
       "      <td>CANCELLED</td>\n",
       "      <td>2021-09-05 02:54:09</td>\n",
       "      <td>2.0</td>\n",
       "    </tr>\n",
       "  </tbody>\n",
       "</table>\n",
       "</div>"
      ],
      "text/plain": [
       "       STATE                 END  JOBID\n",
       "0  CANCELLED 2021-09-05 10:53:57    1.0\n",
       "1  CANCELLED 2021-09-05 02:46:09    1.0\n",
       "2  CANCELLED 2021-09-05 02:54:09    2.0"
      ]
     },
     "execution_count": 41,
     "metadata": {},
     "output_type": "execute_result"
    }
   ],
   "source": [
    "#grouping by the data by the state \n",
    "fs_df_states = (fs_df.groupby('STATE', as_index = False)\n",
    "                    .rolling('1h', on = 'END')\n",
    "                    ['JOBID']\n",
    "                    .count()\n",
    "                    .reset_index()\n",
    "                )\n",
    "fs_df_states.head(3)"
   ]
  },
  {
   "cell_type": "code",
   "execution_count": 42,
   "id": "7c95ec21",
   "metadata": {},
   "outputs": [
    {
     "data": {
      "text/html": [
       "<div>\n",
       "<style scoped>\n",
       "    .dataframe tbody tr th:only-of-type {\n",
       "        vertical-align: middle;\n",
       "    }\n",
       "\n",
       "    .dataframe tbody tr th {\n",
       "        vertical-align: top;\n",
       "    }\n",
       "\n",
       "    .dataframe thead th {\n",
       "        text-align: right;\n",
       "    }\n",
       "</style>\n",
       "<table border=\"1\" class=\"dataframe\">\n",
       "  <thead>\n",
       "    <tr style=\"text-align: right;\">\n",
       "      <th></th>\n",
       "      <th>STATE</th>\n",
       "      <th>PER_HOUR</th>\n",
       "      <th>PER_HOUR_PROP</th>\n",
       "    </tr>\n",
       "  </thead>\n",
       "  <tbody>\n",
       "    <tr>\n",
       "      <th>2</th>\n",
       "      <td>COMPLETED</td>\n",
       "      <td>301000.741870</td>\n",
       "      <td>0.995489</td>\n",
       "    </tr>\n",
       "    <tr>\n",
       "      <th>1</th>\n",
       "      <td>CANCELLED by USER</td>\n",
       "      <td>487.862563</td>\n",
       "      <td>0.001613</td>\n",
       "    </tr>\n",
       "    <tr>\n",
       "      <th>0</th>\n",
       "      <td>CANCELLED</td>\n",
       "      <td>385.693650</td>\n",
       "      <td>0.001276</td>\n",
       "    </tr>\n",
       "    <tr>\n",
       "      <th>5</th>\n",
       "      <td>OUT_OF_MEMORY</td>\n",
       "      <td>288.545141</td>\n",
       "      <td>0.000954</td>\n",
       "    </tr>\n",
       "    <tr>\n",
       "      <th>3</th>\n",
       "      <td>FAILED</td>\n",
       "      <td>200.730218</td>\n",
       "      <td>0.000664</td>\n",
       "    </tr>\n",
       "    <tr>\n",
       "      <th>4</th>\n",
       "      <td>NODE_FAIL</td>\n",
       "      <td>1.000000</td>\n",
       "      <td>0.000003</td>\n",
       "    </tr>\n",
       "  </tbody>\n",
       "</table>\n",
       "</div>"
      ],
      "text/plain": [
       "               STATE       PER_HOUR  PER_HOUR_PROP\n",
       "2          COMPLETED  301000.741870       0.995489\n",
       "1  CANCELLED by USER     487.862563       0.001613\n",
       "0          CANCELLED     385.693650       0.001276\n",
       "5      OUT_OF_MEMORY     288.545141       0.000954\n",
       "3             FAILED     200.730218       0.000664\n",
       "4          NODE_FAIL       1.000000       0.000003"
      ]
     },
     "execution_count": 42,
     "metadata": {},
     "output_type": "execute_result"
    }
   ],
   "source": [
    "#per hour proportion of each state \n",
    "fs_df_all_states = (fs_df_states\n",
    "                 .groupby('STATE', as_index = False)\n",
    "                 ['JOBID']\n",
    "                 .mean()\n",
    "                 .rename(columns = {'JOBID': 'PER_HOUR'})\n",
    ")\n",
    "\n",
    "fs_df_all_states['PER_HOUR_PROP'] = fs_df_all_states['PER_HOUR']/fs_df_all_states['PER_HOUR'].sum()\n",
    "fs_df_all_states.sort_values('PER_HOUR', ascending = False)"
   ]
  },
  {
   "cell_type": "code",
   "execution_count": null,
   "id": "28032f98",
   "metadata": {},
   "outputs": [],
   "source": [
    "fs_df_all_states.sort_values('PER_HOUR', ascending = False)['STATE']"
   ]
  },
  {
   "cell_type": "code",
   "execution_count": 43,
   "id": "ddbbd773",
   "metadata": {},
   "outputs": [
    {
     "data": {
      "text/plain": [
       "826.3847997227114"
      ]
     },
     "execution_count": 43,
     "metadata": {},
     "output_type": "execute_result"
    }
   ],
   "source": [
    "#average number of jobs per hour \n",
    "jobs_per_hour"
   ]
  },
  {
   "cell_type": "code",
   "execution_count": 44,
   "id": "bb28d300",
   "metadata": {
    "scrolled": true
   },
   "outputs": [
    {
     "data": {
      "image/png": "[encoded data removed]",
      "text/plain": [
       "<Figure size 1152x432 with 1 Axes>"
      ]
     },
     "metadata": {
      "needs_background": "light"
     },
     "output_type": "display_data"
    }
   ],
   "source": [
    "#plotting jobs completed per hour in each job state \n",
    "fig, ax = plt.subplots(figsize=(16,6))\n",
    "\n",
    "sns.barplot(x = 'STATE',\n",
    "            y = 'PER_HOUR',\n",
    "            data = fs_df_all_states,\n",
    "            order = fs_df_all_states.sort_values('PER_HOUR', ascending = False)['STATE'],\n",
    "            ax = ax,\n",
    "           )\n",
    "ax.axhline(jobs_per_hour, color = 'purple')\n",
    "ax.set(xlabel='Job State', ylabel= 'Jobs Completed Per Hour', ylim=(0,3000))\n",
    "ax.set_title('Jobs Completed Per Hour By Job State')        \n",
    "plt.show()"
   ]
  },
  {
   "cell_type": "code",
   "execution_count": 45,
   "id": "d707c076",
   "metadata": {},
   "outputs": [
    {
     "data": {
      "text/html": [
       "<div>\n",
       "<style scoped>\n",
       "    .dataframe tbody tr th:only-of-type {\n",
       "        vertical-align: middle;\n",
       "    }\n",
       "\n",
       "    .dataframe tbody tr th {\n",
       "        vertical-align: top;\n",
       "    }\n",
       "\n",
       "    .dataframe thead th {\n",
       "        text-align: right;\n",
       "    }\n",
       "</style>\n",
       "<table border=\"1\" class=\"dataframe\">\n",
       "  <thead>\n",
       "    <tr style=\"text-align: right;\">\n",
       "      <th></th>\n",
       "      <th>PARTITION</th>\n",
       "      <th>COUNT</th>\n",
       "      <th>PROPORTION</th>\n",
       "    </tr>\n",
       "  </thead>\n",
       "  <tbody>\n",
       "    <tr>\n",
       "      <th>0</th>\n",
       "      <td>production</td>\n",
       "      <td>7019136</td>\n",
       "      <td>0.9491</td>\n",
       "    </tr>\n",
       "    <tr>\n",
       "      <th>1</th>\n",
       "      <td>nogpfs</td>\n",
       "      <td>147044</td>\n",
       "      <td>0.0199</td>\n",
       "    </tr>\n",
       "    <tr>\n",
       "      <th>2</th>\n",
       "      <td>pascal</td>\n",
       "      <td>124451</td>\n",
       "      <td>0.0168</td>\n",
       "    </tr>\n",
       "    <tr>\n",
       "      <th>3</th>\n",
       "      <td>sam</td>\n",
       "      <td>64967</td>\n",
       "      <td>0.0088</td>\n",
       "    </tr>\n",
       "    <tr>\n",
       "      <th>4</th>\n",
       "      <td>turing</td>\n",
       "      <td>21412</td>\n",
       "      <td>0.0029</td>\n",
       "    </tr>\n",
       "    <tr>\n",
       "      <th>5</th>\n",
       "      <td>maxwell</td>\n",
       "      <td>11278</td>\n",
       "      <td>0.0015</td>\n",
       "    </tr>\n",
       "    <tr>\n",
       "      <th>6</th>\n",
       "      <td>cgw-maizie</td>\n",
       "      <td>4308</td>\n",
       "      <td>0.0006</td>\n",
       "    </tr>\n",
       "    <tr>\n",
       "      <th>7</th>\n",
       "      <td>debug</td>\n",
       "      <td>1616</td>\n",
       "      <td>0.0002</td>\n",
       "    </tr>\n",
       "    <tr>\n",
       "      <th>8</th>\n",
       "      <td>cgw-platypus</td>\n",
       "      <td>376</td>\n",
       "      <td>0.0001</td>\n",
       "    </tr>\n",
       "    <tr>\n",
       "      <th>9</th>\n",
       "      <td>cgw-dsi-gw</td>\n",
       "      <td>228</td>\n",
       "      <td>0.0000</td>\n",
       "    </tr>\n",
       "    <tr>\n",
       "      <th>10</th>\n",
       "      <td>cgw-capra1</td>\n",
       "      <td>153</td>\n",
       "      <td>0.0000</td>\n",
       "    </tr>\n",
       "    <tr>\n",
       "      <th>11</th>\n",
       "      <td>cgw-dougherty1</td>\n",
       "      <td>125</td>\n",
       "      <td>0.0000</td>\n",
       "    </tr>\n",
       "    <tr>\n",
       "      <th>12</th>\n",
       "      <td>cgw-horus</td>\n",
       "      <td>61</td>\n",
       "      <td>0.0000</td>\n",
       "    </tr>\n",
       "    <tr>\n",
       "      <th>13</th>\n",
       "      <td>cgw-cqs1</td>\n",
       "      <td>28</td>\n",
       "      <td>0.0000</td>\n",
       "    </tr>\n",
       "    <tr>\n",
       "      <th>14</th>\n",
       "      <td>cgw-hanuman</td>\n",
       "      <td>21</td>\n",
       "      <td>0.0000</td>\n",
       "    </tr>\n",
       "    <tr>\n",
       "      <th>15</th>\n",
       "      <td>cgw-sideshowbob</td>\n",
       "      <td>14</td>\n",
       "      <td>0.0000</td>\n",
       "    </tr>\n",
       "    <tr>\n",
       "      <th>16</th>\n",
       "      <td>cgw-vm-qa-flatearth1</td>\n",
       "      <td>9</td>\n",
       "      <td>0.0000</td>\n",
       "    </tr>\n",
       "    <tr>\n",
       "      <th>17</th>\n",
       "      <td>cgw-tbi01</td>\n",
       "      <td>7</td>\n",
       "      <td>0.0000</td>\n",
       "    </tr>\n",
       "  </tbody>\n",
       "</table>\n",
       "</div>"
      ],
      "text/plain": [
       "               PARTITION    COUNT  PROPORTION\n",
       "0             production  7019136      0.9491\n",
       "1                 nogpfs   147044      0.0199\n",
       "2                 pascal   124451      0.0168\n",
       "3                    sam    64967      0.0088\n",
       "4                 turing    21412      0.0029\n",
       "5                maxwell    11278      0.0015\n",
       "6             cgw-maizie     4308      0.0006\n",
       "7                  debug     1616      0.0002\n",
       "8           cgw-platypus      376      0.0001\n",
       "9             cgw-dsi-gw      228      0.0000\n",
       "10            cgw-capra1      153      0.0000\n",
       "11        cgw-dougherty1      125      0.0000\n",
       "12             cgw-horus       61      0.0000\n",
       "13              cgw-cqs1       28      0.0000\n",
       "14           cgw-hanuman       21      0.0000\n",
       "15       cgw-sideshowbob       14      0.0000\n",
       "16  cgw-vm-qa-flatearth1        9      0.0000\n",
       "17             cgw-tbi01        7      0.0000"
      ]
     },
     "execution_count": 45,
     "metadata": {},
     "output_type": "execute_result"
    }
   ],
   "source": [
    "#proportion of partitions used \n",
    "partitions_count = fs_df['PARTITION'].value_counts().reset_index().rename(columns = {'index': 'PARTITION', 'PARTITION':'COUNT'})\n",
    "partitions_prop = fs_df['PARTITION'].value_counts(normalize = True).round(4).reset_index().rename(columns = {'index': 'PARTITION', 'PARTITION':'PROPORTION'})\n",
    "partitions_count.merge(partitions_prop)"
   ]
  },
  {
   "cell_type": "code",
   "execution_count": null,
   "id": "3deafc3b",
   "metadata": {},
   "outputs": [],
   "source": []
  }
 ],
 "metadata": {
  "kernelspec": {
   "display_name": "Python 3",
   "language": "python",
   "name": "python3"
  },
  "language_info": {
   "codemirror_mode": {
    "name": "ipython",
    "version": 3
   },
   "file_extension": ".py",
   "mimetype": "text/x-python",
   "name": "python",
   "nbconvert_exporter": "python",
   "pygments_lexer": "ipython3",
   "version": "3.8.8"
  }
 },
 "nbformat": 4,
 "nbformat_minor": 5
}
