{
 "cells": [
  {
   "cell_type": "code",
   "execution_count": 1,
   "id": "375b906f",
   "metadata": {},
   "outputs": [],
   "source": [
    "import pandas as pd\n",
    "import numpy as np\n",
    "import matplotlib.pyplot as plt\n",
    "import matplotlib.ticker as ticker\n",
    "import seaborn as sns\n",
    "import statsmodels.api as sm\n",
    "import matplotlib.pyplot as plt\n",
    "from datetime import timedelta, datetime\n",
    "import calendar\n",
    "import re\n",
    "import math\n",
    "import plotly.express as px"
   ]
  },
  {
   "cell_type": "markdown",
   "id": "f3eaf2f0",
   "metadata": {},
   "source": [
    "#### Next, use the two log files to determine time intervals (hours) when the scheduler was unresponsive. Do this by looking for records that are the \"sbatch\" command from user 9204 that have return code 1 and an execution time of ~20 seconds (at least more than 15). These are commands where the scheduler timed out in responding.\n",
    "\n",
    "3. Calculate some descriptive statistics about how often the scheduler was unresponsive, how long these periods of time were, and create a time series plot of when the scheduler was having difficulties.\n"
   ]
  },
  {
   "cell_type": "code",
   "execution_count": 2,
   "id": "c85ea6e4",
   "metadata": {},
   "outputs": [],
   "source": [
    "#reading ce5 data\n",
    "ce5 = pd.read_csv('../data/slurm_wrapper_ce5.log', \n",
    "                  sep = ' - ', \n",
    "                  engine = 'python', \n",
    "                  names = ['TIME', 'USER', 'RETRY', 'LAPSEDTIME', 'RETURNCODE', 'COMMAND'])"
   ]
  },
  {
   "cell_type": "code",
   "execution_count": 3,
   "id": "2b88eb51",
   "metadata": {},
   "outputs": [],
   "source": [
    "#cleanin ce5 data\n",
    "\n",
    "ce5['TIME'] = pd.to_datetime(ce5['TIME'])\n",
    "ce5['USER'] = ce5['USER'].str.extract(r'(\\d+)')\n",
    "ce5['LAPSEDTIME'] = ce5['LAPSEDTIME'].str.replace('time', '').astype('float')\n",
    "ce5['RETURNCODE'] = ce5['RETURNCODE'].str.extract('(\\d+)')\n",
    "ce5['COMMAND'] = ce5['COMMAND'].str.extract(r\"bin/(s\\w+)'\")\n",
    "ce5['RETRY'] = ce5['RETRY'].str.slice(start = 6)\n"
   ]
  },
  {
   "cell_type": "code",
   "execution_count": 4,
   "id": "48563913",
   "metadata": {},
   "outputs": [],
   "source": [
    "#instead of replace and extract in the cell above, we can also use slice\n",
    "#ce5['RETRY'] = ce5['RETRY'].str.slice(start = 6)\n",
    "#ce5['LAPSEDTIME'] = ce5['LAPSEDTIME'].str.slice(start = 5)"
   ]
  },
  {
   "cell_type": "code",
   "execution_count": 5,
   "id": "2e0e368c",
   "metadata": {},
   "outputs": [
    {
     "data": {
      "text/html": [
       "<div>\n",
       "<style scoped>\n",
       "    .dataframe tbody tr th:only-of-type {\n",
       "        vertical-align: middle;\n",
       "    }\n",
       "\n",
       "    .dataframe tbody tr th {\n",
       "        vertical-align: top;\n",
       "    }\n",
       "\n",
       "    .dataframe thead th {\n",
       "        text-align: right;\n",
       "    }\n",
       "</style>\n",
       "<table border=\"1\" class=\"dataframe\">\n",
       "  <thead>\n",
       "    <tr style=\"text-align: right;\">\n",
       "      <th></th>\n",
       "      <th>TIME</th>\n",
       "      <th>USER</th>\n",
       "      <th>RETRY</th>\n",
       "      <th>LAPSEDTIME</th>\n",
       "      <th>RETURNCODE</th>\n",
       "      <th>COMMAND</th>\n",
       "    </tr>\n",
       "  </thead>\n",
       "  <tbody>\n",
       "    <tr>\n",
       "      <th>0</th>\n",
       "      <td>2020-10-16 08:15:39.278699</td>\n",
       "      <td>0</td>\n",
       "      <td>0</td>\n",
       "      <td>0.073476</td>\n",
       "      <td>0</td>\n",
       "      <td>sacct</td>\n",
       "    </tr>\n",
       "    <tr>\n",
       "      <th>1</th>\n",
       "      <td>2020-10-16 08:18:08.313309</td>\n",
       "      <td>0</td>\n",
       "      <td>0</td>\n",
       "      <td>0.183632</td>\n",
       "      <td>0</td>\n",
       "      <td>sacct</td>\n",
       "    </tr>\n",
       "    <tr>\n",
       "      <th>2</th>\n",
       "      <td>2020-10-16 08:22:48.128689</td>\n",
       "      <td>0</td>\n",
       "      <td>0</td>\n",
       "      <td>0.075471</td>\n",
       "      <td>0</td>\n",
       "      <td>sacct</td>\n",
       "    </tr>\n",
       "  </tbody>\n",
       "</table>\n",
       "</div>"
      ],
      "text/plain": [
       "                        TIME USER RETRY  LAPSEDTIME RETURNCODE COMMAND\n",
       "0 2020-10-16 08:15:39.278699    0     0    0.073476          0   sacct\n",
       "1 2020-10-16 08:18:08.313309    0     0    0.183632          0   sacct\n",
       "2 2020-10-16 08:22:48.128689    0     0    0.075471          0   sacct"
      ]
     },
     "execution_count": 5,
     "metadata": {},
     "output_type": "execute_result"
    }
   ],
   "source": [
    "ce5.head(3)"
   ]
  },
  {
   "cell_type": "code",
   "execution_count": 6,
   "id": "1a513e9e",
   "metadata": {},
   "outputs": [
    {
     "name": "stdout",
     "output_type": "stream",
     "text": [
      "<class 'pandas.core.frame.DataFrame'>\n",
      "RangeIndex: 4770893 entries, 0 to 4770892\n",
      "Data columns (total 6 columns):\n",
      " #   Column      Dtype         \n",
      "---  ------      -----         \n",
      " 0   TIME        datetime64[ns]\n",
      " 1   USER        object        \n",
      " 2   RETRY       object        \n",
      " 3   LAPSEDTIME  float64       \n",
      " 4   RETURNCODE  object        \n",
      " 5   COMMAND     object        \n",
      "dtypes: datetime64[ns](1), float64(1), object(4)\n",
      "memory usage: 218.4+ MB\n"
     ]
    }
   ],
   "source": [
    "ce5.info()"
   ]
  },
  {
   "cell_type": "code",
   "execution_count": 7,
   "id": "a70393a4",
   "metadata": {},
   "outputs": [],
   "source": [
    "#read ce5 into a new df\n",
    "ce5.to_csv('../data/ce5_clean.csv',\n",
    "          index= False)"
   ]
  },
  {
   "cell_type": "code",
   "execution_count": 8,
   "id": "75efbc04",
   "metadata": {},
   "outputs": [],
   "source": [
    "#reading ce6 data\n",
    "ce6 = pd.read_csv('../data/slurm_wrapper_ce6.log', \n",
    "                  sep = ' - ', \n",
    "                  engine = 'python', \n",
    "                  names = ['TIME', 'USER', 'RETRY', 'LAPSEDTIME', 'RETURNCODE', 'COMMAND'])"
   ]
  },
  {
   "cell_type": "code",
   "execution_count": 9,
   "id": "c0ef464b",
   "metadata": {},
   "outputs": [],
   "source": [
    "#cleaning ce6 data\n",
    "ce6['TIME'] = pd.to_datetime(ce6['TIME'])\n",
    "ce6['USER'] = ce6['USER'].str.extract(r'(\\d+)')\n",
    "ce6['LAPSEDTIME'] = ce6['LAPSEDTIME'].str.replace('time', '').astype('float')\n",
    "ce6['RETURNCODE'] = ce6['RETURNCODE'].str.extract('(\\d+)')\n",
    "ce6['COMMAND'] = ce6['COMMAND'].str.extract(r\"bin/(s\\w+)'\")\n",
    "ce6['RETRY'] = ce6['RETRY'].str.slice(start = 6)"
   ]
  },
  {
   "cell_type": "code",
   "execution_count": 10,
   "id": "4779a771",
   "metadata": {},
   "outputs": [
    {
     "name": "stdout",
     "output_type": "stream",
     "text": [
      "<class 'pandas.core.frame.DataFrame'>\n",
      "RangeIndex: 4776520 entries, 0 to 4776519\n",
      "Data columns (total 6 columns):\n",
      " #   Column      Dtype         \n",
      "---  ------      -----         \n",
      " 0   TIME        datetime64[ns]\n",
      " 1   USER        object        \n",
      " 2   RETRY       object        \n",
      " 3   LAPSEDTIME  float64       \n",
      " 4   RETURNCODE  object        \n",
      " 5   COMMAND     object        \n",
      "dtypes: datetime64[ns](1), float64(1), object(4)\n",
      "memory usage: 218.7+ MB\n"
     ]
    }
   ],
   "source": [
    "#ce6.head(3)\n",
    "ce6.info()"
   ]
  },
  {
   "cell_type": "code",
   "execution_count": 11,
   "id": "c2feed53",
   "metadata": {},
   "outputs": [],
   "source": [
    "#read ce6 into a new df\n",
    "ce6.to_csv('../data/ce6_clean.csv',\n",
    "          index=False)"
   ]
  },
  {
   "cell_type": "code",
   "execution_count": 12,
   "id": "3b6db9e5",
   "metadata": {},
   "outputs": [],
   "source": [
    "#specifing where the rows are coming from\n",
    "ce5['server']='ce5'\n",
    "ce6['server']='ce6'"
   ]
  },
  {
   "cell_type": "code",
   "execution_count": 13,
   "id": "24e1561d",
   "metadata": {},
   "outputs": [
    {
     "data": {
      "text/html": [
       "<div>\n",
       "<style scoped>\n",
       "    .dataframe tbody tr th:only-of-type {\n",
       "        vertical-align: middle;\n",
       "    }\n",
       "\n",
       "    .dataframe tbody tr th {\n",
       "        vertical-align: top;\n",
       "    }\n",
       "\n",
       "    .dataframe thead th {\n",
       "        text-align: right;\n",
       "    }\n",
       "</style>\n",
       "<table border=\"1\" class=\"dataframe\">\n",
       "  <thead>\n",
       "    <tr style=\"text-align: right;\">\n",
       "      <th></th>\n",
       "      <th>TIME</th>\n",
       "      <th>USER</th>\n",
       "      <th>RETRY</th>\n",
       "      <th>LAPSEDTIME</th>\n",
       "      <th>RETURNCODE</th>\n",
       "      <th>COMMAND</th>\n",
       "      <th>server</th>\n",
       "    </tr>\n",
       "  </thead>\n",
       "  <tbody>\n",
       "    <tr>\n",
       "      <th>0</th>\n",
       "      <td>2020-10-16 08:15:39.278699</td>\n",
       "      <td>0</td>\n",
       "      <td>0</td>\n",
       "      <td>0.073476</td>\n",
       "      <td>0</td>\n",
       "      <td>sacct</td>\n",
       "      <td>ce5</td>\n",
       "    </tr>\n",
       "    <tr>\n",
       "      <th>1</th>\n",
       "      <td>2020-10-16 08:18:08.313309</td>\n",
       "      <td>0</td>\n",
       "      <td>0</td>\n",
       "      <td>0.183632</td>\n",
       "      <td>0</td>\n",
       "      <td>sacct</td>\n",
       "      <td>ce5</td>\n",
       "    </tr>\n",
       "    <tr>\n",
       "      <th>2</th>\n",
       "      <td>2020-10-16 08:22:48.128689</td>\n",
       "      <td>0</td>\n",
       "      <td>0</td>\n",
       "      <td>0.075471</td>\n",
       "      <td>0</td>\n",
       "      <td>sacct</td>\n",
       "      <td>ce5</td>\n",
       "    </tr>\n",
       "  </tbody>\n",
       "</table>\n",
       "</div>"
      ],
      "text/plain": [
       "                        TIME USER RETRY  LAPSEDTIME RETURNCODE COMMAND server\n",
       "0 2020-10-16 08:15:39.278699    0     0    0.073476          0   sacct    ce5\n",
       "1 2020-10-16 08:18:08.313309    0     0    0.183632          0   sacct    ce5\n",
       "2 2020-10-16 08:22:48.128689    0     0    0.075471          0   sacct    ce5"
      ]
     },
     "execution_count": 13,
     "metadata": {},
     "output_type": "execute_result"
    }
   ],
   "source": [
    "#concatinating ce5 and ce6\n",
    "ce5_ce6=(ce5.append(ce6,\n",
    "                  ignore_index=True\n",
    "                  )\n",
    "            .sort_values('TIME',\n",
    "                        ascending=True\n",
    "                        )\n",
    "            .astype({'LAPSEDTIME': 'float64'\n",
    "                    })\n",
    "            )\n",
    "ce5_ce6.head(3)"
   ]
  },
  {
   "cell_type": "code",
   "execution_count": 15,
   "id": "a4a7e2a5",
   "metadata": {},
   "outputs": [
    {
     "data": {
      "text/html": [
       "<div>\n",
       "<style scoped>\n",
       "    .dataframe tbody tr th:only-of-type {\n",
       "        vertical-align: middle;\n",
       "    }\n",
       "\n",
       "    .dataframe tbody tr th {\n",
       "        vertical-align: top;\n",
       "    }\n",
       "\n",
       "    .dataframe thead th {\n",
       "        text-align: right;\n",
       "    }\n",
       "</style>\n",
       "<table border=\"1\" class=\"dataframe\">\n",
       "  <thead>\n",
       "    <tr style=\"text-align: right;\">\n",
       "      <th></th>\n",
       "      <th>TIME</th>\n",
       "      <th>USER</th>\n",
       "      <th>RETRY</th>\n",
       "      <th>LAPSEDTIME</th>\n",
       "      <th>RETURNCODE</th>\n",
       "      <th>COMMAND</th>\n",
       "      <th>server</th>\n",
       "      <th>UNRESPONSIVE</th>\n",
       "    </tr>\n",
       "  </thead>\n",
       "  <tbody>\n",
       "    <tr>\n",
       "      <th>0</th>\n",
       "      <td>2020-10-16 08:15:39.278699</td>\n",
       "      <td>0</td>\n",
       "      <td>0</td>\n",
       "      <td>0.073476</td>\n",
       "      <td>0</td>\n",
       "      <td>sacct</td>\n",
       "      <td>ce5</td>\n",
       "      <td>False</td>\n",
       "    </tr>\n",
       "    <tr>\n",
       "      <th>1</th>\n",
       "      <td>2020-10-16 08:18:08.313309</td>\n",
       "      <td>0</td>\n",
       "      <td>0</td>\n",
       "      <td>0.183632</td>\n",
       "      <td>0</td>\n",
       "      <td>sacct</td>\n",
       "      <td>ce5</td>\n",
       "      <td>False</td>\n",
       "    </tr>\n",
       "    <tr>\n",
       "      <th>2</th>\n",
       "      <td>2020-10-16 08:22:48.128689</td>\n",
       "      <td>0</td>\n",
       "      <td>0</td>\n",
       "      <td>0.075471</td>\n",
       "      <td>0</td>\n",
       "      <td>sacct</td>\n",
       "      <td>ce5</td>\n",
       "      <td>False</td>\n",
       "    </tr>\n",
       "  </tbody>\n",
       "</table>\n",
       "</div>"
      ],
      "text/plain": [
       "                        TIME USER RETRY  LAPSEDTIME RETURNCODE COMMAND server  \\\n",
       "0 2020-10-16 08:15:39.278699    0     0    0.073476          0   sacct    ce5   \n",
       "1 2020-10-16 08:18:08.313309    0     0    0.183632          0   sacct    ce5   \n",
       "2 2020-10-16 08:22:48.128689    0     0    0.075471          0   sacct    ce5   \n",
       "\n",
       "   UNRESPONSIVE  \n",
       "0         False  \n",
       "1         False  \n",
       "2         False  "
      ]
     },
     "execution_count": 15,
     "metadata": {},
     "output_type": "execute_result"
    }
   ],
   "source": [
    "#adding unresponsive column\n",
    "ce5_ce6['UNRESPONSIVE']= (ce5_ce6['LAPSEDTIME']>=15.0) & (ce5_ce6['RETURNCODE']=='1')\n",
    "ce5_ce6.head(3)"
   ]
  },
  {
   "cell_type": "code",
   "execution_count": 16,
   "id": "bf8afe78",
   "metadata": {},
   "outputs": [
    {
     "data": {
      "text/plain": [
       "server  UNRESPONSIVE\n",
       "ce5     False           4335065\n",
       "        True             435828\n",
       "ce6     False           4197982\n",
       "        True             578538\n",
       "Name: UNRESPONSIVE, dtype: int64"
      ]
     },
     "execution_count": 16,
     "metadata": {},
     "output_type": "execute_result"
    }
   ],
   "source": [
    "#counts of unresponsive by server\n",
    "ce5_ce6.groupby(['server', 'UNRESPONSIVE'])['UNRESPONSIVE'].count()"
   ]
  },
  {
   "cell_type": "code",
   "execution_count": 17,
   "id": "0b3dedf9",
   "metadata": {},
   "outputs": [
    {
     "data": {
      "text/html": [
       "<div>\n",
       "<style scoped>\n",
       "    .dataframe tbody tr th:only-of-type {\n",
       "        vertical-align: middle;\n",
       "    }\n",
       "\n",
       "    .dataframe tbody tr th {\n",
       "        vertical-align: top;\n",
       "    }\n",
       "\n",
       "    .dataframe thead th {\n",
       "        text-align: right;\n",
       "    }\n",
       "</style>\n",
       "<table border=\"1\" class=\"dataframe\">\n",
       "  <thead>\n",
       "    <tr style=\"text-align: right;\">\n",
       "      <th></th>\n",
       "      <th>TIME</th>\n",
       "      <th>USER</th>\n",
       "      <th>RETRY</th>\n",
       "      <th>LAPSEDTIME</th>\n",
       "      <th>RETURNCODE</th>\n",
       "      <th>COMMAND</th>\n",
       "      <th>server</th>\n",
       "      <th>UNRESPONSIVE</th>\n",
       "    </tr>\n",
       "  </thead>\n",
       "  <tbody>\n",
       "    <tr>\n",
       "      <th>0</th>\n",
       "      <td>2020-10-16 08:15:39.278699</td>\n",
       "      <td>0</td>\n",
       "      <td>0</td>\n",
       "      <td>0.073476</td>\n",
       "      <td>0</td>\n",
       "      <td>sacct</td>\n",
       "      <td>ce5</td>\n",
       "      <td>False</td>\n",
       "    </tr>\n",
       "    <tr>\n",
       "      <th>1</th>\n",
       "      <td>2020-10-16 08:18:08.313309</td>\n",
       "      <td>0</td>\n",
       "      <td>0</td>\n",
       "      <td>0.183632</td>\n",
       "      <td>0</td>\n",
       "      <td>sacct</td>\n",
       "      <td>ce5</td>\n",
       "      <td>False</td>\n",
       "    </tr>\n",
       "    <tr>\n",
       "      <th>2</th>\n",
       "      <td>2020-10-16 08:22:48.128689</td>\n",
       "      <td>0</td>\n",
       "      <td>0</td>\n",
       "      <td>0.075471</td>\n",
       "      <td>0</td>\n",
       "      <td>sacct</td>\n",
       "      <td>ce5</td>\n",
       "      <td>False</td>\n",
       "    </tr>\n",
       "    <tr>\n",
       "      <th>3</th>\n",
       "      <td>2020-10-16 08:25:13.257408</td>\n",
       "      <td>0</td>\n",
       "      <td>0</td>\n",
       "      <td>0.094844</td>\n",
       "      <td>0</td>\n",
       "      <td>sacct</td>\n",
       "      <td>ce5</td>\n",
       "      <td>False</td>\n",
       "    </tr>\n",
       "    <tr>\n",
       "      <th>4</th>\n",
       "      <td>2020-10-16 08:31:01.460723</td>\n",
       "      <td>0</td>\n",
       "      <td>0</td>\n",
       "      <td>0.074988</td>\n",
       "      <td>0</td>\n",
       "      <td>sacct</td>\n",
       "      <td>ce5</td>\n",
       "      <td>False</td>\n",
       "    </tr>\n",
       "  </tbody>\n",
       "</table>\n",
       "</div>"
      ],
      "text/plain": [
       "                        TIME USER RETRY  LAPSEDTIME RETURNCODE COMMAND server  \\\n",
       "0 2020-10-16 08:15:39.278699    0     0    0.073476          0   sacct    ce5   \n",
       "1 2020-10-16 08:18:08.313309    0     0    0.183632          0   sacct    ce5   \n",
       "2 2020-10-16 08:22:48.128689    0     0    0.075471          0   sacct    ce5   \n",
       "3 2020-10-16 08:25:13.257408    0     0    0.094844          0   sacct    ce5   \n",
       "4 2020-10-16 08:31:01.460723    0     0    0.074988          0   sacct    ce5   \n",
       "\n",
       "   UNRESPONSIVE  \n",
       "0         False  \n",
       "1         False  \n",
       "2         False  \n",
       "3         False  \n",
       "4         False  "
      ]
     },
     "execution_count": 17,
     "metadata": {},
     "output_type": "execute_result"
    }
   ],
   "source": [
    "ce5_ce6.head(5)"
   ]
  },
  {
   "cell_type": "code",
   "execution_count": 18,
   "id": "9815db28",
   "metadata": {},
   "outputs": [],
   "source": [
    "#read into a new df\n",
    "ce5_ce6.to_csv('../data/both_logs.csv',\n",
    "              index= False)"
   ]
  },
  {
   "cell_type": "code",
   "execution_count": 19,
   "id": "9a60c4b0",
   "metadata": {},
   "outputs": [
    {
     "data": {
      "text/html": [
       "<div>\n",
       "<style scoped>\n",
       "    .dataframe tbody tr th:only-of-type {\n",
       "        vertical-align: middle;\n",
       "    }\n",
       "\n",
       "    .dataframe tbody tr th {\n",
       "        vertical-align: top;\n",
       "    }\n",
       "\n",
       "    .dataframe thead th {\n",
       "        text-align: right;\n",
       "    }\n",
       "</style>\n",
       "<table border=\"1\" class=\"dataframe\">\n",
       "  <thead>\n",
       "    <tr style=\"text-align: right;\">\n",
       "      <th></th>\n",
       "      <th>TIME</th>\n",
       "      <th>USER</th>\n",
       "      <th>RETRY</th>\n",
       "      <th>LAPSEDTIME</th>\n",
       "      <th>RETURNCODE</th>\n",
       "      <th>COMMAND</th>\n",
       "      <th>server</th>\n",
       "      <th>UNRESPONSIVE</th>\n",
       "    </tr>\n",
       "  </thead>\n",
       "  <tbody>\n",
       "    <tr>\n",
       "      <th>4807806</th>\n",
       "      <td>2020-10-18 06:16:25.392946</td>\n",
       "      <td>9204</td>\n",
       "      <td>0</td>\n",
       "      <td>20.037672</td>\n",
       "      <td>1</td>\n",
       "      <td>sbatch</td>\n",
       "      <td>ce6</td>\n",
       "      <td>True</td>\n",
       "    </tr>\n",
       "    <tr>\n",
       "      <th>4808498</th>\n",
       "      <td>2020-10-18 06:38:44.172473</td>\n",
       "      <td>9204</td>\n",
       "      <td>0</td>\n",
       "      <td>20.038736</td>\n",
       "      <td>1</td>\n",
       "      <td>sbatch</td>\n",
       "      <td>ce6</td>\n",
       "      <td>True</td>\n",
       "    </tr>\n",
       "    <tr>\n",
       "      <th>49958</th>\n",
       "      <td>2020-10-18 06:53:44.272915</td>\n",
       "      <td>9204</td>\n",
       "      <td>0</td>\n",
       "      <td>20.038464</td>\n",
       "      <td>1</td>\n",
       "      <td>sbatch</td>\n",
       "      <td>ce5</td>\n",
       "      <td>True</td>\n",
       "    </tr>\n",
       "  </tbody>\n",
       "</table>\n",
       "</div>"
      ],
      "text/plain": [
       "                              TIME  USER RETRY  LAPSEDTIME RETURNCODE COMMAND  \\\n",
       "4807806 2020-10-18 06:16:25.392946  9204     0   20.037672          1  sbatch   \n",
       "4808498 2020-10-18 06:38:44.172473  9204     0   20.038736          1  sbatch   \n",
       "49958   2020-10-18 06:53:44.272915  9204     0   20.038464          1  sbatch   \n",
       "\n",
       "        server  UNRESPONSIVE  \n",
       "4807806    ce6          True  \n",
       "4808498    ce6          True  \n",
       "49958      ce5          True  "
      ]
     },
     "execution_count": 19,
     "metadata": {},
     "output_type": "execute_result"
    }
   ],
   "source": [
    "#limiting the data to sbatch and finding out the timeouts \n",
    "time_outs=ce5_ce6[(ce5_ce6['USER']=='9204') &\n",
    "                 (ce5_ce6['RETURNCODE']=='1') &\n",
    "                 (ce5_ce6 ['LAPSEDTIME']>15.0) &\n",
    "                 (ce5_ce6['COMMAND']=='sbatch')]\n",
    "\n",
    "time_outs.head(3)"
   ]
  },
  {
   "cell_type": "code",
   "execution_count": 20,
   "id": "33e06db6",
   "metadata": {},
   "outputs": [
    {
     "data": {
      "text/html": [
       "<div>\n",
       "<style scoped>\n",
       "    .dataframe tbody tr th:only-of-type {\n",
       "        vertical-align: middle;\n",
       "    }\n",
       "\n",
       "    .dataframe tbody tr th {\n",
       "        vertical-align: top;\n",
       "    }\n",
       "\n",
       "    .dataframe thead th {\n",
       "        text-align: right;\n",
       "    }\n",
       "</style>\n",
       "<table border=\"1\" class=\"dataframe\">\n",
       "  <thead>\n",
       "    <tr style=\"text-align: right;\">\n",
       "      <th></th>\n",
       "      <th>TIME</th>\n",
       "      <th>USER</th>\n",
       "      <th>RETRY</th>\n",
       "      <th>LAPSEDTIME</th>\n",
       "      <th>RETURNCODE</th>\n",
       "      <th>COMMAND</th>\n",
       "      <th>server</th>\n",
       "      <th>UNRESPONSIVE</th>\n",
       "      <th>time_out_per_hour</th>\n",
       "    </tr>\n",
       "  </thead>\n",
       "  <tbody>\n",
       "    <tr>\n",
       "      <th>4807806</th>\n",
       "      <td>2020-10-18 06:16:25.392946</td>\n",
       "      <td>9204</td>\n",
       "      <td>0</td>\n",
       "      <td>20.037672</td>\n",
       "      <td>1</td>\n",
       "      <td>sbatch</td>\n",
       "      <td>ce6</td>\n",
       "      <td>True</td>\n",
       "      <td>1.0</td>\n",
       "    </tr>\n",
       "    <tr>\n",
       "      <th>4808498</th>\n",
       "      <td>2020-10-18 06:38:44.172473</td>\n",
       "      <td>9204</td>\n",
       "      <td>0</td>\n",
       "      <td>20.038736</td>\n",
       "      <td>1</td>\n",
       "      <td>sbatch</td>\n",
       "      <td>ce6</td>\n",
       "      <td>True</td>\n",
       "      <td>2.0</td>\n",
       "    </tr>\n",
       "    <tr>\n",
       "      <th>49958</th>\n",
       "      <td>2020-10-18 06:53:44.272915</td>\n",
       "      <td>9204</td>\n",
       "      <td>0</td>\n",
       "      <td>20.038464</td>\n",
       "      <td>1</td>\n",
       "      <td>sbatch</td>\n",
       "      <td>ce5</td>\n",
       "      <td>True</td>\n",
       "      <td>3.0</td>\n",
       "    </tr>\n",
       "  </tbody>\n",
       "</table>\n",
       "</div>"
      ],
      "text/plain": [
       "                              TIME  USER RETRY  LAPSEDTIME RETURNCODE COMMAND  \\\n",
       "4807806 2020-10-18 06:16:25.392946  9204     0   20.037672          1  sbatch   \n",
       "4808498 2020-10-18 06:38:44.172473  9204     0   20.038736          1  sbatch   \n",
       "49958   2020-10-18 06:53:44.272915  9204     0   20.038464          1  sbatch   \n",
       "\n",
       "        server  UNRESPONSIVE  time_out_per_hour  \n",
       "4807806    ce6          True                1.0  \n",
       "4808498    ce6          True                2.0  \n",
       "49958      ce5          True                3.0  "
      ]
     },
     "execution_count": 20,
     "metadata": {},
     "output_type": "execute_result"
    }
   ],
   "source": [
    "#time outs per hour \n",
    "time_outs=time_outs.sort_values('TIME')\n",
    "time_outs['time_out_per_hour'] = (time_outs\n",
    "                                 .rolling ('1h', on= 'TIME')['USER']\n",
    "                                 .count() \n",
    "                                 )\n",
    "time_outs.head(3)"
   ]
  },
  {
   "cell_type": "code",
   "execution_count": 21,
   "id": "b85f4c99",
   "metadata": {},
   "outputs": [
    {
     "data": {
      "text/html": [
       "<div>\n",
       "<style scoped>\n",
       "    .dataframe tbody tr th:only-of-type {\n",
       "        vertical-align: middle;\n",
       "    }\n",
       "\n",
       "    .dataframe tbody tr th {\n",
       "        vertical-align: top;\n",
       "    }\n",
       "\n",
       "    .dataframe thead th {\n",
       "        text-align: right;\n",
       "    }\n",
       "</style>\n",
       "<table border=\"1\" class=\"dataframe\">\n",
       "  <thead>\n",
       "    <tr style=\"text-align: right;\">\n",
       "      <th></th>\n",
       "      <th>TIME</th>\n",
       "      <th>USER</th>\n",
       "      <th>RETRY</th>\n",
       "      <th>LAPSEDTIME</th>\n",
       "      <th>RETURNCODE</th>\n",
       "      <th>COMMAND</th>\n",
       "      <th>server</th>\n",
       "      <th>UNRESPONSIVE</th>\n",
       "      <th>time_out_per_hour</th>\n",
       "      <th>time_out_per_week</th>\n",
       "    </tr>\n",
       "  </thead>\n",
       "  <tbody>\n",
       "    <tr>\n",
       "      <th>4807806</th>\n",
       "      <td>2020-10-18 06:16:25.392946</td>\n",
       "      <td>9204</td>\n",
       "      <td>0</td>\n",
       "      <td>20.037672</td>\n",
       "      <td>1</td>\n",
       "      <td>sbatch</td>\n",
       "      <td>ce6</td>\n",
       "      <td>True</td>\n",
       "      <td>1.0</td>\n",
       "      <td>1.0</td>\n",
       "    </tr>\n",
       "    <tr>\n",
       "      <th>4808498</th>\n",
       "      <td>2020-10-18 06:38:44.172473</td>\n",
       "      <td>9204</td>\n",
       "      <td>0</td>\n",
       "      <td>20.038736</td>\n",
       "      <td>1</td>\n",
       "      <td>sbatch</td>\n",
       "      <td>ce6</td>\n",
       "      <td>True</td>\n",
       "      <td>2.0</td>\n",
       "      <td>2.0</td>\n",
       "    </tr>\n",
       "    <tr>\n",
       "      <th>49958</th>\n",
       "      <td>2020-10-18 06:53:44.272915</td>\n",
       "      <td>9204</td>\n",
       "      <td>0</td>\n",
       "      <td>20.038464</td>\n",
       "      <td>1</td>\n",
       "      <td>sbatch</td>\n",
       "      <td>ce5</td>\n",
       "      <td>True</td>\n",
       "      <td>3.0</td>\n",
       "      <td>3.0</td>\n",
       "    </tr>\n",
       "  </tbody>\n",
       "</table>\n",
       "</div>"
      ],
      "text/plain": [
       "                              TIME  USER RETRY  LAPSEDTIME RETURNCODE COMMAND  \\\n",
       "4807806 2020-10-18 06:16:25.392946  9204     0   20.037672          1  sbatch   \n",
       "4808498 2020-10-18 06:38:44.172473  9204     0   20.038736          1  sbatch   \n",
       "49958   2020-10-18 06:53:44.272915  9204     0   20.038464          1  sbatch   \n",
       "\n",
       "        server  UNRESPONSIVE  time_out_per_hour  time_out_per_week  \n",
       "4807806    ce6          True                1.0                1.0  \n",
       "4808498    ce6          True                2.0                2.0  \n",
       "49958      ce5          True                3.0                3.0  "
      ]
     },
     "execution_count": 21,
     "metadata": {},
     "output_type": "execute_result"
    }
   ],
   "source": [
    "#time outs per week\n",
    "time_outs=time_outs.sort_values('TIME')\n",
    "time_outs['time_out_per_week'] = (time_outs\n",
    "                                 .rolling ('7d', on= 'TIME')['USER']\n",
    "                                 .count() \n",
    "                                 )\n",
    "time_outs.head(3)"
   ]
  },
  {
   "cell_type": "code",
   "execution_count": 22,
   "id": "7cdf6c92",
   "metadata": {},
   "outputs": [],
   "source": [
    "#reading time outs to a new df\n",
    "time_outs.to_csv('../data/time_outs.csv',\n",
    "                index=False)"
   ]
  },
  {
   "cell_type": "code",
   "execution_count": 23,
   "id": "29c56c73",
   "metadata": {},
   "outputs": [
    {
     "data": {
      "text/html": [
       "<div>\n",
       "<style scoped>\n",
       "    .dataframe tbody tr th:only-of-type {\n",
       "        vertical-align: middle;\n",
       "    }\n",
       "\n",
       "    .dataframe tbody tr th {\n",
       "        vertical-align: top;\n",
       "    }\n",
       "\n",
       "    .dataframe thead th {\n",
       "        text-align: right;\n",
       "    }\n",
       "</style>\n",
       "<table border=\"1\" class=\"dataframe\">\n",
       "  <thead>\n",
       "    <tr style=\"text-align: right;\">\n",
       "      <th></th>\n",
       "      <th>LAPSEDTIME</th>\n",
       "      <th>time_out_per_hour</th>\n",
       "      <th>time_out_per_week</th>\n",
       "    </tr>\n",
       "  </thead>\n",
       "  <tbody>\n",
       "    <tr>\n",
       "      <th>count</th>\n",
       "      <td>3296.000000</td>\n",
       "      <td>3296.000000</td>\n",
       "      <td>3296.000000</td>\n",
       "    </tr>\n",
       "    <tr>\n",
       "      <th>mean</th>\n",
       "      <td>20.361547</td>\n",
       "      <td>4.503034</td>\n",
       "      <td>149.728459</td>\n",
       "    </tr>\n",
       "    <tr>\n",
       "      <th>std</th>\n",
       "      <td>2.352944</td>\n",
       "      <td>4.156643</td>\n",
       "      <td>141.356996</td>\n",
       "    </tr>\n",
       "    <tr>\n",
       "      <th>min</th>\n",
       "      <td>19.025584</td>\n",
       "      <td>1.000000</td>\n",
       "      <td>1.000000</td>\n",
       "    </tr>\n",
       "    <tr>\n",
       "      <th>25%</th>\n",
       "      <td>20.033297</td>\n",
       "      <td>2.000000</td>\n",
       "      <td>48.000000</td>\n",
       "    </tr>\n",
       "    <tr>\n",
       "      <th>50%</th>\n",
       "      <td>20.040104</td>\n",
       "      <td>3.000000</td>\n",
       "      <td>99.000000</td>\n",
       "    </tr>\n",
       "    <tr>\n",
       "      <th>75%</th>\n",
       "      <td>20.046859</td>\n",
       "      <td>6.000000</td>\n",
       "      <td>211.000000</td>\n",
       "    </tr>\n",
       "    <tr>\n",
       "      <th>max</th>\n",
       "      <td>43.078285</td>\n",
       "      <td>26.000000</td>\n",
       "      <td>564.000000</td>\n",
       "    </tr>\n",
       "  </tbody>\n",
       "</table>\n",
       "</div>"
      ],
      "text/plain": [
       "        LAPSEDTIME  time_out_per_hour  time_out_per_week\n",
       "count  3296.000000        3296.000000        3296.000000\n",
       "mean     20.361547           4.503034         149.728459\n",
       "std       2.352944           4.156643         141.356996\n",
       "min      19.025584           1.000000           1.000000\n",
       "25%      20.033297           2.000000          48.000000\n",
       "50%      20.040104           3.000000          99.000000\n",
       "75%      20.046859           6.000000         211.000000\n",
       "max      43.078285          26.000000         564.000000"
      ]
     },
     "execution_count": 23,
     "metadata": {},
     "output_type": "execute_result"
    }
   ],
   "source": [
    "time_outs.describe()"
   ]
  },
  {
   "cell_type": "code",
   "execution_count": 24,
   "id": "723390e8",
   "metadata": {},
   "outputs": [
    {
     "data": {
      "image/png": "[encoded data removed]",
      "text/plain": [
       "<Figure size 432x288 with 1 Axes>"
      ]
     },
     "metadata": {
      "needs_background": "light"
     },
     "output_type": "display_data"
    }
   ],
   "source": [
    "#plotting time out per hour\n",
    "time_outs.plot(x='TIME',\n",
    "              y= 'time_out_per_hour');"
   ]
  },
  {
   "cell_type": "code",
   "execution_count": 25,
   "id": "8c43abd3",
   "metadata": {},
   "outputs": [
    {
     "data": {
      "image/png": "[encoded data removed]",
      "text/plain": [
       "<Figure size 432x288 with 1 Axes>"
      ]
     },
     "metadata": {
      "needs_background": "light"
     },
     "output_type": "display_data"
    }
   ],
   "source": [
    "#plotting time out per week\n",
    "time_outs.plot(x='TIME',\n",
    "              y= 'time_out_per_week');"
   ]
  },
  {
   "cell_type": "code",
   "execution_count": 26,
   "id": "3e102a39",
   "metadata": {},
   "outputs": [
    {
     "data": {
      "image/png": "[encoded data removed]",
      "text/plain": [
       "<Figure size 432x288 with 1 Axes>"
      ]
     },
     "metadata": {
      "needs_background": "light"
     },
     "output_type": "display_data"
    }
   ],
   "source": [
    "##plotting time out per server\n",
    "sns.histplot(data = time_outs,\n",
    "            x = 'server');"
   ]
  },
  {
   "cell_type": "code",
   "execution_count": 27,
   "id": "2db054f3",
   "metadata": {},
   "outputs": [],
   "source": [
    "#below codes limit the data set to sbatch and user 9204"
   ]
  },
  {
   "cell_type": "code",
   "execution_count": 28,
   "id": "22d2a249",
   "metadata": {},
   "outputs": [],
   "source": [
    "#limiting the data to sbatch \n",
    "sbatch= ce5_ce6[ce5_ce6['COMMAND'].str.contains('sbatch')]"
   ]
  },
  {
   "cell_type": "code",
   "execution_count": 29,
   "id": "5da56761",
   "metadata": {},
   "outputs": [],
   "source": [
    "#seperating the user 9204 info\n",
    "user_9204= sbatch[sbatch['USER']=='9204']"
   ]
  },
  {
   "cell_type": "code",
   "execution_count": 30,
   "id": "1956936b",
   "metadata": {},
   "outputs": [
    {
     "data": {
      "text/html": [
       "<div>\n",
       "<style scoped>\n",
       "    .dataframe tbody tr th:only-of-type {\n",
       "        vertical-align: middle;\n",
       "    }\n",
       "\n",
       "    .dataframe tbody tr th {\n",
       "        vertical-align: top;\n",
       "    }\n",
       "\n",
       "    .dataframe thead th {\n",
       "        text-align: right;\n",
       "    }\n",
       "</style>\n",
       "<table border=\"1\" class=\"dataframe\">\n",
       "  <thead>\n",
       "    <tr style=\"text-align: right;\">\n",
       "      <th></th>\n",
       "      <th>TIME</th>\n",
       "      <th>USER</th>\n",
       "      <th>RETRY</th>\n",
       "      <th>LAPSEDTIME</th>\n",
       "      <th>RETURNCODE</th>\n",
       "      <th>COMMAND</th>\n",
       "      <th>server</th>\n",
       "      <th>UNRESPONSIVE</th>\n",
       "    </tr>\n",
       "  </thead>\n",
       "  <tbody>\n",
       "    <tr>\n",
       "      <th>4807806</th>\n",
       "      <td>2020-10-18 06:16:25.392946</td>\n",
       "      <td>9204</td>\n",
       "      <td>0</td>\n",
       "      <td>20.037672</td>\n",
       "      <td>1</td>\n",
       "      <td>sbatch</td>\n",
       "      <td>ce6</td>\n",
       "      <td>True</td>\n",
       "    </tr>\n",
       "    <tr>\n",
       "      <th>4808498</th>\n",
       "      <td>2020-10-18 06:38:44.172473</td>\n",
       "      <td>9204</td>\n",
       "      <td>0</td>\n",
       "      <td>20.038736</td>\n",
       "      <td>1</td>\n",
       "      <td>sbatch</td>\n",
       "      <td>ce6</td>\n",
       "      <td>True</td>\n",
       "    </tr>\n",
       "    <tr>\n",
       "      <th>49958</th>\n",
       "      <td>2020-10-18 06:53:44.272915</td>\n",
       "      <td>9204</td>\n",
       "      <td>0</td>\n",
       "      <td>20.038464</td>\n",
       "      <td>1</td>\n",
       "      <td>sbatch</td>\n",
       "      <td>ce5</td>\n",
       "      <td>True</td>\n",
       "    </tr>\n",
       "  </tbody>\n",
       "</table>\n",
       "</div>"
      ],
      "text/plain": [
       "                              TIME  USER RETRY  LAPSEDTIME RETURNCODE COMMAND  \\\n",
       "4807806 2020-10-18 06:16:25.392946  9204     0   20.037672          1  sbatch   \n",
       "4808498 2020-10-18 06:38:44.172473  9204     0   20.038736          1  sbatch   \n",
       "49958   2020-10-18 06:53:44.272915  9204     0   20.038464          1  sbatch   \n",
       "\n",
       "        server  UNRESPONSIVE  \n",
       "4807806    ce6          True  \n",
       "4808498    ce6          True  \n",
       "49958      ce5          True  "
      ]
     },
     "execution_count": 30,
     "metadata": {},
     "output_type": "execute_result"
    }
   ],
   "source": [
    "#finding out when user 9204 was unresponsive  \n",
    "unresponsive= user_9204.loc[(user_9204['RETURNCODE']=='1') & (user_9204['LAPSEDTIME']>15)]\n",
    "unresponsive.head(3)"
   ]
  },
  {
   "cell_type": "code",
   "execution_count": 31,
   "id": "7321579d",
   "metadata": {},
   "outputs": [
    {
     "data": {
      "text/plain": [
       "0.05381488072885202"
      ]
     },
     "execution_count": 31,
     "metadata": {},
     "output_type": "execute_result"
    }
   ],
   "source": [
    "#proportion of time outs \n",
    "unresponsive.shape[0]/user_9204.shape[0]"
   ]
  },
  {
   "cell_type": "code",
   "execution_count": 32,
   "id": "6928b630",
   "metadata": {},
   "outputs": [
    {
     "data": {
      "text/plain": [
       "count    3296.000000\n",
       "mean       20.361547\n",
       "std         2.352944\n",
       "min        19.025584\n",
       "25%        20.033297\n",
       "50%        20.040104\n",
       "75%        20.046859\n",
       "max        43.078285\n",
       "Name: LAPSEDTIME, dtype: float64"
      ]
     },
     "execution_count": 32,
     "metadata": {},
     "output_type": "execute_result"
    }
   ],
   "source": [
    "unresponsive['LAPSEDTIME'].describe()"
   ]
  },
  {
   "cell_type": "code",
   "execution_count": 33,
   "id": "d1412824",
   "metadata": {},
   "outputs": [
    {
     "data": {
      "image/png": "[encoded data removed]",
      "text/plain": [
       "<Figure size 720x432 with 1 Axes>"
      ]
     },
     "metadata": {
      "needs_background": "light"
     },
     "output_type": "display_data"
    }
   ],
   "source": [
    "#plot time out jobs for user 9204 \n",
    "unresponsive[['TIME', 'LAPSEDTIME']].set_index('TIME')['LAPSEDTIME'].plot(figsize=(10,6))\n",
    "plt.title('Times Out Jobs for User 9204');"
   ]
  },
  {
   "cell_type": "code",
   "execution_count": 34,
   "id": "b1a1f78b",
   "metadata": {
    "scrolled": true
   },
   "outputs": [
    {
     "data": {
      "text/html": [
       "<div>\n",
       "<style scoped>\n",
       "    .dataframe tbody tr th:only-of-type {\n",
       "        vertical-align: middle;\n",
       "    }\n",
       "\n",
       "    .dataframe tbody tr th {\n",
       "        vertical-align: top;\n",
       "    }\n",
       "\n",
       "    .dataframe thead th {\n",
       "        text-align: right;\n",
       "    }\n",
       "</style>\n",
       "<table border=\"1\" class=\"dataframe\">\n",
       "  <thead>\n",
       "    <tr style=\"text-align: right;\">\n",
       "      <th></th>\n",
       "      <th>TIME</th>\n",
       "      <th>USER</th>\n",
       "      <th>RETRY</th>\n",
       "      <th>LAPSEDTIME</th>\n",
       "      <th>RETURNCODE</th>\n",
       "      <th>COMMAND</th>\n",
       "      <th>server</th>\n",
       "      <th>UNRESPONSIVE</th>\n",
       "    </tr>\n",
       "  </thead>\n",
       "  <tbody>\n",
       "    <tr>\n",
       "      <th>136</th>\n",
       "      <td>2020-10-16 08:34:42.779719</td>\n",
       "      <td>9204</td>\n",
       "      <td>0</td>\n",
       "      <td>5.240251</td>\n",
       "      <td>0</td>\n",
       "      <td>sbatch</td>\n",
       "      <td>ce5</td>\n",
       "      <td>False</td>\n",
       "    </tr>\n",
       "    <tr>\n",
       "      <th>478</th>\n",
       "      <td>2020-10-16 08:53:15.711346</td>\n",
       "      <td>9204</td>\n",
       "      <td>0</td>\n",
       "      <td>0.142444</td>\n",
       "      <td>0</td>\n",
       "      <td>sbatch</td>\n",
       "      <td>ce5</td>\n",
       "      <td>False</td>\n",
       "    </tr>\n",
       "    <tr>\n",
       "      <th>670</th>\n",
       "      <td>2020-10-16 09:04:56.472464</td>\n",
       "      <td>9204</td>\n",
       "      <td>0</td>\n",
       "      <td>0.066345</td>\n",
       "      <td>0</td>\n",
       "      <td>sbatch</td>\n",
       "      <td>ce5</td>\n",
       "      <td>False</td>\n",
       "    </tr>\n",
       "  </tbody>\n",
       "</table>\n",
       "</div>"
      ],
      "text/plain": [
       "                          TIME  USER RETRY  LAPSEDTIME RETURNCODE COMMAND  \\\n",
       "136 2020-10-16 08:34:42.779719  9204     0    5.240251          0  sbatch   \n",
       "478 2020-10-16 08:53:15.711346  9204     0    0.142444          0  sbatch   \n",
       "670 2020-10-16 09:04:56.472464  9204     0    0.066345          0  sbatch   \n",
       "\n",
       "    server  UNRESPONSIVE  \n",
       "136    ce5         False  \n",
       "478    ce5         False  \n",
       "670    ce5         False  "
      ]
     },
     "execution_count": 34,
     "metadata": {},
     "output_type": "execute_result"
    }
   ],
   "source": [
    "#getting data for user 9204 that were sucessful\n",
    "comp_9204=user_9204.loc[(user_9204['RETURNCODE']=='0') & (user_9204['LAPSEDTIME']<15)]\n",
    "comp_9204.head(3)"
   ]
  },
  {
   "cell_type": "code",
   "execution_count": 35,
   "id": "991032b6",
   "metadata": {},
   "outputs": [
    {
     "data": {
      "image/png": "[encoded data removed]",
      "text/plain": [
       "<Figure size 720x432 with 1 Axes>"
      ]
     },
     "metadata": {
      "needs_background": "light"
     },
     "output_type": "display_data"
    }
   ],
   "source": [
    "#plotting completed jobs vs. timesd out jobs for user 9204\n",
    "plt.figure (figsize=(10,6))\n",
    "unresponsive[['TIME', 'LAPSEDTIME']].set_index('TIME')['LAPSEDTIME'].plot(color= 'red', label='Timed Out')\n",
    "comp_9204[['TIME', 'LAPSEDTIME']].set_index('TIME')['LAPSEDTIME'].plot(color='blue', label= 'Completed')\n",
    "plt.title('Completed vs. Timed Out Jobs for user 9204', fontsize= 16)\n",
    "plt.legend();"
   ]
  },
  {
   "cell_type": "code",
   "execution_count": null,
   "id": "fa4ee23e",
   "metadata": {},
   "outputs": [],
   "source": []
  },
  {
   "cell_type": "code",
   "execution_count": null,
   "id": "45b7e559",
   "metadata": {},
   "outputs": [],
   "source": []
  },
  {
   "cell_type": "code",
   "execution_count": null,
   "id": "0fcd9e67",
   "metadata": {},
   "outputs": [],
   "source": []
  }
 ],
 "metadata": {
  "kernelspec": {
   "display_name": "Python 3",
   "language": "python",
   "name": "python3"
  },
  "language_info": {
   "codemirror_mode": {
    "name": "ipython",
    "version": 3
   },
   "file_extension": ".py",
   "mimetype": "text/x-python",
   "name": "python",
   "nbconvert_exporter": "python",
   "pygments_lexer": "ipython3",
   "version": "3.8.8"
  }
 },
 "nbformat": 4,
 "nbformat_minor": 5
}
