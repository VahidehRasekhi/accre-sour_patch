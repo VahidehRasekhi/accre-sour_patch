{
 "cells": [
  {
   "cell_type": "code",
   "execution_count": 2,
   "id": "9c8e6b47",
   "metadata": {},
   "outputs": [],
   "source": [
    "import pandas as pd\n",
    "import numpy as np\n",
    "import matplotlib.pyplot as plt\n",
    "import statsmodels.api as sm\n",
    "import seaborn as sns\n",
    "import re\n",
    "from datetime import timedelta, datetime"
   ]
  },
  {
   "cell_type": "code",
   "execution_count": 3,
   "id": "ed4b0a68",
   "metadata": {},
   "outputs": [
    {
     "name": "stderr",
     "output_type": "stream",
     "text": [
      "<ipython-input-3-ca636848d0fa>:1: ParserWarning: Falling back to the 'python' engine because the 'c' engine does not support regex separators (separators > 1 char and different from '\\s+' are interpreted as regex); you can avoid this warning by specifying engine='python'.\n",
      "  ce5_log=pd.read_csv('./ce5.log',sep=\" - \", header=None)\n"
     ]
    }
   ],
   "source": [
    "ce5_log=pd.read_csv('./ce5.log',sep=\" - \", header=None)\n"
   ]
  },
  {
   "cell_type": "code",
   "execution_count": 4,
   "id": "49df4899",
   "metadata": {},
   "outputs": [
    {
     "data": {
      "text/html": [
       "<div>\n",
       "<style scoped>\n",
       "    .dataframe tbody tr th:only-of-type {\n",
       "        vertical-align: middle;\n",
       "    }\n",
       "\n",
       "    .dataframe tbody tr th {\n",
       "        vertical-align: top;\n",
       "    }\n",
       "\n",
       "    .dataframe thead th {\n",
       "        text-align: right;\n",
       "    }\n",
       "</style>\n",
       "<table border=\"1\" class=\"dataframe\">\n",
       "  <thead>\n",
       "    <tr style=\"text-align: right;\">\n",
       "      <th></th>\n",
       "      <th>0</th>\n",
       "      <th>1</th>\n",
       "      <th>2</th>\n",
       "      <th>3</th>\n",
       "      <th>4</th>\n",
       "      <th>5</th>\n",
       "    </tr>\n",
       "  </thead>\n",
       "  <tbody>\n",
       "    <tr>\n",
       "      <th>0</th>\n",
       "      <td>2020-10-16 08:15:39.278699</td>\n",
       "      <td>user 0</td>\n",
       "      <td>retry 0</td>\n",
       "      <td>time 0.07347559928894043</td>\n",
       "      <td>returncode 0</td>\n",
       "      <td>command ['/usr/bin/sacct', '-u', 'appelte1', '...</td>\n",
       "    </tr>\n",
       "    <tr>\n",
       "      <th>1</th>\n",
       "      <td>2020-10-16 08:18:08.313309</td>\n",
       "      <td>user 0</td>\n",
       "      <td>retry 0</td>\n",
       "      <td>time 0.18363237380981445</td>\n",
       "      <td>returncode 0</td>\n",
       "      <td>command ['/usr/bin/sacct', '-u', 'appelte1', '...</td>\n",
       "    </tr>\n",
       "    <tr>\n",
       "      <th>2</th>\n",
       "      <td>2020-10-16 08:22:48.128689</td>\n",
       "      <td>user 0</td>\n",
       "      <td>retry 0</td>\n",
       "      <td>time 0.07547116279602051</td>\n",
       "      <td>returncode 0</td>\n",
       "      <td>command ['/usr/bin/sacct', '-u', 'appelte1', '...</td>\n",
       "    </tr>\n",
       "    <tr>\n",
       "      <th>3</th>\n",
       "      <td>2020-10-16 08:25:13.257408</td>\n",
       "      <td>user 0</td>\n",
       "      <td>retry 0</td>\n",
       "      <td>time 0.09484362602233887</td>\n",
       "      <td>returncode 0</td>\n",
       "      <td>command ['/usr/bin/sacct', '-u', 'appelte1', '...</td>\n",
       "    </tr>\n",
       "    <tr>\n",
       "      <th>4</th>\n",
       "      <td>2020-10-16 08:31:01.460723</td>\n",
       "      <td>user 0</td>\n",
       "      <td>retry 0</td>\n",
       "      <td>time 0.07498788833618164</td>\n",
       "      <td>returncode 0</td>\n",
       "      <td>command ['/usr/bin/sacct', '-u', 'appelte1', '...</td>\n",
       "    </tr>\n",
       "  </tbody>\n",
       "</table>\n",
       "</div>"
      ],
      "text/plain": [
       "                            0       1        2                         3  \\\n",
       "0  2020-10-16 08:15:39.278699  user 0  retry 0  time 0.07347559928894043   \n",
       "1  2020-10-16 08:18:08.313309  user 0  retry 0  time 0.18363237380981445   \n",
       "2  2020-10-16 08:22:48.128689  user 0  retry 0  time 0.07547116279602051   \n",
       "3  2020-10-16 08:25:13.257408  user 0  retry 0  time 0.09484362602233887   \n",
       "4  2020-10-16 08:31:01.460723  user 0  retry 0  time 0.07498788833618164   \n",
       "\n",
       "              4                                                  5  \n",
       "0  returncode 0  command ['/usr/bin/sacct', '-u', 'appelte1', '...  \n",
       "1  returncode 0  command ['/usr/bin/sacct', '-u', 'appelte1', '...  \n",
       "2  returncode 0  command ['/usr/bin/sacct', '-u', 'appelte1', '...  \n",
       "3  returncode 0  command ['/usr/bin/sacct', '-u', 'appelte1', '...  \n",
       "4  returncode 0  command ['/usr/bin/sacct', '-u', 'appelte1', '...  "
      ]
     },
     "execution_count": 4,
     "metadata": {},
     "output_type": "execute_result"
    }
   ],
   "source": [
    "ce5_log.head()"
   ]
  },
  {
   "cell_type": "code",
   "execution_count": 5,
   "id": "391e4a2f",
   "metadata": {},
   "outputs": [],
   "source": [
    "ce5_log=ce5_log.rename(columns={0:'TIME', 1:'USER', 2:'RETRY', 3:'EXECUTION', 4: 'RETURNCODE', 5: 'COMMAND'})"
   ]
  },
  {
   "cell_type": "code",
   "execution_count": 6,
   "id": "605d3a3e",
   "metadata": {},
   "outputs": [
    {
     "data": {
      "text/html": [
       "<div>\n",
       "<style scoped>\n",
       "    .dataframe tbody tr th:only-of-type {\n",
       "        vertical-align: middle;\n",
       "    }\n",
       "\n",
       "    .dataframe tbody tr th {\n",
       "        vertical-align: top;\n",
       "    }\n",
       "\n",
       "    .dataframe thead th {\n",
       "        text-align: right;\n",
       "    }\n",
       "</style>\n",
       "<table border=\"1\" class=\"dataframe\">\n",
       "  <thead>\n",
       "    <tr style=\"text-align: right;\">\n",
       "      <th></th>\n",
       "      <th>TIME</th>\n",
       "      <th>USER</th>\n",
       "      <th>RETRY</th>\n",
       "      <th>EXECUTION</th>\n",
       "      <th>RETURNCODE</th>\n",
       "      <th>COMMAND</th>\n",
       "    </tr>\n",
       "  </thead>\n",
       "  <tbody>\n",
       "    <tr>\n",
       "      <th>0</th>\n",
       "      <td>2020-10-16 08:15:39.278699</td>\n",
       "      <td>user 0</td>\n",
       "      <td>retry 0</td>\n",
       "      <td>time 0.07347559928894043</td>\n",
       "      <td>returncode 0</td>\n",
       "      <td>command ['/usr/bin/sacct', '-u', 'appelte1', '...</td>\n",
       "    </tr>\n",
       "    <tr>\n",
       "      <th>1</th>\n",
       "      <td>2020-10-16 08:18:08.313309</td>\n",
       "      <td>user 0</td>\n",
       "      <td>retry 0</td>\n",
       "      <td>time 0.18363237380981445</td>\n",
       "      <td>returncode 0</td>\n",
       "      <td>command ['/usr/bin/sacct', '-u', 'appelte1', '...</td>\n",
       "    </tr>\n",
       "    <tr>\n",
       "      <th>2</th>\n",
       "      <td>2020-10-16 08:22:48.128689</td>\n",
       "      <td>user 0</td>\n",
       "      <td>retry 0</td>\n",
       "      <td>time 0.07547116279602051</td>\n",
       "      <td>returncode 0</td>\n",
       "      <td>command ['/usr/bin/sacct', '-u', 'appelte1', '...</td>\n",
       "    </tr>\n",
       "    <tr>\n",
       "      <th>3</th>\n",
       "      <td>2020-10-16 08:25:13.257408</td>\n",
       "      <td>user 0</td>\n",
       "      <td>retry 0</td>\n",
       "      <td>time 0.09484362602233887</td>\n",
       "      <td>returncode 0</td>\n",
       "      <td>command ['/usr/bin/sacct', '-u', 'appelte1', '...</td>\n",
       "    </tr>\n",
       "    <tr>\n",
       "      <th>4</th>\n",
       "      <td>2020-10-16 08:31:01.460723</td>\n",
       "      <td>user 0</td>\n",
       "      <td>retry 0</td>\n",
       "      <td>time 0.07498788833618164</td>\n",
       "      <td>returncode 0</td>\n",
       "      <td>command ['/usr/bin/sacct', '-u', 'appelte1', '...</td>\n",
       "    </tr>\n",
       "  </tbody>\n",
       "</table>\n",
       "</div>"
      ],
      "text/plain": [
       "                         TIME    USER    RETRY                 EXECUTION  \\\n",
       "0  2020-10-16 08:15:39.278699  user 0  retry 0  time 0.07347559928894043   \n",
       "1  2020-10-16 08:18:08.313309  user 0  retry 0  time 0.18363237380981445   \n",
       "2  2020-10-16 08:22:48.128689  user 0  retry 0  time 0.07547116279602051   \n",
       "3  2020-10-16 08:25:13.257408  user 0  retry 0  time 0.09484362602233887   \n",
       "4  2020-10-16 08:31:01.460723  user 0  retry 0  time 0.07498788833618164   \n",
       "\n",
       "     RETURNCODE                                            COMMAND  \n",
       "0  returncode 0  command ['/usr/bin/sacct', '-u', 'appelte1', '...  \n",
       "1  returncode 0  command ['/usr/bin/sacct', '-u', 'appelte1', '...  \n",
       "2  returncode 0  command ['/usr/bin/sacct', '-u', 'appelte1', '...  \n",
       "3  returncode 0  command ['/usr/bin/sacct', '-u', 'appelte1', '...  \n",
       "4  returncode 0  command ['/usr/bin/sacct', '-u', 'appelte1', '...  "
      ]
     },
     "execution_count": 6,
     "metadata": {},
     "output_type": "execute_result"
    }
   ],
   "source": [
    "ce5_log.head()"
   ]
  },
  {
   "cell_type": "code",
   "execution_count": 8,
   "id": "3862d9ee",
   "metadata": {},
   "outputs": [],
   "source": [
    "ce5_log['USER']=ce5_log['USER'].str.slice(start=5)"
   ]
  },
  {
   "cell_type": "code",
   "execution_count": 11,
   "id": "72f3fd07",
   "metadata": {},
   "outputs": [],
   "source": [
    "ce5_log['RETRY']=ce5_log['RETRY'].str.slice(start = 6)"
   ]
  },
  {
   "cell_type": "code",
   "execution_count": 14,
   "id": "b91ac52d",
   "metadata": {},
   "outputs": [],
   "source": [
    "ce5_log['EXECUTION']=ce5_log['EXECUTION'].str.slice(start = 5)"
   ]
  },
  {
   "cell_type": "code",
   "execution_count": 16,
   "id": "42c63703",
   "metadata": {},
   "outputs": [],
   "source": [
    "ce5_log['RETURNCODE']=ce5_log['RETURNCODE'].str.slice(start = 11)"
   ]
  },
  {
   "cell_type": "code",
   "execution_count": 62,
   "id": "714b26d1",
   "metadata": {},
   "outputs": [],
   "source": [
    "ce5_log['EXECUTION']= ce5_log['EXECUTION'].astype(float)"
   ]
  },
  {
   "cell_type": "code",
   "execution_count": 17,
   "id": "a390daec",
   "metadata": {},
   "outputs": [
    {
     "data": {
      "text/plain": [
       "array(['0', '9201', '9202', '9203', '9219', '9204', '9221', '112870'],\n",
       "      dtype=object)"
      ]
     },
     "execution_count": 17,
     "metadata": {},
     "output_type": "execute_result"
    }
   ],
   "source": [
    "ce5_log['USER'].unique()"
   ]
  },
  {
   "cell_type": "code",
   "execution_count": 19,
   "id": "a062b545",
   "metadata": {},
   "outputs": [],
   "source": [
    "ce5_log['TIME']=pd.to_datetime(ce5_log['TIME'], format='%Y-%m-%dT%H:%M:%S')"
   ]
  },
  {
   "cell_type": "markdown",
   "id": "01f78808",
   "metadata": {},
   "source": [
    "3. Calculate some descriptive statistics about how often the scheduler was unresponsive, how long these periods of time were, and create a time series plot of when the scheduler was having difficulties."
   ]
  },
  {
   "cell_type": "code",
   "execution_count": 63,
   "id": "fa497aa5",
   "metadata": {},
   "outputs": [],
   "source": [
    "#Filter for sbatch command\n",
    "sbatch=ce5_log[ce5_log['COMMAND'].str.contains('sbatch')]"
   ]
  },
  {
   "cell_type": "code",
   "execution_count": 64,
   "id": "70e6ae75",
   "metadata": {},
   "outputs": [],
   "source": [
    "#Get data for 9204\n",
    "user_9204=sbatch[sbatch['USER'] == '9204']"
   ]
  },
  {
   "cell_type": "code",
   "execution_count": 67,
   "id": "0fab150f",
   "metadata": {},
   "outputs": [
    {
     "data": {
      "text/plain": [
       "0.059558654257243396"
      ]
     },
     "execution_count": 67,
     "metadata": {},
     "output_type": "execute_result"
    }
   ],
   "source": [
    "#Filter for code 1\n",
    "unresponsive=user_9204.loc[(user_9204['RETURNCODE']=='1') & (user_9204['EXECUTION'] > 15)]\n",
    "# proportion of timeout jobs\n",
    "unresponsive.shape[0]/user_9204.shape[0]"
   ]
  },
  {
   "cell_type": "code",
   "execution_count": 69,
   "id": "d2fbf96f",
   "metadata": {},
   "outputs": [
    {
     "data": {
      "text/plain": [
       "count    1811.000000\n",
       "mean       20.451334\n",
       "std         2.705505\n",
       "min        19.025584\n",
       "25%        20.033827\n",
       "50%        20.040414\n",
       "75%        20.047409\n",
       "max        43.075887\n",
       "Name: EXECUTION, dtype: float64"
      ]
     },
     "execution_count": 69,
     "metadata": {},
     "output_type": "execute_result"
    }
   ],
   "source": [
    "unresponsive['EXECUTION'].describe()"
   ]
  },
  {
   "cell_type": "code",
   "execution_count": 83,
   "id": "240f74a3",
   "metadata": {},
   "outputs": [
    {
     "data": {
      "text/html": [
       "<div>\n",
       "<style scoped>\n",
       "    .dataframe tbody tr th:only-of-type {\n",
       "        vertical-align: middle;\n",
       "    }\n",
       "\n",
       "    .dataframe tbody tr th {\n",
       "        vertical-align: top;\n",
       "    }\n",
       "\n",
       "    .dataframe thead th {\n",
       "        text-align: right;\n",
       "    }\n",
       "</style>\n",
       "<table border=\"1\" class=\"dataframe\">\n",
       "  <thead>\n",
       "    <tr style=\"text-align: right;\">\n",
       "      <th></th>\n",
       "      <th>TIME</th>\n",
       "      <th>USER</th>\n",
       "      <th>RETRY</th>\n",
       "      <th>EXECUTION</th>\n",
       "      <th>RETURNCODE</th>\n",
       "      <th>COMMAND</th>\n",
       "    </tr>\n",
       "  </thead>\n",
       "  <tbody>\n",
       "    <tr>\n",
       "      <th>49958</th>\n",
       "      <td>2020-10-18 06:53:44.272915</td>\n",
       "      <td>9204</td>\n",
       "      <td>0</td>\n",
       "      <td>20.038464</td>\n",
       "      <td>1</td>\n",
       "      <td>command ['/usr/bin/sbatch', '/tmp/condor_g_scr...</td>\n",
       "    </tr>\n",
       "    <tr>\n",
       "      <th>49972</th>\n",
       "      <td>2020-10-18 06:54:04.322412</td>\n",
       "      <td>9204</td>\n",
       "      <td>1</td>\n",
       "      <td>20.048906</td>\n",
       "      <td>1</td>\n",
       "      <td>command ['/usr/bin/sbatch', '/tmp/condor_g_scr...</td>\n",
       "    </tr>\n",
       "    <tr>\n",
       "      <th>50467</th>\n",
       "      <td>2020-10-18 07:47:25.825172</td>\n",
       "      <td>9204</td>\n",
       "      <td>0</td>\n",
       "      <td>20.082628</td>\n",
       "      <td>1</td>\n",
       "      <td>command ['/usr/bin/sbatch', '/tmp/condor_g_scr...</td>\n",
       "    </tr>\n",
       "    <tr>\n",
       "      <th>50473</th>\n",
       "      <td>2020-10-18 07:47:45.871008</td>\n",
       "      <td>9204</td>\n",
       "      <td>1</td>\n",
       "      <td>20.045221</td>\n",
       "      <td>1</td>\n",
       "      <td>command ['/usr/bin/sbatch', '/tmp/condor_g_scr...</td>\n",
       "    </tr>\n",
       "    <tr>\n",
       "      <th>50582</th>\n",
       "      <td>2020-10-18 07:53:33.972840</td>\n",
       "      <td>9204</td>\n",
       "      <td>0</td>\n",
       "      <td>20.041486</td>\n",
       "      <td>1</td>\n",
       "      <td>command ['/usr/bin/sbatch', '/tmp/condor_g_scr...</td>\n",
       "    </tr>\n",
       "  </tbody>\n",
       "</table>\n",
       "</div>"
      ],
      "text/plain": [
       "                            TIME  USER RETRY  EXECUTION RETURNCODE  \\\n",
       "49958 2020-10-18 06:53:44.272915  9204     0  20.038464          1   \n",
       "49972 2020-10-18 06:54:04.322412  9204     1  20.048906          1   \n",
       "50467 2020-10-18 07:47:25.825172  9204     0  20.082628          1   \n",
       "50473 2020-10-18 07:47:45.871008  9204     1  20.045221          1   \n",
       "50582 2020-10-18 07:53:33.972840  9204     0  20.041486          1   \n",
       "\n",
       "                                                 COMMAND  \n",
       "49958  command ['/usr/bin/sbatch', '/tmp/condor_g_scr...  \n",
       "49972  command ['/usr/bin/sbatch', '/tmp/condor_g_scr...  \n",
       "50467  command ['/usr/bin/sbatch', '/tmp/condor_g_scr...  \n",
       "50473  command ['/usr/bin/sbatch', '/tmp/condor_g_scr...  \n",
       "50582  command ['/usr/bin/sbatch', '/tmp/condor_g_scr...  "
      ]
     },
     "execution_count": 83,
     "metadata": {},
     "output_type": "execute_result"
    }
   ],
   "source": [
    "unresponsive.head()"
   ]
  },
  {
   "cell_type": "code",
   "execution_count": 98,
   "id": "8de5b496",
   "metadata": {},
   "outputs": [
    {
     "data": {
      "image/png": "[encoded data removed]",
      "text/plain": [
       "<Figure size 720x432 with 1 Axes>"
      ]
     },
     "metadata": {
      "needs_background": "light"
     },
     "output_type": "display_data"
    }
   ],
   "source": [
    "unresponsive[['TIME','EXECUTION']].set_index('TIME')['EXECUTION'].plot(figsize = (10,6))\n",
    "plt.title('Timed Out Jobs for User 9204');"
   ]
  },
  {
   "cell_type": "code",
   "execution_count": 92,
   "id": "afc48d11",
   "metadata": {},
   "outputs": [],
   "source": [
    "resp=user_9204.loc[(user_9204['RETURNCODE']=='0') & (user_9204['EXECUTION'] < 15)]"
   ]
  },
  {
   "cell_type": "code",
   "execution_count": 97,
   "id": "5be6063a",
   "metadata": {},
   "outputs": [
    {
     "data": {
      "image/png": "[encoded data removed]",
      "text/plain": [
       "<Figure size 864x432 with 1 Axes>"
      ]
     },
     "metadata": {
      "needs_background": "light"
     },
     "output_type": "display_data"
    }
   ],
   "source": [
    "plt.figure(figsize = (12,6))\n",
    "unresponsive[['TIME','EXECUTION']].set_index('TIME')['EXECUTION'].plot(color='orange', label ='Timed Out')\n",
    "resp[['TIME','EXECUTION']].set_index('TIME')['EXECUTION'].plot(color='purple', label ='Completed')\n",
    "plt.title('Completed vs Timed Out Jobs for User 9204', fontsize = 18)\n",
    "plt.legend();"
   ]
  },
  {
   "cell_type": "code",
   "execution_count": 109,
   "id": "c60a15fc",
   "metadata": {},
   "outputs": [
    {
     "ename": "MemoryError",
     "evalue": "",
     "output_type": "error",
     "traceback": [
      "\u001b[1;31m---------------------------------------------------------------------------\u001b[0m",
      "\u001b[1;31mMemoryError\u001b[0m                               Traceback (most recent call last)",
      "\u001b[1;32m<ipython-input-109-7897bb70b3ec>\u001b[0m in \u001b[0;36m<module>\u001b[1;34m\u001b[0m\n\u001b[1;32m----> 1\u001b[1;33m \u001b[0mce6\u001b[0m\u001b[1;33m=\u001b[0m\u001b[0mpd\u001b[0m\u001b[1;33m.\u001b[0m\u001b[0mread_csv\u001b[0m\u001b[1;33m(\u001b[0m\u001b[1;34m'./ce6.log'\u001b[0m\u001b[1;33m,\u001b[0m\u001b[0msep\u001b[0m\u001b[1;33m=\u001b[0m\u001b[1;34m\" - \"\u001b[0m\u001b[1;33m,\u001b[0m \u001b[0mheader\u001b[0m\u001b[1;33m=\u001b[0m\u001b[1;32mNone\u001b[0m\u001b[1;33m,\u001b[0m \u001b[0mengine\u001b[0m\u001b[1;33m=\u001b[0m\u001b[1;34m'python'\u001b[0m\u001b[1;33m)\u001b[0m\u001b[1;33m\u001b[0m\u001b[1;33m\u001b[0m\u001b[0m\n\u001b[0m",
      "\u001b[1;32m~\\Anaconda3\\lib\\site-packages\\pandas\\io\\parsers.py\u001b[0m in \u001b[0;36mread_csv\u001b[1;34m(filepath_or_buffer, sep, delimiter, header, names, index_col, usecols, squeeze, prefix, mangle_dupe_cols, dtype, engine, converters, true_values, false_values, skipinitialspace, skiprows, skipfooter, nrows, na_values, keep_default_na, na_filter, verbose, skip_blank_lines, parse_dates, infer_datetime_format, keep_date_col, date_parser, dayfirst, cache_dates, iterator, chunksize, compression, thousands, decimal, lineterminator, quotechar, quoting, doublequote, escapechar, comment, encoding, dialect, error_bad_lines, warn_bad_lines, delim_whitespace, low_memory, memory_map, float_precision, storage_options)\u001b[0m\n\u001b[0;32m    608\u001b[0m     \u001b[0mkwds\u001b[0m\u001b[1;33m.\u001b[0m\u001b[0mupdate\u001b[0m\u001b[1;33m(\u001b[0m\u001b[0mkwds_defaults\u001b[0m\u001b[1;33m)\u001b[0m\u001b[1;33m\u001b[0m\u001b[1;33m\u001b[0m\u001b[0m\n\u001b[0;32m    609\u001b[0m \u001b[1;33m\u001b[0m\u001b[0m\n\u001b[1;32m--> 610\u001b[1;33m     \u001b[1;32mreturn\u001b[0m \u001b[0m_read\u001b[0m\u001b[1;33m(\u001b[0m\u001b[0mfilepath_or_buffer\u001b[0m\u001b[1;33m,\u001b[0m \u001b[0mkwds\u001b[0m\u001b[1;33m)\u001b[0m\u001b[1;33m\u001b[0m\u001b[1;33m\u001b[0m\u001b[0m\n\u001b[0m\u001b[0;32m    611\u001b[0m \u001b[1;33m\u001b[0m\u001b[0m\n\u001b[0;32m    612\u001b[0m \u001b[1;33m\u001b[0m\u001b[0m\n",
      "\u001b[1;32m~\\Anaconda3\\lib\\site-packages\\pandas\\io\\parsers.py\u001b[0m in \u001b[0;36m_read\u001b[1;34m(filepath_or_buffer, kwds)\u001b[0m\n\u001b[0;32m    466\u001b[0m \u001b[1;33m\u001b[0m\u001b[0m\n\u001b[0;32m    467\u001b[0m     \u001b[1;32mwith\u001b[0m \u001b[0mparser\u001b[0m\u001b[1;33m:\u001b[0m\u001b[1;33m\u001b[0m\u001b[1;33m\u001b[0m\u001b[0m\n\u001b[1;32m--> 468\u001b[1;33m         \u001b[1;32mreturn\u001b[0m \u001b[0mparser\u001b[0m\u001b[1;33m.\u001b[0m\u001b[0mread\u001b[0m\u001b[1;33m(\u001b[0m\u001b[0mnrows\u001b[0m\u001b[1;33m)\u001b[0m\u001b[1;33m\u001b[0m\u001b[1;33m\u001b[0m\u001b[0m\n\u001b[0m\u001b[0;32m    469\u001b[0m \u001b[1;33m\u001b[0m\u001b[0m\n\u001b[0;32m    470\u001b[0m \u001b[1;33m\u001b[0m\u001b[0m\n",
      "\u001b[1;32m~\\Anaconda3\\lib\\site-packages\\pandas\\io\\parsers.py\u001b[0m in \u001b[0;36mread\u001b[1;34m(self, nrows)\u001b[0m\n\u001b[0;32m   1055\u001b[0m     \u001b[1;32mdef\u001b[0m \u001b[0mread\u001b[0m\u001b[1;33m(\u001b[0m\u001b[0mself\u001b[0m\u001b[1;33m,\u001b[0m \u001b[0mnrows\u001b[0m\u001b[1;33m=\u001b[0m\u001b[1;32mNone\u001b[0m\u001b[1;33m)\u001b[0m\u001b[1;33m:\u001b[0m\u001b[1;33m\u001b[0m\u001b[1;33m\u001b[0m\u001b[0m\n\u001b[0;32m   1056\u001b[0m         \u001b[0mnrows\u001b[0m \u001b[1;33m=\u001b[0m \u001b[0mvalidate_integer\u001b[0m\u001b[1;33m(\u001b[0m\u001b[1;34m\"nrows\"\u001b[0m\u001b[1;33m,\u001b[0m \u001b[0mnrows\u001b[0m\u001b[1;33m)\u001b[0m\u001b[1;33m\u001b[0m\u001b[1;33m\u001b[0m\u001b[0m\n\u001b[1;32m-> 1057\u001b[1;33m         \u001b[0mindex\u001b[0m\u001b[1;33m,\u001b[0m \u001b[0mcolumns\u001b[0m\u001b[1;33m,\u001b[0m \u001b[0mcol_dict\u001b[0m \u001b[1;33m=\u001b[0m \u001b[0mself\u001b[0m\u001b[1;33m.\u001b[0m\u001b[0m_engine\u001b[0m\u001b[1;33m.\u001b[0m\u001b[0mread\u001b[0m\u001b[1;33m(\u001b[0m\u001b[0mnrows\u001b[0m\u001b[1;33m)\u001b[0m\u001b[1;33m\u001b[0m\u001b[1;33m\u001b[0m\u001b[0m\n\u001b[0m\u001b[0;32m   1058\u001b[0m \u001b[1;33m\u001b[0m\u001b[0m\n\u001b[0;32m   1059\u001b[0m         \u001b[1;32mif\u001b[0m \u001b[0mindex\u001b[0m \u001b[1;32mis\u001b[0m \u001b[1;32mNone\u001b[0m\u001b[1;33m:\u001b[0m\u001b[1;33m\u001b[0m\u001b[1;33m\u001b[0m\u001b[0m\n",
      "\u001b[1;32m~\\Anaconda3\\lib\\site-packages\\pandas\\io\\parsers.py\u001b[0m in \u001b[0;36mread\u001b[1;34m(self, rows)\u001b[0m\n\u001b[0;32m   2463\u001b[0m     \u001b[1;32mdef\u001b[0m \u001b[0mread\u001b[0m\u001b[1;33m(\u001b[0m\u001b[0mself\u001b[0m\u001b[1;33m,\u001b[0m \u001b[0mrows\u001b[0m\u001b[1;33m=\u001b[0m\u001b[1;32mNone\u001b[0m\u001b[1;33m)\u001b[0m\u001b[1;33m:\u001b[0m\u001b[1;33m\u001b[0m\u001b[1;33m\u001b[0m\u001b[0m\n\u001b[0;32m   2464\u001b[0m         \u001b[1;32mtry\u001b[0m\u001b[1;33m:\u001b[0m\u001b[1;33m\u001b[0m\u001b[1;33m\u001b[0m\u001b[0m\n\u001b[1;32m-> 2465\u001b[1;33m             \u001b[0mcontent\u001b[0m \u001b[1;33m=\u001b[0m \u001b[0mself\u001b[0m\u001b[1;33m.\u001b[0m\u001b[0m_get_lines\u001b[0m\u001b[1;33m(\u001b[0m\u001b[0mrows\u001b[0m\u001b[1;33m)\u001b[0m\u001b[1;33m\u001b[0m\u001b[1;33m\u001b[0m\u001b[0m\n\u001b[0m\u001b[0;32m   2466\u001b[0m         \u001b[1;32mexcept\u001b[0m \u001b[0mStopIteration\u001b[0m\u001b[1;33m:\u001b[0m\u001b[1;33m\u001b[0m\u001b[1;33m\u001b[0m\u001b[0m\n\u001b[0;32m   2467\u001b[0m             \u001b[1;32mif\u001b[0m \u001b[0mself\u001b[0m\u001b[1;33m.\u001b[0m\u001b[0m_first_chunk\u001b[0m\u001b[1;33m:\u001b[0m\u001b[1;33m\u001b[0m\u001b[1;33m\u001b[0m\u001b[0m\n",
      "\u001b[1;32m~\\Anaconda3\\lib\\site-packages\\pandas\\io\\parsers.py\u001b[0m in \u001b[0;36m_get_lines\u001b[1;34m(self, rows)\u001b[0m\n\u001b[0;32m   3269\u001b[0m \u001b[1;33m\u001b[0m\u001b[0m\n\u001b[0;32m   3270\u001b[0m                             \u001b[1;32mif\u001b[0m \u001b[0mnew_row\u001b[0m \u001b[1;32mis\u001b[0m \u001b[1;32mnot\u001b[0m \u001b[1;32mNone\u001b[0m\u001b[1;33m:\u001b[0m\u001b[1;33m\u001b[0m\u001b[1;33m\u001b[0m\u001b[0m\n\u001b[1;32m-> 3271\u001b[1;33m                                 \u001b[0mnew_rows\u001b[0m\u001b[1;33m.\u001b[0m\u001b[0mappend\u001b[0m\u001b[1;33m(\u001b[0m\u001b[0mnew_row\u001b[0m\u001b[1;33m)\u001b[0m\u001b[1;33m\u001b[0m\u001b[1;33m\u001b[0m\u001b[0m\n\u001b[0m\u001b[0;32m   3272\u001b[0m \u001b[1;33m\u001b[0m\u001b[0m\n\u001b[0;32m   3273\u001b[0m                 \u001b[1;32mexcept\u001b[0m \u001b[0mStopIteration\u001b[0m\u001b[1;33m:\u001b[0m\u001b[1;33m\u001b[0m\u001b[1;33m\u001b[0m\u001b[0m\n",
      "\u001b[1;31mMemoryError\u001b[0m: "
     ]
    }
   ],
   "source": [
    "ce6=pd.read_csv('./ce6.log',sep=\" - \", header=None, engine='python')"
   ]
  },
  {
   "cell_type": "code",
   "execution_count": null,
   "id": "c2dc0d4a",
   "metadata": {},
   "outputs": [],
   "source": []
  }
 ],
 "metadata": {
  "kernelspec": {
   "display_name": "Python 3",
   "language": "python",
   "name": "python3"
  },
  "language_info": {
   "codemirror_mode": {
    "name": "ipython",
    "version": 3
   },
   "file_extension": ".py",
   "mimetype": "text/x-python",
   "name": "python",
   "nbconvert_exporter": "python",
   "pygments_lexer": "ipython3",
   "version": "3.8.8"
  }
 },
 "nbformat": 4,
 "nbformat_minor": 5
}
