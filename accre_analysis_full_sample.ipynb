{
 "cells": [
  {
   "cell_type": "code",
   "execution_count": 1,
   "id": "ae55af19",
   "metadata": {},
   "outputs": [],
   "source": [
    "import pandas as pd\n",
    "import numpy as np\n",
    "import matplotlib.pyplot as plt\n",
    "from datetime import timedelta"
   ]
  },
  {
   "cell_type": "code",
   "execution_count": 2,
   "id": "61ad4c43",
   "metadata": {},
   "outputs": [],
   "source": [
    "slurm=pd.read_csv('fullsample.csv')"
   ]
  },
  {
   "cell_type": "code",
   "execution_count": 3,
   "id": "d1bb7103",
   "metadata": {},
   "outputs": [
    {
     "data": {
      "text/html": [
       "<div>\n",
       "<style scoped>\n",
       "    .dataframe tbody tr th:only-of-type {\n",
       "        vertical-align: middle;\n",
       "    }\n",
       "\n",
       "    .dataframe tbody tr th {\n",
       "        vertical-align: top;\n",
       "    }\n",
       "\n",
       "    .dataframe thead th {\n",
       "        text-align: right;\n",
       "    }\n",
       "</style>\n",
       "<table border=\"1\" class=\"dataframe\">\n",
       "  <thead>\n",
       "    <tr style=\"text-align: right;\">\n",
       "      <th></th>\n",
       "      <th>JOBID</th>\n",
       "      <th>STATE</th>\n",
       "      <th>BEGIN</th>\n",
       "      <th>END</th>\n",
       "      <th>REQMEM</th>\n",
       "      <th>USEDMEM</th>\n",
       "      <th>REQTIME</th>\n",
       "      <th>USEDTIME</th>\n",
       "      <th>NODES</th>\n",
       "      <th>CPUS</th>\n",
       "      <th>PARTITION</th>\n",
       "      <th>EXITCODE</th>\n",
       "    </tr>\n",
       "  </thead>\n",
       "  <tbody>\n",
       "    <tr>\n",
       "      <th>0</th>\n",
       "      <td>30616928</td>\n",
       "      <td>RUNNING</td>\n",
       "      <td>2021-07-31T22:15:00</td>\n",
       "      <td>Unknown</td>\n",
       "      <td>2048Mn</td>\n",
       "      <td>0</td>\n",
       "      <td>10:04:00</td>\n",
       "      <td>67-22:14:22</td>\n",
       "      <td>1</td>\n",
       "      <td>1</td>\n",
       "      <td>production</td>\n",
       "      <td>0:0</td>\n",
       "    </tr>\n",
       "    <tr>\n",
       "      <th>1</th>\n",
       "      <td>30853133</td>\n",
       "      <td>COMPLETED</td>\n",
       "      <td>2021-08-06T11:36:09</td>\n",
       "      <td>2021-09-05T11:36:32</td>\n",
       "      <td>262144Mn</td>\n",
       "      <td>20604.62M</td>\n",
       "      <td>30-00:00:00</td>\n",
       "      <td>30-00:00:23</td>\n",
       "      <td>1</td>\n",
       "      <td>1</td>\n",
       "      <td>cgw-platypus</td>\n",
       "      <td>0:0</td>\n",
       "    </tr>\n",
       "    <tr>\n",
       "      <th>2</th>\n",
       "      <td>30858137</td>\n",
       "      <td>COMPLETED</td>\n",
       "      <td>2021-08-06T19:04:39</td>\n",
       "      <td>2021-09-05T19:04:53</td>\n",
       "      <td>204800Mn</td>\n",
       "      <td>57553.77M</td>\n",
       "      <td>30-00:00:00</td>\n",
       "      <td>30-00:00:14</td>\n",
       "      <td>1</td>\n",
       "      <td>32</td>\n",
       "      <td>cgw-tbi01</td>\n",
       "      <td>0:0</td>\n",
       "    </tr>\n",
       "    <tr>\n",
       "      <th>3</th>\n",
       "      <td>30935078</td>\n",
       "      <td>COMPLETED</td>\n",
       "      <td>2021-08-09T16:52:51</td>\n",
       "      <td>2021-09-07T20:52:55</td>\n",
       "      <td>65536Mn</td>\n",
       "      <td>20577.96M</td>\n",
       "      <td>29-04:00:00</td>\n",
       "      <td>29-04:00:04</td>\n",
       "      <td>1</td>\n",
       "      <td>8</td>\n",
       "      <td>cgw-platypus</td>\n",
       "      <td>0:0</td>\n",
       "    </tr>\n",
       "    <tr>\n",
       "      <th>4</th>\n",
       "      <td>31364111_2</td>\n",
       "      <td>COMPLETED</td>\n",
       "      <td>2021-08-17T07:45:07</td>\n",
       "      <td>2021-09-10T16:45:24</td>\n",
       "      <td>16384Mn</td>\n",
       "      <td>9733.43M</td>\n",
       "      <td>24-09:00:00</td>\n",
       "      <td>24-09:00:17</td>\n",
       "      <td>1</td>\n",
       "      <td>1</td>\n",
       "      <td>production</td>\n",
       "      <td>0:0</td>\n",
       "    </tr>\n",
       "  </tbody>\n",
       "</table>\n",
       "</div>"
      ],
      "text/plain": [
       "        JOBID      STATE                BEGIN                  END    REQMEM  \\\n",
       "0    30616928    RUNNING  2021-07-31T22:15:00              Unknown    2048Mn   \n",
       "1    30853133  COMPLETED  2021-08-06T11:36:09  2021-09-05T11:36:32  262144Mn   \n",
       "2    30858137  COMPLETED  2021-08-06T19:04:39  2021-09-05T19:04:53  204800Mn   \n",
       "3    30935078  COMPLETED  2021-08-09T16:52:51  2021-09-07T20:52:55   65536Mn   \n",
       "4  31364111_2  COMPLETED  2021-08-17T07:45:07  2021-09-10T16:45:24   16384Mn   \n",
       "\n",
       "     USEDMEM      REQTIME     USEDTIME  NODES  CPUS     PARTITION EXITCODE  \n",
       "0          0     10:04:00  67-22:14:22      1     1    production      0:0  \n",
       "1  20604.62M  30-00:00:00  30-00:00:23      1     1  cgw-platypus      0:0  \n",
       "2  57553.77M  30-00:00:00  30-00:00:14      1    32     cgw-tbi01      0:0  \n",
       "3  20577.96M  29-04:00:00  29-04:00:04      1     8  cgw-platypus      0:0  \n",
       "4   9733.43M  24-09:00:00  24-09:00:17      1     1    production      0:0  "
      ]
     },
     "execution_count": 3,
     "metadata": {},
     "output_type": "execute_result"
    }
   ],
   "source": [
    "slurm.head()"
   ]
  },
  {
   "cell_type": "code",
   "execution_count": 4,
   "id": "ee33c457",
   "metadata": {},
   "outputs": [],
   "source": [
    "slurm=slurm[(slurm['BEGIN'] != 'Unknown') & (slurm['END'] != 'Unknown')]"
   ]
  },
  {
   "cell_type": "markdown",
   "id": "745ab5c4",
   "metadata": {},
   "source": [
    "### Convert to DateTime Format\n"
   ]
  },
  {
   "cell_type": "code",
   "execution_count": 5,
   "id": "dce12434",
   "metadata": {},
   "outputs": [],
   "source": [
    "slurm['BEGIN']=pd.to_datetime(slurm['BEGIN'], format='%Y-%m-%dT%H:%M:%S')\n",
    "slurm['END']=pd.to_datetime(slurm['END'], format='%Y-%m-%dT%H:%M:%S')\n"
   ]
  },
  {
   "cell_type": "markdown",
   "id": "e00d7f0a",
   "metadata": {},
   "source": [
    "### Jobs Per Hour Completed"
   ]
  },
  {
   "cell_type": "code",
   "execution_count": 6,
   "id": "32451d65",
   "metadata": {},
   "outputs": [],
   "source": [
    "completed_jobs=slurm[slurm['STATE']=='COMPLETED']"
   ]
  },
  {
   "cell_type": "code",
   "execution_count": 7,
   "id": "2bf1118c",
   "metadata": {},
   "outputs": [
    {
     "data": {
      "text/html": [
       "<div>\n",
       "<style scoped>\n",
       "    .dataframe tbody tr th:only-of-type {\n",
       "        vertical-align: middle;\n",
       "    }\n",
       "\n",
       "    .dataframe tbody tr th {\n",
       "        vertical-align: top;\n",
       "    }\n",
       "\n",
       "    .dataframe thead th {\n",
       "        text-align: right;\n",
       "    }\n",
       "</style>\n",
       "<table border=\"1\" class=\"dataframe\">\n",
       "  <thead>\n",
       "    <tr style=\"text-align: right;\">\n",
       "      <th></th>\n",
       "      <th>period</th>\n",
       "      <th>STATE</th>\n",
       "      <th>END</th>\n",
       "    </tr>\n",
       "  </thead>\n",
       "  <tbody>\n",
       "    <tr>\n",
       "      <th>0</th>\n",
       "      <td>2020-10-01 00:10:15</td>\n",
       "      <td>COMPLETED</td>\n",
       "      <td>1</td>\n",
       "    </tr>\n",
       "    <tr>\n",
       "      <th>1</th>\n",
       "      <td>2020-10-01 01:10:15</td>\n",
       "      <td>COMPLETED</td>\n",
       "      <td>587</td>\n",
       "    </tr>\n",
       "    <tr>\n",
       "      <th>2</th>\n",
       "      <td>2020-10-01 02:10:15</td>\n",
       "      <td>COMPLETED</td>\n",
       "      <td>1127</td>\n",
       "    </tr>\n",
       "    <tr>\n",
       "      <th>3</th>\n",
       "      <td>2020-10-01 03:10:15</td>\n",
       "      <td>COMPLETED</td>\n",
       "      <td>1118</td>\n",
       "    </tr>\n",
       "    <tr>\n",
       "      <th>4</th>\n",
       "      <td>2020-10-01 04:10:15</td>\n",
       "      <td>COMPLETED</td>\n",
       "      <td>995</td>\n",
       "    </tr>\n",
       "    <tr>\n",
       "      <th>...</th>\n",
       "      <td>...</td>\n",
       "      <td>...</td>\n",
       "      <td>...</td>\n",
       "    </tr>\n",
       "    <tr>\n",
       "      <th>8919</th>\n",
       "      <td>2021-10-07 17:10:15</td>\n",
       "      <td>COMPLETED</td>\n",
       "      <td>8</td>\n",
       "    </tr>\n",
       "    <tr>\n",
       "      <th>8920</th>\n",
       "      <td>2021-10-07 18:10:15</td>\n",
       "      <td>COMPLETED</td>\n",
       "      <td>8</td>\n",
       "    </tr>\n",
       "    <tr>\n",
       "      <th>8921</th>\n",
       "      <td>2021-10-07 19:10:15</td>\n",
       "      <td>COMPLETED</td>\n",
       "      <td>8</td>\n",
       "    </tr>\n",
       "    <tr>\n",
       "      <th>8922</th>\n",
       "      <td>2021-10-07 20:10:15</td>\n",
       "      <td>COMPLETED</td>\n",
       "      <td>8</td>\n",
       "    </tr>\n",
       "    <tr>\n",
       "      <th>8923</th>\n",
       "      <td>2021-10-07 21:10:15</td>\n",
       "      <td>COMPLETED</td>\n",
       "      <td>5</td>\n",
       "    </tr>\n",
       "  </tbody>\n",
       "</table>\n",
       "<p>8924 rows × 3 columns</p>\n",
       "</div>"
      ],
      "text/plain": [
       "                  period      STATE   END\n",
       "0    2020-10-01 00:10:15  COMPLETED     1\n",
       "1    2020-10-01 01:10:15  COMPLETED   587\n",
       "2    2020-10-01 02:10:15  COMPLETED  1127\n",
       "3    2020-10-01 03:10:15  COMPLETED  1118\n",
       "4    2020-10-01 04:10:15  COMPLETED   995\n",
       "...                  ...        ...   ...\n",
       "8919 2021-10-07 17:10:15  COMPLETED     8\n",
       "8920 2021-10-07 18:10:15  COMPLETED     8\n",
       "8921 2021-10-07 19:10:15  COMPLETED     8\n",
       "8922 2021-10-07 20:10:15  COMPLETED     8\n",
       "8923 2021-10-07 21:10:15  COMPLETED     5\n",
       "\n",
       "[8924 rows x 3 columns]"
      ]
     },
     "execution_count": 7,
     "metadata": {},
     "output_type": "execute_result"
    }
   ],
   "source": [
    "bins = pd.date_range(completed_jobs['END'].min()+timedelta(minutes=-60), completed_jobs['END'].max()+timedelta(minutes=60), freq='60min')\n",
    "df_temp = completed_jobs.loc[:, ['END', 'STATE']]\n",
    "df_temp[\"bins\"] = pd.cut(df_temp['END'], bins=bins)\n",
    "df_temp['period'] = [x.right for x in df_temp['bins']]\n",
    "completed_jobs_hourly = df_temp.groupby(['period', 'STATE']).agg({'END': 'count'}).reset_index()\n",
    "completed_jobs_hourly"
   ]
  },
  {
   "cell_type": "code",
   "execution_count": 8,
   "id": "250b55ad",
   "metadata": {},
   "outputs": [
    {
     "data": {
      "text/plain": [
       "<AxesSubplot:xlabel='period'>"
      ]
     },
     "execution_count": 8,
     "metadata": {},
     "output_type": "execute_result"
    },
    {
     "data": {
      "image/png": "[encoded data removed]",
      "text/plain": [
       "<Figure size 1008x432 with 1 Axes>"
      ]
     },
     "metadata": {},
     "output_type": "display_data"
    }
   ],
   "source": [
    "import seaborn as sns\n",
    "sns.set()\n",
    "\n",
    "completed_jobs_hourly.plot(kind='line',legend=True, figsize=(14,6), x='period', y='END')\n",
    "# ax.set_xticklabels(jobs_pivot_tbl.index, rotation=90, ha='right')"
   ]
  },
  {
   "cell_type": "markdown",
   "id": "5a741c56",
   "metadata": {},
   "source": [
    "!!!!!### Jobs Per Week by Status"
   ]
  },
  {
   "cell_type": "code",
   "execution_count": 9,
   "id": "5a9a9e4b",
   "metadata": {},
   "outputs": [],
   "source": [
    "from datetime import datetime"
   ]
  },
  {
   "cell_type": "code",
   "execution_count": 10,
   "id": "f44d304f",
   "metadata": {},
   "outputs": [],
   "source": [
    "#extract date from datestamp\n",
    "completed_jobs_hourly['Date']=completed_jobs_hourly['period'].dt.date"
   ]
  },
  {
   "cell_type": "code",
   "execution_count": 11,
   "id": "11ba0ed5",
   "metadata": {},
   "outputs": [
    {
     "name": "stderr",
     "output_type": "stream",
     "text": [
      "<ipython-input-11-d012e5bba8e7>:5: FutureWarning: Series.dt.weekofyear and Series.dt.week have been deprecated.  Please use Series.dt.isocalendar().week instead.\n",
      "  completed_jobs_hourly['Week Number']=completed_jobs_hourly['period'].dt.week\n"
     ]
    }
   ],
   "source": [
    "#extract date/day of the week/week number from datestamp\n",
    "completed_jobs_hourly['period'].dt.day_name()\n",
    "completed_jobs_hourly['Day of the Week']=completed_jobs_hourly['period'].dt.day_name()\n",
    "#df['Week_Number'] = df['Date'].dt.week\n",
    "completed_jobs_hourly['Week Number']=completed_jobs_hourly['period'].dt.week\n",
    "completed_jobs_hourly['Year']=completed_jobs_hourly['period'].dt.year"
   ]
  },
  {
   "cell_type": "code",
   "execution_count": 12,
   "id": "9860f262",
   "metadata": {},
   "outputs": [
    {
     "data": {
      "text/html": [
       "<div>\n",
       "<style scoped>\n",
       "    .dataframe tbody tr th:only-of-type {\n",
       "        vertical-align: middle;\n",
       "    }\n",
       "\n",
       "    .dataframe tbody tr th {\n",
       "        vertical-align: top;\n",
       "    }\n",
       "\n",
       "    .dataframe thead th {\n",
       "        text-align: right;\n",
       "    }\n",
       "</style>\n",
       "<table border=\"1\" class=\"dataframe\">\n",
       "  <thead>\n",
       "    <tr style=\"text-align: right;\">\n",
       "      <th></th>\n",
       "      <th>period</th>\n",
       "      <th>STATE</th>\n",
       "      <th>END</th>\n",
       "      <th>Date</th>\n",
       "      <th>Day of the Week</th>\n",
       "      <th>Week Number</th>\n",
       "      <th>Year</th>\n",
       "    </tr>\n",
       "  </thead>\n",
       "  <tbody>\n",
       "    <tr>\n",
       "      <th>0</th>\n",
       "      <td>2020-10-01 00:10:15</td>\n",
       "      <td>COMPLETED</td>\n",
       "      <td>1</td>\n",
       "      <td>2020-10-01</td>\n",
       "      <td>Thursday</td>\n",
       "      <td>40</td>\n",
       "      <td>2020</td>\n",
       "    </tr>\n",
       "    <tr>\n",
       "      <th>1</th>\n",
       "      <td>2020-10-01 01:10:15</td>\n",
       "      <td>COMPLETED</td>\n",
       "      <td>587</td>\n",
       "      <td>2020-10-01</td>\n",
       "      <td>Thursday</td>\n",
       "      <td>40</td>\n",
       "      <td>2020</td>\n",
       "    </tr>\n",
       "    <tr>\n",
       "      <th>2</th>\n",
       "      <td>2020-10-01 02:10:15</td>\n",
       "      <td>COMPLETED</td>\n",
       "      <td>1127</td>\n",
       "      <td>2020-10-01</td>\n",
       "      <td>Thursday</td>\n",
       "      <td>40</td>\n",
       "      <td>2020</td>\n",
       "    </tr>\n",
       "    <tr>\n",
       "      <th>3</th>\n",
       "      <td>2020-10-01 03:10:15</td>\n",
       "      <td>COMPLETED</td>\n",
       "      <td>1118</td>\n",
       "      <td>2020-10-01</td>\n",
       "      <td>Thursday</td>\n",
       "      <td>40</td>\n",
       "      <td>2020</td>\n",
       "    </tr>\n",
       "    <tr>\n",
       "      <th>4</th>\n",
       "      <td>2020-10-01 04:10:15</td>\n",
       "      <td>COMPLETED</td>\n",
       "      <td>995</td>\n",
       "      <td>2020-10-01</td>\n",
       "      <td>Thursday</td>\n",
       "      <td>40</td>\n",
       "      <td>2020</td>\n",
       "    </tr>\n",
       "  </tbody>\n",
       "</table>\n",
       "</div>"
      ],
      "text/plain": [
       "               period      STATE   END        Date Day of the Week  \\\n",
       "0 2020-10-01 00:10:15  COMPLETED     1  2020-10-01        Thursday   \n",
       "1 2020-10-01 01:10:15  COMPLETED   587  2020-10-01        Thursday   \n",
       "2 2020-10-01 02:10:15  COMPLETED  1127  2020-10-01        Thursday   \n",
       "3 2020-10-01 03:10:15  COMPLETED  1118  2020-10-01        Thursday   \n",
       "4 2020-10-01 04:10:15  COMPLETED   995  2020-10-01        Thursday   \n",
       "\n",
       "   Week Number  Year  \n",
       "0           40  2020  \n",
       "1           40  2020  \n",
       "2           40  2020  \n",
       "3           40  2020  \n",
       "4           40  2020  "
      ]
     },
     "execution_count": 12,
     "metadata": {},
     "output_type": "execute_result"
    }
   ],
   "source": [
    "completed_jobs_hourly.head()"
   ]
  },
  {
   "cell_type": "code",
   "execution_count": 13,
   "id": "5cb50996",
   "metadata": {},
   "outputs": [],
   "source": [
    "#calculate avg per period and see if this can be improved?"
   ]
  },
  {
   "cell_type": "code",
   "execution_count": 14,
   "id": "d7684190",
   "metadata": {},
   "outputs": [],
   "source": [
    "#pd.to_datetime(slurm['REQTIME'], format='%d-%H:%M:%S')\n",
    "#pd.to_datetime(slurm['USEDTIME'], format='%H:%M:%S')"
   ]
  },
  {
   "cell_type": "code",
   "execution_count": 15,
   "id": "6a26e03f",
   "metadata": {},
   "outputs": [],
   "source": [
    "jobs_by_day_avg=completed_jobs_hourly.groupby('Day of the Week')['END'].mean()"
   ]
  },
  {
   "cell_type": "code",
   "execution_count": 16,
   "id": "47410fc8",
   "metadata": {},
   "outputs": [],
   "source": [
    "jobs_by_week_num_day=completed_jobs_hourly.groupby(['Week Number','Day of the Week'])['END'].mean()"
   ]
  },
  {
   "cell_type": "code",
   "execution_count": 17,
   "id": "fc821d50",
   "metadata": {},
   "outputs": [],
   "source": [
    "day_of_the_week=jobs_by_day_avg.to_frame().reset_index()"
   ]
  },
  {
   "cell_type": "code",
   "execution_count": 18,
   "id": "890ae9c6",
   "metadata": {},
   "outputs": [
    {
     "data": {
      "image/png": "[encoded data removed]",
      "text/plain": [
       "<Figure size 432x288 with 1 Axes>"
      ]
     },
     "metadata": {},
     "output_type": "display_data"
    }
   ],
   "source": [
    "\n",
    "sns.boxplot(x=day_of_the_week['Day of the Week'],y=day_of_the_week['END'])\n",
    "\n",
    "plt.show()"
   ]
  },
  {
   "cell_type": "code",
   "execution_count": 19,
   "id": "15f6f573",
   "metadata": {},
   "outputs": [],
   "source": [
    "import scipy.stats as stats"
   ]
  },
  {
   "cell_type": "code",
   "execution_count": 20,
   "id": "fa265361",
   "metadata": {},
   "outputs": [],
   "source": [
    "anova1=day_of_the_week.set_index('Day of the Week').T"
   ]
  },
  {
   "cell_type": "code",
   "execution_count": 21,
   "id": "7303f5a6",
   "metadata": {},
   "outputs": [
    {
     "data": {
      "text/html": [
       "<div>\n",
       "<style scoped>\n",
       "    .dataframe tbody tr th:only-of-type {\n",
       "        vertical-align: middle;\n",
       "    }\n",
       "\n",
       "    .dataframe tbody tr th {\n",
       "        vertical-align: top;\n",
       "    }\n",
       "\n",
       "    .dataframe thead th {\n",
       "        text-align: right;\n",
       "    }\n",
       "</style>\n",
       "<table border=\"1\" class=\"dataframe\">\n",
       "  <thead>\n",
       "    <tr style=\"text-align: right;\">\n",
       "      <th>Day of the Week</th>\n",
       "      <th>Friday</th>\n",
       "      <th>Monday</th>\n",
       "      <th>Saturday</th>\n",
       "      <th>Sunday</th>\n",
       "      <th>Thursday</th>\n",
       "      <th>Tuesday</th>\n",
       "      <th>Wednesday</th>\n",
       "    </tr>\n",
       "  </thead>\n",
       "  <tbody>\n",
       "    <tr>\n",
       "      <th>END</th>\n",
       "      <td>806.088836</td>\n",
       "      <td>871.329403</td>\n",
       "      <td>669.829403</td>\n",
       "      <td>688.674528</td>\n",
       "      <td>798.688563</td>\n",
       "      <td>1016.617323</td>\n",
       "      <td>934.578616</td>\n",
       "    </tr>\n",
       "  </tbody>\n",
       "</table>\n",
       "</div>"
      ],
      "text/plain": [
       "Day of the Week      Friday      Monday    Saturday      Sunday    Thursday  \\\n",
       "END              806.088836  871.329403  669.829403  688.674528  798.688563   \n",
       "\n",
       "Day of the Week      Tuesday   Wednesday  \n",
       "END              1016.617323  934.578616  "
      ]
     },
     "execution_count": 21,
     "metadata": {},
     "output_type": "execute_result"
    }
   ],
   "source": [
    "anova1"
   ]
  },
  {
   "cell_type": "code",
   "execution_count": 22,
   "id": "c4733459",
   "metadata": {},
   "outputs": [
    {
     "name": "stdout",
     "output_type": "stream",
     "text": [
      "nan nan\n"
     ]
    },
    {
     "name": "stderr",
     "output_type": "stream",
     "text": [
      "C:\\Users\\U6033919\\Anaconda3\\lib\\site-packages\\scipy\\stats\\stats.py:3688: F_onewayBadInputSizesWarning: all input arrays have length 1.  f_oneway requires that at least one input has length greater than 1.\n",
      "  warnings.warn(F_onewayBadInputSizesWarning(msg))\n"
     ]
    }
   ],
   "source": [
    "\n",
    "# stats f_oneway functions takes the groups as input and returns ANOVA F and p value\n",
    "fvalue, pvalue = stats.f_oneway(anova1['Friday'],anova1['Monday'], anova1['Saturday'], anova1['Sunday'], anova1['Thursday'], anova1['Tuesday'], anova1['Wednesday'])\n",
    "print(fvalue, pvalue)\n"
   ]
  },
  {
   "cell_type": "code",
   "execution_count": 23,
   "id": "eb482f4c",
   "metadata": {},
   "outputs": [],
   "source": [
    "import statsmodels.api as sm\n",
    "from statsmodels.formula.api import ols"
   ]
  },
  {
   "cell_type": "code",
   "execution_count": 24,
   "id": "cb331afd",
   "metadata": {},
   "outputs": [],
   "source": [
    "#ols('value ~ C(Day of the Week)', data=day_of_the_week).fit()"
   ]
  },
  {
   "cell_type": "code",
   "execution_count": 29,
   "id": "49a13514",
   "metadata": {},
   "outputs": [],
   "source": [
    "jobs_weekday=[len(completed_jobs[completed_jobs['END'].dt.day == x]) for x in range(1,8)]"
   ]
  },
  {
   "cell_type": "code",
   "execution_count": 30,
   "id": "88c79aa2",
   "metadata": {},
   "outputs": [
    {
     "data": {
      "text/plain": [
       "<BarContainer object of 7 artists>"
      ]
     },
     "execution_count": 30,
     "metadata": {},
     "output_type": "execute_result"
    },
    {
     "data": {
      "image/png": "[encoded data removed]",
      "text/plain": [
       "<Figure size 432x288 with 1 Axes>"
      ]
     },
     "metadata": {},
     "output_type": "display_data"
    }
   ],
   "source": [
    "plt.bar(['Monday', 'Tuesday', 'Wednesday', 'Thursday', 'Friday', 'Saturday', 'Sunday'], jobs_weekday)"
   ]
  },
  {
   "cell_type": "code",
   "execution_count": 62,
   "id": "2457abdd",
   "metadata": {},
   "outputs": [],
   "source": [
    "days_of_the_week = ['Monday', 'Tuesday', 'Wednesday', 'Thursday', 'Friday', 'Saturday', 'Sunday']\n",
    "days_of_the_week_completed=pd.DataFrame({'days_of_the_week': days_of_the_week, 'jobs_completed': jobs_weekday})"
   ]
  },
  {
   "cell_type": "code",
   "execution_count": 63,
   "id": "27ef2fe4",
   "metadata": {},
   "outputs": [
    {
     "data": {
      "text/html": [
       "<div>\n",
       "<style scoped>\n",
       "    .dataframe tbody tr th:only-of-type {\n",
       "        vertical-align: middle;\n",
       "    }\n",
       "\n",
       "    .dataframe tbody tr th {\n",
       "        vertical-align: top;\n",
       "    }\n",
       "\n",
       "    .dataframe thead th {\n",
       "        text-align: right;\n",
       "    }\n",
       "</style>\n",
       "<table border=\"1\" class=\"dataframe\">\n",
       "  <thead>\n",
       "    <tr style=\"text-align: right;\">\n",
       "      <th></th>\n",
       "      <th>days_of_the_week</th>\n",
       "      <th>jobs_completed</th>\n",
       "    </tr>\n",
       "  </thead>\n",
       "  <tbody>\n",
       "    <tr>\n",
       "      <th>0</th>\n",
       "      <td>Monday</td>\n",
       "      <td>311323</td>\n",
       "    </tr>\n",
       "    <tr>\n",
       "      <th>1</th>\n",
       "      <td>Tuesday</td>\n",
       "      <td>277362</td>\n",
       "    </tr>\n",
       "    <tr>\n",
       "      <th>2</th>\n",
       "      <td>Wednesday</td>\n",
       "      <td>341697</td>\n",
       "    </tr>\n",
       "    <tr>\n",
       "      <th>3</th>\n",
       "      <td>Thursday</td>\n",
       "      <td>274168</td>\n",
       "    </tr>\n",
       "    <tr>\n",
       "      <th>4</th>\n",
       "      <td>Friday</td>\n",
       "      <td>243411</td>\n",
       "    </tr>\n",
       "    <tr>\n",
       "      <th>5</th>\n",
       "      <td>Saturday</td>\n",
       "      <td>208102</td>\n",
       "    </tr>\n",
       "    <tr>\n",
       "      <th>6</th>\n",
       "      <td>Sunday</td>\n",
       "      <td>228884</td>\n",
       "    </tr>\n",
       "  </tbody>\n",
       "</table>\n",
       "</div>"
      ],
      "text/plain": [
       "  days_of_the_week  jobs_completed\n",
       "0           Monday          311323\n",
       "1          Tuesday          277362\n",
       "2        Wednesday          341697\n",
       "3         Thursday          274168\n",
       "4           Friday          243411\n",
       "5         Saturday          208102\n",
       "6           Sunday          228884"
      ]
     },
     "execution_count": 63,
     "metadata": {},
     "output_type": "execute_result"
    }
   ],
   "source": [
    "days_of_the_week_completed"
   ]
  },
  {
   "cell_type": "code",
   "execution_count": 47,
   "id": "38ca608f",
   "metadata": {},
   "outputs": [
    {
     "ename": "AttributeError",
     "evalue": "'list' object has no attribute 'sort_values'",
     "output_type": "error",
     "traceback": [
      "\u001b[1;31m---------------------------------------------------------------------------\u001b[0m",
      "\u001b[1;31mAttributeError\u001b[0m                            Traceback (most recent call last)",
      "\u001b[1;32m<ipython-input-47-2812145818bc>\u001b[0m in \u001b[0;36m<module>\u001b[1;34m\u001b[0m\n\u001b[1;32m----> 1\u001b[1;33m \u001b[0mjobs_weekday\u001b[0m\u001b[1;33m.\u001b[0m\u001b[0msort_values\u001b[0m\u001b[1;33m(\u001b[0m\u001b[1;34m'END'\u001b[0m\u001b[1;33m)\u001b[0m\u001b[1;33m\u001b[0m\u001b[1;33m\u001b[0m\u001b[0m\n\u001b[0m\u001b[0;32m      2\u001b[0m \u001b[1;31m#jbs['total 7d']=jobs_weekday.rolling('7d', on='END')['JOBID'].count()\u001b[0m\u001b[1;33m\u001b[0m\u001b[1;33m\u001b[0m\u001b[1;33m\u001b[0m\u001b[0m\n\u001b[0;32m      3\u001b[0m \u001b[1;31m#jbs['total 7d']/7\u001b[0m\u001b[1;33m\u001b[0m\u001b[1;33m\u001b[0m\u001b[1;33m\u001b[0m\u001b[0m\n",
      "\u001b[1;31mAttributeError\u001b[0m: 'list' object has no attribute 'sort_values'"
     ]
    }
   ],
   "source": [
    "days_of_the_week_completed.sort_values('END')\n",
    "#jbs['total 7d']=jobs_weekday.rolling('7d', on='END')['JOBID'].count()\n",
    "#jbs['total 7d']/7"
   ]
  },
  {
   "cell_type": "code",
   "execution_count": 33,
   "id": "250e6db9",
   "metadata": {},
   "outputs": [
    {
     "data": {
      "text/plain": [
       "EXITCODE\n",
       "0:0    7375084\n",
       "dtype: int64"
      ]
     },
     "execution_count": 33,
     "metadata": {},
     "output_type": "execute_result"
    }
   ],
   "source": [
    "#Verify that all completed jobs have exitcode 0:0\n",
    "completed_jobs.value_counts('EXITCODE')"
   ]
  },
  {
   "cell_type": "code",
   "execution_count": 34,
   "id": "32f5433c",
   "metadata": {},
   "outputs": [
    {
     "data": {
      "text/plain": [
       "EXITCODE\n",
       "0:0      7383829\n",
       "1:0         4958\n",
       "0:15        1887\n",
       "0:125       1739\n",
       "0:9         1361\n",
       "2:0          508\n",
       "0:7          389\n",
       "121:0         89\n",
       "127:0         88\n",
       "13:0          68\n",
       "24:0          67\n",
       "0:11          35\n",
       "38:0          32\n",
       "28:0          29\n",
       "6:0           27\n",
       "126:0         24\n",
       "0:6           18\n",
       "0:2           16\n",
       "29:0          12\n",
       "7:0           12\n",
       "16:0           9\n",
       "59:0           8\n",
       "9:0            4\n",
       "0:40           4\n",
       "125:0          3\n",
       "8:0            3\n",
       "0:105          2\n",
       "0:12           1\n",
       "67:0           1\n",
       "85:0           1\n",
       "0:98           1\n",
       "76:0           1\n",
       "103:0          1\n",
       "4:0            1\n",
       "116:0          1\n",
       "43:0           1\n",
       "3:0            1\n",
       "11:0           1\n",
       "30:0           1\n",
       "0:8            1\n",
       "dtype: int64"
      ]
     },
     "execution_count": 34,
     "metadata": {},
     "output_type": "execute_result"
    }
   ],
   "source": [
    "slurm.value_counts('EXITCODE')"
   ]
  },
  {
   "cell_type": "code",
   "execution_count": 36,
   "id": "3e16743c",
   "metadata": {},
   "outputs": [
    {
     "data": {
      "text/plain": [
       "EXITCODE\n",
       "0:0      8744\n",
       "1:0      2176\n",
       "0:15     1887\n",
       "0:9      1361\n",
       "0:7       389\n",
       "0:11       35\n",
       "0:6        18\n",
       "0:2        16\n",
       "127:0       5\n",
       "0:40        4\n",
       "0:105       2\n",
       "2:0         2\n",
       "0:12        1\n",
       "0:8         1\n",
       "0:98        1\n",
       "9:0         1\n",
       "dtype: int64"
      ]
     },
     "execution_count": 36,
     "metadata": {},
     "output_type": "execute_result"
    }
   ],
   "source": [
    "slurm[slurm['STATE'].str.match(r'CANCELLED')].value_counts('EXITCODE')"
   ]
  },
  {
   "cell_type": "code",
   "execution_count": null,
   "id": "896a976b",
   "metadata": {},
   "outputs": [],
   "source": []
  }
 ],
 "metadata": {
  "kernelspec": {
   "display_name": "Python 3",
   "language": "python",
   "name": "python3"
  },
  "language_info": {
   "codemirror_mode": {
    "name": "ipython",
    "version": 3
   },
   "file_extension": ".py",
   "mimetype": "text/x-python",
   "name": "python",
   "nbconvert_exporter": "python",
   "pygments_lexer": "ipython3",
   "version": "3.8.8"
  }
 },
 "nbformat": 4,
 "nbformat_minor": 5
}
