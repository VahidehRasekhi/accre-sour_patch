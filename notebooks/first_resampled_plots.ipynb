{
 "cells": [
  {
   "cell_type": "code",
   "execution_count": 32,
   "id": "be364b3f",
   "metadata": {},
   "outputs": [],
   "source": [
    "import pandas as pd\n",
    "import matplotlib.pyplot as plt"
   ]
  },
  {
   "cell_type": "code",
   "execution_count": 93,
   "id": "810536ce",
   "metadata": {},
   "outputs": [],
   "source": [
    "fs_923_df = pd.read_csv('../data/fs_sept_23.csv')\n",
    "ce5_923_df = pd.read_csv('../data/ce5_sept_23.csv')\n",
    "ce6_923_df = pd.read_csv('../data/ce6_sept_23.csv')\n",
    "ce5_923_df['4'] = ce5_923_df['4'].str.extract(r'(\\d)')\n",
    "ce5_923_df['4'] = pd.to_numeric(ce5_923_df['4'], errors='coerce')\n",
    "ce5_923_df['0'] = pd.to_datetime(ce5_923_df['0'], format='%Y-%m-%dT%H:%M:%S')\n",
    "ce6_923_df['4'] = ce6_923_df['4'].str.extract(r'(\\d)')\n",
    "ce6_923_df['4'] = pd.to_numeric(ce6_923_df['4'], errors='coerce')\n",
    "ce6_923_df['0'] = pd.to_datetime(ce6_923_df['0'], format='%Y-%m-%dT%H:%M:%S')"
   ]
  },
  {
   "cell_type": "code",
   "execution_count": 72,
   "id": "0cb0f293",
   "metadata": {},
   "outputs": [],
   "source": [
    "begin_load_df = fs_923_df[fs_923_df['PARTITION'] == 'production']\\\n",
    "                    [['BEGIN', 'USEDMEM', 'CPUS']].rename(columns={'BEGIN':'TIME'})\n",
    "begin_load_df['USEDMEM'] = pd.to_numeric(begin_load_df['USEDMEM'].str[:-1], errors='coerce')\n",
    "begin_load_df['CPUS'] = pd.to_numeric(begin_load_df['CPUS'], errors='coerce')\n",
    "\n",
    "end_load_df = fs_923_df[fs_923_df['PARTITION'] == 'production']\\\n",
    "                    [['END', 'USEDMEM', 'CPUS']].rename(columns={'END':'TIME'})\n",
    "# Since ending the process gives back the memory make all this values negative\n",
    "end_load_df['USEDMEM'] = 0 - pd.to_numeric(end_load_df['USEDMEM'].str[:-1], errors='coerce')\n",
    "end_load_df['CPUS'] = 0 - pd.to_numeric(end_load_df['CPUS'], errors='coerce')\n",
    "load_df = begin_load_df.append(end_load_df).fillna(0)\n",
    "load_df = load_df[load_df['TIME'].str.match(r'2021-09-23')].sort_values('TIME')\n",
    "load_df['TIME'] = pd.to_datetime(load_df['TIME'], format='%Y-%m-%dT%H:%M:%S')"
   ]
  },
  {
   "cell_type": "code",
   "execution_count": 103,
   "id": "8f8229c7",
   "metadata": {},
   "outputs": [],
   "source": [
    "fs_ts = pd.Series(list(load_df['USEDMEM']), index=list(load_df['TIME']))"
   ]
  },
  {
   "cell_type": "code",
   "execution_count": 104,
   "id": "8d525395",
   "metadata": {
    "scrolled": true
   },
   "outputs": [
    {
     "data": {
      "text/plain": [
       "[<matplotlib.lines.Line2D at 0x1bc8f28d520>]"
      ]
     },
     "execution_count": 104,
     "metadata": {},
     "output_type": "execute_result"
    },
    {
     "data": {
      "image/png": "[encoded data removed]",
      "text/plain": [
       "<Figure size 432x288 with 1 Axes>"
      ]
     },
     "metadata": {
      "needs_background": "light"
     },
     "output_type": "display_data"
    }
   ],
   "source": [
    "# not sure if the times are aligned here, if they are it might not be\n",
    "# as clear a case of load issue as first appeared\n",
    "# Will make another notebook to create a single dataframe so time alignment\n",
    "#  can be verified\n",
    "plt.plot(fs_ts.resample(\"10T\").sum().to_frame().cumsum())\n",
    "plt.plot(ce5_923_df.set_index('0').resample('10T').sum()*10000000)\n",
    "plt.plot(ce6_923_df.set_index('0').resample('10T').sum()*10000000)"
   ]
  }
 ],
 "metadata": {
  "kernelspec": {
   "display_name": "Python 3",
   "language": "python",
   "name": "python3"
  },
  "language_info": {
   "codemirror_mode": {
    "name": "ipython",
    "version": 3
   },
   "file_extension": ".py",
   "mimetype": "text/x-python",
   "name": "python",
   "nbconvert_exporter": "python",
   "pygments_lexer": "ipython3",
   "version": "3.8.8"
  }
 },
 "nbformat": 4,
 "nbformat_minor": 5
}
