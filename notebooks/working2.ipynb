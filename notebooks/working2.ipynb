{
 "cells": [
  {
   "cell_type": "code",
   "execution_count": 1,
   "id": "ce979bb9",
   "metadata": {},
   "outputs": [],
   "source": [
    "import pandas as pd"
   ]
  },
  {
   "cell_type": "code",
   "execution_count": 2,
   "id": "06f2d611",
   "metadata": {},
   "outputs": [],
   "source": [
    "with open('../data/slurm_wrapper_ce5.log') as f:\n",
    "    data = ([line.split() for line in f])\n",
    "with open('../data/slurm_wrapper_ce6.log') as f:\n",
    "    data.extend([line.split() for line in f])"
   ]
  },
  {
   "cell_type": "code",
   "execution_count": null,
   "id": "edbbc05e",
   "metadata": {},
   "outputs": [],
   "source": [
    "ce = pd.DataFrame([[pd.to_datetime(x[0] + 'T' + x[1]), float(x[10]), int(x[13]), x[16]] \n",
    "                       for x in error_data], columns=['BEGIN', 'DURATION', 'RETURNCODE', 'COMMAND'])"
   ]
  },
  {
   "cell_type": "code",
   "execution_count": 10,
   "id": "1b34b3c7",
   "metadata": {},
   "outputs": [],
   "source": [
    "error_data = [x for x in data if x[13] == '1']"
   ]
  },
  {
   "cell_type": "code",
   "execution_count": 14,
   "id": "b1a0ec1c",
   "metadata": {},
   "outputs": [],
   "source": [
    "ce = pd.DataFrame([[x[16]] \n",
    "                       for x in data], columns=['COMMAND'])"
   ]
  },
  {
   "cell_type": "code",
   "execution_count": 13,
   "id": "d79f6258",
   "metadata": {},
   "outputs": [
    {
     "data": {
      "text/plain": [
       "['/usr/bin/scontrol',    1053381\n",
       "['/usr/bin/sbatch',       183001\n",
       "['/usr/bin/squeue',        59080\n",
       "['/usr/bin/sacct',          1176\n",
       "['/usr/bin/squeue']            2\n",
       "Name: COMMAND, dtype: int64"
      ]
     },
     "execution_count": 13,
     "metadata": {},
     "output_type": "execute_result"
    }
   ],
   "source": [
    "ce['COMMAND'].value_counts()"
   ]
  },
  {
   "cell_type": "code",
   "execution_count": 15,
   "id": "8a2121d1",
   "metadata": {
    "scrolled": true
   },
   "outputs": [
    {
     "data": {
      "text/plain": [
       "['/usr/bin/scontrol',    6000946\n",
       "['/usr/bin/sbatch',      1601416\n",
       "['/usr/bin/scancel',      817933\n",
       "['/usr/bin/sacct',        621390\n",
       "['/usr/bin/squeue',       505726\n",
       "['/usr/bin/squeue']            2\n",
       "Name: COMMAND, dtype: int64"
      ]
     },
     "execution_count": 15,
     "metadata": {},
     "output_type": "execute_result"
    }
   ],
   "source": [
    "ce['COMMAND'].value_counts()"
   ]
  },
  {
   "cell_type": "code",
   "execution_count": 24,
   "id": "8e373838",
   "metadata": {},
   "outputs": [],
   "source": [
    "scontrol = [x for x in data if 'scontrol' in x[16]]"
   ]
  },
  {
   "cell_type": "code",
   "execution_count": 35,
   "id": "76b943e4",
   "metadata": {},
   "outputs": [],
   "source": [
    "ce = pd.DataFrame([[x[13], x[17]] \n",
    "                       for x in scontrol], columns=['RETURNCODE', 'arg1'])"
   ]
  },
  {
   "cell_type": "code",
   "execution_count": 44,
   "id": "a51cd802",
   "metadata": {
    "scrolled": true
   },
   "outputs": [
    {
     "data": {
      "text/plain": [
       "USER  \n",
       "9201      1165907\n",
       "9202       193398\n",
       "9203        84776\n",
       "9221        64933\n",
       "9204        61247\n",
       "9219        31154\n",
       "112870          1\n",
       "dtype: int64"
      ]
     },
     "execution_count": 44,
     "metadata": {},
     "output_type": "execute_result"
    }
   ],
   "source": [
    "sub_data = [x for x in data if 'sbatch' in x[16]]\n",
    "ce = pd.DataFrame([[x[4]] for x in sub_data], columns=['USER'])\n",
    "ce.value_counts()"
   ]
  },
  {
   "cell_type": "code",
   "execution_count": 45,
   "id": "0f299efd",
   "metadata": {
    "scrolled": true
   },
   "outputs": [
    {
     "data": {
      "text/plain": [
       "col1                 \n",
       "['/usr/bin/scontrol',    3350869\n",
       "['/usr/bin/sbatch',      1165907\n",
       "['/usr/bin/scancel',      674049\n",
       "['/usr/bin/sacct',        392407\n",
       "['/usr/bin/squeue',       221180\n",
       "dtype: int64"
      ]
     },
     "execution_count": 45,
     "metadata": {},
     "output_type": "execute_result"
    }
   ],
   "source": [
    "sub_data = [x for x in data if '9201' in x[4]]\n",
    "ce = pd.DataFrame([[x[16]] for x in sub_data], columns=['col1'])\n",
    "ce.value_counts()"
   ]
  },
  {
   "cell_type": "code",
   "execution_count": 46,
   "id": "9ce8ec94",
   "metadata": {
    "scrolled": true
   },
   "outputs": [
    {
     "data": {
      "text/plain": [
       "col1  \n",
       "9201      5804412\n",
       "9202      1292918\n",
       "9203       834980\n",
       "9221       682081\n",
       "9219       618300\n",
       "9204       314709\n",
       "0               8\n",
       "112870          5\n",
       "dtype: int64"
      ]
     },
     "execution_count": 46,
     "metadata": {},
     "output_type": "execute_result"
    }
   ],
   "source": [
    "ce = pd.DataFrame([[x[4]] for x in data], columns=['col1'])\n",
    "ce.value_counts()"
   ]
  },
  {
   "cell_type": "code",
   "execution_count": 49,
   "id": "b8a13aeb",
   "metadata": {},
   "outputs": [
    {
     "data": {
      "text/plain": [
       "col1               \n",
       "['/usr/bin/squeue',    3\n",
       "['/usr/bin/sacct',     1\n",
       "['/usr/bin/sbatch',    1\n",
       "dtype: int64"
      ]
     },
     "execution_count": 49,
     "metadata": {},
     "output_type": "execute_result"
    }
   ],
   "source": [
    "sub_data = [x for x in data if '112870' == x[4]]\n",
    "ce = pd.DataFrame([[x[16]] for x in sub_data], columns=['col1'])\n",
    "ce.value_counts()"
   ]
  }
 ],
 "metadata": {
  "kernelspec": {
   "display_name": "Python 3",
   "language": "python",
   "name": "python3"
  },
  "language_info": {
   "codemirror_mode": {
    "name": "ipython",
    "version": 3
   },
   "file_extension": ".py",
   "mimetype": "text/x-python",
   "name": "python",
   "nbconvert_exporter": "python",
   "pygments_lexer": "ipython3",
   "version": "3.8.8"
  }
 },
 "nbformat": 4,
 "nbformat_minor": 5
}
