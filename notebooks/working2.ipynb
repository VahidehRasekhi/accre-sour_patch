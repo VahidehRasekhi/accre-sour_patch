{
 "cells": [
  {
   "cell_type": "code",
   "execution_count": 1,
   "id": "dddf3816",
   "metadata": {},
   "outputs": [],
   "source": [
    "import pandas as pd\n",
    "import numpy as np\n",
    "import matplotlib.pyplot as plt"
   ]
  },
  {
   "cell_type": "code",
   "execution_count": 2,
   "id": "3a7f66c1",
   "metadata": {},
   "outputs": [],
   "source": [
    "with open('../data/slurm_wrapper_ce5.log') as f:\n",
    "    data5 = ([line.split() for line in f])"
   ]
  },
  {
   "cell_type": "code",
   "execution_count": 4,
   "id": "b3130f17",
   "metadata": {},
   "outputs": [],
   "source": [
    "ce5 = pd.DataFrame([[x[0] + 'T' + x[1], x[4], float(x[10]), int(x[13]), x[16]] \n",
    "                       for x in data5], columns=['BEGIN', 'USER', 'DURATION', 'RC', 'COMMAND'])"
   ]
  },
  {
   "cell_type": "code",
   "execution_count": 6,
   "id": "58fbf7fd",
   "metadata": {},
   "outputs": [],
   "source": [
    "ce5['BEGIN'] = pd.to_datetime(ce5['BEGIN'])"
   ]
  },
  {
   "cell_type": "code",
   "execution_count": 10,
   "id": "57a74b46",
   "metadata": {},
   "outputs": [
    {
     "data": {
      "text/html": [
       "<div>\n",
       "<style scoped>\n",
       "    .dataframe tbody tr th:only-of-type {\n",
       "        vertical-align: middle;\n",
       "    }\n",
       "\n",
       "    .dataframe tbody tr th {\n",
       "        vertical-align: top;\n",
       "    }\n",
       "\n",
       "    .dataframe thead th {\n",
       "        text-align: right;\n",
       "    }\n",
       "</style>\n",
       "<table border=\"1\" class=\"dataframe\">\n",
       "  <thead>\n",
       "    <tr style=\"text-align: right;\">\n",
       "      <th></th>\n",
       "      <th>BEGIN</th>\n",
       "      <th>USER</th>\n",
       "      <th>DURATION</th>\n",
       "      <th>RC</th>\n",
       "      <th>COMMAND</th>\n",
       "    </tr>\n",
       "  </thead>\n",
       "  <tbody>\n",
       "    <tr>\n",
       "      <th>3465</th>\n",
       "      <td>2020-10-16 11:43:45.753267</td>\n",
       "      <td>9201</td>\n",
       "      <td>20.150959</td>\n",
       "      <td>1</td>\n",
       "      <td>['/usr/bin/sbatch',</td>\n",
       "    </tr>\n",
       "    <tr>\n",
       "      <th>3466</th>\n",
       "      <td>2020-10-16 11:43:45.920205</td>\n",
       "      <td>9201</td>\n",
       "      <td>20.218138</td>\n",
       "      <td>1</td>\n",
       "      <td>['/usr/bin/sbatch',</td>\n",
       "    </tr>\n",
       "    <tr>\n",
       "      <th>3467</th>\n",
       "      <td>2020-10-16 11:43:45.939591</td>\n",
       "      <td>9201</td>\n",
       "      <td>20.188296</td>\n",
       "      <td>1</td>\n",
       "      <td>['/usr/bin/sbatch',</td>\n",
       "    </tr>\n",
       "    <tr>\n",
       "      <th>3468</th>\n",
       "      <td>2020-10-16 11:43:46.119672</td>\n",
       "      <td>9201</td>\n",
       "      <td>20.114305</td>\n",
       "      <td>1</td>\n",
       "      <td>['/usr/bin/sbatch',</td>\n",
       "    </tr>\n",
       "    <tr>\n",
       "      <th>3469</th>\n",
       "      <td>2020-10-16 11:43:46.380161</td>\n",
       "      <td>9202</td>\n",
       "      <td>20.092560</td>\n",
       "      <td>1</td>\n",
       "      <td>['/usr/bin/sbatch',</td>\n",
       "    </tr>\n",
       "    <tr>\n",
       "      <th>...</th>\n",
       "      <td>...</td>\n",
       "      <td>...</td>\n",
       "      <td>...</td>\n",
       "      <td>...</td>\n",
       "      <td>...</td>\n",
       "    </tr>\n",
       "    <tr>\n",
       "      <th>4761573</th>\n",
       "      <td>2021-10-06 15:39:19.882645</td>\n",
       "      <td>9221</td>\n",
       "      <td>38.072341</td>\n",
       "      <td>1</td>\n",
       "      <td>['/usr/bin/squeue',</td>\n",
       "    </tr>\n",
       "    <tr>\n",
       "      <th>4761575</th>\n",
       "      <td>2021-10-06 15:39:19.936025</td>\n",
       "      <td>9221</td>\n",
       "      <td>38.052309</td>\n",
       "      <td>1</td>\n",
       "      <td>['/usr/bin/squeue',</td>\n",
       "    </tr>\n",
       "    <tr>\n",
       "      <th>4761576</th>\n",
       "      <td>2021-10-06 15:39:19.963830</td>\n",
       "      <td>9221</td>\n",
       "      <td>38.055701</td>\n",
       "      <td>1</td>\n",
       "      <td>['/usr/bin/squeue',</td>\n",
       "    </tr>\n",
       "    <tr>\n",
       "      <th>4761577</th>\n",
       "      <td>2021-10-06 15:39:20.070326</td>\n",
       "      <td>9221</td>\n",
       "      <td>38.051637</td>\n",
       "      <td>1</td>\n",
       "      <td>['/usr/bin/squeue',</td>\n",
       "    </tr>\n",
       "    <tr>\n",
       "      <th>4761585</th>\n",
       "      <td>2021-10-06 15:39:21.276267</td>\n",
       "      <td>9221</td>\n",
       "      <td>38.036624</td>\n",
       "      <td>1</td>\n",
       "      <td>['/usr/bin/squeue',</td>\n",
       "    </tr>\n",
       "  </tbody>\n",
       "</table>\n",
       "<p>435828 rows × 5 columns</p>\n",
       "</div>"
      ],
      "text/plain": [
       "                             BEGIN  USER   DURATION  RC              COMMAND\n",
       "3465    2020-10-16 11:43:45.753267  9201  20.150959   1  ['/usr/bin/sbatch',\n",
       "3466    2020-10-16 11:43:45.920205  9201  20.218138   1  ['/usr/bin/sbatch',\n",
       "3467    2020-10-16 11:43:45.939591  9201  20.188296   1  ['/usr/bin/sbatch',\n",
       "3468    2020-10-16 11:43:46.119672  9201  20.114305   1  ['/usr/bin/sbatch',\n",
       "3469    2020-10-16 11:43:46.380161  9202  20.092560   1  ['/usr/bin/sbatch',\n",
       "...                            ...   ...        ...  ..                  ...\n",
       "4761573 2021-10-06 15:39:19.882645  9221  38.072341   1  ['/usr/bin/squeue',\n",
       "4761575 2021-10-06 15:39:19.936025  9221  38.052309   1  ['/usr/bin/squeue',\n",
       "4761576 2021-10-06 15:39:19.963830  9221  38.055701   1  ['/usr/bin/squeue',\n",
       "4761577 2021-10-06 15:39:20.070326  9221  38.051637   1  ['/usr/bin/squeue',\n",
       "4761585 2021-10-06 15:39:21.276267  9221  38.036624   1  ['/usr/bin/squeue',\n",
       "\n",
       "[435828 rows x 5 columns]"
      ]
     },
     "execution_count": 10,
     "metadata": {},
     "output_type": "execute_result"
    }
   ],
   "source": [
    "ed"
   ]
  },
  {
   "cell_type": "code",
   "execution_count": 18,
   "id": "bd4b2771",
   "metadata": {},
   "outputs": [
    {
     "data": {
      "text/plain": [
       "[<matplotlib.lines.Line2D at 0x265dbd088e0>]"
      ]
     },
     "execution_count": 18,
     "metadata": {},
     "output_type": "execute_result"
    },
    {
     "data": {
      "image/png": "[encoded data removed]",
      "text/plain": [
       "<Figure size 432x288 with 1 Axes>"
      ]
     },
     "metadata": {
      "needs_background": "light"
     },
     "output_type": "display_data"
    }
   ],
   "source": [
    "# resample_interval = \"D\"\n",
    "# ed = ce5[(ce5['RC'] == 1) & (ce5['DURATION'] > 15)]\n",
    "# ce_ts = pd.Series(list(ed['RC']), index=list(ed['BEGIN']))\n",
    "# a = ce_ts.resample(resample_interval).sum()\n",
    "plt.plot(list(a.sort_values()))"
   ]
  },
  {
   "cell_type": "code",
   "execution_count": 20,
   "id": "dfa57ca4",
   "metadata": {},
   "outputs": [
    {
     "data": {
      "text/plain": [
       "2020-12-04    23486\n",
       "2020-12-02    16915\n",
       "2021-04-21    16692\n",
       "2020-11-27    15819\n",
       "2020-11-22    13270\n",
       "2020-11-23    11998\n",
       "2020-11-30    11455\n",
       "2021-01-04    11414\n",
       "2021-03-01    10055\n",
       "2020-12-09     8522\n",
       "2021-09-10     8387\n",
       "2021-01-05     8221\n",
       "2021-05-14     8216\n",
       "2021-06-08     7726\n",
       "2021-08-04     6636\n",
       "2021-06-23     5770\n",
       "2021-07-02     5641\n",
       "2020-12-11     5591\n",
       "2021-06-17     5349\n",
       "2020-12-07     4998\n",
       "dtype: int64"
      ]
     },
     "execution_count": 20,
     "metadata": {},
     "output_type": "execute_result"
    }
   ],
   "source": [
    "a.sort_values(ascending=False).head(20)"
   ]
  },
  {
   "cell_type": "code",
   "execution_count": 23,
   "id": "52746535",
   "metadata": {},
   "outputs": [
    {
     "data": {
      "text/plain": [
       "[<matplotlib.lines.Line2D at 0x265ea3e2880>]"
      ]
     },
     "execution_count": 23,
     "metadata": {},
     "output_type": "execute_result"
    },
    {
     "data": {
      "image/png": "[encoded data removed]",
      "text/plain": [
       "<Figure size 432x288 with 1 Axes>"
      ]
     },
     "metadata": {
      "needs_background": "light"
     },
     "output_type": "display_data"
    }
   ],
   "source": [
    "plt.plot(list(b.sort_values()))"
   ]
  },
  {
   "cell_type": "code",
   "execution_count": 22,
   "id": "780caa1d",
   "metadata": {},
   "outputs": [
    {
     "data": {
      "text/plain": [
       "2020-12-06    58170\n",
       "2020-11-29    34910\n",
       "2020-12-13    23907\n",
       "2021-04-25    22582\n",
       "2021-01-10    22507\n",
       "2021-03-07    20374\n",
       "2021-05-16    19890\n",
       "2021-07-04    16542\n",
       "2020-11-22    16041\n",
       "2020-12-20    15043\n",
       "2021-06-13    14443\n",
       "2021-06-27    11824\n",
       "2021-09-12    11507\n",
       "2021-08-08    10677\n",
       "2021-06-20    10143\n",
       "2021-07-11     9707\n",
       "2021-05-02     9665\n",
       "2021-01-17     9540\n",
       "2021-03-14     8748\n",
       "2021-01-03     7680\n",
       "dtype: int64"
      ]
     },
     "execution_count": 22,
     "metadata": {},
     "output_type": "execute_result"
    }
   ],
   "source": [
    "# b = ce_ts.resample('W').sum()\n",
    "b.sort_values(ascending=False).head(20)"
   ]
  },
  {
   "cell_type": "code",
   "execution_count": 26,
   "id": "21d62893",
   "metadata": {},
   "outputs": [
    {
     "data": {
      "text/plain": [
       "[<matplotlib.lines.Line2D at 0x265e6dcb670>]"
      ]
     },
     "execution_count": 26,
     "metadata": {},
     "output_type": "execute_result"
    },
    {
     "data": {
      "image/png": "[encoded data removed]",
      "text/plain": [
       "<Figure size 432x288 with 1 Axes>"
      ]
     },
     "metadata": {
      "needs_background": "light"
     },
     "output_type": "display_data"
    }
   ],
   "source": [
    "plt.plot(list(c.sort_values()))"
   ]
  },
  {
   "cell_type": "code",
   "execution_count": 25,
   "id": "9d8c1dea",
   "metadata": {},
   "outputs": [
    {
     "data": {
      "text/plain": [
       "2020-12-31    94345\n",
       "2020-11-30    65187\n",
       "2021-06-30    44491\n",
       "2021-01-31    40157\n",
       "2021-04-30    37622\n",
       "2021-03-31    34453\n",
       "2021-07-31    33081\n",
       "2021-05-31    28736\n",
       "2021-08-31    21188\n",
       "2021-09-30    20749\n",
       "2021-02-28    11267\n",
       "2020-10-31     4110\n",
       "2021-10-31      442\n",
       "dtype: int64"
      ]
     },
     "execution_count": 25,
     "metadata": {},
     "output_type": "execute_result"
    }
   ],
   "source": [
    "# c = ce_ts.resample('M').sum()\n",
    "c.sort_values(ascending=False).head(20)"
   ]
  }
 ],
 "metadata": {
  "kernelspec": {
   "display_name": "Python 3",
   "language": "python",
   "name": "python3"
  },
  "language_info": {
   "codemirror_mode": {
    "name": "ipython",
    "version": 3
   },
   "file_extension": ".py",
   "mimetype": "text/x-python",
   "name": "python",
   "nbconvert_exporter": "python",
   "pygments_lexer": "ipython3",
   "version": "3.8.8"
  }
 },
 "nbformat": 4,
 "nbformat_minor": 5
}
