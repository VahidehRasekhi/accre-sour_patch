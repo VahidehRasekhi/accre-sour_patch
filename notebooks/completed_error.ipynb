{
 "cells": [
  {
   "cell_type": "code",
   "execution_count": 67,
   "id": "15ea942e",
   "metadata": {},
   "outputs": [],
   "source": [
    "import pandas as pd\n",
    "from sklearn.model_selection import train_test_split\n",
    "from sklearn.linear_model import LinearRegression as lm\n",
    "import statsmodels.api as sm\n",
    "import matplotlib.pyplot as plt"
   ]
  },
  {
   "cell_type": "code",
   "execution_count": 2,
   "id": "93a49f9e",
   "metadata": {},
   "outputs": [],
   "source": [
    "fs_df = pd.read_pickle('../data/fs_df.pkl')\n",
    "cs5_df = pd.read_pickle('../data/cs5_df.pkl')\n",
    "cs6_df = pd.read_pickle('../data/cs6_df.pkl')\n",
    "fs_df = fs_df.drop(columns=['REQMEM','REQTIME'])"
   ]
  },
  {
   "cell_type": "code",
   "execution_count": null,
   "id": "99c03ded",
   "metadata": {},
   "outputs": [],
   "source": [
    "fs_ts = pd.Series(1, index=list(fs_df['END']))\n",
    "cs5_ts = pd.Series(list(cs5_df['RETURNCODE']), index=list(cs5_df['TIME']))\n",
    "cs6_ts = pd.Series(list(cs6_df['RETURNCODE']), index=list(cs6_df['TIME']))"
   ]
  },
  {
   "cell_type": "code",
   "execution_count": null,
   "id": "c40092cf",
   "metadata": {
    "scrolled": true
   },
   "outputs": [],
   "source": [
    "resample_interval = 'D'\n",
    "fs_resample = fs_ts.resample(resample_interval).count() #.to_frame().cumsum()\n",
    "cs5_resample = cs5_ts.resample(resample_interval).sum()\n",
    "cs6_resample = cs6_ts.resample(resample_interval).sum()\n",
    "cs_resample = cs5_resample + cs6_resample"
   ]
  },
  {
   "cell_type": "code",
   "execution_count": 56,
   "id": "191a993f",
   "metadata": {},
   "outputs": [],
   "source": [
    "resample_df = fs_resample.to_frame().join(cs_resample.to_frame(), lsuffix='_fs', rsuffix='_cs').dropna()"
   ]
  },
  {
   "cell_type": "code",
   "execution_count": 65,
   "id": "b2a6beeb",
   "metadata": {},
   "outputs": [],
   "source": [
    "y=resample_df['0_cs']\n",
    "X=resample_df['0_fs']\n",
    "model = sm.OLS(y, X).fit()"
   ]
  },
  {
   "cell_type": "code",
   "execution_count": 66,
   "id": "3d3b8d46",
   "metadata": {},
   "outputs": [
    {
     "data": {
      "text/html": [
       "<table class=\"simpletable\">\n",
       "<caption>OLS Regression Results</caption>\n",
       "<tr>\n",
       "  <th>Dep. Variable:</th>          <td>0_cs</td>       <th>  R-squared (uncentered):</th>      <td>   0.129</td>\n",
       "</tr>\n",
       "<tr>\n",
       "  <th>Model:</th>                   <td>OLS</td>       <th>  Adj. R-squared (uncentered):</th> <td>   0.126</td>\n",
       "</tr>\n",
       "<tr>\n",
       "  <th>Method:</th>             <td>Least Squares</td>  <th>  F-statistic:       </th>          <td>   52.64</td>\n",
       "</tr>\n",
       "<tr>\n",
       "  <th>Date:</th>             <td>Tue, 26 Oct 2021</td> <th>  Prob (F-statistic):</th>          <td>2.52e-12</td>\n",
       "</tr>\n",
       "<tr>\n",
       "  <th>Time:</th>                 <td>12:57:49</td>     <th>  Log-Likelihood:    </th>          <td> -1543.0</td>\n",
       "</tr>\n",
       "<tr>\n",
       "  <th>No. Observations:</th>      <td>   357</td>      <th>  AIC:               </th>          <td>   3088.</td>\n",
       "</tr>\n",
       "<tr>\n",
       "  <th>Df Residuals:</th>          <td>   356</td>      <th>  BIC:               </th>          <td>   3092.</td>\n",
       "</tr>\n",
       "<tr>\n",
       "  <th>Df Model:</th>              <td>     1</td>      <th>                     </th>              <td> </td>   \n",
       "</tr>\n",
       "<tr>\n",
       "  <th>Covariance Type:</th>      <td>nonrobust</td>    <th>                     </th>              <td> </td>   \n",
       "</tr>\n",
       "</table>\n",
       "<table class=\"simpletable\">\n",
       "<tr>\n",
       "    <td></td>      <th>coef</th>     <th>std err</th>      <th>t</th>      <th>P>|t|</th>  <th>[0.025</th>    <th>0.975]</th>  \n",
       "</tr>\n",
       "<tr>\n",
       "  <th>0_fs</th> <td>    0.0003</td> <td> 3.84e-05</td> <td>    7.256</td> <td> 0.000</td> <td>    0.000</td> <td>    0.000</td>\n",
       "</tr>\n",
       "</table>\n",
       "<table class=\"simpletable\">\n",
       "<tr>\n",
       "  <th>Omnibus:</th>       <td>284.735</td> <th>  Durbin-Watson:     </th> <td>   1.112</td>\n",
       "</tr>\n",
       "<tr>\n",
       "  <th>Prob(Omnibus):</th> <td> 0.000</td>  <th>  Jarque-Bera (JB):  </th> <td>4338.549</td>\n",
       "</tr>\n",
       "<tr>\n",
       "  <th>Skew:</th>          <td> 3.327</td>  <th>  Prob(JB):          </th> <td>    0.00</td>\n",
       "</tr>\n",
       "<tr>\n",
       "  <th>Kurtosis:</th>      <td>18.729</td>  <th>  Cond. No.          </th> <td>    1.00</td>\n",
       "</tr>\n",
       "</table><br/><br/>Notes:<br/>[1] R² is computed without centering (uncentered) since the model does not contain a constant.<br/>[2] Standard Errors assume that the covariance matrix of the errors is correctly specified."
      ],
      "text/plain": [
       "<class 'statsmodels.iolib.summary.Summary'>\n",
       "\"\"\"\n",
       "                                 OLS Regression Results                                \n",
       "=======================================================================================\n",
       "Dep. Variable:                   0_cs   R-squared (uncentered):                   0.129\n",
       "Model:                            OLS   Adj. R-squared (uncentered):              0.126\n",
       "Method:                 Least Squares   F-statistic:                              52.64\n",
       "Date:                Tue, 26 Oct 2021   Prob (F-statistic):                    2.52e-12\n",
       "Time:                        12:57:49   Log-Likelihood:                         -1543.0\n",
       "No. Observations:                 357   AIC:                                      3088.\n",
       "Df Residuals:                     356   BIC:                                      3092.\n",
       "Df Model:                           1                                                  \n",
       "Covariance Type:            nonrobust                                                  \n",
       "==============================================================================\n",
       "                 coef    std err          t      P>|t|      [0.025      0.975]\n",
       "------------------------------------------------------------------------------\n",
       "0_fs           0.0003   3.84e-05      7.256      0.000       0.000       0.000\n",
       "==============================================================================\n",
       "Omnibus:                      284.735   Durbin-Watson:                   1.112\n",
       "Prob(Omnibus):                  0.000   Jarque-Bera (JB):             4338.549\n",
       "Skew:                           3.327   Prob(JB):                         0.00\n",
       "Kurtosis:                      18.729   Cond. No.                         1.00\n",
       "==============================================================================\n",
       "\n",
       "Notes:\n",
       "[1] R² is computed without centering (uncentered) since the model does not contain a constant.\n",
       "[2] Standard Errors assume that the covariance matrix of the errors is correctly specified.\n",
       "\"\"\""
      ]
     },
     "execution_count": 66,
     "metadata": {},
     "output_type": "execute_result"
    }
   ],
   "source": [
    "model.summary()"
   ]
  },
  {
   "cell_type": "code",
   "execution_count": 69,
   "id": "3462018d",
   "metadata": {},
   "outputs": [
    {
     "data": {
      "text/plain": [
       "<matplotlib.collections.PathCollection at 0x1a2096a6520>"
      ]
     },
     "execution_count": 69,
     "metadata": {},
     "output_type": "execute_result"
    },
    {
     "data": {
      "image/png": "[encoded data removed]",
      "text/plain": [
       "<Figure size 1080x720 with 1 Axes>"
      ]
     },
     "metadata": {
      "needs_background": "light"
     },
     "output_type": "display_data"
    }
   ],
   "source": [
    "plt.figure(figsize=(15, 10))\n",
    "plt.scatter(resample_df['0_fs'], resample_df['0_cs'])"
   ]
  }
 ],
 "metadata": {
  "kernelspec": {
   "display_name": "Python 3",
   "language": "python",
   "name": "python3"
  },
  "language_info": {
   "codemirror_mode": {
    "name": "ipython",
    "version": 3
   },
   "file_extension": ".py",
   "mimetype": "text/x-python",
   "name": "python",
   "nbconvert_exporter": "python",
   "pygments_lexer": "ipython3",
   "version": "3.8.8"
  }
 },
 "nbformat": 4,
 "nbformat_minor": 5
}
