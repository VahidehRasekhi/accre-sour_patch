{
 "cells": [
  {
   "cell_type": "code",
   "execution_count": 37,
   "id": "dddf3816",
   "metadata": {},
   "outputs": [],
   "source": [
    "import pandas as pd\n",
    "import numpy as np"
   ]
  },
  {
   "cell_type": "code",
   "execution_count": 2,
   "id": "3a7f66c1",
   "metadata": {},
   "outputs": [],
   "source": [
    "with open('../data/slurm_wrapper_ce5.log') as f:\n",
    "    data5 = ([line.split() for line in f])"
   ]
  },
  {
   "cell_type": "code",
   "execution_count": 3,
   "id": "b3130f17",
   "metadata": {},
   "outputs": [],
   "source": [
    "ce5 = pd.DataFrame([[x[0] + ' ' + x[1], x[4], float(x[10]), int(x[13]), x[16]] \n",
    "                       for x in data5], columns=['BEGIN', 'USER', 'DURATION', 'RC', 'COMMAND'])"
   ]
  },
  {
   "cell_type": "code",
   "execution_count": 4,
   "id": "8b349651",
   "metadata": {},
   "outputs": [],
   "source": [
    "ce5['value_grp'] = (ce5.RC.diff(1) != 0).cumsum()"
   ]
  },
  {
   "cell_type": "code",
   "execution_count": 5,
   "id": "76cb271f",
   "metadata": {},
   "outputs": [],
   "source": [
    "ce5 = ce5.reset_index()"
   ]
  },
  {
   "cell_type": "code",
   "execution_count": 6,
   "id": "9e2b451d",
   "metadata": {},
   "outputs": [],
   "source": [
    "f_index = pd.DataFrame({'Consecutive' : ce5.groupby('value_grp').size(),\n",
    "                    'index' : ce5.groupby('value_grp').index.first(),\n",
    "                    'dur' : ce5.groupby('value_grp').DURATION.first(),\n",
    "                    'Returncode' : ce5.groupby('value_grp').RC.first()})"
   ]
  },
  {
   "cell_type": "code",
   "execution_count": 13,
   "id": "d6890e35",
   "metadata": {},
   "outputs": [],
   "source": [
    "fe_index = f_index[(f_index['Returncode'] == 1) & (f_index['dur'] > 15)]"
   ]
  },
  {
   "cell_type": "code",
   "execution_count": 16,
   "id": "bfd7db73",
   "metadata": {},
   "outputs": [],
   "source": [
    "fe_df = ce5.join(fe_index[['index','Consecutive']].set_index('index'), how='inner').sort_values('BEGIN', ascending=False)"
   ]
  },
  {
   "cell_type": "code",
   "execution_count": 18,
   "id": "37544350",
   "metadata": {
    "scrolled": true
   },
   "outputs": [
    {
     "data": {
      "text/plain": [
       "['/usr/bin/scontrol',    34694\n",
       "['/usr/bin/sbatch',       7545\n",
       "['/usr/bin/squeue',       3548\n",
       "Name: COMMAND, dtype: int64"
      ]
     },
     "execution_count": 18,
     "metadata": {},
     "output_type": "execute_result"
    }
   ],
   "source": [
    "fe_df['COMMAND'].value_counts()"
   ]
  },
  {
   "cell_type": "code",
   "execution_count": 29,
   "id": "d673b34a",
   "metadata": {},
   "outputs": [
    {
     "data": {
      "text/plain": [
       "Int64Index([    125,     360,     362,     428,     431,     439,     440,\n",
       "                441,     442,     453,\n",
       "            ...\n",
       "            4770411, 4770449, 4770529, 4770562, 4770650, 4770690, 4770749,\n",
       "            4770782, 4770855, 4770884],\n",
       "           dtype='int64', length=357383)"
      ]
     },
     "execution_count": 29,
     "metadata": {},
     "output_type": "execute_result"
    }
   ],
   "source": [
    "ce5[ce5['COMMAND'].str.contains('sacct')].index"
   ]
  },
  {
   "cell_type": "code",
   "execution_count": 47,
   "id": "b8d766f3",
   "metadata": {
    "scrolled": false
   },
   "outputs": [
    {
     "data": {
      "text/html": [
       "<div>\n",
       "<style scoped>\n",
       "    .dataframe tbody tr th:only-of-type {\n",
       "        vertical-align: middle;\n",
       "    }\n",
       "\n",
       "    .dataframe tbody tr th {\n",
       "        vertical-align: top;\n",
       "    }\n",
       "\n",
       "    .dataframe thead th {\n",
       "        text-align: right;\n",
       "    }\n",
       "</style>\n",
       "<table border=\"1\" class=\"dataframe\">\n",
       "  <thead>\n",
       "    <tr style=\"text-align: right;\">\n",
       "      <th></th>\n",
       "      <th>index</th>\n",
       "      <th>BEGIN</th>\n",
       "      <th>USER</th>\n",
       "      <th>DURATION</th>\n",
       "      <th>RC</th>\n",
       "      <th>COMMAND</th>\n",
       "      <th>value_grp</th>\n",
       "    </tr>\n",
       "  </thead>\n",
       "  <tbody>\n",
       "    <tr>\n",
       "      <th>9118</th>\n",
       "      <td>9118</td>\n",
       "      <td>2020-10-16 16:00:16.038701</td>\n",
       "      <td>9204</td>\n",
       "      <td>18.315583</td>\n",
       "      <td>0</td>\n",
       "      <td>['/usr/bin/scontrol',</td>\n",
       "      <td>245</td>\n",
       "    </tr>\n",
       "    <tr>\n",
       "      <th>10554</th>\n",
       "      <td>10554</td>\n",
       "      <td>2020-10-16 17:22:57.794663</td>\n",
       "      <td>9219</td>\n",
       "      <td>16.793026</td>\n",
       "      <td>0</td>\n",
       "      <td>['/usr/bin/scontrol',</td>\n",
       "      <td>285</td>\n",
       "    </tr>\n",
       "    <tr>\n",
       "      <th>10599</th>\n",
       "      <td>10599</td>\n",
       "      <td>2020-10-16 17:24:13.928890</td>\n",
       "      <td>9202</td>\n",
       "      <td>15.571080</td>\n",
       "      <td>0</td>\n",
       "      <td>['/usr/bin/scontrol',</td>\n",
       "      <td>285</td>\n",
       "    </tr>\n",
       "    <tr>\n",
       "      <th>11740</th>\n",
       "      <td>11740</td>\n",
       "      <td>2020-10-16 18:11:04.675942</td>\n",
       "      <td>9202</td>\n",
       "      <td>15.704717</td>\n",
       "      <td>0</td>\n",
       "      <td>['/usr/bin/scontrol',</td>\n",
       "      <td>299</td>\n",
       "    </tr>\n",
       "    <tr>\n",
       "      <th>12440</th>\n",
       "      <td>12440</td>\n",
       "      <td>2020-10-16 18:47:50.962718</td>\n",
       "      <td>9202</td>\n",
       "      <td>17.149708</td>\n",
       "      <td>0</td>\n",
       "      <td>['/usr/bin/scontrol',</td>\n",
       "      <td>309</td>\n",
       "    </tr>\n",
       "    <tr>\n",
       "      <th>...</th>\n",
       "      <td>...</td>\n",
       "      <td>...</td>\n",
       "      <td>...</td>\n",
       "      <td>...</td>\n",
       "      <td>...</td>\n",
       "      <td>...</td>\n",
       "      <td>...</td>\n",
       "    </tr>\n",
       "    <tr>\n",
       "      <th>4761560</th>\n",
       "      <td>4761560</td>\n",
       "      <td>2021-10-06 15:39:18.708410</td>\n",
       "      <td>9221</td>\n",
       "      <td>38.036971</td>\n",
       "      <td>1</td>\n",
       "      <td>['/usr/bin/squeue',</td>\n",
       "      <td>271220</td>\n",
       "    </tr>\n",
       "    <tr>\n",
       "      <th>4761566</th>\n",
       "      <td>4761566</td>\n",
       "      <td>2021-10-06 15:39:19.632385</td>\n",
       "      <td>9221</td>\n",
       "      <td>38.039301</td>\n",
       "      <td>1</td>\n",
       "      <td>['/usr/bin/squeue',</td>\n",
       "      <td>271222</td>\n",
       "    </tr>\n",
       "    <tr>\n",
       "      <th>4761568</th>\n",
       "      <td>4761568</td>\n",
       "      <td>2021-10-06 15:39:19.714047</td>\n",
       "      <td>9221</td>\n",
       "      <td>38.042240</td>\n",
       "      <td>1</td>\n",
       "      <td>['/usr/bin/squeue',</td>\n",
       "      <td>271224</td>\n",
       "    </tr>\n",
       "    <tr>\n",
       "      <th>4761573</th>\n",
       "      <td>4761573</td>\n",
       "      <td>2021-10-06 15:39:19.882645</td>\n",
       "      <td>9221</td>\n",
       "      <td>38.072341</td>\n",
       "      <td>1</td>\n",
       "      <td>['/usr/bin/squeue',</td>\n",
       "      <td>271226</td>\n",
       "    </tr>\n",
       "    <tr>\n",
       "      <th>4761577</th>\n",
       "      <td>4761577</td>\n",
       "      <td>2021-10-06 15:39:20.070326</td>\n",
       "      <td>9221</td>\n",
       "      <td>38.051637</td>\n",
       "      <td>1</td>\n",
       "      <td>['/usr/bin/squeue',</td>\n",
       "      <td>271228</td>\n",
       "    </tr>\n",
       "  </tbody>\n",
       "</table>\n",
       "<p>26290 rows × 7 columns</p>\n",
       "</div>"
      ],
      "text/plain": [
       "           index                       BEGIN  USER   DURATION  RC  \\\n",
       "9118        9118  2020-10-16 16:00:16.038701  9204  18.315583   0   \n",
       "10554      10554  2020-10-16 17:22:57.794663  9219  16.793026   0   \n",
       "10599      10599  2020-10-16 17:24:13.928890  9202  15.571080   0   \n",
       "11740      11740  2020-10-16 18:11:04.675942  9202  15.704717   0   \n",
       "12440      12440  2020-10-16 18:47:50.962718  9202  17.149708   0   \n",
       "...          ...                         ...   ...        ...  ..   \n",
       "4761560  4761560  2021-10-06 15:39:18.708410  9221  38.036971   1   \n",
       "4761566  4761566  2021-10-06 15:39:19.632385  9221  38.039301   1   \n",
       "4761568  4761568  2021-10-06 15:39:19.714047  9221  38.042240   1   \n",
       "4761573  4761573  2021-10-06 15:39:19.882645  9221  38.072341   1   \n",
       "4761577  4761577  2021-10-06 15:39:20.070326  9221  38.051637   1   \n",
       "\n",
       "                       COMMAND  value_grp  \n",
       "9118     ['/usr/bin/scontrol',        245  \n",
       "10554    ['/usr/bin/scontrol',        285  \n",
       "10599    ['/usr/bin/scontrol',        285  \n",
       "11740    ['/usr/bin/scontrol',        299  \n",
       "12440    ['/usr/bin/scontrol',        309  \n",
       "...                        ...        ...  \n",
       "4761560    ['/usr/bin/squeue',     271220  \n",
       "4761566    ['/usr/bin/squeue',     271222  \n",
       "4761568    ['/usr/bin/squeue',     271224  \n",
       "4761573    ['/usr/bin/squeue',     271226  \n",
       "4761577    ['/usr/bin/squeue',     271228  \n",
       "\n",
       "[26290 rows x 7 columns]"
      ]
     },
     "execution_count": 47,
     "metadata": {},
     "output_type": "execute_result"
    }
   ],
   "source": [
    "sindex = np.array(ce5[ce5['COMMAND'].str.contains('sacct')].index)\n",
    "sindex += -1\n",
    "sc = ce5.join(pd.DataFrame(index = sindex), how='inner')\n",
    "sc[sc['DURATION'] > 15]"
   ]
  },
  {
   "cell_type": "code",
   "execution_count": 48,
   "id": "05092f50",
   "metadata": {},
   "outputs": [
    {
     "data": {
      "text/plain": [
       "['/usr/bin/scontrol',    2813268\n",
       "['/usr/bin/sbatch',       910534\n",
       "['/usr/bin/scancel',      428813\n",
       "['/usr/bin/sacct',        357383\n",
       "['/usr/bin/squeue',       260888\n",
       "['/usr/bin/squeue']            2\n",
       "Name: COMMAND, dtype: int64"
      ]
     },
     "execution_count": 48,
     "metadata": {},
     "output_type": "execute_result"
    }
   ],
   "source": [
    "ce5['COMMAND'].value_counts()"
   ]
  }
 ],
 "metadata": {
  "kernelspec": {
   "display_name": "Python 3",
   "language": "python",
   "name": "python3"
  },
  "language_info": {
   "codemirror_mode": {
    "name": "ipython",
    "version": 3
   },
   "file_extension": ".py",
   "mimetype": "text/x-python",
   "name": "python",
   "nbconvert_exporter": "python",
   "pygments_lexer": "ipython3",
   "version": "3.8.8"
  }
 },
 "nbformat": 4,
 "nbformat_minor": 5
}
