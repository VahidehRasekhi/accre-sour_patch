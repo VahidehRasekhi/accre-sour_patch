{
 "cells": [
  {
   "cell_type": "code",
   "execution_count": 1,
   "id": "fe94ea75",
   "metadata": {},
   "outputs": [],
   "source": [
    "import pandas as pd"
   ]
  },
  {
   "cell_type": "code",
   "execution_count": 2,
   "id": "cb01e424",
   "metadata": {},
   "outputs": [],
   "source": [
    "fs_df = pd.read_pickle('../data/fs_df.pkl')"
   ]
  },
  {
   "cell_type": "code",
   "execution_count": 4,
   "id": "f34e3654",
   "metadata": {},
   "outputs": [
    {
     "data": {
      "text/plain": [
       "JOBID                object\n",
       "STATE                object\n",
       "BEGIN        datetime64[ns]\n",
       "END          datetime64[ns]\n",
       "REQMEM                int32\n",
       "USEDMEM             float64\n",
       "REQTIME              object\n",
       "USEDTIME             object\n",
       "NODES                 int64\n",
       "CPUS                  int64\n",
       "PARTITION            object\n",
       "EXITCODE             object\n",
       "dtype: object"
      ]
     },
     "execution_count": 4,
     "metadata": {},
     "output_type": "execute_result"
    }
   ],
   "source": [
    "fs_df"
   ]
  }
 ],
 "metadata": {
  "kernelspec": {
   "display_name": "Python 3",
   "language": "python",
   "name": "python3"
  },
  "language_info": {
   "codemirror_mode": {
    "name": "ipython",
    "version": 3
   },
   "file_extension": ".py",
   "mimetype": "text/x-python",
   "name": "python",
   "nbconvert_exporter": "python",
   "pygments_lexer": "ipython3",
   "version": "3.8.8"
  }
 },
 "nbformat": 4,
 "nbformat_minor": 5
}
