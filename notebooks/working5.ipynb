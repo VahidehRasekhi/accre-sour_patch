{
 "cells": [
  {
   "cell_type": "code",
   "execution_count": 1,
   "id": "158f4151",
   "metadata": {},
   "outputs": [],
   "source": [
    "import pandas as pd"
   ]
  },
  {
   "cell_type": "code",
   "execution_count": 2,
   "id": "53650646",
   "metadata": {},
   "outputs": [],
   "source": [
    "with open('../data/slurm_wrapper_ce5.log') as f:\n",
    "    data5 = ([line.split() for line in f])"
   ]
  },
  {
   "cell_type": "code",
   "execution_count": 3,
   "id": "00e8906f",
   "metadata": {},
   "outputs": [],
   "source": [
    "ce5 = pd.DataFrame([[x[0] + 'T' + x[1], x[4], float(x[10]), int(x[13]), ''.join(x[16:])] \n",
    "                       for x in data5], columns=['BEGIN', 'USER', 'DURATION', 'RC', 'COMMAND'])"
   ]
  },
  {
   "cell_type": "code",
   "execution_count": 6,
   "id": "e7340e50",
   "metadata": {},
   "outputs": [],
   "source": [
    "ce5 = ce5.sort_values('BEGIN').reset_index()"
   ]
  },
  {
   "cell_type": "code",
   "execution_count": 7,
   "id": "30eae64a",
   "metadata": {},
   "outputs": [],
   "source": [
    "ce5['value_grp'] = (ce5.RC.diff(1) != 0).cumsum()"
   ]
  },
  {
   "cell_type": "code",
   "execution_count": 8,
   "id": "951e1c01",
   "metadata": {},
   "outputs": [],
   "source": [
    "codes_grouped = pd.DataFrame({'Sindex' : ce5.groupby('value_grp').index.first(),\n",
    "            'BeginDate' : ce5.groupby('value_grp').BEGIN.first(), \n",
    "              'EndDate' : ce5.groupby('value_grp').BEGIN.last(),\n",
    "              'Consecutive' : ce5.groupby('value_grp').size(), \n",
    "              'Returncode' : ce5.groupby('value_grp').RC.first()})\\\n",
    "            .sort_values('Consecutive', ascending=False)"
   ]
  },
  {
   "cell_type": "code",
   "execution_count": 21,
   "id": "0275766d",
   "metadata": {
    "scrolled": false
   },
   "outputs": [
    {
     "data": {
      "text/html": [
       "<div>\n",
       "<style scoped>\n",
       "    .dataframe tbody tr th:only-of-type {\n",
       "        vertical-align: middle;\n",
       "    }\n",
       "\n",
       "    .dataframe tbody tr th {\n",
       "        vertical-align: top;\n",
       "    }\n",
       "\n",
       "    .dataframe thead th {\n",
       "        text-align: right;\n",
       "    }\n",
       "</style>\n",
       "<table border=\"1\" class=\"dataframe\">\n",
       "  <thead>\n",
       "    <tr style=\"text-align: right;\">\n",
       "      <th></th>\n",
       "      <th>Sindex</th>\n",
       "      <th>BeginDate</th>\n",
       "      <th>EndDate</th>\n",
       "      <th>Consecutive</th>\n",
       "      <th>Returncode</th>\n",
       "    </tr>\n",
       "    <tr>\n",
       "      <th>value_grp</th>\n",
       "      <th></th>\n",
       "      <th></th>\n",
       "      <th></th>\n",
       "      <th></th>\n",
       "      <th></th>\n",
       "    </tr>\n",
       "  </thead>\n",
       "  <tbody>\n",
       "    <tr>\n",
       "      <th>271238</th>\n",
       "      <td>4761585</td>\n",
       "      <td>2021-10-06T15:39:21.276267</td>\n",
       "      <td>2021-10-06T15:39:21.276267</td>\n",
       "      <td>1</td>\n",
       "      <td>1</td>\n",
       "    </tr>\n",
       "    <tr>\n",
       "      <th>271236</th>\n",
       "      <td>4761575</td>\n",
       "      <td>2021-10-06T15:39:19.936025</td>\n",
       "      <td>2021-10-06T15:39:20.070326</td>\n",
       "      <td>3</td>\n",
       "      <td>1</td>\n",
       "    </tr>\n",
       "    <tr>\n",
       "      <th>271234</th>\n",
       "      <td>4761570</td>\n",
       "      <td>2021-10-06T15:39:19.820597</td>\n",
       "      <td>2021-10-06T15:39:19.882645</td>\n",
       "      <td>4</td>\n",
       "      <td>1</td>\n",
       "    </tr>\n",
       "    <tr>\n",
       "      <th>271232</th>\n",
       "      <td>4761568</td>\n",
       "      <td>2021-10-06T15:39:19.714047</td>\n",
       "      <td>2021-10-06T15:39:19.714047</td>\n",
       "      <td>1</td>\n",
       "      <td>1</td>\n",
       "    </tr>\n",
       "    <tr>\n",
       "      <th>271230</th>\n",
       "      <td>4761564</td>\n",
       "      <td>2021-10-06T15:39:19.531371</td>\n",
       "      <td>2021-10-06T15:39:19.632385</td>\n",
       "      <td>3</td>\n",
       "      <td>1</td>\n",
       "    </tr>\n",
       "    <tr>\n",
       "      <th>...</th>\n",
       "      <td>...</td>\n",
       "      <td>...</td>\n",
       "      <td>...</td>\n",
       "      <td>...</td>\n",
       "      <td>...</td>\n",
       "    </tr>\n",
       "    <tr>\n",
       "      <th>10</th>\n",
       "      <td>515</td>\n",
       "      <td>2020-10-16T08:55:47.640152</td>\n",
       "      <td>2020-10-16T08:55:47.700888</td>\n",
       "      <td>3</td>\n",
       "      <td>1</td>\n",
       "    </tr>\n",
       "    <tr>\n",
       "      <th>8</th>\n",
       "      <td>506</td>\n",
       "      <td>2020-10-16T08:55:14.136565</td>\n",
       "      <td>2020-10-16T08:55:14.199320</td>\n",
       "      <td>3</td>\n",
       "      <td>1</td>\n",
       "    </tr>\n",
       "    <tr>\n",
       "      <th>6</th>\n",
       "      <td>495</td>\n",
       "      <td>2020-10-16T08:54:19.220501</td>\n",
       "      <td>2020-10-16T08:54:19.800110</td>\n",
       "      <td>3</td>\n",
       "      <td>1</td>\n",
       "    </tr>\n",
       "    <tr>\n",
       "      <th>4</th>\n",
       "      <td>450</td>\n",
       "      <td>2020-10-16T08:50:40.257763</td>\n",
       "      <td>2020-10-16T08:50:40.300577</td>\n",
       "      <td>3</td>\n",
       "      <td>1</td>\n",
       "    </tr>\n",
       "    <tr>\n",
       "      <th>2</th>\n",
       "      <td>357</td>\n",
       "      <td>2020-10-16T08:39:50.885933</td>\n",
       "      <td>2020-10-16T08:39:50.926236</td>\n",
       "      <td>3</td>\n",
       "      <td>1</td>\n",
       "    </tr>\n",
       "  </tbody>\n",
       "</table>\n",
       "<p>133352 rows × 5 columns</p>\n",
       "</div>"
      ],
      "text/plain": [
       "            Sindex                   BeginDate                     EndDate  \\\n",
       "value_grp                                                                    \n",
       "271238     4761585  2021-10-06T15:39:21.276267  2021-10-06T15:39:21.276267   \n",
       "271236     4761575  2021-10-06T15:39:19.936025  2021-10-06T15:39:20.070326   \n",
       "271234     4761570  2021-10-06T15:39:19.820597  2021-10-06T15:39:19.882645   \n",
       "271232     4761568  2021-10-06T15:39:19.714047  2021-10-06T15:39:19.714047   \n",
       "271230     4761564  2021-10-06T15:39:19.531371  2021-10-06T15:39:19.632385   \n",
       "...            ...                         ...                         ...   \n",
       "10             515  2020-10-16T08:55:47.640152  2020-10-16T08:55:47.700888   \n",
       "8              506  2020-10-16T08:55:14.136565  2020-10-16T08:55:14.199320   \n",
       "6              495  2020-10-16T08:54:19.220501  2020-10-16T08:54:19.800110   \n",
       "4              450  2020-10-16T08:50:40.257763  2020-10-16T08:50:40.300577   \n",
       "2              357  2020-10-16T08:39:50.885933  2020-10-16T08:39:50.926236   \n",
       "\n",
       "           Consecutive  Returncode  \n",
       "value_grp                           \n",
       "271238               1           1  \n",
       "271236               3           1  \n",
       "271234               4           1  \n",
       "271232               1           1  \n",
       "271230               3           1  \n",
       "...                ...         ...  \n",
       "10                   3           1  \n",
       "8                    3           1  \n",
       "6                    3           1  \n",
       "4                    3           1  \n",
       "2                    3           1  \n",
       "\n",
       "[133352 rows x 5 columns]"
      ]
     },
     "execution_count": 21,
     "metadata": {},
     "output_type": "execute_result"
    }
   ],
   "source": [
    "rc_1 = codes_grouped[codes_grouped['Returncode'] == 1].sort_values('BeginDate', ascending=False)\n",
    "rc_1"
   ]
  },
  {
   "cell_type": "code",
   "execution_count": 30,
   "id": "5d06d774",
   "metadata": {},
   "outputs": [],
   "source": [
    "first_error = ce5.join(rc_1['Sindex'].to_frame().set_index('Sindex'), how='inner')"
   ]
  },
  {
   "cell_type": "code",
   "execution_count": 47,
   "id": "c6c297d1",
   "metadata": {},
   "outputs": [
    {
     "data": {
      "text/plain": [
       "['/usr/bin/scontrol','show','job']                   9875\n",
       "['/usr/bin/squeue','-o','%i%T','-u','cmspilot']       579\n",
       "['/usr/bin/squeue','-o','%i%T','-u','lscpilot']       548\n",
       "['/usr/bin/squeue','-o','%i%T','-u','cmslocal']       139\n",
       "['/usr/bin/squeue','-o','%i%T','-u','uscmslocal']     121\n",
       "                                                     ... \n",
       "['/usr/bin/scontrol','show','job','29083053']           1\n",
       "['/usr/bin/scontrol','show','job','29089389']           1\n",
       "['/usr/bin/scontrol','show','job','29103717']           1\n",
       "['/usr/bin/scontrol','show','job','29089548']           1\n",
       "['/usr/bin/scontrol','show','job','24960943']           1\n",
       "Name: COMMAND, Length: 114393, dtype: int64"
      ]
     },
     "execution_count": 47,
     "metadata": {},
     "output_type": "execute_result"
    }
   ],
   "source": [
    "fe_df['COMMAND'].value_counts()"
   ]
  },
  {
   "cell_type": "code",
   "execution_count": 48,
   "id": "d23186fa",
   "metadata": {},
   "outputs": [
    {
     "data": {
      "text/plain": [
       "['/usr/bin/scontrol','show','job']                                                                      551116\n",
       "['/usr/bin/squeue','-o','%i%T','-u','cmspilot']                                                          59796\n",
       "['/usr/bin/squeue','-o','%i%T','-u','lscpilot']                                                          56818\n",
       "['/usr/bin/squeue','-o','%i%T','-u','uscmslocal']                                                        24164\n",
       "['/usr/bin/squeue','-o','%i%T','-u','cmslocal']                                                          23133\n",
       "                                                                                                         ...  \n",
       "['/usr/bin/sacct','-j','26836699','--noconvert','-P','--format','UserCPU,SystemCPU,MaxRSS,ExitCode']         1\n",
       "['/usr/bin/sacct','-j','26836681','--noconvert','-P','--format','UserCPU,SystemCPU,MaxRSS,ExitCode']         1\n",
       "['/usr/bin/sacct','-j','26836687','--noconvert','-P','--format','UserCPU,SystemCPU,MaxRSS,ExitCode']         1\n",
       "['/usr/bin/sacct','-j','26834610','--noconvert','-P','--format','UserCPU,SystemCPU,MaxRSS,ExitCode']         1\n",
       "['/usr/bin/sacct','-j','32924071','--noconvert','-P','--format','UserCPU,SystemCPU,MaxRSS,ExitCode']         1\n",
       "Name: COMMAND, Length: 2009575, dtype: int64"
      ]
     },
     "execution_count": 48,
     "metadata": {},
     "output_type": "execute_result"
    }
   ],
   "source": [
    "ce5['COMMAND'].value_counts()"
   ]
  },
  {
   "cell_type": "code",
   "execution_count": 49,
   "id": "2033b08e",
   "metadata": {},
   "outputs": [
    {
     "data": {
      "text/plain": [
       "0.05863291139240506"
      ]
     },
     "execution_count": 49,
     "metadata": {},
     "output_type": "execute_result"
    }
   ],
   "source": [
    "579/9875"
   ]
  },
  {
   "cell_type": "code",
   "execution_count": 50,
   "id": "5fbc7678",
   "metadata": {
    "scrolled": true
   },
   "outputs": [
    {
     "data": {
      "text/plain": [
       "0.1084998439529972"
      ]
     },
     "execution_count": 50,
     "metadata": {},
     "output_type": "execute_result"
    }
   ],
   "source": [
    "59796/551116"
   ]
  },
  {
   "cell_type": "code",
   "execution_count": 52,
   "id": "40bc474c",
   "metadata": {},
   "outputs": [
    {
     "data": {
      "text/plain": [
       "9201    82448\n",
       "9202    13890\n",
       "9204    13200\n",
       "9203    12777\n",
       "9221     6579\n",
       "9219     4458\n",
       "Name: USER, dtype: int64"
      ]
     },
     "execution_count": 52,
     "metadata": {},
     "output_type": "execute_result"
    }
   ],
   "source": [
    "fe_df['USER'].value_counts()"
   ]
  },
  {
   "cell_type": "code",
   "execution_count": 53,
   "id": "22aa7ff8",
   "metadata": {
    "scrolled": true
   },
   "outputs": [
    {
     "data": {
      "text/plain": [
       "9201      3093747\n",
       "9202       639795\n",
       "9203       386689\n",
       "9221       312727\n",
       "9219       178075\n",
       "9204       159847\n",
       "0               8\n",
       "112870          5\n",
       "Name: USER, dtype: int64"
      ]
     },
     "execution_count": 53,
     "metadata": {},
     "output_type": "execute_result"
    }
   ],
   "source": [
    "ce5['USER'].value_counts()"
   ]
  },
  {
   "cell_type": "code",
   "execution_count": 56,
   "id": "9c79b358",
   "metadata": {
    "scrolled": false
   },
   "outputs": [
    {
     "data": {
      "text/html": [
       "<div>\n",
       "<style scoped>\n",
       "    .dataframe tbody tr th:only-of-type {\n",
       "        vertical-align: middle;\n",
       "    }\n",
       "\n",
       "    .dataframe tbody tr th {\n",
       "        vertical-align: top;\n",
       "    }\n",
       "\n",
       "    .dataframe thead th {\n",
       "        text-align: right;\n",
       "    }\n",
       "</style>\n",
       "<table border=\"1\" class=\"dataframe\">\n",
       "  <thead>\n",
       "    <tr style=\"text-align: right;\">\n",
       "      <th></th>\n",
       "      <th>index</th>\n",
       "      <th>BEGIN</th>\n",
       "      <th>USER</th>\n",
       "      <th>DURATION</th>\n",
       "      <th>RC</th>\n",
       "      <th>COMMAND</th>\n",
       "      <th>value_grp</th>\n",
       "    </tr>\n",
       "  </thead>\n",
       "  <tbody>\n",
       "    <tr>\n",
       "      <th>4222824</th>\n",
       "      <td>4222824</td>\n",
       "      <td>2021-08-20T11:51:44.018754</td>\n",
       "      <td>9201</td>\n",
       "      <td>20.126880</td>\n",
       "      <td>1</td>\n",
       "      <td>['/usr/bin/scontrol','show','job']</td>\n",
       "      <td>241994</td>\n",
       "    </tr>\n",
       "    <tr>\n",
       "      <th>4203615</th>\n",
       "      <td>4203615</td>\n",
       "      <td>2021-08-18T18:52:05.823883</td>\n",
       "      <td>9201</td>\n",
       "      <td>20.109616</td>\n",
       "      <td>1</td>\n",
       "      <td>['/usr/bin/scontrol','show','job']</td>\n",
       "      <td>240832</td>\n",
       "    </tr>\n",
       "    <tr>\n",
       "      <th>4203017</th>\n",
       "      <td>4203017</td>\n",
       "      <td>2021-08-18T18:21:27.228571</td>\n",
       "      <td>9201</td>\n",
       "      <td>20.083291</td>\n",
       "      <td>1</td>\n",
       "      <td>['/usr/bin/scontrol','show','job']</td>\n",
       "      <td>240803</td>\n",
       "    </tr>\n",
       "    <tr>\n",
       "      <th>4201989</th>\n",
       "      <td>4201989</td>\n",
       "      <td>2021-08-18T16:14:32.696896</td>\n",
       "      <td>9201</td>\n",
       "      <td>20.310488</td>\n",
       "      <td>1</td>\n",
       "      <td>['/usr/bin/scontrol','show','job']</td>\n",
       "      <td>240731</td>\n",
       "    </tr>\n",
       "    <tr>\n",
       "      <th>4184640</th>\n",
       "      <td>4184640</td>\n",
       "      <td>2021-08-16T21:28:11.946093</td>\n",
       "      <td>9201</td>\n",
       "      <td>20.064822</td>\n",
       "      <td>1</td>\n",
       "      <td>['/usr/bin/scontrol','show','job']</td>\n",
       "      <td>240063</td>\n",
       "    </tr>\n",
       "    <tr>\n",
       "      <th>...</th>\n",
       "      <td>...</td>\n",
       "      <td>...</td>\n",
       "      <td>...</td>\n",
       "      <td>...</td>\n",
       "      <td>...</td>\n",
       "      <td>...</td>\n",
       "      <td>...</td>\n",
       "    </tr>\n",
       "    <tr>\n",
       "      <th>79210</th>\n",
       "      <td>79210</td>\n",
       "      <td>2020-10-19T18:11:20.946013</td>\n",
       "      <td>9201</td>\n",
       "      <td>20.035136</td>\n",
       "      <td>1</td>\n",
       "      <td>['/usr/bin/scontrol','show','job']</td>\n",
       "      <td>2812</td>\n",
       "    </tr>\n",
       "    <tr>\n",
       "      <th>78601</th>\n",
       "      <td>78601</td>\n",
       "      <td>2020-10-19T17:43:19.300143</td>\n",
       "      <td>9201</td>\n",
       "      <td>20.037590</td>\n",
       "      <td>1</td>\n",
       "      <td>['/usr/bin/scontrol','show','job']</td>\n",
       "      <td>2777</td>\n",
       "    </tr>\n",
       "    <tr>\n",
       "      <th>78525</th>\n",
       "      <td>78525</td>\n",
       "      <td>2020-10-19T17:37:49.664960</td>\n",
       "      <td>9201</td>\n",
       "      <td>20.019689</td>\n",
       "      <td>1</td>\n",
       "      <td>['/usr/bin/scontrol','show','job']</td>\n",
       "      <td>2772</td>\n",
       "    </tr>\n",
       "    <tr>\n",
       "      <th>62119</th>\n",
       "      <td>62119</td>\n",
       "      <td>2020-10-19T00:35:10.359060</td>\n",
       "      <td>9201</td>\n",
       "      <td>20.036096</td>\n",
       "      <td>1</td>\n",
       "      <td>['/usr/bin/scontrol','show','job']</td>\n",
       "      <td>2313</td>\n",
       "    </tr>\n",
       "    <tr>\n",
       "      <th>16308</th>\n",
       "      <td>16308</td>\n",
       "      <td>2020-10-16T22:11:13.526587</td>\n",
       "      <td>9201</td>\n",
       "      <td>20.140506</td>\n",
       "      <td>1</td>\n",
       "      <td>['/usr/bin/scontrol','show','job']</td>\n",
       "      <td>522</td>\n",
       "    </tr>\n",
       "  </tbody>\n",
       "</table>\n",
       "<p>3353 rows × 7 columns</p>\n",
       "</div>"
      ],
      "text/plain": [
       "           index                       BEGIN  USER   DURATION  RC  \\\n",
       "4222824  4222824  2021-08-20T11:51:44.018754  9201  20.126880   1   \n",
       "4203615  4203615  2021-08-18T18:52:05.823883  9201  20.109616   1   \n",
       "4203017  4203017  2021-08-18T18:21:27.228571  9201  20.083291   1   \n",
       "4201989  4201989  2021-08-18T16:14:32.696896  9201  20.310488   1   \n",
       "4184640  4184640  2021-08-16T21:28:11.946093  9201  20.064822   1   \n",
       "...          ...                         ...   ...        ...  ..   \n",
       "79210      79210  2020-10-19T18:11:20.946013  9201  20.035136   1   \n",
       "78601      78601  2020-10-19T17:43:19.300143  9201  20.037590   1   \n",
       "78525      78525  2020-10-19T17:37:49.664960  9201  20.019689   1   \n",
       "62119      62119  2020-10-19T00:35:10.359060  9201  20.036096   1   \n",
       "16308      16308  2020-10-16T22:11:13.526587  9201  20.140506   1   \n",
       "\n",
       "                                    COMMAND  value_grp  \n",
       "4222824  ['/usr/bin/scontrol','show','job']     241994  \n",
       "4203615  ['/usr/bin/scontrol','show','job']     240832  \n",
       "4203017  ['/usr/bin/scontrol','show','job']     240803  \n",
       "4201989  ['/usr/bin/scontrol','show','job']     240731  \n",
       "4184640  ['/usr/bin/scontrol','show','job']     240063  \n",
       "...                                     ...        ...  \n",
       "79210    ['/usr/bin/scontrol','show','job']       2812  \n",
       "78601    ['/usr/bin/scontrol','show','job']       2777  \n",
       "78525    ['/usr/bin/scontrol','show','job']       2772  \n",
       "62119    ['/usr/bin/scontrol','show','job']       2313  \n",
       "16308    ['/usr/bin/scontrol','show','job']        522  \n",
       "\n",
       "[3353 rows x 7 columns]"
      ]
     },
     "execution_count": 56,
     "metadata": {},
     "output_type": "execute_result"
    }
   ],
   "source": [
    "fe_df[(fe_df['USER'] == '9201') & (fe_df['COMMAND'] == \"['/usr/bin/scontrol','show','job']\")]"
   ]
  },
  {
   "cell_type": "code",
   "execution_count": 75,
   "id": "1ff76631",
   "metadata": {},
   "outputs": [
    {
     "data": {
      "text/plain": [
       "5.298906180702769"
      ]
     },
     "execution_count": 75,
     "metadata": {},
     "output_type": "execute_result"
    }
   ],
   "source": [
    "ce5[ce5['COMMAND'] == \"['/usr/bin/scontrol','show','job']\"]['DURATION'].mean()"
   ]
  },
  {
   "cell_type": "code",
   "execution_count": 76,
   "id": "c3adf25b",
   "metadata": {},
   "outputs": [
    {
     "data": {
      "text/plain": [
       "<AxesSubplot:>"
      ]
     },
     "execution_count": 76,
     "metadata": {},
     "output_type": "execute_result"
    },
    {
     "data": {
      "image/png": "[encoded data removed]",
      "text/plain": [
       "<Figure size 432x288 with 1 Axes>"
      ]
     },
     "metadata": {
      "needs_background": "light"
     },
     "output_type": "display_data"
    }
   ],
   "source": [
    "ce5[ce5['COMMAND'] == \"['/usr/bin/scontrol','show','job']\"].boxplot('DURATION')"
   ]
  },
  {
   "cell_type": "code",
   "execution_count": 82,
   "id": "fac4fde2",
   "metadata": {},
   "outputs": [
    {
     "data": {
      "text/plain": [
       "529019"
      ]
     },
     "execution_count": 82,
     "metadata": {},
     "output_type": "execute_result"
    }
   ],
   "source": [
    "len(ce5[(ce5['COMMAND'] == \"['/usr/bin/scontrol','show','job']\") & (ce5['RC'] == 0)])"
   ]
  },
  {
   "cell_type": "code",
   "execution_count": null,
   "id": "9e71c904",
   "metadata": {},
   "outputs": [],
   "source": [
    "len(ce5[(ce5['COMMAND'] == \"['/usr/bin/scontrol','show','job']\") & (ce5['RC'] == 0)])"
   ]
  },
  {
   "cell_type": "code",
   "execution_count": 84,
   "id": "f7b973e1",
   "metadata": {},
   "outputs": [
    {
     "data": {
      "text/plain": [
       "0    529019\n",
       "1     22097\n",
       "Name: RC, dtype: int64"
      ]
     },
     "execution_count": 84,
     "metadata": {},
     "output_type": "execute_result"
    }
   ],
   "source": [
    "ce5[(ce5['COMMAND'] == \"['/usr/bin/scontrol','show','job']\")]['RC'].value_counts()"
   ]
  },
  {
   "cell_type": "code",
   "execution_count": 86,
   "id": "2319b60f",
   "metadata": {},
   "outputs": [
    {
     "data": {
      "text/html": [
       "<div>\n",
       "<style scoped>\n",
       "    .dataframe tbody tr th:only-of-type {\n",
       "        vertical-align: middle;\n",
       "    }\n",
       "\n",
       "    .dataframe tbody tr th {\n",
       "        vertical-align: top;\n",
       "    }\n",
       "\n",
       "    .dataframe thead th {\n",
       "        text-align: right;\n",
       "    }\n",
       "</style>\n",
       "<table border=\"1\" class=\"dataframe\">\n",
       "  <thead>\n",
       "    <tr style=\"text-align: right;\">\n",
       "      <th></th>\n",
       "      <th>index</th>\n",
       "      <th>BEGIN</th>\n",
       "      <th>USER</th>\n",
       "      <th>DURATION</th>\n",
       "      <th>RC</th>\n",
       "      <th>COMMAND</th>\n",
       "      <th>value_grp</th>\n",
       "    </tr>\n",
       "  </thead>\n",
       "  <tbody>\n",
       "    <tr>\n",
       "      <th>3024240</th>\n",
       "      <td>3024240</td>\n",
       "      <td>2021-05-24T09:31:37.819521</td>\n",
       "      <td>9204</td>\n",
       "      <td>0.235798</td>\n",
       "      <td>0</td>\n",
       "      <td>['/usr/bin/scontrol','show','job']</td>\n",
       "      <td>183634</td>\n",
       "    </tr>\n",
       "    <tr>\n",
       "      <th>3024213</th>\n",
       "      <td>3024213</td>\n",
       "      <td>2021-05-24T09:23:25.986900</td>\n",
       "      <td>9201</td>\n",
       "      <td>0.239207</td>\n",
       "      <td>0</td>\n",
       "      <td>['/usr/bin/scontrol','show','job']</td>\n",
       "      <td>183634</td>\n",
       "    </tr>\n",
       "    <tr>\n",
       "      <th>3023625</th>\n",
       "      <td>3023625</td>\n",
       "      <td>2021-05-24T06:39:07.701782</td>\n",
       "      <td>9202</td>\n",
       "      <td>0.241251</td>\n",
       "      <td>0</td>\n",
       "      <td>['/usr/bin/scontrol','show','job']</td>\n",
       "      <td>183634</td>\n",
       "    </tr>\n",
       "    <tr>\n",
       "      <th>3024305</th>\n",
       "      <td>3024305</td>\n",
       "      <td>2021-05-24T09:52:36.298149</td>\n",
       "      <td>9202</td>\n",
       "      <td>0.242090</td>\n",
       "      <td>0</td>\n",
       "      <td>['/usr/bin/scontrol','show','job']</td>\n",
       "      <td>183634</td>\n",
       "    </tr>\n",
       "    <tr>\n",
       "      <th>3023163</th>\n",
       "      <td>3023163</td>\n",
       "      <td>2021-05-24T04:25:17.462044</td>\n",
       "      <td>9221</td>\n",
       "      <td>0.242871</td>\n",
       "      <td>0</td>\n",
       "      <td>['/usr/bin/scontrol','show','job']</td>\n",
       "      <td>183634</td>\n",
       "    </tr>\n",
       "    <tr>\n",
       "      <th>...</th>\n",
       "      <td>...</td>\n",
       "      <td>...</td>\n",
       "      <td>...</td>\n",
       "      <td>...</td>\n",
       "      <td>...</td>\n",
       "      <td>...</td>\n",
       "      <td>...</td>\n",
       "    </tr>\n",
       "    <tr>\n",
       "      <th>3390583</th>\n",
       "      <td>3390583</td>\n",
       "      <td>2021-06-23T14:44:34.202799</td>\n",
       "      <td>9204</td>\n",
       "      <td>179.538662</td>\n",
       "      <td>0</td>\n",
       "      <td>['/usr/bin/scontrol','show','job']</td>\n",
       "      <td>191980</td>\n",
       "    </tr>\n",
       "    <tr>\n",
       "      <th>878160</th>\n",
       "      <td>878160</td>\n",
       "      <td>2020-11-30T09:46:12.212069</td>\n",
       "      <td>9202</td>\n",
       "      <td>180.403287</td>\n",
       "      <td>0</td>\n",
       "      <td>['/usr/bin/scontrol','show','job']</td>\n",
       "      <td>38771</td>\n",
       "    </tr>\n",
       "    <tr>\n",
       "      <th>3399340</th>\n",
       "      <td>3399340</td>\n",
       "      <td>2021-06-23T17:45:49.864140</td>\n",
       "      <td>9221</td>\n",
       "      <td>182.130856</td>\n",
       "      <td>0</td>\n",
       "      <td>['/usr/bin/scontrol','show','job']</td>\n",
       "      <td>193044</td>\n",
       "    </tr>\n",
       "    <tr>\n",
       "      <th>3398837</th>\n",
       "      <td>3398837</td>\n",
       "      <td>2021-06-23T17:15:39.115343</td>\n",
       "      <td>9221</td>\n",
       "      <td>194.596259</td>\n",
       "      <td>0</td>\n",
       "      <td>['/usr/bin/scontrol','show','job']</td>\n",
       "      <td>192940</td>\n",
       "    </tr>\n",
       "    <tr>\n",
       "      <th>3396490</th>\n",
       "      <td>3396490</td>\n",
       "      <td>2021-06-23T16:22:12.453107</td>\n",
       "      <td>9201</td>\n",
       "      <td>238.579075</td>\n",
       "      <td>0</td>\n",
       "      <td>['/usr/bin/scontrol','show','job']</td>\n",
       "      <td>192638</td>\n",
       "    </tr>\n",
       "  </tbody>\n",
       "</table>\n",
       "<p>529019 rows × 7 columns</p>\n",
       "</div>"
      ],
      "text/plain": [
       "           index                       BEGIN  USER    DURATION  RC  \\\n",
       "3024240  3024240  2021-05-24T09:31:37.819521  9204    0.235798   0   \n",
       "3024213  3024213  2021-05-24T09:23:25.986900  9201    0.239207   0   \n",
       "3023625  3023625  2021-05-24T06:39:07.701782  9202    0.241251   0   \n",
       "3024305  3024305  2021-05-24T09:52:36.298149  9202    0.242090   0   \n",
       "3023163  3023163  2021-05-24T04:25:17.462044  9221    0.242871   0   \n",
       "...          ...                         ...   ...         ...  ..   \n",
       "3390583  3390583  2021-06-23T14:44:34.202799  9204  179.538662   0   \n",
       "878160    878160  2020-11-30T09:46:12.212069  9202  180.403287   0   \n",
       "3399340  3399340  2021-06-23T17:45:49.864140  9221  182.130856   0   \n",
       "3398837  3398837  2021-06-23T17:15:39.115343  9221  194.596259   0   \n",
       "3396490  3396490  2021-06-23T16:22:12.453107  9201  238.579075   0   \n",
       "\n",
       "                                    COMMAND  value_grp  \n",
       "3024240  ['/usr/bin/scontrol','show','job']     183634  \n",
       "3024213  ['/usr/bin/scontrol','show','job']     183634  \n",
       "3023625  ['/usr/bin/scontrol','show','job']     183634  \n",
       "3024305  ['/usr/bin/scontrol','show','job']     183634  \n",
       "3023163  ['/usr/bin/scontrol','show','job']     183634  \n",
       "...                                     ...        ...  \n",
       "3390583  ['/usr/bin/scontrol','show','job']     191980  \n",
       "878160   ['/usr/bin/scontrol','show','job']      38771  \n",
       "3399340  ['/usr/bin/scontrol','show','job']     193044  \n",
       "3398837  ['/usr/bin/scontrol','show','job']     192940  \n",
       "3396490  ['/usr/bin/scontrol','show','job']     192638  \n",
       "\n",
       "[529019 rows x 7 columns]"
      ]
     },
     "execution_count": 86,
     "metadata": {},
     "output_type": "execute_result"
    }
   ],
   "source": [
    "ce5[(ce5['COMMAND'] == \"['/usr/bin/scontrol','show','job']\") & (ce5['RC'] == 0)].sort_values('DURATION')"
   ]
  },
  {
   "cell_type": "code",
   "execution_count": 78,
   "id": "8932172c",
   "metadata": {},
   "outputs": [
    {
     "data": {
      "text/html": [
       "<div>\n",
       "<style scoped>\n",
       "    .dataframe tbody tr th:only-of-type {\n",
       "        vertical-align: middle;\n",
       "    }\n",
       "\n",
       "    .dataframe tbody tr th {\n",
       "        vertical-align: top;\n",
       "    }\n",
       "\n",
       "    .dataframe thead th {\n",
       "        text-align: right;\n",
       "    }\n",
       "</style>\n",
       "<table border=\"1\" class=\"dataframe\">\n",
       "  <thead>\n",
       "    <tr style=\"text-align: right;\">\n",
       "      <th></th>\n",
       "      <th>index</th>\n",
       "      <th>BEGIN</th>\n",
       "      <th>USER</th>\n",
       "      <th>DURATION</th>\n",
       "      <th>RC</th>\n",
       "      <th>COMMAND</th>\n",
       "      <th>value_grp</th>\n",
       "    </tr>\n",
       "  </thead>\n",
       "  <tbody>\n",
       "    <tr>\n",
       "      <th>99</th>\n",
       "      <td>99</td>\n",
       "      <td>2020-10-16T08:33:16.752867</td>\n",
       "      <td>9203</td>\n",
       "      <td>7.501315</td>\n",
       "      <td>0</td>\n",
       "      <td>['/usr/bin/scontrol','show','job']</td>\n",
       "      <td>1</td>\n",
       "    </tr>\n",
       "    <tr>\n",
       "      <th>104</th>\n",
       "      <td>104</td>\n",
       "      <td>2020-10-16T08:33:49.959221</td>\n",
       "      <td>9219</td>\n",
       "      <td>5.847776</td>\n",
       "      <td>0</td>\n",
       "      <td>['/usr/bin/scontrol','show','job']</td>\n",
       "      <td>1</td>\n",
       "    </tr>\n",
       "    <tr>\n",
       "      <th>105</th>\n",
       "      <td>105</td>\n",
       "      <td>2020-10-16T08:33:57.037447</td>\n",
       "      <td>9202</td>\n",
       "      <td>6.994174</td>\n",
       "      <td>0</td>\n",
       "      <td>['/usr/bin/scontrol','show','job']</td>\n",
       "      <td>1</td>\n",
       "    </tr>\n",
       "    <tr>\n",
       "      <th>106</th>\n",
       "      <td>106</td>\n",
       "      <td>2020-10-16T08:33:58.401593</td>\n",
       "      <td>9201</td>\n",
       "      <td>6.699294</td>\n",
       "      <td>0</td>\n",
       "      <td>['/usr/bin/scontrol','show','job']</td>\n",
       "      <td>1</td>\n",
       "    </tr>\n",
       "    <tr>\n",
       "      <th>198</th>\n",
       "      <td>198</td>\n",
       "      <td>2020-10-16T08:35:50.747136</td>\n",
       "      <td>9204</td>\n",
       "      <td>8.597585</td>\n",
       "      <td>0</td>\n",
       "      <td>['/usr/bin/scontrol','show','job']</td>\n",
       "      <td>1</td>\n",
       "    </tr>\n",
       "    <tr>\n",
       "      <th>...</th>\n",
       "      <td>...</td>\n",
       "      <td>...</td>\n",
       "      <td>...</td>\n",
       "      <td>...</td>\n",
       "      <td>...</td>\n",
       "      <td>...</td>\n",
       "      <td>...</td>\n",
       "    </tr>\n",
       "    <tr>\n",
       "      <th>4334723</th>\n",
       "      <td>4334723</td>\n",
       "      <td>2021-08-23T13:55:26.630698</td>\n",
       "      <td>9221</td>\n",
       "      <td>10.757977</td>\n",
       "      <td>0</td>\n",
       "      <td>['/usr/bin/scontrol','show','job']</td>\n",
       "      <td>255043</td>\n",
       "    </tr>\n",
       "    <tr>\n",
       "      <th>4334724</th>\n",
       "      <td>4334724</td>\n",
       "      <td>2021-08-23T13:55:28.376246</td>\n",
       "      <td>9201</td>\n",
       "      <td>5.341769</td>\n",
       "      <td>0</td>\n",
       "      <td>['/usr/bin/scontrol','show','job']</td>\n",
       "      <td>255043</td>\n",
       "    </tr>\n",
       "    <tr>\n",
       "      <th>4334727</th>\n",
       "      <td>4334727</td>\n",
       "      <td>2021-08-23T13:56:43.442305</td>\n",
       "      <td>9202</td>\n",
       "      <td>4.571947</td>\n",
       "      <td>0</td>\n",
       "      <td>['/usr/bin/scontrol','show','job']</td>\n",
       "      <td>255043</td>\n",
       "    </tr>\n",
       "    <tr>\n",
       "      <th>4334728</th>\n",
       "      <td>4334728</td>\n",
       "      <td>2021-08-23T13:56:45.676228</td>\n",
       "      <td>9201</td>\n",
       "      <td>4.731268</td>\n",
       "      <td>0</td>\n",
       "      <td>['/usr/bin/scontrol','show','job']</td>\n",
       "      <td>255043</td>\n",
       "    </tr>\n",
       "    <tr>\n",
       "      <th>4334729</th>\n",
       "      <td>4334729</td>\n",
       "      <td>2021-08-23T13:56:47.711056</td>\n",
       "      <td>9221</td>\n",
       "      <td>2.829325</td>\n",
       "      <td>0</td>\n",
       "      <td>['/usr/bin/scontrol','show','job']</td>\n",
       "      <td>255043</td>\n",
       "    </tr>\n",
       "  </tbody>\n",
       "</table>\n",
       "<p>551116 rows × 7 columns</p>\n",
       "</div>"
      ],
      "text/plain": [
       "           index                       BEGIN  USER   DURATION  RC  \\\n",
       "99            99  2020-10-16T08:33:16.752867  9203   7.501315   0   \n",
       "104          104  2020-10-16T08:33:49.959221  9219   5.847776   0   \n",
       "105          105  2020-10-16T08:33:57.037447  9202   6.994174   0   \n",
       "106          106  2020-10-16T08:33:58.401593  9201   6.699294   0   \n",
       "198          198  2020-10-16T08:35:50.747136  9204   8.597585   0   \n",
       "...          ...                         ...   ...        ...  ..   \n",
       "4334723  4334723  2021-08-23T13:55:26.630698  9221  10.757977   0   \n",
       "4334724  4334724  2021-08-23T13:55:28.376246  9201   5.341769   0   \n",
       "4334727  4334727  2021-08-23T13:56:43.442305  9202   4.571947   0   \n",
       "4334728  4334728  2021-08-23T13:56:45.676228  9201   4.731268   0   \n",
       "4334729  4334729  2021-08-23T13:56:47.711056  9221   2.829325   0   \n",
       "\n",
       "                                    COMMAND  value_grp  \n",
       "99       ['/usr/bin/scontrol','show','job']          1  \n",
       "104      ['/usr/bin/scontrol','show','job']          1  \n",
       "105      ['/usr/bin/scontrol','show','job']          1  \n",
       "106      ['/usr/bin/scontrol','show','job']          1  \n",
       "198      ['/usr/bin/scontrol','show','job']          1  \n",
       "...                                     ...        ...  \n",
       "4334723  ['/usr/bin/scontrol','show','job']     255043  \n",
       "4334724  ['/usr/bin/scontrol','show','job']     255043  \n",
       "4334727  ['/usr/bin/scontrol','show','job']     255043  \n",
       "4334728  ['/usr/bin/scontrol','show','job']     255043  \n",
       "4334729  ['/usr/bin/scontrol','show','job']     255043  \n",
       "\n",
       "[551116 rows x 7 columns]"
      ]
     },
     "execution_count": 78,
     "metadata": {},
     "output_type": "execute_result"
    }
   ],
   "source": [
    "ce5[(ce5['COMMAND'] == \"['/usr/bin/scontrol','show','job']\")]\n"
   ]
  },
  {
   "cell_type": "code",
   "execution_count": 96,
   "id": "242d17c7",
   "metadata": {},
   "outputs": [],
   "source": [
    "tmp = ce5[~(ce5['COMMAND'] == \"['/usr/bin/scontrol','show','job']\")]\n"
   ]
  },
  {
   "cell_type": "code",
   "execution_count": null,
   "id": "b945ab63",
   "metadata": {},
   "outputs": [],
   "source": [
    "tmp[tmp['COMMAND'].str.contains(\"show\")]['DURATION'].mean()"
   ]
  },
  {
   "cell_type": "code",
   "execution_count": 106,
   "id": "0bc2590d",
   "metadata": {},
   "outputs": [
    {
     "data": {
      "text/plain": [
       "<AxesSubplot:>"
      ]
     },
     "execution_count": 106,
     "metadata": {},
     "output_type": "execute_result"
    },
    {
     "data": {
      "image/png": "[encoded data removed]",
      "text/plain": [
       "<Figure size 432x288 with 1 Axes>"
      ]
     },
     "metadata": {
      "needs_background": "light"
     },
     "output_type": "display_data"
    }
   ],
   "source": [
    "tmp[tmp['COMMAND'].str.contains(\"show\")].boxplot('DURATION')"
   ]
  },
  {
   "cell_type": "code",
   "execution_count": 107,
   "id": "78f3910e",
   "metadata": {
    "scrolled": true
   },
   "outputs": [
    {
     "data": {
      "text/plain": [
       "<AxesSubplot:>"
      ]
     },
     "execution_count": 107,
     "metadata": {},
     "output_type": "execute_result"
    },
    {
     "data": {
      "image/png": "[encoded data removed]",
      "text/plain": [
       "<Figure size 432x288 with 1 Axes>"
      ]
     },
     "metadata": {
      "needs_background": "light"
     },
     "output_type": "display_data"
    }
   ],
   "source": [
    "ce5[(ce5['COMMAND'] == \"['/usr/bin/squeue','-o','%i%T','-u','cmspilot']\")].boxplot('DURATION')\n"
   ]
  },
  {
   "cell_type": "code",
   "execution_count": 109,
   "id": "4c460f9f",
   "metadata": {},
   "outputs": [
    {
     "data": {
      "text/plain": [
       "1.040232576517064"
      ]
     },
     "execution_count": 109,
     "metadata": {},
     "output_type": "execute_result"
    }
   ],
   "source": [
    "ce5[(ce5['COMMAND'] == \"['/usr/bin/squeue','-o','%i%T','-u','cmspilot']\")]['DURATION'].mean()\n"
   ]
  },
  {
   "cell_type": "code",
   "execution_count": 110,
   "id": "3172ec97",
   "metadata": {},
   "outputs": [
    {
     "data": {
      "text/plain": [
       "<AxesSubplot:>"
      ]
     },
     "execution_count": 110,
     "metadata": {},
     "output_type": "execute_result"
    },
    {
     "data": {
      "image/png": "[encoded data removed]",
      "text/plain": [
       "<Figure size 432x288 with 1 Axes>"
      ]
     },
     "metadata": {
      "needs_background": "light"
     },
     "output_type": "display_data"
    }
   ],
   "source": [
    "ce5[ce5['COMMAND'].str.contains(\"sbatch\")].boxplot('DURATION')"
   ]
  },
  {
   "cell_type": "code",
   "execution_count": null,
   "id": "164ddca9",
   "metadata": {},
   "outputs": [],
   "source": []
  },
  {
   "cell_type": "code",
   "execution_count": null,
   "id": "c5a54f93",
   "metadata": {},
   "outputs": [],
   "source": []
  },
  {
   "cell_type": "code",
   "execution_count": null,
   "id": "78ab215d",
   "metadata": {},
   "outputs": [],
   "source": []
  }
 ],
 "metadata": {
  "kernelspec": {
   "display_name": "Python 3",
   "language": "python",
   "name": "python3"
  },
  "language_info": {
   "codemirror_mode": {
    "name": "ipython",
    "version": 3
   },
   "file_extension": ".py",
   "mimetype": "text/x-python",
   "name": "python",
   "nbconvert_exporter": "python",
   "pygments_lexer": "ipython3",
   "version": "3.8.8"
  }
 },
 "nbformat": 4,
 "nbformat_minor": 5
}
