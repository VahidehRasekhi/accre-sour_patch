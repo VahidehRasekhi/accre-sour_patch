{
 "cells": [
  {
   "cell_type": "code",
   "execution_count": 1,
   "id": "3e251e1d",
   "metadata": {},
   "outputs": [],
   "source": [
    "import pandas as pd\n"
   ]
  },
  {
   "cell_type": "code",
   "execution_count": 2,
   "id": "1cf28a93",
   "metadata": {},
   "outputs": [],
   "source": [
    "with open('../data/slurm_wrapper_ce5.log') as f:\n",
    "    data = ([line.split() for line in f if 'sbatch' in line and 'user 9204' in line])\n",
    "with open('../data/slurm_wrapper_ce6.log') as f:\n",
    "    data.extend([line.split() for line in f if 'sbatch' in line and 'user 9204' in line])"
   ]
  },
  {
   "cell_type": "code",
   "execution_count": 6,
   "id": "80a72824",
   "metadata": {
    "scrolled": true
   },
   "outputs": [
    {
     "data": {
      "text/plain": [
       "['2020-10-16',\n",
       " '08:34:42.779719',\n",
       " '-',\n",
       " 'user',\n",
       " '9204',\n",
       " '-',\n",
       " 'retry',\n",
       " '0',\n",
       " '-',\n",
       " 'time',\n",
       " '5.240251064300537',\n",
       " '-',\n",
       " 'returncode',\n",
       " '0',\n",
       " '-',\n",
       " 'command',\n",
       " \"['/usr/bin/sbatch',\",\n",
       " \"'/tmp/condor_g_scratch.0x5590dbe24f10.2098696/bl_VFUUpl']\"]"
      ]
     },
     "execution_count": 6,
     "metadata": {},
     "output_type": "execute_result"
    }
   ],
   "source": [
    "data[0]"
   ]
  },
  {
   "cell_type": "code",
   "execution_count": null,
   "id": "b0372d6d",
   "metadata": {},
   "outputs": [],
   "source": [
    "sbatch = pd.DataFrame([[pd.to_datetime(x[0] + 'T' + x[1]), float(x[10]), int(x[13])] \n",
    "                       for x in data], columns=['BEGIN', 'DURATION', 'RETURNCODE'])"
   ]
  },
  {
   "cell_type": "code",
   "execution_count": 7,
   "id": "efd793e1",
   "metadata": {
    "scrolled": true
   },
   "outputs": [
    {
     "data": {
      "text/plain": [
       "[[Timestamp('2020-10-16 08:34:42.779719'), 5.240251064300537, 0],\n",
       " [Timestamp('2020-10-16 08:53:15.711346'), 0.14244365692138672, 0],\n",
       " [Timestamp('2020-10-16 09:04:56.472464'), 0.0663447380065918, 0],\n",
       " [Timestamp('2020-10-16 09:24:26.694758'), 0.07288265228271484, 0],\n",
       " [Timestamp('2020-10-16 09:34:24.594440'), 0.07640910148620605, 0],\n",
       " [Timestamp('2020-10-16 09:49:06.856678'), 0.05167531967163086, 0],\n",
       " [Timestamp('2020-10-16 10:06:04.218992'), 0.059432029724121094, 0],\n",
       " [Timestamp('2020-10-16 10:36:06.787591'), 0.29569554328918457, 0],\n",
       " [Timestamp('2020-10-16 10:53:13.447700'), 0.04866194725036621, 0],\n",
       " [Timestamp('2020-10-16 11:05:56.467558'), 0.0505061149597168, 0]]"
      ]
     },
     "execution_count": 7,
     "metadata": {},
     "output_type": "execute_result"
    }
   ],
   "source": [
    "[[pd.to_datetime(x[0] + 'T' + x[1]), float(x[10]), int(x[13])] \n",
    "                       for x in data[:10]]"
   ]
  },
  {
   "cell_type": "code",
   "execution_count": 10,
   "id": "d81fbcef",
   "metadata": {},
   "outputs": [
    {
     "data": {
      "text/plain": [
       "['2020-10-16',\n",
       " '08:34:42.779719',\n",
       " '-',\n",
       " 'user',\n",
       " '9204',\n",
       " '-',\n",
       " 'retry',\n",
       " '0',\n",
       " '-',\n",
       " 'time',\n",
       " '5.240251064300537',\n",
       " '-',\n",
       " 'returncode',\n",
       " '0',\n",
       " '-',\n",
       " 'command',\n",
       " \"['/usr/bin/sbatch',\",\n",
       " \"'/tmp/condor_g_scratch.0x5590dbe24f10.2098696/bl_VFUUpl']\"]"
      ]
     },
     "execution_count": 10,
     "metadata": {},
     "output_type": "execute_result"
    }
   ],
   "source": [
    "data[0]"
   ]
  }
 ],
 "metadata": {
  "kernelspec": {
   "display_name": "Python 3",
   "language": "python",
   "name": "python3"
  },
  "language_info": {
   "codemirror_mode": {
    "name": "ipython",
    "version": 3
   },
   "file_extension": ".py",
   "mimetype": "text/x-python",
   "name": "python",
   "nbconvert_exporter": "python",
   "pygments_lexer": "ipython3",
   "version": "3.8.8"
  }
 },
 "nbformat": 4,
 "nbformat_minor": 5
}
