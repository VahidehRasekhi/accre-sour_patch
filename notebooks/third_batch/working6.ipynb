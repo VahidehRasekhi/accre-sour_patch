{
 "cells": [
  {
   "cell_type": "code",
   "execution_count": 1,
   "id": "a9d94856",
   "metadata": {},
   "outputs": [],
   "source": [
    "import pandas as pd"
   ]
  },
  {
   "cell_type": "code",
   "execution_count": 2,
   "id": "12086ed9",
   "metadata": {},
   "outputs": [],
   "source": [
    "with open('../data/slurm_wrapper_ce5.log') as f:\n",
    "    data5 = ([line.split() for line in f])"
   ]
  },
  {
   "cell_type": "code",
   "execution_count": 22,
   "id": "cd1652e6",
   "metadata": {},
   "outputs": [],
   "source": [
    "# ce5 = pd.DataFrame([[x[0] + 'T' + x[1], x[4], float(x[10]), int(x[13]), ''.join(x[16:])] \n",
    "#                        for x in data5], columns=['BEGIN', 'USER', 'DURATION', 'RC', 'COMMAND'])\n",
    "ce5 = pd.DataFrame([[x[0] + ' ' + x[1], x[4], float(x[10]), int(x[13]), x[16]] \n",
    "                       for x in data5], columns=['BEGIN', 'USER', 'DURATION', 'RC', 'COMMAND'])"
   ]
  },
  {
   "cell_type": "code",
   "execution_count": 23,
   "id": "d13a0edc",
   "metadata": {},
   "outputs": [],
   "source": [
    "ce5['value_grp'] = (ce5.RC.diff(1) != 0).cumsum()"
   ]
  },
  {
   "cell_type": "code",
   "execution_count": 24,
   "id": "e0c2f7b4",
   "metadata": {},
   "outputs": [],
   "source": [
    "ce5 = ce5.reset_index()"
   ]
  },
  {
   "cell_type": "code",
   "execution_count": 25,
   "id": "fccdfe30",
   "metadata": {},
   "outputs": [],
   "source": [
    "f_index = pd.DataFrame({'Consecutive' : ce5.groupby('value_grp').size(),\n",
    "                    'index' : ce5.groupby('value_grp').index.first(),\n",
    "                    'dur' : ce5.groupby('value_grp').DURATION.first(),\n",
    "                    'Returncode' : ce5.groupby('value_grp').RC.first()})"
   ]
  },
  {
   "cell_type": "code",
   "execution_count": 26,
   "id": "9551b340",
   "metadata": {},
   "outputs": [],
   "source": [
    "fe_index = f_index[(f_index['Returncode'] == 1) & (f_index['dur'] > 15)]"
   ]
  },
  {
   "cell_type": "code",
   "execution_count": 27,
   "id": "6c056bf3",
   "metadata": {},
   "outputs": [],
   "source": [
    "fe_df = ce5.join(fe_index[['index','Consecutive']].set_index('index'), how='inner').sort_values('BEGIN', ascending=False)"
   ]
  },
  {
   "cell_type": "code",
   "execution_count": 28,
   "id": "61f4d120",
   "metadata": {},
   "outputs": [
    {
     "data": {
      "text/plain": [
       "COMMAND\n",
       "['/usr/bin/scontrol',    9401\n",
       "['/usr/bin/sbatch',      2507\n",
       "['/usr/bin/squeue',       692\n",
       "dtype: int64"
      ]
     },
     "execution_count": 28,
     "metadata": {},
     "output_type": "execute_result"
    }
   ],
   "source": [
    "fe_df[fe_df['Consecutive'] > 5].value_counts('COMMAND')"
   ]
  },
  {
   "cell_type": "code",
   "execution_count": 30,
   "id": "8b148aea",
   "metadata": {},
   "outputs": [],
   "source": [
    "start = -10"
   ]
  },
  {
   "cell_type": "code",
   "execution_count": 33,
   "id": "f18b9898",
   "metadata": {
    "scrolled": false
   },
   "outputs": [
    {
     "data": {
      "text/html": [
       "<div>\n",
       "<style scoped>\n",
       "    .dataframe tbody tr th:only-of-type {\n",
       "        vertical-align: middle;\n",
       "    }\n",
       "\n",
       "    .dataframe tbody tr th {\n",
       "        vertical-align: top;\n",
       "    }\n",
       "\n",
       "    .dataframe thead th {\n",
       "        text-align: right;\n",
       "    }\n",
       "</style>\n",
       "<table border=\"1\" class=\"dataframe\">\n",
       "  <thead>\n",
       "    <tr style=\"text-align: right;\">\n",
       "      <th></th>\n",
       "      <th>index</th>\n",
       "      <th>BEGIN</th>\n",
       "      <th>USER</th>\n",
       "      <th>DURATION</th>\n",
       "      <th>RC</th>\n",
       "      <th>COMMAND</th>\n",
       "      <th>value_grp</th>\n",
       "      <th>Consecutive</th>\n",
       "    </tr>\n",
       "  </thead>\n",
       "  <tbody>\n",
       "    <tr>\n",
       "      <th>4655955</th>\n",
       "      <td>4655955</td>\n",
       "      <td>2021-09-24 11:32:29.400150</td>\n",
       "      <td>9201</td>\n",
       "      <td>20.071096</td>\n",
       "      <td>1</td>\n",
       "      <td>['/usr/bin/sbatch',</td>\n",
       "      <td>270700</td>\n",
       "      <td>6</td>\n",
       "    </tr>\n",
       "    <tr>\n",
       "      <th>4655812</th>\n",
       "      <td>4655812</td>\n",
       "      <td>2021-09-24 11:27:13.419373</td>\n",
       "      <td>9201</td>\n",
       "      <td>20.043319</td>\n",
       "      <td>1</td>\n",
       "      <td>['/usr/bin/sbatch',</td>\n",
       "      <td>270698</td>\n",
       "      <td>35</td>\n",
       "    </tr>\n",
       "    <tr>\n",
       "      <th>4655630</th>\n",
       "      <td>4655630</td>\n",
       "      <td>2021-09-24 11:16:17.489393</td>\n",
       "      <td>9201</td>\n",
       "      <td>20.597276</td>\n",
       "      <td>1</td>\n",
       "      <td>['/usr/bin/squeue',</td>\n",
       "      <td>270688</td>\n",
       "      <td>6</td>\n",
       "    </tr>\n",
       "    <tr>\n",
       "      <th>4655423</th>\n",
       "      <td>4655423</td>\n",
       "      <td>2021-09-24 11:05:11.982852</td>\n",
       "      <td>9221</td>\n",
       "      <td>20.279987</td>\n",
       "      <td>1</td>\n",
       "      <td>['/usr/bin/squeue',</td>\n",
       "      <td>270677</td>\n",
       "      <td>15</td>\n",
       "    </tr>\n",
       "    <tr>\n",
       "      <th>4655203</th>\n",
       "      <td>4655203</td>\n",
       "      <td>2021-09-24 10:53:05.608331</td>\n",
       "      <td>9201</td>\n",
       "      <td>20.109657</td>\n",
       "      <td>1</td>\n",
       "      <td>['/usr/bin/sbatch',</td>\n",
       "      <td>270665</td>\n",
       "      <td>7</td>\n",
       "    </tr>\n",
       "    <tr>\n",
       "      <th>4654745</th>\n",
       "      <td>4654745</td>\n",
       "      <td>2021-09-24 10:09:45.408210</td>\n",
       "      <td>9201</td>\n",
       "      <td>20.039371</td>\n",
       "      <td>1</td>\n",
       "      <td>['/usr/bin/sbatch',</td>\n",
       "      <td>270625</td>\n",
       "      <td>9</td>\n",
       "    </tr>\n",
       "    <tr>\n",
       "      <th>4654671</th>\n",
       "      <td>4654671</td>\n",
       "      <td>2021-09-24 09:59:09.806998</td>\n",
       "      <td>9201</td>\n",
       "      <td>20.078843</td>\n",
       "      <td>1</td>\n",
       "      <td>['/usr/bin/sbatch',</td>\n",
       "      <td>270623</td>\n",
       "      <td>6</td>\n",
       "    </tr>\n",
       "    <tr>\n",
       "      <th>4654290</th>\n",
       "      <td>4654290</td>\n",
       "      <td>2021-09-24 09:03:01.509694</td>\n",
       "      <td>9201</td>\n",
       "      <td>20.069408</td>\n",
       "      <td>1</td>\n",
       "      <td>['/usr/bin/sbatch',</td>\n",
       "      <td>270586</td>\n",
       "      <td>8</td>\n",
       "    </tr>\n",
       "    <tr>\n",
       "      <th>4654214</th>\n",
       "      <td>4654214</td>\n",
       "      <td>2021-09-24 08:57:18.971835</td>\n",
       "      <td>9201</td>\n",
       "      <td>20.122984</td>\n",
       "      <td>1</td>\n",
       "      <td>['/usr/bin/sbatch',</td>\n",
       "      <td>270581</td>\n",
       "      <td>7</td>\n",
       "    </tr>\n",
       "    <tr>\n",
       "      <th>4654072</th>\n",
       "      <td>4654072</td>\n",
       "      <td>2021-09-24 08:45:12.925712</td>\n",
       "      <td>9201</td>\n",
       "      <td>20.041464</td>\n",
       "      <td>1</td>\n",
       "      <td>['/usr/bin/squeue',</td>\n",
       "      <td>270566</td>\n",
       "      <td>12</td>\n",
       "    </tr>\n",
       "  </tbody>\n",
       "</table>\n",
       "</div>"
      ],
      "text/plain": [
       "           index                       BEGIN  USER   DURATION  RC  \\\n",
       "4655955  4655955  2021-09-24 11:32:29.400150  9201  20.071096   1   \n",
       "4655812  4655812  2021-09-24 11:27:13.419373  9201  20.043319   1   \n",
       "4655630  4655630  2021-09-24 11:16:17.489393  9201  20.597276   1   \n",
       "4655423  4655423  2021-09-24 11:05:11.982852  9221  20.279987   1   \n",
       "4655203  4655203  2021-09-24 10:53:05.608331  9201  20.109657   1   \n",
       "4654745  4654745  2021-09-24 10:09:45.408210  9201  20.039371   1   \n",
       "4654671  4654671  2021-09-24 09:59:09.806998  9201  20.078843   1   \n",
       "4654290  4654290  2021-09-24 09:03:01.509694  9201  20.069408   1   \n",
       "4654214  4654214  2021-09-24 08:57:18.971835  9201  20.122984   1   \n",
       "4654072  4654072  2021-09-24 08:45:12.925712  9201  20.041464   1   \n",
       "\n",
       "                     COMMAND  value_grp  Consecutive  \n",
       "4655955  ['/usr/bin/sbatch',     270700            6  \n",
       "4655812  ['/usr/bin/sbatch',     270698           35  \n",
       "4655630  ['/usr/bin/squeue',     270688            6  \n",
       "4655423  ['/usr/bin/squeue',     270677           15  \n",
       "4655203  ['/usr/bin/sbatch',     270665            7  \n",
       "4654745  ['/usr/bin/sbatch',     270625            9  \n",
       "4654671  ['/usr/bin/sbatch',     270623            6  \n",
       "4654290  ['/usr/bin/sbatch',     270586            8  \n",
       "4654214  ['/usr/bin/sbatch',     270581            7  \n",
       "4654072  ['/usr/bin/squeue',     270566           12  "
      ]
     },
     "execution_count": 33,
     "metadata": {},
     "output_type": "execute_result"
    }
   ],
   "source": [
    "start += 10\n",
    "fe_df[fe_df['Consecutive'] > 5].iloc[start:start+10]"
   ]
  },
  {
   "cell_type": "code",
   "execution_count": 34,
   "id": "2296efad",
   "metadata": {},
   "outputs": [],
   "source": [
    "fe_df.to_csv('../data/fe_df.csv')"
   ]
  },
  {
   "cell_type": "code",
   "execution_count": null,
   "id": "b8cc7c57",
   "metadata": {},
   "outputs": [],
   "source": []
  },
  {
   "cell_type": "code",
   "execution_count": null,
   "id": "4c6abe85",
   "metadata": {},
   "outputs": [],
   "source": []
  },
  {
   "cell_type": "code",
   "execution_count": null,
   "id": "bff19968",
   "metadata": {},
   "outputs": [],
   "source": []
  },
  {
   "cell_type": "code",
   "execution_count": null,
   "id": "6b55d223",
   "metadata": {},
   "outputs": [],
   "source": []
  },
  {
   "cell_type": "code",
   "execution_count": null,
   "id": "fc427893",
   "metadata": {},
   "outputs": [],
   "source": [
    "fe_df[(fe_df['COMMAND'].str.contains('show'))  ].shape"
   ]
  },
  {
   "cell_type": "code",
   "execution_count": null,
   "id": "e50c5370",
   "metadata": {},
   "outputs": [],
   "source": [
    "fe_df[(fe_df['COMMAND'].str.contains('squeue'))].shape"
   ]
  },
  {
   "cell_type": "code",
   "execution_count": null,
   "id": "112120bd",
   "metadata": {},
   "outputs": [],
   "source": [
    "fe_df[(fe_df['COMMAND'].str.contains('sbatch'))].shape"
   ]
  },
  {
   "cell_type": "code",
   "execution_count": null,
   "id": "ac169ca9",
   "metadata": {},
   "outputs": [],
   "source": [
    "fe_df[(fe_df['COMMAND'].str.contains('sbatch'))]"
   ]
  },
  {
   "cell_type": "code",
   "execution_count": null,
   "id": "03c97ce3",
   "metadata": {},
   "outputs": [],
   "source": [
    "start = -10"
   ]
  },
  {
   "cell_type": "code",
   "execution_count": null,
   "id": "1249fa3e",
   "metadata": {},
   "outputs": [],
   "source": [
    "start += 10\n",
    "f_index.sort_values('dur', ascending=False).iloc[start:start+10]"
   ]
  },
  {
   "cell_type": "code",
   "execution_count": null,
   "id": "710cec2f",
   "metadata": {},
   "outputs": [],
   "source": [
    "ce5[(ce5.index == 1833516)]"
   ]
  },
  {
   "cell_type": "code",
   "execution_count": null,
   "id": "727a9195",
   "metadata": {},
   "outputs": [],
   "source": [
    "fe_df"
   ]
  }
 ],
 "metadata": {
  "kernelspec": {
   "display_name": "Python 3",
   "language": "python",
   "name": "python3"
  },
  "language_info": {
   "codemirror_mode": {
    "name": "ipython",
    "version": 3
   },
   "file_extension": ".py",
   "mimetype": "text/x-python",
   "name": "python",
   "nbconvert_exporter": "python",
   "pygments_lexer": "ipython3",
   "version": "3.8.8"
  }
 },
 "nbformat": 4,
 "nbformat_minor": 5
}
