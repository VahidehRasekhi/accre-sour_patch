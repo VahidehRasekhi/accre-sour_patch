{
 "cells": [
  {
   "cell_type": "code",
   "execution_count": 12,
   "id": "7a5f175f",
   "metadata": {},
   "outputs": [],
   "source": [
    "import pandas as pd\n",
    "import matplotlib.pyplot as plt\n",
    "from datetime import timedelta"
   ]
  },
  {
   "cell_type": "code",
   "execution_count": 13,
   "id": "b743b1d3",
   "metadata": {},
   "outputs": [],
   "source": [
    "fs_df = pd.read_pickle('../data/fs_df.pkl')\n",
    "cs5_df = pd.read_pickle('../data/cs5_df.pkl')\n",
    "cs6_df = pd.read_pickle('../data/cs6_df.pkl')\n",
    "# fs_df = fs_df.drop(columns=['REQMEM','REQTIME'])"
   ]
  },
  {
   "cell_type": "code",
   "execution_count": 4,
   "id": "02ba5915",
   "metadata": {
    "scrolled": true
   },
   "outputs": [
    {
     "data": {
      "text/plain": [
       "<BarContainer object of 7 artists>"
      ]
     },
     "execution_count": 4,
     "metadata": {},
     "output_type": "execute_result"
    },
    {
     "data": {
      "image/png": "[encoded data removed]",
      "text/plain": [
       "<Figure size 432x288 with 1 Axes>"
      ]
     },
     "metadata": {
      "needs_background": "light"
     },
     "output_type": "display_data"
    }
   ],
   "source": [
    "jobs_weekday = [len(fs_df[fs_df['BEGIN'].dt.day == x]) for x in range(1,8)]\n",
    "plt.bar(['Mon', 'Tue', 'Wed', 'Thu', 'Fri', 'Sat', 'Sun'], jobs_weekday)"
   ]
  },
  {
   "cell_type": "code",
   "execution_count": 5,
   "id": "8ba2a4ed",
   "metadata": {
    "scrolled": false
   },
   "outputs": [
    {
     "data": {
      "text/plain": [
       "<BarContainer object of 24 artists>"
      ]
     },
     "execution_count": 5,
     "metadata": {},
     "output_type": "execute_result"
    },
    {
     "data": {
      "image/png": "[encoded data removed]",
      "text/plain": [
       "<Figure size 432x288 with 1 Axes>"
      ]
     },
     "metadata": {
      "needs_background": "light"
     },
     "output_type": "display_data"
    }
   ],
   "source": [
    "jobs_hour = [len(fs_df[fs_df['BEGIN'].dt.hour == x]) for x in range(0,24)]\n",
    "hours = [x for x in range(1,25)]\n",
    "plt.bar(hours, jobs_hour)"
   ]
  },
  {
   "cell_type": "code",
   "execution_count": 6,
   "id": "73fc5037",
   "metadata": {
    "scrolled": true
   },
   "outputs": [],
   "source": [
    "partitions = fs_df['PARTITION'].unique()"
   ]
  },
  {
   "cell_type": "code",
   "execution_count": 10,
   "id": "fdd0823f",
   "metadata": {
    "scrolled": true
   },
   "outputs": [
    {
     "data": {
      "text/plain": [
       "EXITCODE\n",
       "0:0      8744\n",
       "1:0      2176\n",
       "0:15     1887\n",
       "0:9      1361\n",
       "0:7       389\n",
       "0:11       35\n",
       "0:6        18\n",
       "0:2        16\n",
       "127:0       5\n",
       "0:40        4\n",
       "0:105       2\n",
       "2:0         2\n",
       "0:12        1\n",
       "0:8         1\n",
       "0:98        1\n",
       "9:0         1\n",
       "dtype: int64"
      ]
     },
     "execution_count": 10,
     "metadata": {},
     "output_type": "execute_result"
    }
   ],
   "source": [
    "fs_df[fs_df['STATE'].str.match(r'CANCELLED')].value_counts('EXITCODE')"
   ]
  },
  {
   "cell_type": "markdown",
   "id": "825eefdd",
   "metadata": {},
   "source": [
    "# def get_delta(row):\n",
    "    days, hms = row.split('-') if '-' in row else [0, row]\n",
    "    hours, minutes, seconds = hms.split(':')\n",
    "    return timedelta(days=int(days), seconds=int(seconds), minutes=int(minutes), hours=int(hours))\n",
    "fs_df['REQTIME'] = fs_df['REQTIME'].apply(get_delta)\n",
    "fs_df['USEDTIME'] = fs_df['USEDTIME'].apply(get_delta)"
   ]
  }
 ],
 "metadata": {
  "kernelspec": {
   "display_name": "Python 3",
   "language": "python",
   "name": "python3"
  },
  "language_info": {
   "codemirror_mode": {
    "name": "ipython",
    "version": 3
   },
   "file_extension": ".py",
   "mimetype": "text/x-python",
   "name": "python",
   "nbconvert_exporter": "python",
   "pygments_lexer": "ipython3",
   "version": "3.8.8"
  }
 },
 "nbformat": 4,
 "nbformat_minor": 5
}
