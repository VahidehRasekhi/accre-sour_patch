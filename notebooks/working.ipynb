{
 "cells": [
  {
   "cell_type": "code",
   "execution_count": 1,
   "id": "7a5f175f",
   "metadata": {},
   "outputs": [],
   "source": [
    "import pandas as pd\n",
    "import matplotlib.pyplot as plt\n",
    "from datetime import timedelta"
   ]
  },
  {
   "cell_type": "code",
   "execution_count": 2,
   "id": "b743b1d3",
   "metadata": {},
   "outputs": [],
   "source": [
    "fs_df = pd.read_pickle('../data/fs_df.pkl')\n",
    "cs5_df = pd.read_pickle('../data/cs5_df.pkl')\n",
    "cs6_df = pd.read_pickle('../data/cs6_df.pkl')\n",
    "fs_df = fs_df.drop(columns=['REQMEM','USEDMEM','NODES','CPUS'])"
   ]
  },
  {
   "cell_type": "code",
   "execution_count": 7,
   "id": "3320d624",
   "metadata": {},
   "outputs": [],
   "source": [
    "def get_delta(row):\n",
    "    days, hms = row.split('-') if '-' in row else [0, row]\n",
    "    hours, minutes, seconds = hms.split(':')\n",
    "    return timedelta(days=int(days), seconds=int(seconds), minutes=int(minutes), hours=int(hours))\n",
    "fs_df['REQTIME'] = fs_df['REQTIME'].apply(get_delta)\n",
    "fs_df['USEDTIME'] = fs_df['USEDTIME'].apply(get_delta)"
   ]
  },
  {
   "cell_type": "code",
   "execution_count": null,
   "id": "b507f126",
   "metadata": {},
   "outputs": [],
   "source": [
    "# timedelta(seconds=fs_df['REQTIME'].dt.total_seconds().sum())"
   ]
  },
  {
   "cell_type": "code",
   "execution_count": 19,
   "id": "83d3ef9b",
   "metadata": {},
   "outputs": [],
   "source": [
    "over_req_df = fs_df[['REQTIME','USEDTIME']]"
   ]
  },
  {
   "cell_type": "code",
   "execution_count": 21,
   "id": "411ad285",
   "metadata": {},
   "outputs": [
    {
     "data": {
      "text/html": [
       "<div>\n",
       "<style scoped>\n",
       "    .dataframe tbody tr th:only-of-type {\n",
       "        vertical-align: middle;\n",
       "    }\n",
       "\n",
       "    .dataframe tbody tr th {\n",
       "        vertical-align: top;\n",
       "    }\n",
       "\n",
       "    .dataframe thead th {\n",
       "        text-align: right;\n",
       "    }\n",
       "</style>\n",
       "<table border=\"1\" class=\"dataframe\">\n",
       "  <thead>\n",
       "    <tr style=\"text-align: right;\">\n",
       "      <th></th>\n",
       "      <th>REQTIME</th>\n",
       "      <th>USEDTIME</th>\n",
       "    </tr>\n",
       "  </thead>\n",
       "  <tbody>\n",
       "    <tr>\n",
       "      <th>count</th>\n",
       "      <td>7395234</td>\n",
       "      <td>7395234</td>\n",
       "    </tr>\n",
       "    <tr>\n",
       "      <th>mean</th>\n",
       "      <td>0 days 22:18:34.809081092</td>\n",
       "      <td>0 days 03:48:04.106315094</td>\n",
       "    </tr>\n",
       "    <tr>\n",
       "      <th>std</th>\n",
       "      <td>1 days 14:41:07.890959117</td>\n",
       "      <td>0 days 12:44:52.118592948</td>\n",
       "    </tr>\n",
       "    <tr>\n",
       "      <th>min</th>\n",
       "      <td>0 days 00:01:00</td>\n",
       "      <td>0 days 00:00:00</td>\n",
       "    </tr>\n",
       "    <tr>\n",
       "      <th>25%</th>\n",
       "      <td>0 days 01:30:00</td>\n",
       "      <td>0 days 00:02:37</td>\n",
       "    </tr>\n",
       "    <tr>\n",
       "      <th>50%</th>\n",
       "      <td>0 days 08:00:00</td>\n",
       "      <td>0 days 00:13:54</td>\n",
       "    </tr>\n",
       "    <tr>\n",
       "      <th>75%</th>\n",
       "      <td>1 days 00:00:00</td>\n",
       "      <td>0 days 01:28:10</td>\n",
       "    </tr>\n",
       "    <tr>\n",
       "      <th>max</th>\n",
       "      <td>41 days 16:00:00</td>\n",
       "      <td>34 days 23:15:05</td>\n",
       "    </tr>\n",
       "  </tbody>\n",
       "</table>\n",
       "</div>"
      ],
      "text/plain": [
       "                         REQTIME                   USEDTIME\n",
       "count                    7395234                    7395234\n",
       "mean   0 days 22:18:34.809081092  0 days 03:48:04.106315094\n",
       "std    1 days 14:41:07.890959117  0 days 12:44:52.118592948\n",
       "min              0 days 00:01:00            0 days 00:00:00\n",
       "25%              0 days 01:30:00            0 days 00:02:37\n",
       "50%              0 days 08:00:00            0 days 00:13:54\n",
       "75%              1 days 00:00:00            0 days 01:28:10\n",
       "max             41 days 16:00:00           34 days 23:15:05"
      ]
     },
     "execution_count": 21,
     "metadata": {},
     "output_type": "execute_result"
    }
   ],
   "source": [
    "over_req_df.describe()"
   ]
  },
  {
   "cell_type": "code",
   "execution_count": 22,
   "id": "dcda7c68",
   "metadata": {},
   "outputs": [
    {
     "data": {
      "text/plain": [
       "<matplotlib.collections.PathCollection at 0x24a09218400>"
      ]
     },
     "execution_count": 22,
     "metadata": {},
     "output_type": "execute_result"
    },
    {
     "data": {
      "image/png": "[encoded data removed]",
      "text/plain": [
       "<Figure size 1080x720 with 1 Axes>"
      ]
     },
     "metadata": {
      "needs_background": "light"
     },
     "output_type": "display_data"
    }
   ],
   "source": [
    "plt.figure(figsize=(15, 10))\n",
    "plt.scatter(over_req_df['REQTIME'], over_req_df['USEDTIME'])"
   ]
  },
  {
   "cell_type": "code",
   "execution_count": 24,
   "id": "268eeb9d",
   "metadata": {},
   "outputs": [
    {
     "data": {
      "text/html": [
       "<div>\n",
       "<style scoped>\n",
       "    .dataframe tbody tr th:only-of-type {\n",
       "        vertical-align: middle;\n",
       "    }\n",
       "\n",
       "    .dataframe tbody tr th {\n",
       "        vertical-align: top;\n",
       "    }\n",
       "\n",
       "    .dataframe thead th {\n",
       "        text-align: right;\n",
       "    }\n",
       "</style>\n",
       "<table border=\"1\" class=\"dataframe\">\n",
       "  <thead>\n",
       "    <tr style=\"text-align: right;\">\n",
       "      <th></th>\n",
       "      <th>REQTIME</th>\n",
       "      <th>USEDTIME</th>\n",
       "    </tr>\n",
       "  </thead>\n",
       "  <tbody>\n",
       "    <tr>\n",
       "      <th>1</th>\n",
       "      <td>30 days 00:00:00</td>\n",
       "      <td>30 days 00:00:23</td>\n",
       "    </tr>\n",
       "    <tr>\n",
       "      <th>2</th>\n",
       "      <td>30 days 00:00:00</td>\n",
       "      <td>30 days 00:00:14</td>\n",
       "    </tr>\n",
       "    <tr>\n",
       "      <th>3</th>\n",
       "      <td>29 days 04:00:00</td>\n",
       "      <td>29 days 04:00:04</td>\n",
       "    </tr>\n",
       "    <tr>\n",
       "      <th>4</th>\n",
       "      <td>24 days 09:00:00</td>\n",
       "      <td>24 days 09:00:17</td>\n",
       "    </tr>\n",
       "    <tr>\n",
       "      <th>5</th>\n",
       "      <td>24 days 09:00:00</td>\n",
       "      <td>20 days 08:32:27</td>\n",
       "    </tr>\n",
       "    <tr>\n",
       "      <th>...</th>\n",
       "      <td>...</td>\n",
       "      <td>...</td>\n",
       "    </tr>\n",
       "    <tr>\n",
       "      <th>7395880</th>\n",
       "      <td>2 days 00:00:00</td>\n",
       "      <td>0 days 00:01:46</td>\n",
       "    </tr>\n",
       "    <tr>\n",
       "      <th>7395881</th>\n",
       "      <td>2 days 00:00:00</td>\n",
       "      <td>0 days 00:01:25</td>\n",
       "    </tr>\n",
       "    <tr>\n",
       "      <th>7395882</th>\n",
       "      <td>0 days 12:00:00</td>\n",
       "      <td>0 days 00:03:14</td>\n",
       "    </tr>\n",
       "    <tr>\n",
       "      <th>7395883</th>\n",
       "      <td>2 days 00:00:00</td>\n",
       "      <td>0 days 00:01:56</td>\n",
       "    </tr>\n",
       "    <tr>\n",
       "      <th>7395884</th>\n",
       "      <td>0 days 12:00:00</td>\n",
       "      <td>0 days 00:03:08</td>\n",
       "    </tr>\n",
       "  </tbody>\n",
       "</table>\n",
       "<p>7395234 rows × 2 columns</p>\n",
       "</div>"
      ],
      "text/plain": [
       "                 REQTIME         USEDTIME\n",
       "1       30 days 00:00:00 30 days 00:00:23\n",
       "2       30 days 00:00:00 30 days 00:00:14\n",
       "3       29 days 04:00:00 29 days 04:00:04\n",
       "4       24 days 09:00:00 24 days 09:00:17\n",
       "5       24 days 09:00:00 20 days 08:32:27\n",
       "...                  ...              ...\n",
       "7395880  2 days 00:00:00  0 days 00:01:46\n",
       "7395881  2 days 00:00:00  0 days 00:01:25\n",
       "7395882  0 days 12:00:00  0 days 00:03:14\n",
       "7395883  2 days 00:00:00  0 days 00:01:56\n",
       "7395884  0 days 12:00:00  0 days 00:03:08\n",
       "\n",
       "[7395234 rows x 2 columns]"
      ]
     },
     "execution_count": 24,
     "metadata": {},
     "output_type": "execute_result"
    }
   ],
   "source": []
  }
 ],
 "metadata": {
  "kernelspec": {
   "display_name": "Python 3",
   "language": "python",
   "name": "python3"
  },
  "language_info": {
   "codemirror_mode": {
    "name": "ipython",
    "version": 3
   },
   "file_extension": ".py",
   "mimetype": "text/x-python",
   "name": "python",
   "nbconvert_exporter": "python",
   "pygments_lexer": "ipython3",
   "version": "3.8.8"
  }
 },
 "nbformat": 4,
 "nbformat_minor": 5
}
