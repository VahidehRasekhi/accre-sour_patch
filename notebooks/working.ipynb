{
 "cells": [
  {
   "cell_type": "code",
   "execution_count": 82,
   "id": "6aea0a07",
   "metadata": {},
   "outputs": [],
   "source": [
    "import pandas as pd\n",
    "import numpy as np\n",
    "import statistics\n",
    "import math\n",
    "from datetime import timedelta\n",
    "import matplotlib.pyplot as plt\n",
    "import timeit"
   ]
  },
  {
   "cell_type": "markdown",
   "id": "c5077591",
   "metadata": {},
   "source": [
    "2020-10-19 17:40:46.306441 - user 9201 - retry 0 - time 0.07220077514648438 \n",
    "        - returncode 0 \n",
    "        - command ['/usr/bin/sbatch', '/tmp/condor_g_scratch.0x555e443cfe90.3058472/bl_129ykn']"
   ]
  },
  {
   "cell_type": "code",
   "execution_count": 41,
   "id": "600740fe",
   "metadata": {},
   "outputs": [],
   "source": [
    "# with open('../data/slurm_wrapper_ce5.log') as f:\n",
    "#     data = ([line.split() for line in f if 'sbatch' in line and 'user 9204' in line])\n",
    "# with open('../data/slurm_wrapper_ce6.log') as f:\n",
    "#     data.extend([line.split() for line in f if 'sbatch' in line and 'user 9204' in line])\n",
    "with open('../data/slurm_wrapper_ce5.log') as f:\n",
    "    data = ([line.split() for line in f])\n",
    "with open('../data/slurm_wrapper_ce6.log') as f:\n",
    "    data.extend([line.split() for line in f])"
   ]
  },
  {
   "cell_type": "code",
   "execution_count": 42,
   "id": "de9851a2",
   "metadata": {},
   "outputs": [],
   "source": [
    "sbatch = pd.DataFrame([[pd.to_datetime(x[0] + 'T' + x[1]), float(x[10]), int(x[13])] \n",
    "                       for x in data], columns=['BEGIN', 'DURATION', 'RETURNCODE'])"
   ]
  },
  {
   "cell_type": "code",
   "execution_count": 43,
   "id": "63686506",
   "metadata": {},
   "outputs": [
    {
     "data": {
      "text/plain": [
       "0      8218429\n",
       "1      1296640\n",
       "140      24987\n",
       "255       7347\n",
       "8           10\n",
       "Name: RETURNCODE, dtype: int64"
      ]
     },
     "execution_count": 43,
     "metadata": {},
     "output_type": "execute_result"
    }
   ],
   "source": [
    "sbatch['RETURNCODE'].value_counts()"
   ]
  },
  {
   "cell_type": "code",
   "execution_count": null,
   "id": "c5b0d3c2",
   "metadata": {},
   "outputs": [],
   "source": [
    "# Check the duration of the process which ran before the one that timed out to see if we can\n",
    "#  use this to flag the load if it is getting to be too much \n",
    "before = []\n",
    "for index, row in sbatch.iterrows():\n",
    "    if index and row['RETURNCODE'] == 1:\n",
    "        before.append(sbatch.iloc[index - 1]['DURATION'])\n",
    "print(statistics.mean(before))\n",
    "print(statistics.stdev(before))\n",
    "print(statistics.median(before))"
   ]
  },
  {
   "cell_type": "code",
   "execution_count": null,
   "id": "28e6265d",
   "metadata": {},
   "outputs": [],
   "source": [
    "plt.boxplot(before)"
   ]
  },
  {
   "cell_type": "code",
   "execution_count": null,
   "id": "0deb920c",
   "metadata": {},
   "outputs": [],
   "source": [
    "count = 0\n",
    "for index, row in sbatch.iterrows():\n",
    "    if index and row['RETURNCODE'] == 1 and sbatch.iloc[index - 1]['RETURNCODE'] == 0:\n",
    "        count += 1\n",
    "print(count)"
   ]
  },
  {
   "cell_type": "code",
   "execution_count": null,
   "id": "2c48a12e",
   "metadata": {
    "scrolled": true
   },
   "outputs": [],
   "source": [
    "sbatch.describe()"
   ]
  },
  {
   "cell_type": "code",
   "execution_count": 45,
   "id": "5c8a3761",
   "metadata": {},
   "outputs": [],
   "source": [
    "dur = [math.modf(x) for x in sbatch['DURATION']]"
   ]
  },
  {
   "cell_type": "code",
   "execution_count": 46,
   "id": "45082073",
   "metadata": {
    "scrolled": false
   },
   "outputs": [],
   "source": [
    "# next(zip(*test[:10]))"
   ]
  },
  {
   "cell_type": "code",
   "execution_count": 47,
   "id": "e94bcaeb",
   "metadata": {},
   "outputs": [],
   "source": [
    "td_input = [[x[1], x[0] * 1000000] for x in dur]\n",
    "dur_td = [timedelta(seconds=x[0], microseconds=x[1]) for x in td_input]"
   ]
  },
  {
   "cell_type": "code",
   "execution_count": 48,
   "id": "5a5792a3",
   "metadata": {},
   "outputs": [],
   "source": [
    "sbatch['END'] = sbatch['BEGIN'].add(dur_td)"
   ]
  },
  {
   "cell_type": "code",
   "execution_count": 49,
   "id": "11e77b96",
   "metadata": {},
   "outputs": [],
   "source": [
    "\n",
    "begin_load_df = sbatch[['BEGIN','RETURNCODE']].rename(columns={'BEGIN':'TIME'})\n",
    "begin_load_df['process'] = 1\n",
    "end_load_df = sbatch[['END','RETURNCODE']].rename(columns={'END':'TIME'})\n",
    "end_load_df['process'] = -1\n",
    "load_df = begin_load_df.append(end_load_df)\n",
    "load_df = load_df.sort_values('TIME').reset_index()"
   ]
  },
  {
   "cell_type": "code",
   "execution_count": 50,
   "id": "fed7d851",
   "metadata": {
    "scrolled": true
   },
   "outputs": [],
   "source": [
    "load_df['running'] = np.cumsum(load_df['process'])"
   ]
  },
  {
   "cell_type": "code",
   "execution_count": 53,
   "id": "2a4f292b",
   "metadata": {},
   "outputs": [
    {
     "data": {
      "text/plain": [
       "1      3605737\n",
       "0      2505577\n",
       "2      1691299\n",
       "3       969452\n",
       "4       645490\n",
       "        ...   \n",
       "540          2\n",
       "539          2\n",
       "538          2\n",
       "537          2\n",
       "556          1\n",
       "Name: running, Length: 557, dtype: int64"
      ]
     },
     "execution_count": 53,
     "metadata": {},
     "output_type": "execute_result"
    }
   ],
   "source": [
    "load_df['running'].value_counts()"
   ]
  },
  {
   "cell_type": "code",
   "execution_count": 61,
   "id": "afa3f14a",
   "metadata": {
    "scrolled": true
   },
   "outputs": [
    {
     "data": {
      "text/html": [
       "<div>\n",
       "<style scoped>\n",
       "    .dataframe tbody tr th:only-of-type {\n",
       "        vertical-align: middle;\n",
       "    }\n",
       "\n",
       "    .dataframe tbody tr th {\n",
       "        vertical-align: top;\n",
       "    }\n",
       "\n",
       "    .dataframe thead th {\n",
       "        text-align: right;\n",
       "    }\n",
       "</style>\n",
       "<table border=\"1\" class=\"dataframe\">\n",
       "  <thead>\n",
       "    <tr style=\"text-align: right;\">\n",
       "      <th></th>\n",
       "      <th>index</th>\n",
       "      <th>TIME</th>\n",
       "      <th>RETURNCODE</th>\n",
       "      <th>process</th>\n",
       "      <th>running</th>\n",
       "    </tr>\n",
       "  </thead>\n",
       "  <tbody>\n",
       "    <tr>\n",
       "      <th>1559996</th>\n",
       "      <td>393611</td>\n",
       "      <td>2020-11-10 08:51:46.496072</td>\n",
       "      <td>0</td>\n",
       "      <td>1</td>\n",
       "      <td>401</td>\n",
       "    </tr>\n",
       "    <tr>\n",
       "      <th>1559997</th>\n",
       "      <td>5157480</td>\n",
       "      <td>2020-11-10 08:51:46.499066</td>\n",
       "      <td>0</td>\n",
       "      <td>1</td>\n",
       "      <td>402</td>\n",
       "    </tr>\n",
       "    <tr>\n",
       "      <th>1559998</th>\n",
       "      <td>393612</td>\n",
       "      <td>2020-11-10 08:51:46.518310</td>\n",
       "      <td>0</td>\n",
       "      <td>1</td>\n",
       "      <td>403</td>\n",
       "    </tr>\n",
       "    <tr>\n",
       "      <th>1559999</th>\n",
       "      <td>5157481</td>\n",
       "      <td>2020-11-10 08:51:46.536698</td>\n",
       "      <td>0</td>\n",
       "      <td>1</td>\n",
       "      <td>404</td>\n",
       "    </tr>\n",
       "    <tr>\n",
       "      <th>1560000</th>\n",
       "      <td>393613</td>\n",
       "      <td>2020-11-10 08:51:46.539404</td>\n",
       "      <td>0</td>\n",
       "      <td>1</td>\n",
       "      <td>405</td>\n",
       "    </tr>\n",
       "    <tr>\n",
       "      <th>...</th>\n",
       "      <td>...</td>\n",
       "      <td>...</td>\n",
       "      <td>...</td>\n",
       "      <td>...</td>\n",
       "      <td>...</td>\n",
       "    </tr>\n",
       "    <tr>\n",
       "      <th>18918351</th>\n",
       "      <td>9503566</td>\n",
       "      <td>2021-10-02 08:15:36.984302</td>\n",
       "      <td>0</td>\n",
       "      <td>1</td>\n",
       "      <td>440</td>\n",
       "    </tr>\n",
       "    <tr>\n",
       "      <th>18918352</th>\n",
       "      <td>9503482</td>\n",
       "      <td>2021-10-02 08:15:36.987820</td>\n",
       "      <td>0</td>\n",
       "      <td>-1</td>\n",
       "      <td>439</td>\n",
       "    </tr>\n",
       "    <tr>\n",
       "      <th>18918353</th>\n",
       "      <td>4726722</td>\n",
       "      <td>2021-10-02 08:15:36.993135</td>\n",
       "      <td>0</td>\n",
       "      <td>1</td>\n",
       "      <td>440</td>\n",
       "    </tr>\n",
       "    <tr>\n",
       "      <th>18918354</th>\n",
       "      <td>9503567</td>\n",
       "      <td>2021-10-02 08:15:36.998663</td>\n",
       "      <td>0</td>\n",
       "      <td>1</td>\n",
       "      <td>441</td>\n",
       "    </tr>\n",
       "    <tr>\n",
       "      <th>18918359</th>\n",
       "      <td>4726723</td>\n",
       "      <td>2021-10-02 08:15:37.210857</td>\n",
       "      <td>0</td>\n",
       "      <td>1</td>\n",
       "      <td>438</td>\n",
       "    </tr>\n",
       "  </tbody>\n",
       "</table>\n",
       "<p>3857 rows × 5 columns</p>\n",
       "</div>"
      ],
      "text/plain": [
       "            index                       TIME  RETURNCODE  process  running\n",
       "1559996    393611 2020-11-10 08:51:46.496072           0        1      401\n",
       "1559997   5157480 2020-11-10 08:51:46.499066           0        1      402\n",
       "1559998    393612 2020-11-10 08:51:46.518310           0        1      403\n",
       "1559999   5157481 2020-11-10 08:51:46.536698           0        1      404\n",
       "1560000    393613 2020-11-10 08:51:46.539404           0        1      405\n",
       "...           ...                        ...         ...      ...      ...\n",
       "18918351  9503566 2021-10-02 08:15:36.984302           0        1      440\n",
       "18918352  9503482 2021-10-02 08:15:36.987820           0       -1      439\n",
       "18918353  4726722 2021-10-02 08:15:36.993135           0        1      440\n",
       "18918354  9503567 2021-10-02 08:15:36.998663           0        1      441\n",
       "18918359  4726723 2021-10-02 08:15:37.210857           0        1      438\n",
       "\n",
       "[3857 rows x 5 columns]"
      ]
     },
     "execution_count": 61,
     "metadata": {},
     "output_type": "execute_result"
    }
   ],
   "source": [
    "load_df[(load_df['running'] > 400) & (load_df['RETURNCODE'] == 0)]"
   ]
  },
  {
   "cell_type": "code",
   "execution_count": 62,
   "id": "86a38c26",
   "metadata": {
    "scrolled": true
   },
   "outputs": [
    {
     "data": {
      "text/html": [
       "<div>\n",
       "<style scoped>\n",
       "    .dataframe tbody tr th:only-of-type {\n",
       "        vertical-align: middle;\n",
       "    }\n",
       "\n",
       "    .dataframe tbody tr th {\n",
       "        vertical-align: top;\n",
       "    }\n",
       "\n",
       "    .dataframe thead th {\n",
       "        text-align: right;\n",
       "    }\n",
       "</style>\n",
       "<table border=\"1\" class=\"dataframe\">\n",
       "  <thead>\n",
       "    <tr style=\"text-align: right;\">\n",
       "      <th></th>\n",
       "      <th>index</th>\n",
       "      <th>TIME</th>\n",
       "      <th>RETURNCODE</th>\n",
       "      <th>process</th>\n",
       "      <th>running</th>\n",
       "    </tr>\n",
       "  </thead>\n",
       "  <tbody>\n",
       "    <tr>\n",
       "      <th>1560116</th>\n",
       "      <td>5157192</td>\n",
       "      <td>2020-11-10 08:51:50.935295</td>\n",
       "      <td>1</td>\n",
       "      <td>-1</td>\n",
       "      <td>407</td>\n",
       "    </tr>\n",
       "    <tr>\n",
       "      <th>1560266</th>\n",
       "      <td>393447</td>\n",
       "      <td>2020-11-10 08:51:54.099137</td>\n",
       "      <td>1</td>\n",
       "      <td>-1</td>\n",
       "      <td>433</td>\n",
       "    </tr>\n",
       "    <tr>\n",
       "      <th>1560272</th>\n",
       "      <td>393448</td>\n",
       "      <td>2020-11-10 08:51:54.147870</td>\n",
       "      <td>1</td>\n",
       "      <td>-1</td>\n",
       "      <td>437</td>\n",
       "    </tr>\n",
       "    <tr>\n",
       "      <th>1560330</th>\n",
       "      <td>393449</td>\n",
       "      <td>2020-11-10 08:51:54.845623</td>\n",
       "      <td>1</td>\n",
       "      <td>-1</td>\n",
       "      <td>429</td>\n",
       "    </tr>\n",
       "    <tr>\n",
       "      <th>1560344</th>\n",
       "      <td>393450</td>\n",
       "      <td>2020-11-10 08:51:54.965285</td>\n",
       "      <td>1</td>\n",
       "      <td>-1</td>\n",
       "      <td>417</td>\n",
       "    </tr>\n",
       "    <tr>\n",
       "      <th>...</th>\n",
       "      <td>...</td>\n",
       "      <td>...</td>\n",
       "      <td>...</td>\n",
       "      <td>...</td>\n",
       "      <td>...</td>\n",
       "    </tr>\n",
       "    <tr>\n",
       "      <th>18918392</th>\n",
       "      <td>9503317</td>\n",
       "      <td>2021-10-02 08:15:38.817160</td>\n",
       "      <td>1</td>\n",
       "      <td>-1</td>\n",
       "      <td>405</td>\n",
       "    </tr>\n",
       "    <tr>\n",
       "      <th>18918393</th>\n",
       "      <td>9503316</td>\n",
       "      <td>2021-10-02 08:15:38.824229</td>\n",
       "      <td>1</td>\n",
       "      <td>-1</td>\n",
       "      <td>404</td>\n",
       "    </tr>\n",
       "    <tr>\n",
       "      <th>18918394</th>\n",
       "      <td>9503310</td>\n",
       "      <td>2021-10-02 08:15:38.825354</td>\n",
       "      <td>1</td>\n",
       "      <td>-1</td>\n",
       "      <td>403</td>\n",
       "    </tr>\n",
       "    <tr>\n",
       "      <th>18918395</th>\n",
       "      <td>9503318</td>\n",
       "      <td>2021-10-02 08:15:38.830735</td>\n",
       "      <td>1</td>\n",
       "      <td>-1</td>\n",
       "      <td>402</td>\n",
       "    </tr>\n",
       "    <tr>\n",
       "      <th>18918396</th>\n",
       "      <td>9503313</td>\n",
       "      <td>2021-10-02 08:15:38.831416</td>\n",
       "      <td>1</td>\n",
       "      <td>-1</td>\n",
       "      <td>401</td>\n",
       "    </tr>\n",
       "  </tbody>\n",
       "</table>\n",
       "<p>453 rows × 5 columns</p>\n",
       "</div>"
      ],
      "text/plain": [
       "            index                       TIME  RETURNCODE  process  running\n",
       "1560116   5157192 2020-11-10 08:51:50.935295           1       -1      407\n",
       "1560266    393447 2020-11-10 08:51:54.099137           1       -1      433\n",
       "1560272    393448 2020-11-10 08:51:54.147870           1       -1      437\n",
       "1560330    393449 2020-11-10 08:51:54.845623           1       -1      429\n",
       "1560344    393450 2020-11-10 08:51:54.965285           1       -1      417\n",
       "...           ...                        ...         ...      ...      ...\n",
       "18918392  9503317 2021-10-02 08:15:38.817160           1       -1      405\n",
       "18918393  9503316 2021-10-02 08:15:38.824229           1       -1      404\n",
       "18918394  9503310 2021-10-02 08:15:38.825354           1       -1      403\n",
       "18918395  9503318 2021-10-02 08:15:38.830735           1       -1      402\n",
       "18918396  9503313 2021-10-02 08:15:38.831416           1       -1      401\n",
       "\n",
       "[453 rows x 5 columns]"
      ]
     },
     "execution_count": 62,
     "metadata": {},
     "output_type": "execute_result"
    }
   ],
   "source": [
    "load_df[(load_df['running'] > 400) & (load_df['RETURNCODE'] == 1)]"
   ]
  },
  {
   "cell_type": "code",
   "execution_count": 79,
   "id": "53b0e28b",
   "metadata": {
    "scrolled": true
   },
   "outputs": [
    {
     "data": {
      "text/plain": [
       "0.8641893882667483"
      ]
     },
     "execution_count": 79,
     "metadata": {},
     "output_type": "execute_result"
    }
   ],
   "source": [
    "    1 - (len(load_df[load_df['RETURNCODE'] == 1]) / len(load_df))"
   ]
  },
  {
   "cell_type": "code",
   "execution_count": 80,
   "id": "8d4fc72f",
   "metadata": {},
   "outputs": [
    {
     "data": {
      "text/plain": [
       "19094826"
      ]
     },
     "execution_count": 80,
     "metadata": {},
     "output_type": "execute_result"
    }
   ],
   "source": [
    "len(load_df)"
   ]
  },
  {
   "cell_type": "code",
   "execution_count": 72,
   "id": "712c6659",
   "metadata": {
    "scrolled": false
   },
   "outputs": [
    {
     "name": "stdout",
     "output_type": "stream",
     "text": [
      "5.861656179654965\n",
      "3.793390319053772\n",
      "5.381062069648784\n",
      "4.621005171727887\n",
      "8.135135135135135\n",
      "29.875\n"
     ]
    }
   ],
   "source": [
    "for i in range(6):\n",
    "    print(len(load_df[(load_df['running'] > i * 100) & \n",
    "                      (load_df['running'] < (i + 1) * 100) & \n",
    "                      (load_df['RETURNCODE'] == 0)]) / \n",
    "          len(load_df[(load_df['running'] > i * 100) & \n",
    "                      (load_df['running'] < (i + 1) * 100) & \n",
    "                      (load_df['RETURNCODE'] == 1)]))"
   ]
  },
  {
   "cell_type": "code",
   "execution_count": 83,
   "id": "ed8cb56a",
   "metadata": {},
   "outputs": [],
   "source": [
    "error_df = load_df[load_df['RETURNCODE'] == 1]"
   ]
  }
 ],
 "metadata": {
  "kernelspec": {
   "display_name": "Python 3",
   "language": "python",
   "name": "python3"
  },
  "language_info": {
   "codemirror_mode": {
    "name": "ipython",
    "version": 3
   },
   "file_extension": ".py",
   "mimetype": "text/x-python",
   "name": "python",
   "nbconvert_exporter": "python",
   "pygments_lexer": "ipython3",
   "version": "3.8.8"
  }
 },
 "nbformat": 4,
 "nbformat_minor": 5
}
