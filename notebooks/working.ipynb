{
 "cells": [
  {
   "cell_type": "code",
   "execution_count": 17,
   "id": "6aea0a07",
   "metadata": {},
   "outputs": [],
   "source": [
    "import pandas as pd\n",
    "import numpy as np\n",
    "import statistics\n",
    "import math\n",
    "from datetime import timedelta\n",
    "import matplotlib.pyplot as plt\n",
    "import timeit"
   ]
  },
  {
   "cell_type": "markdown",
   "id": "c5077591",
   "metadata": {},
   "source": [
    "2020-10-19 17:40:46.306441 - user 9201 - retry 0 - time 0.07220077514648438 \n",
    "        - returncode 0 \n",
    "        - command ['/usr/bin/sbatch', '/tmp/condor_g_scratch.0x555e443cfe90.3058472/bl_129ykn']"
   ]
  },
  {
   "cell_type": "code",
   "execution_count": 2,
   "id": "600740fe",
   "metadata": {},
   "outputs": [],
   "source": [
    "with open('../data/slurm_wrapper_ce5.log') as f:\n",
    "    data = ([line.split() for line in f if 'sbatch' in line and 'user 9204' in line])\n",
    "with open('../data/slurm_wrapper_ce6.log') as f:\n",
    "    data.extend([line.split() for line in f if 'sbatch' in line and 'user 9204' in line])"
   ]
  },
  {
   "cell_type": "code",
   "execution_count": 3,
   "id": "de9851a2",
   "metadata": {},
   "outputs": [],
   "source": [
    "sbatch = pd.DataFrame([[pd.to_datetime(x[0] + 'T' + x[1]), float(x[10]), int(x[13])] \n",
    "                       for x in data], columns=['BEGIN', 'DURATION', 'RETURNCODE'])"
   ]
  },
  {
   "cell_type": "code",
   "execution_count": 4,
   "id": "63686506",
   "metadata": {},
   "outputs": [
    {
     "data": {
      "text/plain": [
       "0    57951\n",
       "1     3296\n",
       "Name: RETURNCODE, dtype: int64"
      ]
     },
     "execution_count": 4,
     "metadata": {},
     "output_type": "execute_result"
    }
   ],
   "source": [
    "sbatch['RETURNCODE'].value_counts()"
   ]
  },
  {
   "cell_type": "code",
   "execution_count": 5,
   "id": "c5b0d3c2",
   "metadata": {},
   "outputs": [
    {
     "name": "stdout",
     "output_type": "stream",
     "text": [
      "9.843361352470893\n",
      "9.731232890541792\n",
      "7.185113787651062\n"
     ]
    }
   ],
   "source": [
    "# Check the duration of the process which ran before the one that timed out to see if we can\n",
    "#  use this to flag the load if it is getting to be too much \n",
    "before = []\n",
    "for index, row in sbatch.iterrows():\n",
    "    if index and row['RETURNCODE'] == 1:\n",
    "        before.append(sbatch.iloc[index - 1]['DURATION'])\n",
    "print(statistics.mean(before))\n",
    "print(statistics.stdev(before))\n",
    "print(statistics.median(before))"
   ]
  },
  {
   "cell_type": "code",
   "execution_count": 6,
   "id": "28e6265d",
   "metadata": {},
   "outputs": [
    {
     "data": {
      "text/plain": [
       "{'whiskers': [<matplotlib.lines.Line2D at 0x1bd443cff70>,\n",
       "  <matplotlib.lines.Line2D at 0x1bd443e9310>],\n",
       " 'caps': [<matplotlib.lines.Line2D at 0x1bd443e9670>,\n",
       "  <matplotlib.lines.Line2D at 0x1bd443e99d0>],\n",
       " 'boxes': [<matplotlib.lines.Line2D at 0x1bd443cfc10>],\n",
       " 'medians': [<matplotlib.lines.Line2D at 0x1bd443e9d30>],\n",
       " 'fliers': [<matplotlib.lines.Line2D at 0x1bd443f60d0>],\n",
       " 'means': []}"
      ]
     },
     "execution_count": 6,
     "metadata": {},
     "output_type": "execute_result"
    },
    {
     "data": {
      "image/png": "[encoded data removed]",
      "text/plain": [
       "<Figure size 432x288 with 1 Axes>"
      ]
     },
     "metadata": {
      "needs_background": "light"
     },
     "output_type": "display_data"
    }
   ],
   "source": [
    "plt.boxplot(before)"
   ]
  },
  {
   "cell_type": "code",
   "execution_count": 7,
   "id": "0deb920c",
   "metadata": {},
   "outputs": [
    {
     "name": "stdout",
     "output_type": "stream",
     "text": [
      "2098\n"
     ]
    }
   ],
   "source": [
    "count = 0\n",
    "for index, row in sbatch.iterrows():\n",
    "    if index and row['RETURNCODE'] == 1 and sbatch.iloc[index - 1]['RETURNCODE'] == 0:\n",
    "        count += 1\n",
    "print(count)"
   ]
  },
  {
   "cell_type": "code",
   "execution_count": 8,
   "id": "2c48a12e",
   "metadata": {
    "scrolled": true
   },
   "outputs": [
    {
     "data": {
      "text/html": [
       "<div>\n",
       "<style scoped>\n",
       "    .dataframe tbody tr th:only-of-type {\n",
       "        vertical-align: middle;\n",
       "    }\n",
       "\n",
       "    .dataframe tbody tr th {\n",
       "        vertical-align: top;\n",
       "    }\n",
       "\n",
       "    .dataframe thead th {\n",
       "        text-align: right;\n",
       "    }\n",
       "</style>\n",
       "<table border=\"1\" class=\"dataframe\">\n",
       "  <thead>\n",
       "    <tr style=\"text-align: right;\">\n",
       "      <th></th>\n",
       "      <th>DURATION</th>\n",
       "      <th>RETURNCODE</th>\n",
       "    </tr>\n",
       "  </thead>\n",
       "  <tbody>\n",
       "    <tr>\n",
       "      <th>count</th>\n",
       "      <td>61247.000000</td>\n",
       "      <td>61247.000000</td>\n",
       "    </tr>\n",
       "    <tr>\n",
       "      <th>mean</th>\n",
       "      <td>2.066355</td>\n",
       "      <td>0.053815</td>\n",
       "    </tr>\n",
       "    <tr>\n",
       "      <th>std</th>\n",
       "      <td>5.271746</td>\n",
       "      <td>0.225654</td>\n",
       "    </tr>\n",
       "    <tr>\n",
       "      <th>min</th>\n",
       "      <td>0.018579</td>\n",
       "      <td>0.000000</td>\n",
       "    </tr>\n",
       "    <tr>\n",
       "      <th>25%</th>\n",
       "      <td>0.045495</td>\n",
       "      <td>0.000000</td>\n",
       "    </tr>\n",
       "    <tr>\n",
       "      <th>50%</th>\n",
       "      <td>0.076634</td>\n",
       "      <td>0.000000</td>\n",
       "    </tr>\n",
       "    <tr>\n",
       "      <th>75%</th>\n",
       "      <td>0.306675</td>\n",
       "      <td>0.000000</td>\n",
       "    </tr>\n",
       "    <tr>\n",
       "      <th>max</th>\n",
       "      <td>56.397141</td>\n",
       "      <td>1.000000</td>\n",
       "    </tr>\n",
       "  </tbody>\n",
       "</table>\n",
       "</div>"
      ],
      "text/plain": [
       "           DURATION    RETURNCODE\n",
       "count  61247.000000  61247.000000\n",
       "mean       2.066355      0.053815\n",
       "std        5.271746      0.225654\n",
       "min        0.018579      0.000000\n",
       "25%        0.045495      0.000000\n",
       "50%        0.076634      0.000000\n",
       "75%        0.306675      0.000000\n",
       "max       56.397141      1.000000"
      ]
     },
     "execution_count": 8,
     "metadata": {},
     "output_type": "execute_result"
    }
   ],
   "source": [
    "sbatch.describe()"
   ]
  },
  {
   "cell_type": "code",
   "execution_count": 9,
   "id": "5c8a3761",
   "metadata": {},
   "outputs": [],
   "source": [
    "dur = [math.modf(x) for x in sbatch['DURATION']]"
   ]
  },
  {
   "cell_type": "code",
   "execution_count": 10,
   "id": "45082073",
   "metadata": {
    "scrolled": false
   },
   "outputs": [],
   "source": [
    "# next(zip(*test[:10]))"
   ]
  },
  {
   "cell_type": "code",
   "execution_count": 11,
   "id": "e94bcaeb",
   "metadata": {},
   "outputs": [],
   "source": [
    "td_input = [[x[1], x[0] * 1000000] for x in dur]\n",
    "dur_td = [timedelta(seconds=x[0], microseconds=x[1]) for x in td_input]"
   ]
  },
  {
   "cell_type": "code",
   "execution_count": 12,
   "id": "5a5792a3",
   "metadata": {},
   "outputs": [],
   "source": [
    "sbatch['END'] = sbatch['BEGIN'].add(dur_td)"
   ]
  },
  {
   "cell_type": "code",
   "execution_count": 47,
   "id": "11e77b96",
   "metadata": {},
   "outputs": [],
   "source": [
    "\n",
    "begin_load_df = sbatch[['BEGIN','RETURNCODE']].rename(columns={'BEGIN':'TIME'})\n",
    "begin_load_df['process'] = 1\n",
    "end_load_df = sbatch[['END','RETURNCODE']].rename(columns={'END':'TIME'})\n",
    "end_load_df['process'] = -1\n",
    "load_df = begin_load_df.append(end_load_df)\n",
    "load_df = load_df.sort_values('TIME').reset_index()"
   ]
  },
  {
   "cell_type": "code",
   "execution_count": 48,
   "id": "fed7d851",
   "metadata": {
    "scrolled": true
   },
   "outputs": [],
   "source": [
    "load_df['running'] = np.cumsum(load_df['process'])"
   ]
  },
  {
   "cell_type": "code",
   "execution_count": 49,
   "id": "2a4f292b",
   "metadata": {},
   "outputs": [
    {
     "data": {
      "text/plain": [
       "1    61043\n",
       "0    59136\n",
       "2     2076\n",
       "3      201\n",
       "4       35\n",
       "5        3\n",
       "Name: running, dtype: int64"
      ]
     },
     "execution_count": 49,
     "metadata": {},
     "output_type": "execute_result"
    }
   ],
   "source": [
    "load_df['running'].value_counts()"
   ]
  },
  {
   "cell_type": "code",
   "execution_count": 50,
   "id": "7f954e0d",
   "metadata": {},
   "outputs": [
    {
     "data": {
      "text/html": [
       "<div>\n",
       "<style scoped>\n",
       "    .dataframe tbody tr th:only-of-type {\n",
       "        vertical-align: middle;\n",
       "    }\n",
       "\n",
       "    .dataframe tbody tr th {\n",
       "        vertical-align: top;\n",
       "    }\n",
       "\n",
       "    .dataframe thead th {\n",
       "        text-align: right;\n",
       "    }\n",
       "</style>\n",
       "<table border=\"1\" class=\"dataframe\">\n",
       "  <thead>\n",
       "    <tr style=\"text-align: right;\">\n",
       "      <th></th>\n",
       "      <th>index</th>\n",
       "      <th>TIME</th>\n",
       "      <th>RETURNCODE</th>\n",
       "      <th>process</th>\n",
       "      <th>running</th>\n",
       "    </tr>\n",
       "  </thead>\n",
       "  <tbody>\n",
       "    <tr>\n",
       "      <th>894</th>\n",
       "      <td>30637</td>\n",
       "      <td>2020-10-18 06:16:25.392946</td>\n",
       "      <td>1</td>\n",
       "      <td>1</td>\n",
       "      <td>1</td>\n",
       "    </tr>\n",
       "    <tr>\n",
       "      <th>896</th>\n",
       "      <td>30637</td>\n",
       "      <td>2020-10-18 06:16:45.430618</td>\n",
       "      <td>1</td>\n",
       "      <td>-1</td>\n",
       "      <td>1</td>\n",
       "    </tr>\n",
       "    <tr>\n",
       "      <th>904</th>\n",
       "      <td>30640</td>\n",
       "      <td>2020-10-18 06:38:44.172473</td>\n",
       "      <td>1</td>\n",
       "      <td>1</td>\n",
       "      <td>1</td>\n",
       "    </tr>\n",
       "    <tr>\n",
       "      <th>907</th>\n",
       "      <td>30640</td>\n",
       "      <td>2020-10-18 06:39:04.211209</td>\n",
       "      <td>1</td>\n",
       "      <td>-1</td>\n",
       "      <td>0</td>\n",
       "    </tr>\n",
       "    <tr>\n",
       "      <th>912</th>\n",
       "      <td>220</td>\n",
       "      <td>2020-10-18 06:53:44.272915</td>\n",
       "      <td>1</td>\n",
       "      <td>1</td>\n",
       "      <td>1</td>\n",
       "    </tr>\n",
       "    <tr>\n",
       "      <th>...</th>\n",
       "      <td>...</td>\n",
       "      <td>...</td>\n",
       "      <td>...</td>\n",
       "      <td>...</td>\n",
       "      <td>...</td>\n",
       "    </tr>\n",
       "    <tr>\n",
       "      <th>120385</th>\n",
       "      <td>29882</td>\n",
       "      <td>2021-10-02 08:14:35.640726</td>\n",
       "      <td>1</td>\n",
       "      <td>-1</td>\n",
       "      <td>0</td>\n",
       "    </tr>\n",
       "    <tr>\n",
       "      <th>120546</th>\n",
       "      <td>29922</td>\n",
       "      <td>2021-10-02 18:29:08.267199</td>\n",
       "      <td>1</td>\n",
       "      <td>1</td>\n",
       "      <td>1</td>\n",
       "    </tr>\n",
       "    <tr>\n",
       "      <th>120547</th>\n",
       "      <td>29922</td>\n",
       "      <td>2021-10-02 18:29:28.310345</td>\n",
       "      <td>1</td>\n",
       "      <td>-1</td>\n",
       "      <td>0</td>\n",
       "    </tr>\n",
       "    <tr>\n",
       "      <th>122004</th>\n",
       "      <td>61124</td>\n",
       "      <td>2021-10-06 15:39:20.269943</td>\n",
       "      <td>1</td>\n",
       "      <td>1</td>\n",
       "      <td>1</td>\n",
       "    </tr>\n",
       "    <tr>\n",
       "      <th>122005</th>\n",
       "      <td>61124</td>\n",
       "      <td>2021-10-06 15:39:39.317040</td>\n",
       "      <td>1</td>\n",
       "      <td>-1</td>\n",
       "      <td>0</td>\n",
       "    </tr>\n",
       "  </tbody>\n",
       "</table>\n",
       "<p>6592 rows × 5 columns</p>\n",
       "</div>"
      ],
      "text/plain": [
       "        index                       TIME  RETURNCODE  process  running\n",
       "894     30637 2020-10-18 06:16:25.392946           1        1        1\n",
       "896     30637 2020-10-18 06:16:45.430618           1       -1        1\n",
       "904     30640 2020-10-18 06:38:44.172473           1        1        1\n",
       "907     30640 2020-10-18 06:39:04.211209           1       -1        0\n",
       "912       220 2020-10-18 06:53:44.272915           1        1        1\n",
       "...       ...                        ...         ...      ...      ...\n",
       "120385  29882 2021-10-02 08:14:35.640726           1       -1        0\n",
       "120546  29922 2021-10-02 18:29:08.267199           1        1        1\n",
       "120547  29922 2021-10-02 18:29:28.310345           1       -1        0\n",
       "122004  61124 2021-10-06 15:39:20.269943           1        1        1\n",
       "122005  61124 2021-10-06 15:39:39.317040           1       -1        0\n",
       "\n",
       "[6592 rows x 5 columns]"
      ]
     },
     "execution_count": 50,
     "metadata": {},
     "output_type": "execute_result"
    }
   ],
   "source": [
    "load_df[load_df['RETURNCODE'] == 1]"
   ]
  },
  {
   "cell_type": "code",
   "execution_count": 53,
   "id": "b030fa97",
   "metadata": {},
   "outputs": [
    {
     "name": "stdout",
     "output_type": "stream",
     "text": [
      "894\n",
      "     index                       TIME  RETURNCODE  process  running\n",
      "884  30634 2020-10-18 05:38:50.354467           0        1        1\n",
      "885  30634 2020-10-18 05:39:02.328469           0       -1        0\n",
      "886    215 2020-10-18 05:53:12.066123           0        1        1\n",
      "887    215 2020-10-18 05:53:12.118405           0       -1        0\n",
      "888  30635 2020-10-18 06:01:16.047091           0        1        1\n",
      "889    216 2020-10-18 06:01:16.084626           0        1        2\n",
      "890  30635 2020-10-18 06:01:20.859826           0       -1        1\n",
      "891    216 2020-10-18 06:01:30.847517           0       -1        0\n",
      "892  30636 2020-10-18 06:08:34.050705           0        1        1\n",
      "893  30636 2020-10-18 06:08:34.155586           0       -1        0\n",
      "894  30637 2020-10-18 06:16:25.392946           1        1        1\n",
      "895  30638 2020-10-18 06:16:36.503204           0        1        2\n",
      "896  30637 2020-10-18 06:16:45.430618           1       -1        1\n",
      "897  30638 2020-10-18 06:16:47.613070           0       -1        0\n",
      "898    217 2020-10-18 06:23:32.576333           0        1        1\n",
      "899    217 2020-10-18 06:23:36.382809           0       -1        0\n",
      "900  30639 2020-10-18 06:31:00.484879           0        1        1\n",
      "901  30639 2020-10-18 06:31:00.540743           0       -1        0\n",
      "902    218 2020-10-18 06:31:24.486801           0        1        1\n",
      "903    218 2020-10-18 06:31:24.563469           0       -1        0\n"
     ]
    }
   ],
   "source": [
    "for i in range(0, len(load_df)):\n",
    "    if load_df.iloc[i]['RETURNCODE'] == 1:\n",
    "        print(i)\n",
    "        print(load_df.iloc[i-10:i+10])\n",
    "        break"
   ]
  },
  {
   "cell_type": "code",
   "execution_count": 54,
   "id": "130a6803",
   "metadata": {
    "scrolled": true
   },
   "outputs": [
    {
     "data": {
      "text/plain": [
       "18"
      ]
     },
     "execution_count": 54,
     "metadata": {},
     "output_type": "execute_result"
    }
   ],
   "source": [
    "sbatch[(sbatch['BEGIN'].dt.month == 10) & (sbatch['BEGIN'].dt.day == 18)]['RETURNCODE'].sum()"
   ]
  }
 ],
 "metadata": {
  "kernelspec": {
   "display_name": "Python 3",
   "language": "python",
   "name": "python3"
  },
  "language_info": {
   "codemirror_mode": {
    "name": "ipython",
    "version": 3
   },
   "file_extension": ".py",
   "mimetype": "text/x-python",
   "name": "python",
   "nbconvert_exporter": "python",
   "pygments_lexer": "ipython3",
   "version": "3.8.8"
  }
 },
 "nbformat": 4,
 "nbformat_minor": 5
}
