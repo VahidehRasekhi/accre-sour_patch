{
 "cells": [
  {
   "cell_type": "code",
   "execution_count": 81,
   "id": "6aea0a07",
   "metadata": {},
   "outputs": [],
   "source": [
    "import pandas as pd\n",
    "import statistics\n",
    "import math\n",
    "from datetime import timedelta\n",
    "import matplotlib.pyplot as plt\n",
    "import timeit"
   ]
  },
  {
   "cell_type": "markdown",
   "id": "c5077591",
   "metadata": {},
   "source": [
    "2020-10-19 17:40:46.306441 - user 9201 - retry 0 - time 0.07220077514648438 \n",
    "        - returncode 0 \n",
    "        - command ['/usr/bin/sbatch', '/tmp/condor_g_scratch.0x555e443cfe90.3058472/bl_129ykn']"
   ]
  },
  {
   "cell_type": "code",
   "execution_count": 2,
   "id": "600740fe",
   "metadata": {},
   "outputs": [],
   "source": [
    "with open('../data/slurm_wrapper_ce5.log') as f:\n",
    "    data = ([line.split() for line in f if 'sbatch' in line and 'user 9204' in line])\n",
    "with open('../data/slurm_wrapper_ce6.log') as f:\n",
    "    data.extend([line.split() for line in f if 'sbatch' in line and 'user 9204' in line])"
   ]
  },
  {
   "cell_type": "code",
   "execution_count": 87,
   "id": "de9851a2",
   "metadata": {},
   "outputs": [],
   "source": [
    "sbatch = pd.DataFrame([[pd.to_datetime(x[0] + 'T' + x[1]), float(x[10]), int(x[13])] \n",
    "                       for x in data], columns=['BEGIN', 'DURATION', 'RETURNCODE'])"
   ]
  },
  {
   "cell_type": "code",
   "execution_count": 43,
   "id": "63686506",
   "metadata": {},
   "outputs": [
    {
     "data": {
      "text/plain": [
       "0    57951\n",
       "1     3296\n",
       "Name: RETURNCODE, dtype: int64"
      ]
     },
     "execution_count": 43,
     "metadata": {},
     "output_type": "execute_result"
    }
   ],
   "source": [
    "sbatch['RETURNCODE'].value_counts()"
   ]
  },
  {
   "cell_type": "code",
   "execution_count": 48,
   "id": "c5b0d3c2",
   "metadata": {},
   "outputs": [
    {
     "name": "stdout",
     "output_type": "stream",
     "text": [
      "9.843361352470893\n",
      "9.731232890541792\n",
      "7.185113787651062\n"
     ]
    }
   ],
   "source": [
    "# Check the duration of the process which ran before the one that timed out to see if we can\n",
    "#  use this to flag the load if it is getting to be too much \n",
    "before = []\n",
    "for index, row in sbatch.iterrows():\n",
    "    if index and row['RETURNCODE'] == 1:\n",
    "        before.append(sbatch.iloc[index - 1]['DURATION'])\n",
    "print(statistics.mean(before))\n",
    "print(statistics.stdev(before))\n",
    "print(statistics.median(before))"
   ]
  },
  {
   "cell_type": "code",
   "execution_count": 52,
   "id": "28e6265d",
   "metadata": {},
   "outputs": [
    {
     "data": {
      "text/plain": [
       "{'whiskers': [<matplotlib.lines.Line2D at 0x25d0b832e80>,\n",
       "  <matplotlib.lines.Line2D at 0x25d0b832a60>],\n",
       " 'caps': [<matplotlib.lines.Line2D at 0x25d0e679b80>,\n",
       "  <matplotlib.lines.Line2D at 0x25d0e679220>],\n",
       " 'boxes': [<matplotlib.lines.Line2D at 0x25d0b832a30>],\n",
       " 'medians': [<matplotlib.lines.Line2D at 0x25d0e6793a0>],\n",
       " 'fliers': [<matplotlib.lines.Line2D at 0x25d0e6880a0>],\n",
       " 'means': []}"
      ]
     },
     "execution_count": 52,
     "metadata": {},
     "output_type": "execute_result"
    },
    {
     "data": {
      "image/png": "[encoded data removed]",
      "text/plain": [
       "<Figure size 432x288 with 1 Axes>"
      ]
     },
     "metadata": {
      "needs_background": "light"
     },
     "output_type": "display_data"
    }
   ],
   "source": [
    "plt.boxplot(before)"
   ]
  },
  {
   "cell_type": "code",
   "execution_count": 45,
   "id": "0deb920c",
   "metadata": {},
   "outputs": [
    {
     "name": "stdout",
     "output_type": "stream",
     "text": [
      "2098\n"
     ]
    }
   ],
   "source": [
    "count = 0\n",
    "for index, row in sbatch.iterrows():\n",
    "    if index and row['RETURNCODE'] == 1 and sbatch.iloc[index - 1]['RETURNCODE'] == 0:\n",
    "        count += 1\n",
    "print(count)"
   ]
  },
  {
   "cell_type": "code",
   "execution_count": 26,
   "id": "2c48a12e",
   "metadata": {
    "scrolled": true
   },
   "outputs": [
    {
     "data": {
      "text/html": [
       "<div>\n",
       "<style scoped>\n",
       "    .dataframe tbody tr th:only-of-type {\n",
       "        vertical-align: middle;\n",
       "    }\n",
       "\n",
       "    .dataframe tbody tr th {\n",
       "        vertical-align: top;\n",
       "    }\n",
       "\n",
       "    .dataframe thead th {\n",
       "        text-align: right;\n",
       "    }\n",
       "</style>\n",
       "<table border=\"1\" class=\"dataframe\">\n",
       "  <thead>\n",
       "    <tr style=\"text-align: right;\">\n",
       "      <th></th>\n",
       "      <th>DURATION</th>\n",
       "      <th>RETURNCODE</th>\n",
       "    </tr>\n",
       "  </thead>\n",
       "  <tbody>\n",
       "    <tr>\n",
       "      <th>count</th>\n",
       "      <td>61247.000000</td>\n",
       "      <td>61247.000000</td>\n",
       "    </tr>\n",
       "    <tr>\n",
       "      <th>mean</th>\n",
       "      <td>2.066355</td>\n",
       "      <td>0.053815</td>\n",
       "    </tr>\n",
       "    <tr>\n",
       "      <th>std</th>\n",
       "      <td>5.271746</td>\n",
       "      <td>0.225654</td>\n",
       "    </tr>\n",
       "    <tr>\n",
       "      <th>min</th>\n",
       "      <td>0.018579</td>\n",
       "      <td>0.000000</td>\n",
       "    </tr>\n",
       "    <tr>\n",
       "      <th>25%</th>\n",
       "      <td>0.045495</td>\n",
       "      <td>0.000000</td>\n",
       "    </tr>\n",
       "    <tr>\n",
       "      <th>50%</th>\n",
       "      <td>0.076634</td>\n",
       "      <td>0.000000</td>\n",
       "    </tr>\n",
       "    <tr>\n",
       "      <th>75%</th>\n",
       "      <td>0.306675</td>\n",
       "      <td>0.000000</td>\n",
       "    </tr>\n",
       "    <tr>\n",
       "      <th>max</th>\n",
       "      <td>56.397141</td>\n",
       "      <td>1.000000</td>\n",
       "    </tr>\n",
       "  </tbody>\n",
       "</table>\n",
       "</div>"
      ],
      "text/plain": [
       "           DURATION    RETURNCODE\n",
       "count  61247.000000  61247.000000\n",
       "mean       2.066355      0.053815\n",
       "std        5.271746      0.225654\n",
       "min        0.018579      0.000000\n",
       "25%        0.045495      0.000000\n",
       "50%        0.076634      0.000000\n",
       "75%        0.306675      0.000000\n",
       "max       56.397141      1.000000"
      ]
     },
     "execution_count": 26,
     "metadata": {},
     "output_type": "execute_result"
    }
   ],
   "source": [
    "sbatch.describe()"
   ]
  },
  {
   "cell_type": "code",
   "execution_count": 85,
   "id": "5c8a3761",
   "metadata": {},
   "outputs": [],
   "source": [
    "dur = [math.modf(x) for x in sbatch['DURATION']]"
   ]
  },
  {
   "cell_type": "code",
   "execution_count": null,
   "id": "45082073",
   "metadata": {
    "scrolled": false
   },
   "outputs": [],
   "source": [
    "next(zip(*test[:10]))"
   ]
  },
  {
   "cell_type": "code",
   "execution_count": 86,
   "id": "e94bcaeb",
   "metadata": {},
   "outputs": [],
   "source": [
    "td_input = [[x[1], x[0] * 1000000] for x in dur]\n",
    "dur_td = [timedelta(seconds=x[0], microseconds=x[1]) for x in td_input]"
   ]
  },
  {
   "cell_type": "code",
   "execution_count": 90,
   "id": "5a5792a3",
   "metadata": {},
   "outputs": [],
   "source": [
    "sbatch['END'] = sbatch['BEGIN'].add(dur_td)"
   ]
  },
  {
   "cell_type": "code",
   "execution_count": 92,
   "id": "11e77b96",
   "metadata": {},
   "outputs": [],
   "source": [
    "begin_load_df = sbatch[['BEGIN']].rename(columns={'BEGIN':'TIME'})\n",
    "begin_load_df['process'] = 1\n",
    "end_load_df = sbatch[['END']].rename(columns={'END':'TIME'})\n",
    "end_load_df['process'] = -1\n",
    "load_df = begin_load_df.append(end_load_df)"
   ]
  },
  {
   "cell_type": "code",
   "execution_count": 93,
   "id": "fed7d851",
   "metadata": {
    "scrolled": true
   },
   "outputs": [
    {
     "data": {
      "text/plain": [
       "[<matplotlib.lines.Line2D at 0x25d0fa0c0d0>]"
      ]
     },
     "execution_count": 93,
     "metadata": {},
     "output_type": "execute_result"
    },
    {
     "data": {
      "image/png": "[encoded data removed]",
      "text/plain": [
       "<Figure size 1080x720 with 1 Axes>"
      ]
     },
     "metadata": {
      "needs_background": "light"
     },
     "output_type": "display_data"
    }
   ],
   "source": [
    "# This doesn't work because day is way too long of a resampling period\n",
    "resample_interval = \"D\"\n",
    "fs_ts = pd.Series(list(load_df['process']), index=list(load_df['TIME']))\n",
    "fs_resample = fs_ts.resample(resample_interval).sum().to_frame().cumsum()\n",
    "\n",
    "plt.figure(figsize=(15, 10))\n",
    "plt.plot(fs_resample.index, fs_resample[0])"
   ]
  },
  {
   "cell_type": "code",
   "execution_count": 95,
   "id": "62808e60",
   "metadata": {},
   "outputs": [
    {
     "data": {
      "text/html": [
       "<div>\n",
       "<style scoped>\n",
       "    .dataframe tbody tr th:only-of-type {\n",
       "        vertical-align: middle;\n",
       "    }\n",
       "\n",
       "    .dataframe tbody tr th {\n",
       "        vertical-align: top;\n",
       "    }\n",
       "\n",
       "    .dataframe thead th {\n",
       "        text-align: right;\n",
       "    }\n",
       "</style>\n",
       "<table border=\"1\" class=\"dataframe\">\n",
       "  <thead>\n",
       "    <tr style=\"text-align: right;\">\n",
       "      <th></th>\n",
       "      <th>0</th>\n",
       "    </tr>\n",
       "  </thead>\n",
       "  <tbody>\n",
       "    <tr>\n",
       "      <th>2020-10-16</th>\n",
       "      <td>0</td>\n",
       "    </tr>\n",
       "    <tr>\n",
       "      <th>2020-10-17</th>\n",
       "      <td>0</td>\n",
       "    </tr>\n",
       "    <tr>\n",
       "      <th>2020-10-18</th>\n",
       "      <td>0</td>\n",
       "    </tr>\n",
       "    <tr>\n",
       "      <th>2020-10-19</th>\n",
       "      <td>0</td>\n",
       "    </tr>\n",
       "    <tr>\n",
       "      <th>2020-10-20</th>\n",
       "      <td>0</td>\n",
       "    </tr>\n",
       "    <tr>\n",
       "      <th>...</th>\n",
       "      <td>...</td>\n",
       "    </tr>\n",
       "    <tr>\n",
       "      <th>2021-10-03</th>\n",
       "      <td>0</td>\n",
       "    </tr>\n",
       "    <tr>\n",
       "      <th>2021-10-04</th>\n",
       "      <td>0</td>\n",
       "    </tr>\n",
       "    <tr>\n",
       "      <th>2021-10-05</th>\n",
       "      <td>0</td>\n",
       "    </tr>\n",
       "    <tr>\n",
       "      <th>2021-10-06</th>\n",
       "      <td>0</td>\n",
       "    </tr>\n",
       "    <tr>\n",
       "      <th>2021-10-07</th>\n",
       "      <td>0</td>\n",
       "    </tr>\n",
       "  </tbody>\n",
       "</table>\n",
       "<p>357 rows × 1 columns</p>\n",
       "</div>"
      ],
      "text/plain": [
       "            0\n",
       "2020-10-16  0\n",
       "2020-10-17  0\n",
       "2020-10-18  0\n",
       "2020-10-19  0\n",
       "2020-10-20  0\n",
       "...        ..\n",
       "2021-10-03  0\n",
       "2021-10-04  0\n",
       "2021-10-05  0\n",
       "2021-10-06  0\n",
       "2021-10-07  0\n",
       "\n",
       "[357 rows x 1 columns]"
      ]
     },
     "execution_count": 95,
     "metadata": {},
     "output_type": "execute_result"
    }
   ],
   "source": [
    "fs_resample"
   ]
  }
 ],
 "metadata": {
  "kernelspec": {
   "display_name": "Python 3",
   "language": "python",
   "name": "python3"
  },
  "language_info": {
   "codemirror_mode": {
    "name": "ipython",
    "version": 3
   },
   "file_extension": ".py",
   "mimetype": "text/x-python",
   "name": "python",
   "nbconvert_exporter": "python",
   "pygments_lexer": "ipython3",
   "version": "3.8.8"
  }
 },
 "nbformat": 4,
 "nbformat_minor": 5
}
