{
 "cells": [
  {
   "cell_type": "code",
   "execution_count": 1,
   "id": "7510f9e4",
   "metadata": {},
   "outputs": [],
   "source": [
    "import pandas as pd"
   ]
  },
  {
   "cell_type": "code",
   "execution_count": 2,
   "id": "b27395fc",
   "metadata": {},
   "outputs": [],
   "source": [
    "fs_df = pd.read_csv('../data/fullsample.csv')\n",
    "fs_df = fs_df[fs_df['END'] != 'Unknown'] # drop these 651 rows, all have EXITCODE 0:0\n",
    "fs_df['BEGIN'] = pd.to_datetime(fs_df['BEGIN'], format='%Y-%m-%dT%H:%M:%S')\n",
    "fs_df['END'] = pd.to_datetime(fs_df['END'], format='%Y-%m-%dT%H:%M:%S')\n",
    "fs_df['REQMEM'] = fs_df['REQMEM'].str[0:-2].astype('int')\n",
    "fs_df['USEDMEM'] = fs_df['USEDMEM'].apply(lambda x: x[0:-1] if x[-1] == 'M' else '0', ).astype(float)\n",
    "cs5_orig_df = pd.read_csv('../data/ce5_9024_sbatch.csv')\n",
    "cs6_orig_df = pd.read_csv('../data/ce6_9024_sbatch.csv')\n",
    "cs5_orig_df = cs5_orig_df[['TIME', 'RETRY', 'EXETIME', 'RETURNCODE']]\n",
    "cs6_orig_df = cs6_orig_df[['TIME', 'RETRY', 'EXETIME', 'RETURNCODE']]\n",
    "cs5_orig_df['RETRY'] = cs5_orig_df['RETRY'].str.extract(r'(\\d)').astype(int)\n",
    "cs6_orig_df['RETRY'] = cs6_orig_df['RETRY'].str.extract(r'(\\d)').astype(int)\n",
    "cs5_orig_df['RETURNCODE'] = cs5_orig_df['RETURNCODE'].str.extract(r'(\\d)').astype(int)\n",
    "cs6_orig_df['RETURNCODE'] = cs6_orig_df['RETURNCODE'].str.extract(r'(\\d)').astype(int)\n",
    "cs5_orig_df['TIME'] = pd.to_datetime(cs5_orig_df['TIME'], format='%Y-%m-%dT%H:%M:%S')\n",
    "cs6_orig_df['TIME'] = pd.to_datetime(cs6_orig_df['TIME'], format='%Y-%m-%dT%H:%M:%S')\n"
   ]
  },
  {
   "cell_type": "code",
   "execution_count": 6,
   "id": "668838f8",
   "metadata": {},
   "outputs": [],
   "source": [
    "fs_df.to_pickle('../data/fs_df.pkl')\n",
    "cs5_orig_df.to_pickle('../data/cs5_df.pkl')\n",
    "cs6_orig_df.to_pickle('../data/cs6_df.pkl')\n",
    "# fs_df = pd.read_pickle(\"../data/fs_df.pkl\")"
   ]
  },
  {
   "cell_type": "markdown",
   "id": "0ae4fd72",
   "metadata": {},
   "source": [
    "#### ???\n",
    "```\n",
    "fs_df[fs_df.CPUS != 1].max()\n",
    "JOBID          32923159\n",
    "STATE           RUNNING\n",
    "BEGIN           Unknown\n",
    "END             Unknown\n",
    "REQMEM            999Mn\n",
    "USEDMEM              9M\n",
    "REQTIME      9-12:20:00\n",
    "USEDTIME     9-22:33:12\n",
    "NODES               500\n",
    "CPUS                128\n",
    "PARTITION        turing\n",
    "EXITCODE            9:0\n",
    "dtype: object\n",
    "```"
   ]
  }
 ],
 "metadata": {
  "kernelspec": {
   "display_name": "Python 3",
   "language": "python",
   "name": "python3"
  },
  "language_info": {
   "codemirror_mode": {
    "name": "ipython",
    "version": 3
   },
   "file_extension": ".py",
   "mimetype": "text/x-python",
   "name": "python",
   "nbconvert_exporter": "python",
   "pygments_lexer": "ipython3",
   "version": "3.8.8"
  }
 },
 "nbformat": 4,
 "nbformat_minor": 5
}
