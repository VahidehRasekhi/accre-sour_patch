{
 "cells": [
  {
   "cell_type": "markdown",
   "id": "7a19f9a9",
   "metadata": {},
   "source": [
    "All commands run on ce5 & ce6 from the log files\n",
    "```\n",
    "scontrol    6000946\n",
    "sbatch      1601416\n",
    "scancel      817933\n",
    "sacct        621390\n",
    "squeue       505728\n",
    "```"
   ]
  },
  {
   "cell_type": "markdown",
   "id": "ac736cdd",
   "metadata": {},
   "source": [
    "Return codes for all scontrol jobs ran\n",
    "```\n",
    "0    4947565\n",
    "1    1053381\n",
    "```"
   ]
  },
  {
   "cell_type": "markdown",
   "id": "3097eefe",
   "metadata": {},
   "source": [
    "Return codes for all sbatch jobs ran\n",
    "```\n",
    "0             1411068\n",
    "1              183001\n",
    "255              7347\n",
    "```"
   ]
  },
  {
   "cell_type": "markdown",
   "id": "60dbc713",
   "metadata": {},
   "source": [
    "Return codes for all scancel jobs ran\n",
    "```\n",
    "0             792936\n",
    "140            24987\n",
    "8                 10\n",
    "```"
   ]
  },
  {
   "cell_type": "markdown",
   "id": "fc157491",
   "metadata": {},
   "source": [
    "Return codes for all sacct jobs ran\n",
    "```\n",
    "0             620214\n",
    "1               1176\n",
    "```"
   ]
  },
  {
   "cell_type": "markdown",
   "id": "c5f3bdab",
   "metadata": {},
   "source": [
    "Return codes for all squeue jobs ran\n",
    "```\n",
    "0             446646\n",
    "1              59082\n",
    "```"
   ]
  },
  {
   "cell_type": "markdown",
   "id": "a74ea216",
   "metadata": {},
   "source": [
    "All users and number of jobs run on ce5 & ce6\n",
    "```\n",
    "9201      5804412\n",
    "9202      1292918\n",
    "9203       834980\n",
    "9221       682081\n",
    "9219       618300\n",
    "9204       314709\n",
    "0               8\n",
    "112870          5\n",
    "```"
   ]
  },
  {
   "cell_type": "code",
   "execution_count": null,
   "id": "27c2985e",
   "metadata": {},
   "outputs": [],
   "source": []
  }
 ],
 "metadata": {
  "kernelspec": {
   "display_name": "Python 3",
   "language": "python",
   "name": "python3"
  },
  "language_info": {
   "codemirror_mode": {
    "name": "ipython",
    "version": 3
   },
   "file_extension": ".py",
   "mimetype": "text/x-python",
   "name": "python",
   "nbconvert_exporter": "python",
   "pygments_lexer": "ipython3",
   "version": "3.8.8"
  }
 },
 "nbformat": 4,
 "nbformat_minor": 5
}
