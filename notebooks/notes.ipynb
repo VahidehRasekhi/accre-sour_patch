{
 "cells": [
  {
   "cell_type": "markdown",
   "id": "7a19f9a9",
   "metadata": {},
   "source": [
    "All commands run on ce5 & ce6 from the log files\n",
    "```\n",
    "scontrol    6000946\n",
    "sbatch      1601416\n",
    "scancel      817933\n",
    "sacct        621390\n",
    "squeue       505728\n",
    "```"
   ]
  },
  {
   "cell_type": "markdown",
   "id": "ac736cdd",
   "metadata": {},
   "source": [
    "Return codes for all scontrol jobs ran\n",
    "```\n",
    "0    4947565\n",
    "1    1053381\n",
    "```"
   ]
  },
  {
   "cell_type": "markdown",
   "id": "3097eefe",
   "metadata": {},
   "source": [
    "Return codes for all sbatch jobs ran\n",
    "```\n",
    "0             1411068\n",
    "1              183001\n",
    "255              7347\n",
    "```"
   ]
  },
  {
   "cell_type": "markdown",
   "id": "60dbc713",
   "metadata": {},
   "source": [
    "Return codes for all scancel jobs ran\n",
    "```\n",
    "0             792936\n",
    "140            24987\n",
    "8                 10\n",
    "```"
   ]
  },
  {
   "cell_type": "markdown",
   "id": "fc157491",
   "metadata": {},
   "source": [
    "Return codes for all sacct jobs ran\n",
    "```\n",
    "0             620214\n",
    "1               1176\n",
    "```"
   ]
  },
  {
   "cell_type": "markdown",
   "id": "c5f3bdab",
   "metadata": {},
   "source": [
    "Return codes for all squeue jobs ran\n",
    "```\n",
    "0             446646\n",
    "1              59082\n",
    "```"
   ]
  },
  {
   "cell_type": "markdown",
   "id": "a74ea216",
   "metadata": {},
   "source": [
    "All users and number of jobs run on ce5 & ce6\n",
    "```\n",
    "9201      5804412\n",
    "9202      1292918\n",
    "9203       834980\n",
    "9221       682081\n",
    "9219       618300\n",
    "9204       314709\n",
    "0               8\n",
    "112870          5\n",
    "```"
   ]
  },
  {
   "cell_type": "markdown",
   "id": "18a2ca74",
   "metadata": {},
   "source": [
    "| COMMAND/USER | 0 | 112870 | 9201 | 9202 | 9203 | 9204 | 9219 | 9221 |\n",
    "| --- | ---  | --- | --- | ---  | --- | --- | ---  | --- | \t\t\t\t\t\n",
    "| sacct | 6 | 1 | 392407 | 64231 | 67079 | 57657 | 18366 | 21643 |\n",
    "| sbatch | 0 | 1 | 1165907 | 193398 | 84776 | 61247 | 31154 | 64933 |\n",
    "| scancel | 0 | 0 | 674049 | 89473 | 13032 | 451 | 787 | 40141 |\n",
    "| scontrol | 0 | 0 | 3350869 | 890457 | 617420 | 163513 | 567993 | 410694 |\n",
    "| squeue | 2 | 3 | 221180 | 55359 | 52673 | 31841 | 0 | 144670 |"
   ]
  },
  {
   "attachments": {
    "command_user.png": {
     "image/png": "[encoded data removed]"
    }
   },
   "cell_type": "markdown",
   "id": "a3d52a5e",
   "metadata": {},
   "source": [
    "![command_user.png](attachment:command_user.png)"
   ]
  },
  {
   "cell_type": "markdown",
   "id": "e4f0c0a3",
   "metadata": {},
   "source": [
    "```\n",
    "group5_1['Consecutive'].sum()\n",
    "697666\n",
    "group6_1['Consecutive'].sum()\n",
    "598974\n",
    "```"
   ]
  },
  {
   "cell_type": "markdown",
   "id": "1f0f789e",
   "metadata": {},
   "source": [
    "```\n",
    "see final answer\n",
    "```"
   ]
  }
 ],
 "metadata": {
  "kernelspec": {
   "display_name": "Python 3",
   "language": "python",
   "name": "python3"
  },
  "language_info": {
   "codemirror_mode": {
    "name": "ipython",
    "version": 3
   },
   "file_extension": ".py",
   "mimetype": "text/x-python",
   "name": "python",
   "nbconvert_exporter": "python",
   "pygments_lexer": "ipython3",
   "version": "3.8.8"
  }
 },
 "nbformat": 4,
 "nbformat_minor": 5
}
