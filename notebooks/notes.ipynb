{
 "cells": [
  {
   "cell_type": "markdown",
   "id": "334e4686",
   "metadata": {},
   "source": [
    "```\n",
    "Jobs with returned code of 1: 697666\n",
    "Jobs with returned code of 1 and time less than 15 seconds: 261838 \n",
    "Jobs with returned code of 0 with time more than 15 seconds: 173634 \n",
    "Number of returned code of 1 and time over 15 seconds groups: 45787 \n",
    "\n",
    "```"
   ]
  },
  {
   "cell_type": "code",
   "execution_count": null,
   "id": "b4c9422d",
   "metadata": {},
   "outputs": [],
   "source": []
  }
 ],
 "metadata": {
  "kernelspec": {
   "display_name": "Python 3",
   "language": "python",
   "name": "python3"
  },
  "language_info": {
   "codemirror_mode": {
    "name": "ipython",
    "version": 3
   },
   "file_extension": ".py",
   "mimetype": "text/x-python",
   "name": "python",
   "nbconvert_exporter": "python",
   "pygments_lexer": "ipython3",
   "version": "3.8.8"
  }
 },
 "nbformat": 4,
 "nbformat_minor": 5
}
