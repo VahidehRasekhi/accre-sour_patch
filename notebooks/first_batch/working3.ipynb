{
 "cells": [
  {
   "cell_type": "code",
   "execution_count": 1,
   "id": "0694b79b",
   "metadata": {},
   "outputs": [],
   "source": [
    "import pandas as pd"
   ]
  },
  {
   "cell_type": "code",
   "execution_count": 2,
   "id": "d9f0c7f4",
   "metadata": {},
   "outputs": [],
   "source": [
    "cs5_orig_df = pd.read_csv('../data/ce5_9024_sbatch.csv')\n",
    "cs6_orig_df = pd.read_csv('../data/ce6_9024_sbatch.csv')\n",
    "cs5_orig_df['4'] = cs5_orig_df['4'].str.extract(r'(\\d)').astype(int)\n",
    "cs6_orig_df['4'] = cs6_orig_df['4'].str.extract(r'(\\d)').astype(int)\n",
    "cs5_orig_df['0'] = pd.to_datetime(cs5_orig_df['0'], format='%Y-%m-%dT%H:%M:%S')\n",
    "cs6_orig_df['0'] = pd.to_datetime(cs6_orig_df['0'], format='%Y-%m-%dT%H:%M:%S')"
   ]
  },
  {
   "cell_type": "code",
   "execution_count": 3,
   "id": "de2c7dcc",
   "metadata": {},
   "outputs": [],
   "source": [
    "cs5_df, cs6_df = cs5_orig_df, cs6_orig_df"
   ]
  },
  {
   "cell_type": "code",
   "execution_count": 8,
   "id": "38dfbee8",
   "metadata": {
    "scrolled": true
   },
   "outputs": [
    {
     "data": {
      "text/html": [
       "<div>\n",
       "<style scoped>\n",
       "    .dataframe tbody tr th:only-of-type {\n",
       "        vertical-align: middle;\n",
       "    }\n",
       "\n",
       "    .dataframe tbody tr th {\n",
       "        vertical-align: top;\n",
       "    }\n",
       "\n",
       "    .dataframe thead th {\n",
       "        text-align: right;\n",
       "    }\n",
       "</style>\n",
       "<table border=\"1\" class=\"dataframe\">\n",
       "  <thead>\n",
       "    <tr style=\"text-align: right;\">\n",
       "      <th></th>\n",
       "      <th>0</th>\n",
       "      <th>1</th>\n",
       "      <th>2</th>\n",
       "      <th>3</th>\n",
       "      <th>4</th>\n",
       "      <th>5</th>\n",
       "      <th>6</th>\n",
       "    </tr>\n",
       "  </thead>\n",
       "  <tbody>\n",
       "    <tr>\n",
       "      <th>29088</th>\n",
       "      <td>2021-09-23 22:41:27.324201</td>\n",
       "      <td>user 9204</td>\n",
       "      <td>retry 0</td>\n",
       "      <td>time 20.048802852630615</td>\n",
       "      <td>1</td>\n",
       "      <td>command ['/usr/bin/sbatch'</td>\n",
       "      <td>'/tmp/condor_g_scratch.0x55df4bf73c70.776217/...</td>\n",
       "    </tr>\n",
       "    <tr>\n",
       "      <th>29089</th>\n",
       "      <td>2021-09-23 22:59:34.921328</td>\n",
       "      <td>user 9204</td>\n",
       "      <td>retry 0</td>\n",
       "      <td>time 20.027278900146484</td>\n",
       "      <td>1</td>\n",
       "      <td>command ['/usr/bin/sbatch'</td>\n",
       "      <td>'/tmp/condor_g_scratch.0x55df476a9be0.776217/...</td>\n",
       "    </tr>\n",
       "    <tr>\n",
       "      <th>29091</th>\n",
       "      <td>2021-09-23 23:29:34.811749</td>\n",
       "      <td>user 9204</td>\n",
       "      <td>retry 0</td>\n",
       "      <td>time 20.04094672203064</td>\n",
       "      <td>1</td>\n",
       "      <td>command ['/usr/bin/sbatch'</td>\n",
       "      <td>'/tmp/condor_g_scratch.0x55df4789ba00.776217/...</td>\n",
       "    </tr>\n",
       "    <tr>\n",
       "      <th>29092</th>\n",
       "      <td>2021-09-23 23:41:37.837563</td>\n",
       "      <td>user 9204</td>\n",
       "      <td>retry 0</td>\n",
       "      <td>time 20.02840232849121</td>\n",
       "      <td>1</td>\n",
       "      <td>command ['/usr/bin/sbatch'</td>\n",
       "      <td>'/tmp/condor_g_scratch.0x55df4c1f42e0.776217/...</td>\n",
       "    </tr>\n",
       "  </tbody>\n",
       "</table>\n",
       "</div>"
      ],
      "text/plain": [
       "                               0          1        2                        3  \\\n",
       "29088 2021-09-23 22:41:27.324201  user 9204  retry 0  time 20.048802852630615   \n",
       "29089 2021-09-23 22:59:34.921328  user 9204  retry 0  time 20.027278900146484   \n",
       "29091 2021-09-23 23:29:34.811749  user 9204  retry 0   time 20.04094672203064   \n",
       "29092 2021-09-23 23:41:37.837563  user 9204  retry 0   time 20.02840232849121   \n",
       "\n",
       "       4                           5  \\\n",
       "29088  1  command ['/usr/bin/sbatch'   \n",
       "29089  1  command ['/usr/bin/sbatch'   \n",
       "29091  1  command ['/usr/bin/sbatch'   \n",
       "29092  1  command ['/usr/bin/sbatch'   \n",
       "\n",
       "                                                       6  \n",
       "29088   '/tmp/condor_g_scratch.0x55df4bf73c70.776217/...  \n",
       "29089   '/tmp/condor_g_scratch.0x55df476a9be0.776217/...  \n",
       "29091   '/tmp/condor_g_scratch.0x55df4789ba00.776217/...  \n",
       "29092   '/tmp/condor_g_scratch.0x55df4c1f42e0.776217/...  "
      ]
     },
     "execution_count": 8,
     "metadata": {},
     "output_type": "execute_result"
    }
   ],
   "source": [
    "cs5_df[(cs5_df['0'].dt.month == 9) & (cs5_df['0'].dt.day == 23) & (cs5_df['4'] == 1)]"
   ]
  },
  {
   "cell_type": "code",
   "execution_count": 12,
   "id": "7c02855f",
   "metadata": {},
   "outputs": [
    {
     "data": {
      "text/plain": [
       "[Timestamp('2021-09-01 16:59:56.982884'),\n",
       " Timestamp('2021-09-02 21:10:40.539802'),\n",
       " Timestamp('2021-09-07 14:42:05.713409'),\n",
       " Timestamp('2021-09-07 15:32:21.173736'),\n",
       " Timestamp('2021-09-07 16:00:01.852442'),\n",
       " Timestamp('2021-09-07 21:15:10.667075'),\n",
       " Timestamp('2021-09-08 00:30:16.487416'),\n",
       " Timestamp('2021-09-08 06:40:41.425307'),\n",
       " Timestamp('2021-09-08 12:40:54.202140'),\n",
       " Timestamp('2021-09-08 12:43:59.970247'),\n",
       " Timestamp('2021-09-08 15:55:33.856275'),\n",
       " Timestamp('2021-09-09 00:14:14.440021'),\n",
       " Timestamp('2021-09-09 07:44:04.307273'),\n",
       " Timestamp('2021-09-09 09:40:20.536402'),\n",
       " Timestamp('2021-09-09 10:40:22.159830'),\n",
       " Timestamp('2021-09-09 12:59:18.630672'),\n",
       " Timestamp('2021-09-09 14:25:36.617331'),\n",
       " Timestamp('2021-09-09 14:55:59.756787'),\n",
       " Timestamp('2021-09-09 16:55:45.527065'),\n",
       " Timestamp('2021-09-09 20:59:31.033497'),\n",
       " Timestamp('2021-09-10 00:55:23.496132'),\n",
       " Timestamp('2021-09-10 02:45:56.106026'),\n",
       " Timestamp('2021-09-10 03:25:34.347069'),\n",
       " Timestamp('2021-09-10 03:59:41.839418'),\n",
       " Timestamp('2021-09-10 05:10:33.368949'),\n",
       " Timestamp('2021-09-10 05:29:14.217078'),\n",
       " Timestamp('2021-09-10 06:40:32.179112'),\n",
       " Timestamp('2021-09-10 07:10:35.058632'),\n",
       " Timestamp('2021-09-10 07:29:07.429742'),\n",
       " Timestamp('2021-09-10 07:40:26.215791'),\n",
       " Timestamp('2021-09-10 10:29:13.999272'),\n",
       " Timestamp('2021-09-10 10:40:26.802175'),\n",
       " Timestamp('2021-09-12 02:55:35.758007'),\n",
       " Timestamp('2021-09-12 04:14:30.142464'),\n",
       " Timestamp('2021-09-13 08:25:35.863943'),\n",
       " Timestamp('2021-09-14 14:40:44.242882'),\n",
       " Timestamp('2021-09-14 18:44:28.596112'),\n",
       " Timestamp('2021-09-14 19:14:34.600228'),\n",
       " Timestamp('2021-09-14 20:41:08.729124'),\n",
       " Timestamp('2021-09-14 21:11:06.494463'),\n",
       " Timestamp('2021-09-14 22:55:50.344282'),\n",
       " Timestamp('2021-09-18 20:11:06.757809'),\n",
       " Timestamp('2021-09-18 23:29:46.941836'),\n",
       " Timestamp('2021-09-19 01:41:43.601517'),\n",
       " Timestamp('2021-09-19 07:29:37.718522'),\n",
       " Timestamp('2021-09-19 10:29:36.324842'),\n",
       " Timestamp('2021-09-20 13:29:41.366814'),\n",
       " Timestamp('2021-09-21 17:41:27.823848'),\n",
       " Timestamp('2021-09-21 22:41:25.560742'),\n",
       " Timestamp('2021-09-22 03:59:42.079501'),\n",
       " Timestamp('2021-09-22 17:11:28.909204'),\n",
       " Timestamp('2021-09-22 18:11:39.191476'),\n",
       " Timestamp('2021-09-23 22:41:27.324201'),\n",
       " Timestamp('2021-09-23 22:59:34.921328'),\n",
       " Timestamp('2021-09-23 23:29:34.811749'),\n",
       " Timestamp('2021-09-23 23:41:37.837563'),\n",
       " Timestamp('2021-09-24 00:12:09.670207'),\n",
       " Timestamp('2021-09-24 00:29:31.250892'),\n",
       " Timestamp('2021-09-24 02:14:36.967698'),\n",
       " Timestamp('2021-09-24 03:11:42.025171'),\n",
       " Timestamp('2021-09-24 03:44:29.539819'),\n",
       " Timestamp('2021-09-24 04:13:39.700409'),\n",
       " Timestamp('2021-09-24 04:14:33.278790'),\n",
       " Timestamp('2021-09-24 04:41:20.110854'),\n",
       " Timestamp('2021-09-24 05:11:53.027568'),\n",
       " Timestamp('2021-09-24 05:14:37.866252'),\n",
       " Timestamp('2021-09-24 06:11:43.133167'),\n",
       " Timestamp('2021-09-24 06:44:43.486631'),\n",
       " Timestamp('2021-09-24 07:14:36.233034'),\n",
       " Timestamp('2021-09-24 08:44:48.205317'),\n",
       " Timestamp('2021-09-24 09:41:58.621394'),\n",
       " Timestamp('2021-09-24 12:11:34.940124'),\n",
       " Timestamp('2021-09-24 13:13:11.616619'),\n",
       " Timestamp('2021-09-24 18:14:35.862916'),\n",
       " Timestamp('2021-09-24 19:13:14.894282')]"
      ]
     },
     "execution_count": 12,
     "metadata": {},
     "output_type": "execute_result"
    }
   ],
   "source": [
    "list(cs5_df[(cs5_df['0'].dt.month == 9) & (cs5_df['4'] == 1)]['0'])"
   ]
  }
 ],
 "metadata": {
  "kernelspec": {
   "display_name": "Python 3",
   "language": "python",
   "name": "python3"
  },
  "language_info": {
   "codemirror_mode": {
    "name": "ipython",
    "version": 3
   },
   "file_extension": ".py",
   "mimetype": "text/x-python",
   "name": "python",
   "nbconvert_exporter": "python",
   "pygments_lexer": "ipython3",
   "version": "3.8.8"
  }
 },
 "nbformat": 4,
 "nbformat_minor": 5
}
