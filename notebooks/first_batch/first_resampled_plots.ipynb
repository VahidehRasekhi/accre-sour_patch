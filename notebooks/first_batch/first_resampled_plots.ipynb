{
 "cells": [
  {
   "cell_type": "code",
   "execution_count": 2,
   "id": "be364b3f",
   "metadata": {},
   "outputs": [],
   "source": [
    "import pandas as pd\n",
    "import matplotlib.pyplot as plt"
   ]
  },
  {
   "cell_type": "code",
   "execution_count": 3,
   "id": "8aa5c69b",
   "metadata": {},
   "outputs": [],
   "source": [
    "fs_df = pd.read_csv('../data/fullsample.csv')\n",
    "ce5_df = pd.read_csv('../data/ce5_9024_sbatch.csv')\n",
    "ce6_df = pd.read_csv('../data/ce6_9024_sbatch.csv')"
   ]
  },
  {
   "cell_type": "code",
   "execution_count": 4,
   "id": "53963c9f",
   "metadata": {},
   "outputs": [],
   "source": [
    "fs_df['BEGIN'] = pd.to_datetime(fs_df['BEGIN'], format='%Y-%m-%dT%H:%M:%S', errors='coerce')\n",
    "fs_df['END'] = pd.to_datetime(fs_df['END'], format='%Y-%m-%dT%H:%M:%S', errors='coerce')\n",
    "ce5_df['0'] = pd.to_datetime(ce5_df['0'], format='%Y-%m-%dT%H:%M:%S')\n",
    "ce6_df['0'] = pd.to_datetime(ce6_df['0'], format='%Y-%m-%dT%H:%M:%S')"
   ]
  },
  {
   "cell_type": "code",
   "execution_count": 5,
   "id": "810536ce",
   "metadata": {},
   "outputs": [
    {
     "name": "stderr",
     "output_type": "stream",
     "text": [
      "C:\\Users\\georg\\anaconda3\\lib\\site-packages\\pandas\\core\\frame.py:3599: SettingWithCopyWarning: \n",
      "A value is trying to be set on a copy of a slice from a DataFrame.\n",
      "Try using .loc[row_indexer,col_indexer] = value instead\n",
      "\n",
      "See the caveats in the documentation: https://pandas.pydata.org/pandas-docs/stable/user_guide/indexing.html#returning-a-view-versus-a-copy\n",
      "  self._set_item_frame_value(key, value)\n",
      "C:\\Users\\georg\\anaconda3\\lib\\site-packages\\pandas\\core\\frame.py:3607: SettingWithCopyWarning: \n",
      "A value is trying to be set on a copy of a slice from a DataFrame.\n",
      "Try using .loc[row_indexer,col_indexer] = value instead\n",
      "\n",
      "See the caveats in the documentation: https://pandas.pydata.org/pandas-docs/stable/user_guide/indexing.html#returning-a-view-versus-a-copy\n",
      "  self._set_item(key, value)\n"
     ]
    }
   ],
   "source": [
    "fs_923_df = fs_df[(fs_df['BEGIN'].dt.month == 9) & (fs_df['BEGIN'].dt.day == 23)]\n",
    "ce5_923_df = ce5_df[(ce5_df['0'].dt.month == 9) & (ce5_df['0'].dt.day == 23)]\n",
    "ce6_923_df = ce6_df[(ce6_df['0'].dt.month == 9) & (ce6_df['0'].dt.day == 23)]\n",
    "ce5_923_df['4'] = ce5_923_df['4'].str.extract(r'(\\d)')\n",
    "ce5_923_df['4'] = pd.to_numeric(ce5_923_df['4'], errors='coerce')\n",
    "ce6_923_df['4'] = ce6_923_df['4'].str.extract(r'(\\d)')\n",
    "ce6_923_df['4'] = pd.to_numeric(ce6_923_df['4'], errors='coerce')"
   ]
  },
  {
   "cell_type": "code",
   "execution_count": 7,
   "id": "0cb0f293",
   "metadata": {},
   "outputs": [],
   "source": [
    "begin_load_df = fs_923_df[fs_923_df['PARTITION'] == 'production']\\\n",
    "                    [['BEGIN', 'USEDMEM', 'CPUS']].rename(columns={'BEGIN':'TIME'})\n",
    "begin_load_df['USEDMEM'] = pd.to_numeric(begin_load_df['USEDMEM'].str[:-1], errors='coerce')\n",
    "begin_load_df['CPUS'] = pd.to_numeric(begin_load_df['CPUS'], errors='coerce')\n",
    "\n",
    "end_load_df = fs_923_df[fs_923_df['PARTITION'] == 'production']\\\n",
    "                    [['END', 'USEDMEM', 'CPUS']].rename(columns={'END':'TIME'})\n",
    "# Since ending the process gives back the memory make all this values negative\n",
    "end_load_df['USEDMEM'] = 0 - pd.to_numeric(end_load_df['USEDMEM'].str[:-1], errors='coerce')\n",
    "end_load_df['CPUS'] = 0 - pd.to_numeric(end_load_df['CPUS'], errors='coerce')\n",
    "load_df = begin_load_df.append(end_load_df).fillna(0)\n",
    "# load_df = load_df[load_df['TIME'].str.match(r'2021-09-23')].sort_values('TIME')\n",
    "# load_df['TIME'] = pd.to_datetime(load_df['TIME'], format='%Y-%m-%dT%H:%M:%S')\n",
    "load_df = load_df[(load_df['TIME'].dt.month == 9) & (load_df['TIME'].dt.day == 23)].sort_values('TIME')"
   ]
  },
  {
   "cell_type": "code",
   "execution_count": 8,
   "id": "8f8229c7",
   "metadata": {},
   "outputs": [],
   "source": [
    "fs_ts = pd.Series(list(load_df['USEDMEM']), index=list(load_df['TIME']))"
   ]
  },
  {
   "cell_type": "code",
   "execution_count": 9,
   "id": "8d525395",
   "metadata": {
    "scrolled": true
   },
   "outputs": [
    {
     "data": {
      "text/plain": [
       "[<matplotlib.lines.Line2D at 0x229c41eb730>]"
      ]
     },
     "execution_count": 9,
     "metadata": {},
     "output_type": "execute_result"
    },
    {
     "data": {
      "image/png": "[encoded data removed]",
      "text/plain": [
       "<Figure size 432x288 with 1 Axes>"
      ]
     },
     "metadata": {
      "needs_background": "light"
     },
     "output_type": "display_data"
    }
   ],
   "source": [
    "# not sure if the times are aligned here, if they are it might not be\n",
    "# as clear a case of load issue as first appeared\n",
    "# Will make another notebook to create a single dataframe so time alignment\n",
    "#  can be verified\n",
    "plt.plot(fs_ts.resample(\"10T\").sum().to_frame().cumsum())\n",
    "plt.plot(ce5_923_df.set_index('0').resample('10T').sum()*10000000)\n",
    "plt.plot(ce6_923_df.set_index('0').resample('10T').sum()*10000000)"
   ]
  },
  {
   "cell_type": "code",
   "execution_count": null,
   "id": "e479ed87",
   "metadata": {},
   "outputs": [],
   "source": []
  }
 ],
 "metadata": {
  "kernelspec": {
   "display_name": "Python 3",
   "language": "python",
   "name": "python3"
  },
  "language_info": {
   "codemirror_mode": {
    "name": "ipython",
    "version": 3
   },
   "file_extension": ".py",
   "mimetype": "text/x-python",
   "name": "python",
   "nbconvert_exporter": "python",
   "pygments_lexer": "ipython3",
   "version": "3.8.8"
  }
 },
 "nbformat": 4,
 "nbformat_minor": 5
}
